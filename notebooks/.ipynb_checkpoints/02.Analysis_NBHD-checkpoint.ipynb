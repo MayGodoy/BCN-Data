{
 "cells": [
  {
   "cell_type": "code",
   "execution_count": 1,
   "metadata": {},
   "outputs": [],
   "source": [
    "import pandas as pd\n",
    "import numpy as np"
   ]
  },
  {
   "cell_type": "code",
   "execution_count": 2,
   "metadata": {},
   "outputs": [],
   "source": [
    "import requests\n",
    "import re\n",
    "import seaborn as sns\n",
    "import plotly.express as px\n",
    "from pandas_profiling import ProfileReport\n"
   ]
  },
  {
   "cell_type": "code",
   "execution_count": 3,
   "metadata": {},
   "outputs": [],
   "source": [
    "pd.set_option('display.max_columns', 20)\n",
    "pd.set_option('display.width', 20)\n",
    "pd.set_option('display.float_format', '{:.2f}'.format)"
   ]
  },
  {
   "cell_type": "code",
   "execution_count": 4,
   "metadata": {},
   "outputs": [],
   "source": [
    "color_dict = {'Spaniards': '#f6bd60','Mixed': '#84a59d', 'Foreigners': '#3c096c'}\n",
    "yn_dict = { 'Yes': '#e07a5f','No': '#3d405b'}"
   ]
  },
  {
   "cell_type": "code",
   "execution_count": null,
   "metadata": {},
   "outputs": [],
   "source": []
  },
  {
   "cell_type": "markdown",
   "metadata": {},
   "source": [
    "# House Area"
   ]
  },
  {
   "cell_type": "markdown",
   "metadata": {},
   "source": [
    "RESOURCE STRUCTURE FROM 2018\n",
    "\n",
    "*01.Year* - Year of the data\n",
    "\n",
    "*02.Code_Dist* - District code\n",
    "\n",
    "*03.Name_Dist* - Name of the district\n",
    "\n",
    "*04.Code_NBHD* - Neighborhood code\n",
    "\n",
    "*05.Name_NBHD* - Name of the neighborhood\n",
    "\n",
    "*06.Censal_Section* - Census section\n",
    "\n",
    "*07.AVG_Age* - Average age of housing premises"
   ]
  },
  {
   "cell_type": "code",
   "execution_count": 5,
   "metadata": {},
   "outputs": [
    {
     "data": {
      "text/html": [
       "<div>\n",
       "<style scoped>\n",
       "    .dataframe tbody tr th:only-of-type {\n",
       "        vertical-align: middle;\n",
       "    }\n",
       "\n",
       "    .dataframe tbody tr th {\n",
       "        vertical-align: top;\n",
       "    }\n",
       "\n",
       "    .dataframe thead th {\n",
       "        text-align: right;\n",
       "    }\n",
       "</style>\n",
       "<table border=\"1\" class=\"dataframe\">\n",
       "  <thead>\n",
       "    <tr style=\"text-align: right;\">\n",
       "      <th></th>\n",
       "      <th>Year</th>\n",
       "      <th>Code_Dist</th>\n",
       "      <th>Name_Dist</th>\n",
       "      <th>Code_NBHD</th>\n",
       "      <th>Name_NBHD</th>\n",
       "      <th>Censal_Section</th>\n",
       "      <th>Description</th>\n",
       "      <th>Amount</th>\n",
       "    </tr>\n",
       "  </thead>\n",
       "  <tbody>\n",
       "    <tr>\n",
       "      <th>0</th>\n",
       "      <td>2019</td>\n",
       "      <td>1</td>\n",
       "      <td>Ciutat Vella</td>\n",
       "      <td>1</td>\n",
       "      <td>el Raval</td>\n",
       "      <td>1</td>\n",
       "      <td>Fins a 30 m2</td>\n",
       "      <td>111</td>\n",
       "    </tr>\n",
       "    <tr>\n",
       "      <th>1</th>\n",
       "      <td>2019</td>\n",
       "      <td>1</td>\n",
       "      <td>Ciutat Vella</td>\n",
       "      <td>1</td>\n",
       "      <td>el Raval</td>\n",
       "      <td>1</td>\n",
       "      <td>31- 60 m2</td>\n",
       "      <td>324</td>\n",
       "    </tr>\n",
       "    <tr>\n",
       "      <th>2</th>\n",
       "      <td>2019</td>\n",
       "      <td>1</td>\n",
       "      <td>Ciutat Vella</td>\n",
       "      <td>1</td>\n",
       "      <td>el Raval</td>\n",
       "      <td>1</td>\n",
       "      <td>61- 90 m2</td>\n",
       "      <td>222</td>\n",
       "    </tr>\n",
       "    <tr>\n",
       "      <th>3</th>\n",
       "      <td>2019</td>\n",
       "      <td>1</td>\n",
       "      <td>Ciutat Vella</td>\n",
       "      <td>1</td>\n",
       "      <td>el Raval</td>\n",
       "      <td>1</td>\n",
       "      <td>91- 120 m2</td>\n",
       "      <td>105</td>\n",
       "    </tr>\n",
       "    <tr>\n",
       "      <th>4</th>\n",
       "      <td>2019</td>\n",
       "      <td>1</td>\n",
       "      <td>Ciutat Vella</td>\n",
       "      <td>1</td>\n",
       "      <td>el Raval</td>\n",
       "      <td>1</td>\n",
       "      <td>121- 150 m2</td>\n",
       "      <td>27</td>\n",
       "    </tr>\n",
       "    <tr>\n",
       "      <th>...</th>\n",
       "      <td>...</td>\n",
       "      <td>...</td>\n",
       "      <td>...</td>\n",
       "      <td>...</td>\n",
       "      <td>...</td>\n",
       "      <td>...</td>\n",
       "      <td>...</td>\n",
       "      <td>...</td>\n",
       "    </tr>\n",
       "    <tr>\n",
       "      <th>12915</th>\n",
       "      <td>2018</td>\n",
       "      <td>10</td>\n",
       "      <td>Sant Martí</td>\n",
       "      <td>73</td>\n",
       "      <td>la Verneda i la Pau</td>\n",
       "      <td>142</td>\n",
       "      <td>31- 60 m2</td>\n",
       "      <td>326</td>\n",
       "    </tr>\n",
       "    <tr>\n",
       "      <th>12916</th>\n",
       "      <td>2018</td>\n",
       "      <td>10</td>\n",
       "      <td>Sant Martí</td>\n",
       "      <td>73</td>\n",
       "      <td>la Verneda i la Pau</td>\n",
       "      <td>142</td>\n",
       "      <td>61- 90 m2</td>\n",
       "      <td>285</td>\n",
       "    </tr>\n",
       "    <tr>\n",
       "      <th>12917</th>\n",
       "      <td>2018</td>\n",
       "      <td>10</td>\n",
       "      <td>Sant Martí</td>\n",
       "      <td>73</td>\n",
       "      <td>la Verneda i la Pau</td>\n",
       "      <td>142</td>\n",
       "      <td>91- 120 m2</td>\n",
       "      <td>60</td>\n",
       "    </tr>\n",
       "    <tr>\n",
       "      <th>12918</th>\n",
       "      <td>2018</td>\n",
       "      <td>10</td>\n",
       "      <td>Sant Martí</td>\n",
       "      <td>73</td>\n",
       "      <td>la Verneda i la Pau</td>\n",
       "      <td>143</td>\n",
       "      <td>31- 60 m2</td>\n",
       "      <td>475</td>\n",
       "    </tr>\n",
       "    <tr>\n",
       "      <th>12919</th>\n",
       "      <td>2018</td>\n",
       "      <td>10</td>\n",
       "      <td>Sant Martí</td>\n",
       "      <td>73</td>\n",
       "      <td>la Verneda i la Pau</td>\n",
       "      <td>143</td>\n",
       "      <td>61- 90 m2</td>\n",
       "      <td>570</td>\n",
       "    </tr>\n",
       "  </tbody>\n",
       "</table>\n",
       "<p>12920 rows × 8 columns</p>\n",
       "</div>"
      ],
      "text/plain": [
       "       Year  \\\n",
       "0      2019   \n",
       "1      2019   \n",
       "2      2019   \n",
       "3      2019   \n",
       "4      2019   \n",
       "...     ...   \n",
       "12915  2018   \n",
       "12916  2018   \n",
       "12917  2018   \n",
       "12918  2018   \n",
       "12919  2018   \n",
       "\n",
       "       Code_Dist  \\\n",
       "0              1   \n",
       "1              1   \n",
       "2              1   \n",
       "3              1   \n",
       "4              1   \n",
       "...          ...   \n",
       "12915         10   \n",
       "12916         10   \n",
       "12917         10   \n",
       "12918         10   \n",
       "12919         10   \n",
       "\n",
       "          Name_Dist  \\\n",
       "0      Ciutat Vella   \n",
       "1      Ciutat Vella   \n",
       "2      Ciutat Vella   \n",
       "3      Ciutat Vella   \n",
       "4      Ciutat Vella   \n",
       "...             ...   \n",
       "12915    Sant Martí   \n",
       "12916    Sant Martí   \n",
       "12917    Sant Martí   \n",
       "12918    Sant Martí   \n",
       "12919    Sant Martí   \n",
       "\n",
       "       Code_NBHD  \\\n",
       "0              1   \n",
       "1              1   \n",
       "2              1   \n",
       "3              1   \n",
       "4              1   \n",
       "...          ...   \n",
       "12915         73   \n",
       "12916         73   \n",
       "12917         73   \n",
       "12918         73   \n",
       "12919         73   \n",
       "\n",
       "                 Name_NBHD  \\\n",
       "0                 el Raval   \n",
       "1                 el Raval   \n",
       "2                 el Raval   \n",
       "3                 el Raval   \n",
       "4                 el Raval   \n",
       "...                    ...   \n",
       "12915  la Verneda i la Pau   \n",
       "12916  la Verneda i la Pau   \n",
       "12917  la Verneda i la Pau   \n",
       "12918  la Verneda i la Pau   \n",
       "12919  la Verneda i la Pau   \n",
       "\n",
       "       Censal_Section  \\\n",
       "0                   1   \n",
       "1                   1   \n",
       "2                   1   \n",
       "3                   1   \n",
       "4                   1   \n",
       "...               ...   \n",
       "12915             142   \n",
       "12916             142   \n",
       "12917             142   \n",
       "12918             143   \n",
       "12919             143   \n",
       "\n",
       "        Description  \\\n",
       "0      Fins a 30 m2   \n",
       "1         31- 60 m2   \n",
       "2         61- 90 m2   \n",
       "3        91- 120 m2   \n",
       "4       121- 150 m2   \n",
       "...             ...   \n",
       "12915     31- 60 m2   \n",
       "12916     61- 90 m2   \n",
       "12917    91- 120 m2   \n",
       "12918     31- 60 m2   \n",
       "12919     61- 90 m2   \n",
       "\n",
       "       Amount  \n",
       "0         111  \n",
       "1         324  \n",
       "2         222  \n",
       "3         105  \n",
       "4          27  \n",
       "...       ...  \n",
       "12915     326  \n",
       "12916     285  \n",
       "12917      60  \n",
       "12918     475  \n",
       "12919     570  \n",
       "\n",
       "[12920 rows x 8 columns]"
      ]
     },
     "execution_count": 5,
     "metadata": {},
     "output_type": "execute_result"
    }
   ],
   "source": [
    "house_area = pd.read_csv(\"../datasets/Houses_Area.csv\")\n",
    "house_area"
   ]
  },
  {
   "cell_type": "markdown",
   "metadata": {},
   "source": [
    "profile = ProfileReport(house_area, title=\"house_area Report\")\n",
    "profile.to_notebook_iframe()\n",
    "profile.to_file(\"house_area_report.html\")\n"
   ]
  },
  {
   "cell_type": "code",
   "execution_count": 6,
   "metadata": {},
   "outputs": [
    {
     "name": "stdout",
     "output_type": "stream",
     "text": [
      "<class 'pandas.core.frame.DataFrame'>\n",
      "RangeIndex: 12920 entries, 0 to 12919\n",
      "Data columns (total 8 columns):\n",
      " #   Column          Non-Null Count  Dtype \n",
      "---  ------          --------------  ----- \n",
      " 0   Year            12920 non-null  int64 \n",
      " 1   Code_Dist       12920 non-null  int64 \n",
      " 2   Name_Dist       12920 non-null  object\n",
      " 3   Code_NBHD       12920 non-null  int64 \n",
      " 4   Name_NBHD       12920 non-null  object\n",
      " 5   Censal_Section  12920 non-null  int64 \n",
      " 6   Description     12920 non-null  object\n",
      " 7   Amount          12920 non-null  int64 \n",
      "dtypes: int64(5), object(3)\n",
      "memory usage: 807.6+ KB\n"
     ]
    }
   ],
   "source": [
    "house_area.info()"
   ]
  },
  {
   "cell_type": "code",
   "execution_count": 31,
   "metadata": {
    "scrolled": false
   },
   "outputs": [],
   "source": [
    "house_area_2019 = house_area.loc[house_area.Year==2019, :].groupby(by=[\"Year\", \"Code_Dist\",\"Name_Dist\",\"Code_NBHD\" ,\"Name_NBHD\", \"Description\"], as_index=False).sum()\n",
    "house_area_2018 = house_area.loc[house_area.Year==2018, :].groupby(by=[\"Year\", \"Code_Dist\",\"Name_Dist\",\"Code_NBHD\" ,\"Name_NBHD\", \"Description\"], as_index=False).sum()"
   ]
  },
  {
   "cell_type": "code",
   "execution_count": 23,
   "metadata": {},
   "outputs": [
    {
     "data": {
      "text/html": [
       "<div>\n",
       "<style scoped>\n",
       "    .dataframe tbody tr th:only-of-type {\n",
       "        vertical-align: middle;\n",
       "    }\n",
       "\n",
       "    .dataframe tbody tr th {\n",
       "        vertical-align: top;\n",
       "    }\n",
       "\n",
       "    .dataframe thead th {\n",
       "        text-align: right;\n",
       "    }\n",
       "</style>\n",
       "<table border=\"1\" class=\"dataframe\">\n",
       "  <thead>\n",
       "    <tr style=\"text-align: right;\">\n",
       "      <th></th>\n",
       "      <th>Year</th>\n",
       "      <th>Code_Dist</th>\n",
       "      <th>Name_Dist</th>\n",
       "      <th>Code_NBHD</th>\n",
       "      <th>Name_NBHD</th>\n",
       "      <th>Censal_Section</th>\n",
       "      <th>Description</th>\n",
       "      <th>Amount</th>\n",
       "    </tr>\n",
       "  </thead>\n",
       "  <tbody>\n",
       "    <tr>\n",
       "      <th>7</th>\n",
       "      <td>2019</td>\n",
       "      <td>1</td>\n",
       "      <td>Ciutat Vella</td>\n",
       "      <td>1</td>\n",
       "      <td>el Raval</td>\n",
       "      <td>1</td>\n",
       "      <td>Més de 250 m2</td>\n",
       "      <td>8</td>\n",
       "    </tr>\n",
       "    <tr>\n",
       "      <th>15</th>\n",
       "      <td>2019</td>\n",
       "      <td>1</td>\n",
       "      <td>Ciutat Vella</td>\n",
       "      <td>1</td>\n",
       "      <td>el Raval</td>\n",
       "      <td>2</td>\n",
       "      <td>Més de 250 m2</td>\n",
       "      <td>7</td>\n",
       "    </tr>\n",
       "    <tr>\n",
       "      <th>30</th>\n",
       "      <td>2019</td>\n",
       "      <td>1</td>\n",
       "      <td>Ciutat Vella</td>\n",
       "      <td>1</td>\n",
       "      <td>el Raval</td>\n",
       "      <td>4</td>\n",
       "      <td>Més de 250 m2</td>\n",
       "      <td>3</td>\n",
       "    </tr>\n",
       "    <tr>\n",
       "      <th>38</th>\n",
       "      <td>2019</td>\n",
       "      <td>1</td>\n",
       "      <td>Ciutat Vella</td>\n",
       "      <td>1</td>\n",
       "      <td>el Raval</td>\n",
       "      <td>5</td>\n",
       "      <td>Més de 250 m2</td>\n",
       "      <td>15</td>\n",
       "    </tr>\n",
       "    <tr>\n",
       "      <th>46</th>\n",
       "      <td>2019</td>\n",
       "      <td>1</td>\n",
       "      <td>Ciutat Vella</td>\n",
       "      <td>1</td>\n",
       "      <td>el Raval</td>\n",
       "      <td>6</td>\n",
       "      <td>Més de 250 m2</td>\n",
       "      <td>10</td>\n",
       "    </tr>\n",
       "    <tr>\n",
       "      <th>53</th>\n",
       "      <td>2019</td>\n",
       "      <td>1</td>\n",
       "      <td>Ciutat Vella</td>\n",
       "      <td>1</td>\n",
       "      <td>el Raval</td>\n",
       "      <td>7</td>\n",
       "      <td>Més de 250 m2</td>\n",
       "      <td>7</td>\n",
       "    </tr>\n",
       "    <tr>\n",
       "      <th>60</th>\n",
       "      <td>2019</td>\n",
       "      <td>1</td>\n",
       "      <td>Ciutat Vella</td>\n",
       "      <td>1</td>\n",
       "      <td>el Raval</td>\n",
       "      <td>8</td>\n",
       "      <td>Més de 250 m2</td>\n",
       "      <td>1</td>\n",
       "    </tr>\n",
       "    <tr>\n",
       "      <th>74</th>\n",
       "      <td>2019</td>\n",
       "      <td>1</td>\n",
       "      <td>Ciutat Vella</td>\n",
       "      <td>1</td>\n",
       "      <td>el Raval</td>\n",
       "      <td>10</td>\n",
       "      <td>Més de 250 m2</td>\n",
       "      <td>10</td>\n",
       "    </tr>\n",
       "    <tr>\n",
       "      <th>82</th>\n",
       "      <td>2019</td>\n",
       "      <td>1</td>\n",
       "      <td>Ciutat Vella</td>\n",
       "      <td>1</td>\n",
       "      <td>el Raval</td>\n",
       "      <td>11</td>\n",
       "      <td>Més de 250 m2</td>\n",
       "      <td>2</td>\n",
       "    </tr>\n",
       "    <tr>\n",
       "      <th>97</th>\n",
       "      <td>2019</td>\n",
       "      <td>1</td>\n",
       "      <td>Ciutat Vella</td>\n",
       "      <td>1</td>\n",
       "      <td>el Raval</td>\n",
       "      <td>13</td>\n",
       "      <td>Més de 250 m2</td>\n",
       "      <td>1</td>\n",
       "    </tr>\n",
       "    <tr>\n",
       "      <th>105</th>\n",
       "      <td>2019</td>\n",
       "      <td>1</td>\n",
       "      <td>Ciutat Vella</td>\n",
       "      <td>1</td>\n",
       "      <td>el Raval</td>\n",
       "      <td>14</td>\n",
       "      <td>Més de 250 m2</td>\n",
       "      <td>2</td>\n",
       "    </tr>\n",
       "    <tr>\n",
       "      <th>113</th>\n",
       "      <td>2019</td>\n",
       "      <td>1</td>\n",
       "      <td>Ciutat Vella</td>\n",
       "      <td>1</td>\n",
       "      <td>el Raval</td>\n",
       "      <td>15</td>\n",
       "      <td>Més de 250 m2</td>\n",
       "      <td>1</td>\n",
       "    </tr>\n",
       "    <tr>\n",
       "      <th>121</th>\n",
       "      <td>2019</td>\n",
       "      <td>1</td>\n",
       "      <td>Ciutat Vella</td>\n",
       "      <td>1</td>\n",
       "      <td>el Raval</td>\n",
       "      <td>16</td>\n",
       "      <td>Més de 250 m2</td>\n",
       "      <td>1</td>\n",
       "    </tr>\n",
       "    <tr>\n",
       "      <th>129</th>\n",
       "      <td>2019</td>\n",
       "      <td>1</td>\n",
       "      <td>Ciutat Vella</td>\n",
       "      <td>1</td>\n",
       "      <td>el Raval</td>\n",
       "      <td>17</td>\n",
       "      <td>Més de 250 m2</td>\n",
       "      <td>2</td>\n",
       "    </tr>\n",
       "    <tr>\n",
       "      <th>136</th>\n",
       "      <td>2019</td>\n",
       "      <td>1</td>\n",
       "      <td>Ciutat Vella</td>\n",
       "      <td>1</td>\n",
       "      <td>el Raval</td>\n",
       "      <td>18</td>\n",
       "      <td>Més de 250 m2</td>\n",
       "      <td>5</td>\n",
       "    </tr>\n",
       "    <tr>\n",
       "      <th>144</th>\n",
       "      <td>2019</td>\n",
       "      <td>1</td>\n",
       "      <td>Ciutat Vella</td>\n",
       "      <td>1</td>\n",
       "      <td>el Raval</td>\n",
       "      <td>19</td>\n",
       "      <td>Més de 250 m2</td>\n",
       "      <td>6</td>\n",
       "    </tr>\n",
       "    <tr>\n",
       "      <th>152</th>\n",
       "      <td>2019</td>\n",
       "      <td>1</td>\n",
       "      <td>Ciutat Vella</td>\n",
       "      <td>1</td>\n",
       "      <td>el Raval</td>\n",
       "      <td>20</td>\n",
       "      <td>Més de 250 m2</td>\n",
       "      <td>9</td>\n",
       "    </tr>\n",
       "    <tr>\n",
       "      <th>160</th>\n",
       "      <td>2019</td>\n",
       "      <td>1</td>\n",
       "      <td>Ciutat Vella</td>\n",
       "      <td>1</td>\n",
       "      <td>el Raval</td>\n",
       "      <td>21</td>\n",
       "      <td>Més de 250 m2</td>\n",
       "      <td>21</td>\n",
       "    </tr>\n",
       "    <tr>\n",
       "      <th>6467</th>\n",
       "      <td>2018</td>\n",
       "      <td>1</td>\n",
       "      <td>Ciutat Vella</td>\n",
       "      <td>1</td>\n",
       "      <td>el Raval</td>\n",
       "      <td>1</td>\n",
       "      <td>Més de 250 m2</td>\n",
       "      <td>8</td>\n",
       "    </tr>\n",
       "    <tr>\n",
       "      <th>6475</th>\n",
       "      <td>2018</td>\n",
       "      <td>1</td>\n",
       "      <td>Ciutat Vella</td>\n",
       "      <td>1</td>\n",
       "      <td>el Raval</td>\n",
       "      <td>2</td>\n",
       "      <td>Més de 250 m2</td>\n",
       "      <td>7</td>\n",
       "    </tr>\n",
       "    <tr>\n",
       "      <th>6490</th>\n",
       "      <td>2018</td>\n",
       "      <td>1</td>\n",
       "      <td>Ciutat Vella</td>\n",
       "      <td>1</td>\n",
       "      <td>el Raval</td>\n",
       "      <td>4</td>\n",
       "      <td>Més de 250 m2</td>\n",
       "      <td>3</td>\n",
       "    </tr>\n",
       "    <tr>\n",
       "      <th>6498</th>\n",
       "      <td>2018</td>\n",
       "      <td>1</td>\n",
       "      <td>Ciutat Vella</td>\n",
       "      <td>1</td>\n",
       "      <td>el Raval</td>\n",
       "      <td>5</td>\n",
       "      <td>Més de 250 m2</td>\n",
       "      <td>15</td>\n",
       "    </tr>\n",
       "    <tr>\n",
       "      <th>6506</th>\n",
       "      <td>2018</td>\n",
       "      <td>1</td>\n",
       "      <td>Ciutat Vella</td>\n",
       "      <td>1</td>\n",
       "      <td>el Raval</td>\n",
       "      <td>6</td>\n",
       "      <td>Més de 250 m2</td>\n",
       "      <td>10</td>\n",
       "    </tr>\n",
       "    <tr>\n",
       "      <th>6513</th>\n",
       "      <td>2018</td>\n",
       "      <td>1</td>\n",
       "      <td>Ciutat Vella</td>\n",
       "      <td>1</td>\n",
       "      <td>el Raval</td>\n",
       "      <td>7</td>\n",
       "      <td>Més de 250 m2</td>\n",
       "      <td>7</td>\n",
       "    </tr>\n",
       "    <tr>\n",
       "      <th>6520</th>\n",
       "      <td>2018</td>\n",
       "      <td>1</td>\n",
       "      <td>Ciutat Vella</td>\n",
       "      <td>1</td>\n",
       "      <td>el Raval</td>\n",
       "      <td>8</td>\n",
       "      <td>Més de 250 m2</td>\n",
       "      <td>1</td>\n",
       "    </tr>\n",
       "    <tr>\n",
       "      <th>6534</th>\n",
       "      <td>2018</td>\n",
       "      <td>1</td>\n",
       "      <td>Ciutat Vella</td>\n",
       "      <td>1</td>\n",
       "      <td>el Raval</td>\n",
       "      <td>10</td>\n",
       "      <td>Més de 250 m2</td>\n",
       "      <td>10</td>\n",
       "    </tr>\n",
       "    <tr>\n",
       "      <th>6542</th>\n",
       "      <td>2018</td>\n",
       "      <td>1</td>\n",
       "      <td>Ciutat Vella</td>\n",
       "      <td>1</td>\n",
       "      <td>el Raval</td>\n",
       "      <td>11</td>\n",
       "      <td>Més de 250 m2</td>\n",
       "      <td>2</td>\n",
       "    </tr>\n",
       "    <tr>\n",
       "      <th>6557</th>\n",
       "      <td>2018</td>\n",
       "      <td>1</td>\n",
       "      <td>Ciutat Vella</td>\n",
       "      <td>1</td>\n",
       "      <td>el Raval</td>\n",
       "      <td>13</td>\n",
       "      <td>Més de 250 m2</td>\n",
       "      <td>1</td>\n",
       "    </tr>\n",
       "    <tr>\n",
       "      <th>6565</th>\n",
       "      <td>2018</td>\n",
       "      <td>1</td>\n",
       "      <td>Ciutat Vella</td>\n",
       "      <td>1</td>\n",
       "      <td>el Raval</td>\n",
       "      <td>14</td>\n",
       "      <td>Més de 250 m2</td>\n",
       "      <td>2</td>\n",
       "    </tr>\n",
       "    <tr>\n",
       "      <th>6573</th>\n",
       "      <td>2018</td>\n",
       "      <td>1</td>\n",
       "      <td>Ciutat Vella</td>\n",
       "      <td>1</td>\n",
       "      <td>el Raval</td>\n",
       "      <td>15</td>\n",
       "      <td>Més de 250 m2</td>\n",
       "      <td>1</td>\n",
       "    </tr>\n",
       "    <tr>\n",
       "      <th>6581</th>\n",
       "      <td>2018</td>\n",
       "      <td>1</td>\n",
       "      <td>Ciutat Vella</td>\n",
       "      <td>1</td>\n",
       "      <td>el Raval</td>\n",
       "      <td>16</td>\n",
       "      <td>Més de 250 m2</td>\n",
       "      <td>1</td>\n",
       "    </tr>\n",
       "    <tr>\n",
       "      <th>6589</th>\n",
       "      <td>2018</td>\n",
       "      <td>1</td>\n",
       "      <td>Ciutat Vella</td>\n",
       "      <td>1</td>\n",
       "      <td>el Raval</td>\n",
       "      <td>17</td>\n",
       "      <td>Més de 250 m2</td>\n",
       "      <td>2</td>\n",
       "    </tr>\n",
       "    <tr>\n",
       "      <th>6596</th>\n",
       "      <td>2018</td>\n",
       "      <td>1</td>\n",
       "      <td>Ciutat Vella</td>\n",
       "      <td>1</td>\n",
       "      <td>el Raval</td>\n",
       "      <td>18</td>\n",
       "      <td>Més de 250 m2</td>\n",
       "      <td>5</td>\n",
       "    </tr>\n",
       "    <tr>\n",
       "      <th>6604</th>\n",
       "      <td>2018</td>\n",
       "      <td>1</td>\n",
       "      <td>Ciutat Vella</td>\n",
       "      <td>1</td>\n",
       "      <td>el Raval</td>\n",
       "      <td>19</td>\n",
       "      <td>Més de 250 m2</td>\n",
       "      <td>6</td>\n",
       "    </tr>\n",
       "    <tr>\n",
       "      <th>6612</th>\n",
       "      <td>2018</td>\n",
       "      <td>1</td>\n",
       "      <td>Ciutat Vella</td>\n",
       "      <td>1</td>\n",
       "      <td>el Raval</td>\n",
       "      <td>20</td>\n",
       "      <td>Més de 250 m2</td>\n",
       "      <td>9</td>\n",
       "    </tr>\n",
       "    <tr>\n",
       "      <th>6620</th>\n",
       "      <td>2018</td>\n",
       "      <td>1</td>\n",
       "      <td>Ciutat Vella</td>\n",
       "      <td>1</td>\n",
       "      <td>el Raval</td>\n",
       "      <td>21</td>\n",
       "      <td>Més de 250 m2</td>\n",
       "      <td>21</td>\n",
       "    </tr>\n",
       "  </tbody>\n",
       "</table>\n",
       "</div>"
      ],
      "text/plain": [
       "      Year  \\\n",
       "7     2019   \n",
       "15    2019   \n",
       "30    2019   \n",
       "38    2019   \n",
       "46    2019   \n",
       "53    2019   \n",
       "60    2019   \n",
       "74    2019   \n",
       "82    2019   \n",
       "97    2019   \n",
       "105   2019   \n",
       "113   2019   \n",
       "121   2019   \n",
       "129   2019   \n",
       "136   2019   \n",
       "144   2019   \n",
       "152   2019   \n",
       "160   2019   \n",
       "6467  2018   \n",
       "6475  2018   \n",
       "6490  2018   \n",
       "6498  2018   \n",
       "6506  2018   \n",
       "6513  2018   \n",
       "6520  2018   \n",
       "6534  2018   \n",
       "6542  2018   \n",
       "6557  2018   \n",
       "6565  2018   \n",
       "6573  2018   \n",
       "6581  2018   \n",
       "6589  2018   \n",
       "6596  2018   \n",
       "6604  2018   \n",
       "6612  2018   \n",
       "6620  2018   \n",
       "\n",
       "      Code_Dist  \\\n",
       "7             1   \n",
       "15            1   \n",
       "30            1   \n",
       "38            1   \n",
       "46            1   \n",
       "53            1   \n",
       "60            1   \n",
       "74            1   \n",
       "82            1   \n",
       "97            1   \n",
       "105           1   \n",
       "113           1   \n",
       "121           1   \n",
       "129           1   \n",
       "136           1   \n",
       "144           1   \n",
       "152           1   \n",
       "160           1   \n",
       "6467          1   \n",
       "6475          1   \n",
       "6490          1   \n",
       "6498          1   \n",
       "6506          1   \n",
       "6513          1   \n",
       "6520          1   \n",
       "6534          1   \n",
       "6542          1   \n",
       "6557          1   \n",
       "6565          1   \n",
       "6573          1   \n",
       "6581          1   \n",
       "6589          1   \n",
       "6596          1   \n",
       "6604          1   \n",
       "6612          1   \n",
       "6620          1   \n",
       "\n",
       "         Name_Dist  \\\n",
       "7     Ciutat Vella   \n",
       "15    Ciutat Vella   \n",
       "30    Ciutat Vella   \n",
       "38    Ciutat Vella   \n",
       "46    Ciutat Vella   \n",
       "53    Ciutat Vella   \n",
       "60    Ciutat Vella   \n",
       "74    Ciutat Vella   \n",
       "82    Ciutat Vella   \n",
       "97    Ciutat Vella   \n",
       "105   Ciutat Vella   \n",
       "113   Ciutat Vella   \n",
       "121   Ciutat Vella   \n",
       "129   Ciutat Vella   \n",
       "136   Ciutat Vella   \n",
       "144   Ciutat Vella   \n",
       "152   Ciutat Vella   \n",
       "160   Ciutat Vella   \n",
       "6467  Ciutat Vella   \n",
       "6475  Ciutat Vella   \n",
       "6490  Ciutat Vella   \n",
       "6498  Ciutat Vella   \n",
       "6506  Ciutat Vella   \n",
       "6513  Ciutat Vella   \n",
       "6520  Ciutat Vella   \n",
       "6534  Ciutat Vella   \n",
       "6542  Ciutat Vella   \n",
       "6557  Ciutat Vella   \n",
       "6565  Ciutat Vella   \n",
       "6573  Ciutat Vella   \n",
       "6581  Ciutat Vella   \n",
       "6589  Ciutat Vella   \n",
       "6596  Ciutat Vella   \n",
       "6604  Ciutat Vella   \n",
       "6612  Ciutat Vella   \n",
       "6620  Ciutat Vella   \n",
       "\n",
       "      Code_NBHD  \\\n",
       "7             1   \n",
       "15            1   \n",
       "30            1   \n",
       "38            1   \n",
       "46            1   \n",
       "53            1   \n",
       "60            1   \n",
       "74            1   \n",
       "82            1   \n",
       "97            1   \n",
       "105           1   \n",
       "113           1   \n",
       "121           1   \n",
       "129           1   \n",
       "136           1   \n",
       "144           1   \n",
       "152           1   \n",
       "160           1   \n",
       "6467          1   \n",
       "6475          1   \n",
       "6490          1   \n",
       "6498          1   \n",
       "6506          1   \n",
       "6513          1   \n",
       "6520          1   \n",
       "6534          1   \n",
       "6542          1   \n",
       "6557          1   \n",
       "6565          1   \n",
       "6573          1   \n",
       "6581          1   \n",
       "6589          1   \n",
       "6596          1   \n",
       "6604          1   \n",
       "6612          1   \n",
       "6620          1   \n",
       "\n",
       "     Name_NBHD  \\\n",
       "7     el Raval   \n",
       "15    el Raval   \n",
       "30    el Raval   \n",
       "38    el Raval   \n",
       "46    el Raval   \n",
       "53    el Raval   \n",
       "60    el Raval   \n",
       "74    el Raval   \n",
       "82    el Raval   \n",
       "97    el Raval   \n",
       "105   el Raval   \n",
       "113   el Raval   \n",
       "121   el Raval   \n",
       "129   el Raval   \n",
       "136   el Raval   \n",
       "144   el Raval   \n",
       "152   el Raval   \n",
       "160   el Raval   \n",
       "6467  el Raval   \n",
       "6475  el Raval   \n",
       "6490  el Raval   \n",
       "6498  el Raval   \n",
       "6506  el Raval   \n",
       "6513  el Raval   \n",
       "6520  el Raval   \n",
       "6534  el Raval   \n",
       "6542  el Raval   \n",
       "6557  el Raval   \n",
       "6565  el Raval   \n",
       "6573  el Raval   \n",
       "6581  el Raval   \n",
       "6589  el Raval   \n",
       "6596  el Raval   \n",
       "6604  el Raval   \n",
       "6612  el Raval   \n",
       "6620  el Raval   \n",
       "\n",
       "      Censal_Section  \\\n",
       "7                  1   \n",
       "15                 2   \n",
       "30                 4   \n",
       "38                 5   \n",
       "46                 6   \n",
       "53                 7   \n",
       "60                 8   \n",
       "74                10   \n",
       "82                11   \n",
       "97                13   \n",
       "105               14   \n",
       "113               15   \n",
       "121               16   \n",
       "129               17   \n",
       "136               18   \n",
       "144               19   \n",
       "152               20   \n",
       "160               21   \n",
       "6467               1   \n",
       "6475               2   \n",
       "6490               4   \n",
       "6498               5   \n",
       "6506               6   \n",
       "6513               7   \n",
       "6520               8   \n",
       "6534              10   \n",
       "6542              11   \n",
       "6557              13   \n",
       "6565              14   \n",
       "6573              15   \n",
       "6581              16   \n",
       "6589              17   \n",
       "6596              18   \n",
       "6604              19   \n",
       "6612              20   \n",
       "6620              21   \n",
       "\n",
       "        Description  \\\n",
       "7     Més de 250 m2   \n",
       "15    Més de 250 m2   \n",
       "30    Més de 250 m2   \n",
       "38    Més de 250 m2   \n",
       "46    Més de 250 m2   \n",
       "53    Més de 250 m2   \n",
       "60    Més de 250 m2   \n",
       "74    Més de 250 m2   \n",
       "82    Més de 250 m2   \n",
       "97    Més de 250 m2   \n",
       "105   Més de 250 m2   \n",
       "113   Més de 250 m2   \n",
       "121   Més de 250 m2   \n",
       "129   Més de 250 m2   \n",
       "136   Més de 250 m2   \n",
       "144   Més de 250 m2   \n",
       "152   Més de 250 m2   \n",
       "160   Més de 250 m2   \n",
       "6467  Més de 250 m2   \n",
       "6475  Més de 250 m2   \n",
       "6490  Més de 250 m2   \n",
       "6498  Més de 250 m2   \n",
       "6506  Més de 250 m2   \n",
       "6513  Més de 250 m2   \n",
       "6520  Més de 250 m2   \n",
       "6534  Més de 250 m2   \n",
       "6542  Més de 250 m2   \n",
       "6557  Més de 250 m2   \n",
       "6565  Més de 250 m2   \n",
       "6573  Més de 250 m2   \n",
       "6581  Més de 250 m2   \n",
       "6589  Més de 250 m2   \n",
       "6596  Més de 250 m2   \n",
       "6604  Més de 250 m2   \n",
       "6612  Més de 250 m2   \n",
       "6620  Més de 250 m2   \n",
       "\n",
       "      Amount  \n",
       "7          8  \n",
       "15         7  \n",
       "30         3  \n",
       "38        15  \n",
       "46        10  \n",
       "53         7  \n",
       "60         1  \n",
       "74        10  \n",
       "82         2  \n",
       "97         1  \n",
       "105        2  \n",
       "113        1  \n",
       "121        1  \n",
       "129        2  \n",
       "136        5  \n",
       "144        6  \n",
       "152        9  \n",
       "160       21  \n",
       "6467       8  \n",
       "6475       7  \n",
       "6490       3  \n",
       "6498      15  \n",
       "6506      10  \n",
       "6513       7  \n",
       "6520       1  \n",
       "6534      10  \n",
       "6542       2  \n",
       "6557       1  \n",
       "6565       2  \n",
       "6573       1  \n",
       "6581       1  \n",
       "6589       2  \n",
       "6596       5  \n",
       "6604       6  \n",
       "6612       9  \n",
       "6620      21  "
      ]
     },
     "execution_count": 23,
     "metadata": {},
     "output_type": "execute_result"
    }
   ],
   "source": [
    "house_area.loc[(house_area.Description== \"Més de 250 m2\") & (house_area.Code_NBHD==1), :]"
   ]
  },
  {
   "cell_type": "code",
   "execution_count": 32,
   "metadata": {},
   "outputs": [
    {
     "data": {
      "text/html": [
       "<div>\n",
       "<style scoped>\n",
       "    .dataframe tbody tr th:only-of-type {\n",
       "        vertical-align: middle;\n",
       "    }\n",
       "\n",
       "    .dataframe tbody tr th {\n",
       "        vertical-align: top;\n",
       "    }\n",
       "\n",
       "    .dataframe thead th {\n",
       "        text-align: right;\n",
       "    }\n",
       "</style>\n",
       "<table border=\"1\" class=\"dataframe\">\n",
       "  <thead>\n",
       "    <tr style=\"text-align: right;\">\n",
       "      <th></th>\n",
       "      <th>Year</th>\n",
       "      <th>Code_Dist</th>\n",
       "      <th>Name_Dist</th>\n",
       "      <th>Code_NBHD</th>\n",
       "      <th>Name_NBHD</th>\n",
       "      <th>Description</th>\n",
       "      <th>Censal_Section</th>\n",
       "      <th>Amount</th>\n",
       "    </tr>\n",
       "  </thead>\n",
       "  <tbody>\n",
       "    <tr>\n",
       "      <th>0</th>\n",
       "      <td>2018</td>\n",
       "      <td>1</td>\n",
       "      <td>Ciutat Vella</td>\n",
       "      <td>1</td>\n",
       "      <td>el Raval</td>\n",
       "      <td>121- 150 m2</td>\n",
       "      <td>231</td>\n",
       "      <td>861</td>\n",
       "    </tr>\n",
       "    <tr>\n",
       "      <th>1</th>\n",
       "      <td>2018</td>\n",
       "      <td>1</td>\n",
       "      <td>Ciutat Vella</td>\n",
       "      <td>1</td>\n",
       "      <td>el Raval</td>\n",
       "      <td>151- 210 m2</td>\n",
       "      <td>231</td>\n",
       "      <td>420</td>\n",
       "    </tr>\n",
       "    <tr>\n",
       "      <th>2</th>\n",
       "      <td>2018</td>\n",
       "      <td>1</td>\n",
       "      <td>Ciutat Vella</td>\n",
       "      <td>1</td>\n",
       "      <td>el Raval</td>\n",
       "      <td>211- 250 m2</td>\n",
       "      <td>189</td>\n",
       "      <td>103</td>\n",
       "    </tr>\n",
       "    <tr>\n",
       "      <th>3</th>\n",
       "      <td>2018</td>\n",
       "      <td>1</td>\n",
       "      <td>Ciutat Vella</td>\n",
       "      <td>1</td>\n",
       "      <td>el Raval</td>\n",
       "      <td>31- 60 m2</td>\n",
       "      <td>231</td>\n",
       "      <td>11369</td>\n",
       "    </tr>\n",
       "    <tr>\n",
       "      <th>4</th>\n",
       "      <td>2018</td>\n",
       "      <td>1</td>\n",
       "      <td>Ciutat Vella</td>\n",
       "      <td>1</td>\n",
       "      <td>el Raval</td>\n",
       "      <td>61- 90 m2</td>\n",
       "      <td>231</td>\n",
       "      <td>6568</td>\n",
       "    </tr>\n",
       "    <tr>\n",
       "      <th>...</th>\n",
       "      <td>...</td>\n",
       "      <td>...</td>\n",
       "      <td>...</td>\n",
       "      <td>...</td>\n",
       "      <td>...</td>\n",
       "      <td>...</td>\n",
       "      <td>...</td>\n",
       "      <td>...</td>\n",
       "    </tr>\n",
       "    <tr>\n",
       "      <th>537</th>\n",
       "      <td>2018</td>\n",
       "      <td>10</td>\n",
       "      <td>Sant Martí</td>\n",
       "      <td>73</td>\n",
       "      <td>la Verneda i la Pau</td>\n",
       "      <td>31- 60 m2</td>\n",
       "      <td>2533</td>\n",
       "      <td>3146</td>\n",
       "    </tr>\n",
       "    <tr>\n",
       "      <th>538</th>\n",
       "      <td>2018</td>\n",
       "      <td>10</td>\n",
       "      <td>Sant Martí</td>\n",
       "      <td>73</td>\n",
       "      <td>la Verneda i la Pau</td>\n",
       "      <td>61- 90 m2</td>\n",
       "      <td>2793</td>\n",
       "      <td>8713</td>\n",
       "    </tr>\n",
       "    <tr>\n",
       "      <th>539</th>\n",
       "      <td>2018</td>\n",
       "      <td>10</td>\n",
       "      <td>Sant Martí</td>\n",
       "      <td>73</td>\n",
       "      <td>la Verneda i la Pau</td>\n",
       "      <td>91- 120 m2</td>\n",
       "      <td>2111</td>\n",
       "      <td>1086</td>\n",
       "    </tr>\n",
       "    <tr>\n",
       "      <th>540</th>\n",
       "      <td>2018</td>\n",
       "      <td>10</td>\n",
       "      <td>Sant Martí</td>\n",
       "      <td>73</td>\n",
       "      <td>la Verneda i la Pau</td>\n",
       "      <td>Fins a 30 m2</td>\n",
       "      <td>792</td>\n",
       "      <td>65</td>\n",
       "    </tr>\n",
       "    <tr>\n",
       "      <th>541</th>\n",
       "      <td>2018</td>\n",
       "      <td>10</td>\n",
       "      <td>Sant Martí</td>\n",
       "      <td>73</td>\n",
       "      <td>la Verneda i la Pau</td>\n",
       "      <td>Més de 250 m2</td>\n",
       "      <td>766</td>\n",
       "      <td>7</td>\n",
       "    </tr>\n",
       "  </tbody>\n",
       "</table>\n",
       "<p>542 rows × 8 columns</p>\n",
       "</div>"
      ],
      "text/plain": [
       "     Year  \\\n",
       "0    2018   \n",
       "1    2018   \n",
       "2    2018   \n",
       "3    2018   \n",
       "4    2018   \n",
       "..    ...   \n",
       "537  2018   \n",
       "538  2018   \n",
       "539  2018   \n",
       "540  2018   \n",
       "541  2018   \n",
       "\n",
       "     Code_Dist  \\\n",
       "0            1   \n",
       "1            1   \n",
       "2            1   \n",
       "3            1   \n",
       "4            1   \n",
       "..         ...   \n",
       "537         10   \n",
       "538         10   \n",
       "539         10   \n",
       "540         10   \n",
       "541         10   \n",
       "\n",
       "        Name_Dist  \\\n",
       "0    Ciutat Vella   \n",
       "1    Ciutat Vella   \n",
       "2    Ciutat Vella   \n",
       "3    Ciutat Vella   \n",
       "4    Ciutat Vella   \n",
       "..            ...   \n",
       "537    Sant Martí   \n",
       "538    Sant Martí   \n",
       "539    Sant Martí   \n",
       "540    Sant Martí   \n",
       "541    Sant Martí   \n",
       "\n",
       "     Code_NBHD  \\\n",
       "0            1   \n",
       "1            1   \n",
       "2            1   \n",
       "3            1   \n",
       "4            1   \n",
       "..         ...   \n",
       "537         73   \n",
       "538         73   \n",
       "539         73   \n",
       "540         73   \n",
       "541         73   \n",
       "\n",
       "               Name_NBHD  \\\n",
       "0               el Raval   \n",
       "1               el Raval   \n",
       "2               el Raval   \n",
       "3               el Raval   \n",
       "4               el Raval   \n",
       "..                   ...   \n",
       "537  la Verneda i la Pau   \n",
       "538  la Verneda i la Pau   \n",
       "539  la Verneda i la Pau   \n",
       "540  la Verneda i la Pau   \n",
       "541  la Verneda i la Pau   \n",
       "\n",
       "       Description  \\\n",
       "0      121- 150 m2   \n",
       "1      151- 210 m2   \n",
       "2      211- 250 m2   \n",
       "3        31- 60 m2   \n",
       "4        61- 90 m2   \n",
       "..             ...   \n",
       "537      31- 60 m2   \n",
       "538      61- 90 m2   \n",
       "539     91- 120 m2   \n",
       "540   Fins a 30 m2   \n",
       "541  Més de 250 m2   \n",
       "\n",
       "     Censal_Section  \\\n",
       "0               231   \n",
       "1               231   \n",
       "2               189   \n",
       "3               231   \n",
       "4               231   \n",
       "..              ...   \n",
       "537            2533   \n",
       "538            2793   \n",
       "539            2111   \n",
       "540             792   \n",
       "541             766   \n",
       "\n",
       "     Amount  \n",
       "0       861  \n",
       "1       420  \n",
       "2       103  \n",
       "3     11369  \n",
       "4      6568  \n",
       "..      ...  \n",
       "537    3146  \n",
       "538    8713  \n",
       "539    1086  \n",
       "540      65  \n",
       "541       7  \n",
       "\n",
       "[542 rows x 8 columns]"
      ]
     },
     "execution_count": 32,
     "metadata": {},
     "output_type": "execute_result"
    }
   ],
   "source": [
    "house_area_2018"
   ]
  },
  {
   "cell_type": "code",
   "execution_count": 37,
   "metadata": {},
   "outputs": [
    {
     "data": {
      "application/vnd.plotly.v1+json": {
       "config": {
        "plotlyServerURL": "https://plotly.com"
       },
       "data": [
        {
         "hovertemplate": "Neighborhood Name=el Raval<br>Name_Dist=Ciutat Vella<br>Description=%{x}<br>Amount=%{y}<extra></extra>",
         "legendgroup": "el Raval",
         "marker": {
          "color": "#ab63fa",
          "symbol": "circle"
         },
         "mode": "markers",
         "name": "el Raval",
         "orientation": "v",
         "showlegend": true,
         "type": "scatter",
         "x": [
          "121- 150 m2",
          "151- 210 m2",
          "211- 250 m2",
          "31- 60 m2",
          "61- 90 m2",
          "91- 120 m2",
          "Fins a 30 m2",
          "Més de 250 m2"
         ],
         "xaxis": "x",
         "y": [
          861,
          420,
          103,
          11369,
          6568,
          2097,
          1583,
          111
         ],
         "yaxis": "y"
        },
        {
         "hovertemplate": "Neighborhood Name=el Gòtic<br>Name_Dist=Ciutat Vella<br>Description=%{x}<br>Amount=%{y}<extra></extra>",
         "legendgroup": "el Gòtic",
         "marker": {
          "color": "#FFA15A",
          "symbol": "circle"
         },
         "mode": "markers",
         "name": "el Gòtic",
         "orientation": "v",
         "showlegend": true,
         "type": "scatter",
         "x": [
          "121- 150 m2",
          "151- 210 m2",
          "211- 250 m2",
          "31- 60 m2",
          "61- 90 m2",
          "91- 120 m2",
          "Fins a 30 m2",
          "Més de 250 m2"
         ],
         "xaxis": "x",
         "y": [
          1050,
          716,
          128,
          2725,
          2899,
          1929,
          715,
          170
         ],
         "yaxis": "y"
        },
        {
         "hovertemplate": "Neighborhood Name=la Barceloneta<br>Name_Dist=Ciutat Vella<br>Description=%{x}<br>Amount=%{y}<extra></extra>",
         "legendgroup": "la Barceloneta",
         "marker": {
          "color": "#19d3f3",
          "symbol": "circle"
         },
         "mode": "markers",
         "name": "la Barceloneta",
         "orientation": "v",
         "showlegend": true,
         "type": "scatter",
         "x": [
          "121- 150 m2",
          "151- 210 m2",
          "211- 250 m2",
          "31- 60 m2",
          "61- 90 m2",
          "91- 120 m2",
          "Fins a 30 m2",
          "Més de 250 m2"
         ],
         "xaxis": "x",
         "y": [
          41,
          9,
          3,
          5972,
          1736,
          319,
          1073,
          7
         ],
         "yaxis": "y"
        },
        {
         "hovertemplate": "Neighborhood Name=Sant Pere, Santa Caterina i la Ribera<br>Name_Dist=Ciutat Vella<br>Description=%{x}<br>Amount=%{y}<extra></extra>",
         "legendgroup": "Sant Pere, Santa Caterina i la Ribera",
         "marker": {
          "color": "#FF6692",
          "symbol": "circle"
         },
         "mode": "markers",
         "name": "Sant Pere, Santa Caterina i la Ribera",
         "orientation": "v",
         "showlegend": true,
         "type": "scatter",
         "x": [
          "121- 150 m2",
          "151- 210 m2",
          "211- 250 m2",
          "31- 60 m2",
          "61- 90 m2",
          "91- 120 m2",
          "Fins a 30 m2",
          "Més de 250 m2"
         ],
         "xaxis": "x",
         "y": [
          870,
          479,
          89,
          5621,
          4314,
          1887,
          1099,
          93
         ],
         "yaxis": "y"
        }
       ],
       "frames": [
        {
         "data": [
          {
           "hovertemplate": "Neighborhood Name=el Raval<br>Name_Dist=Ciutat Vella<br>Description=%{x}<br>Amount=%{y}<extra></extra>",
           "legendgroup": "el Raval",
           "marker": {
            "color": "#ab63fa",
            "symbol": "circle"
           },
           "mode": "markers",
           "name": "el Raval",
           "orientation": "v",
           "showlegend": true,
           "type": "scatter",
           "x": [
            "121- 150 m2",
            "151- 210 m2",
            "211- 250 m2",
            "31- 60 m2",
            "61- 90 m2",
            "91- 120 m2",
            "Fins a 30 m2",
            "Més de 250 m2"
           ],
           "xaxis": "x",
           "y": [
            861,
            420,
            103,
            11369,
            6568,
            2097,
            1583,
            111
           ],
           "yaxis": "y"
          },
          {
           "hovertemplate": "Neighborhood Name=el Gòtic<br>Name_Dist=Ciutat Vella<br>Description=%{x}<br>Amount=%{y}<extra></extra>",
           "legendgroup": "el Gòtic",
           "marker": {
            "color": "#FFA15A",
            "symbol": "circle"
           },
           "mode": "markers",
           "name": "el Gòtic",
           "orientation": "v",
           "showlegend": true,
           "type": "scatter",
           "x": [
            "121- 150 m2",
            "151- 210 m2",
            "211- 250 m2",
            "31- 60 m2",
            "61- 90 m2",
            "91- 120 m2",
            "Fins a 30 m2",
            "Més de 250 m2"
           ],
           "xaxis": "x",
           "y": [
            1050,
            716,
            128,
            2725,
            2899,
            1929,
            715,
            170
           ],
           "yaxis": "y"
          },
          {
           "hovertemplate": "Neighborhood Name=la Barceloneta<br>Name_Dist=Ciutat Vella<br>Description=%{x}<br>Amount=%{y}<extra></extra>",
           "legendgroup": "la Barceloneta",
           "marker": {
            "color": "#19d3f3",
            "symbol": "circle"
           },
           "mode": "markers",
           "name": "la Barceloneta",
           "orientation": "v",
           "showlegend": true,
           "type": "scatter",
           "x": [
            "121- 150 m2",
            "151- 210 m2",
            "211- 250 m2",
            "31- 60 m2",
            "61- 90 m2",
            "91- 120 m2",
            "Fins a 30 m2",
            "Més de 250 m2"
           ],
           "xaxis": "x",
           "y": [
            41,
            9,
            3,
            5972,
            1736,
            319,
            1073,
            7
           ],
           "yaxis": "y"
          },
          {
           "hovertemplate": "Neighborhood Name=Sant Pere, Santa Caterina i la Ribera<br>Name_Dist=Ciutat Vella<br>Description=%{x}<br>Amount=%{y}<extra></extra>",
           "legendgroup": "Sant Pere, Santa Caterina i la Ribera",
           "marker": {
            "color": "#FF6692",
            "symbol": "circle"
           },
           "mode": "markers",
           "name": "Sant Pere, Santa Caterina i la Ribera",
           "orientation": "v",
           "showlegend": true,
           "type": "scatter",
           "x": [
            "121- 150 m2",
            "151- 210 m2",
            "211- 250 m2",
            "31- 60 m2",
            "61- 90 m2",
            "91- 120 m2",
            "Fins a 30 m2",
            "Més de 250 m2"
           ],
           "xaxis": "x",
           "y": [
            870,
            479,
            89,
            5621,
            4314,
            1887,
            1099,
            93
           ],
           "yaxis": "y"
          }
         ],
         "name": "Ciutat Vella"
        },
        {
         "data": [
          {
           "hovertemplate": "Neighborhood Name=el Fort Pienc<br>Name_Dist=Eixample<br>Description=%{x}<br>Amount=%{y}<extra></extra>",
           "legendgroup": "el Fort Pienc",
           "marker": {
            "color": "#B6E880",
            "symbol": "circle"
           },
           "mode": "markers",
           "name": "el Fort Pienc",
           "orientation": "v",
           "showlegend": true,
           "type": "scatter",
           "x": [
            "121- 150 m2",
            "151- 210 m2",
            "211- 250 m2",
            "31- 60 m2",
            "61- 90 m2",
            "91- 120 m2",
            "Fins a 30 m2",
            "Més de 250 m2"
           ],
           "xaxis": "x",
           "y": [
            597,
            271,
            33,
            2591,
            7654,
            3729,
            229,
            32
           ],
           "yaxis": "y"
          },
          {
           "hovertemplate": "Neighborhood Name=la Sagrada Família<br>Name_Dist=Eixample<br>Description=%{x}<br>Amount=%{y}<extra></extra>",
           "legendgroup": "la Sagrada Família",
           "marker": {
            "color": "#FF97FF",
            "symbol": "circle"
           },
           "mode": "markers",
           "name": "la Sagrada Família",
           "orientation": "v",
           "showlegend": true,
           "type": "scatter",
           "x": [
            "121- 150 m2",
            "151- 210 m2",
            "211- 250 m2",
            "31- 60 m2",
            "61- 90 m2",
            "91- 120 m2",
            "Fins a 30 m2",
            "Més de 250 m2"
           ],
           "xaxis": "x",
           "y": [
            744,
            130,
            17,
            6383,
            14102,
            4539,
            536,
            58
           ],
           "yaxis": "y"
          },
          {
           "hovertemplate": "Neighborhood Name=la Dreta de l'Eixample<br>Name_Dist=Eixample<br>Description=%{x}<br>Amount=%{y}<extra></extra>",
           "legendgroup": "la Dreta de l'Eixample",
           "marker": {
            "color": "#FECB52",
            "symbol": "circle"
           },
           "mode": "markers",
           "name": "la Dreta de l'Eixample",
           "orientation": "v",
           "showlegend": true,
           "type": "scatter",
           "x": [
            "121- 150 m2",
            "151- 210 m2",
            "211- 250 m2",
            "31- 60 m2",
            "61- 90 m2",
            "91- 120 m2",
            "Fins a 30 m2",
            "Més de 250 m2"
           ],
           "xaxis": "x",
           "y": [
            3544,
            3862,
            945,
            2865,
            6864,
            5882,
            552,
            701
           ],
           "yaxis": "y"
          },
          {
           "hovertemplate": "Neighborhood Name=l'Antiga Esquerra de l'Eixample<br>Name_Dist=Eixample<br>Description=%{x}<br>Amount=%{y}<extra></extra>",
           "legendgroup": "l'Antiga Esquerra de l'Eixample",
           "marker": {
            "color": "#636efa",
            "symbol": "circle"
           },
           "mode": "markers",
           "name": "l'Antiga Esquerra de l'Eixample",
           "orientation": "v",
           "showlegend": true,
           "type": "scatter",
           "x": [
            "121- 150 m2",
            "151- 210 m2",
            "211- 250 m2",
            "31- 60 m2",
            "61- 90 m2",
            "91- 120 m2",
            "Fins a 30 m2",
            "Més de 250 m2"
           ],
           "xaxis": "x",
           "y": [
            2681,
            1388,
            251,
            3123,
            8873,
            6601,
            374,
            159
           ],
           "yaxis": "y"
          },
          {
           "hovertemplate": "Neighborhood Name=la Nova Esquerra de l'Eixample<br>Name_Dist=Eixample<br>Description=%{x}<br>Amount=%{y}<extra></extra>",
           "legendgroup": "la Nova Esquerra de l'Eixample",
           "marker": {
            "color": "#EF553B",
            "symbol": "circle"
           },
           "mode": "markers",
           "name": "la Nova Esquerra de l'Eixample",
           "orientation": "v",
           "showlegend": true,
           "type": "scatter",
           "x": [
            "121- 150 m2",
            "151- 210 m2",
            "211- 250 m2",
            "31- 60 m2",
            "61- 90 m2",
            "91- 120 m2",
            "Fins a 30 m2",
            "Més de 250 m2"
           ],
           "xaxis": "x",
           "y": [
            1416,
            481,
            18,
            4974,
            14146,
            8232,
            446,
            8
           ],
           "yaxis": "y"
          },
          {
           "hovertemplate": "Neighborhood Name=Sant Antoni<br>Name_Dist=Eixample<br>Description=%{x}<br>Amount=%{y}<extra></extra>",
           "legendgroup": "Sant Antoni",
           "marker": {
            "color": "#00cc96",
            "symbol": "circle"
           },
           "mode": "markers",
           "name": "Sant Antoni",
           "orientation": "v",
           "showlegend": true,
           "type": "scatter",
           "x": [
            "121- 150 m2",
            "151- 210 m2",
            "211- 250 m2",
            "31- 60 m2",
            "61- 90 m2",
            "91- 120 m2",
            "Fins a 30 m2",
            "Més de 250 m2"
           ],
           "xaxis": "x",
           "y": [
            1013,
            330,
            28,
            3765,
            9579,
            4353,
            375,
            41
           ],
           "yaxis": "y"
          }
         ],
         "name": "Eixample"
        },
        {
         "data": [
          {
           "hovertemplate": "Neighborhood Name=el Poble Sec<br>Name_Dist=Sants-Montjuïc<br>Description=%{x}<br>Amount=%{y}<extra></extra>",
           "legendgroup": "el Poble Sec",
           "marker": {
            "color": "#ab63fa",
            "symbol": "circle"
           },
           "mode": "markers",
           "name": "el Poble Sec",
           "orientation": "v",
           "showlegend": true,
           "type": "scatter",
           "x": [
            "121- 150 m2",
            "151- 210 m2",
            "211- 250 m2",
            "31- 60 m2",
            "61- 90 m2",
            "91- 120 m2",
            "Fins a 30 m2",
            "Més de 250 m2"
           ],
           "xaxis": "x",
           "y": [
            129,
            23,
            7,
            8069,
            8104,
            1442,
            738,
            8
           ],
           "yaxis": "y"
          },
          {
           "hovertemplate": "Neighborhood Name=la Marina del Prat Vermell<br>Name_Dist=Sants-Montjuïc<br>Description=%{x}<br>Amount=%{y}<extra></extra>",
           "legendgroup": "la Marina del Prat Vermell",
           "marker": {
            "color": "#FFA15A",
            "symbol": "circle"
           },
           "mode": "markers",
           "name": "la Marina del Prat Vermell",
           "orientation": "v",
           "showlegend": true,
           "type": "scatter",
           "x": [
            "121- 150 m2",
            "151- 210 m2",
            "211- 250 m2",
            "31- 60 m2",
            "61- 90 m2",
            "91- 120 m2",
            "Fins a 30 m2",
            "Més de 250 m2"
           ],
           "xaxis": "x",
           "y": [
            6,
            9,
            2,
            168,
            297,
            214,
            75,
            5
           ],
           "yaxis": "y"
          },
          {
           "hovertemplate": "Neighborhood Name=la Marina de Port<br>Name_Dist=Sants-Montjuïc<br>Description=%{x}<br>Amount=%{y}<extra></extra>",
           "legendgroup": "la Marina de Port",
           "marker": {
            "color": "#19d3f3",
            "symbol": "circle"
           },
           "mode": "markers",
           "name": "la Marina de Port",
           "orientation": "v",
           "showlegend": true,
           "type": "scatter",
           "x": [
            "121- 150 m2",
            "151- 210 m2",
            "31- 60 m2",
            "61- 90 m2",
            "91- 120 m2",
            "Fins a 30 m2",
            "Més de 250 m2"
           ],
           "xaxis": "x",
           "y": [
            22,
            8,
            2513,
            8734,
            1854,
            202,
            1
           ],
           "yaxis": "y"
          },
          {
           "hovertemplate": "Neighborhood Name=la Font de la Guatlla<br>Name_Dist=Sants-Montjuïc<br>Description=%{x}<br>Amount=%{y}<extra></extra>",
           "legendgroup": "la Font de la Guatlla",
           "marker": {
            "color": "#FF6692",
            "symbol": "circle"
           },
           "mode": "markers",
           "name": "la Font de la Guatlla",
           "orientation": "v",
           "showlegend": true,
           "type": "scatter",
           "x": [
            "121- 150 m2",
            "151- 210 m2",
            "31- 60 m2",
            "61- 90 m2",
            "91- 120 m2",
            "Fins a 30 m2"
           ],
           "xaxis": "x",
           "y": [
            121,
            20,
            1062,
            2804,
            802,
            100
           ],
           "yaxis": "y"
          },
          {
           "hovertemplate": "Neighborhood Name=Hostafrancs<br>Name_Dist=Sants-Montjuïc<br>Description=%{x}<br>Amount=%{y}<extra></extra>",
           "legendgroup": "Hostafrancs",
           "marker": {
            "color": "#B6E880",
            "symbol": "circle"
           },
           "mode": "markers",
           "name": "Hostafrancs",
           "orientation": "v",
           "showlegend": true,
           "type": "scatter",
           "x": [
            "121- 150 m2",
            "151- 210 m2",
            "31- 60 m2",
            "61- 90 m2",
            "91- 120 m2",
            "Fins a 30 m2",
            "Més de 250 m2"
           ],
           "xaxis": "x",
           "y": [
            97,
            31,
            2636,
            3814,
            1142,
            278,
            7
           ],
           "yaxis": "y"
          },
          {
           "hovertemplate": "Neighborhood Name=la Bordeta<br>Name_Dist=Sants-Montjuïc<br>Description=%{x}<br>Amount=%{y}<extra></extra>",
           "legendgroup": "la Bordeta",
           "marker": {
            "color": "#FF97FF",
            "symbol": "circle"
           },
           "mode": "markers",
           "name": "la Bordeta",
           "orientation": "v",
           "showlegend": true,
           "type": "scatter",
           "x": [
            "121- 150 m2",
            "151- 210 m2",
            "211- 250 m2",
            "31- 60 m2",
            "61- 90 m2",
            "91- 120 m2",
            "Fins a 30 m2",
            "Més de 250 m2"
           ],
           "xaxis": "x",
           "y": [
            92,
            9,
            1,
            1805,
            5742,
            1085,
            103,
            1
           ],
           "yaxis": "y"
          },
          {
           "hovertemplate": "Neighborhood Name=Sants - Badal<br>Name_Dist=Sants-Montjuïc<br>Description=%{x}<br>Amount=%{y}<extra></extra>",
           "legendgroup": "Sants - Badal",
           "marker": {
            "color": "#FECB52",
            "symbol": "circle"
           },
           "mode": "markers",
           "name": "Sants - Badal",
           "orientation": "v",
           "showlegend": true,
           "type": "scatter",
           "x": [
            "121- 150 m2",
            "151- 210 m2",
            "211- 250 m2",
            "31- 60 m2",
            "61- 90 m2",
            "91- 120 m2",
            "Fins a 30 m2",
            "Més de 250 m2"
           ],
           "xaxis": "x",
           "y": [
            91,
            13,
            2,
            3735,
            6260,
            1418,
            201,
            2
           ],
           "yaxis": "y"
          },
          {
           "hovertemplate": "Neighborhood Name=Sants<br>Name_Dist=Sants-Montjuïc<br>Description=%{x}<br>Amount=%{y}<extra></extra>",
           "legendgroup": "Sants",
           "marker": {
            "color": "#636efa",
            "symbol": "circle"
           },
           "mode": "markers",
           "name": "Sants",
           "orientation": "v",
           "showlegend": true,
           "type": "scatter",
           "x": [
            "121- 150 m2",
            "151- 210 m2",
            "211- 250 m2",
            "31- 60 m2",
            "61- 90 m2",
            "91- 120 m2",
            "Fins a 30 m2",
            "Més de 250 m2"
           ],
           "xaxis": "x",
           "y": [
            542,
            128,
            6,
            6483,
            10343,
            2843,
            639,
            5
           ],
           "yaxis": "y"
          }
         ],
         "name": "Sants-Montjuïc"
        },
        {
         "data": [
          {
           "hovertemplate": "Neighborhood Name=les Corts<br>Name_Dist=Les Corts<br>Description=%{x}<br>Amount=%{y}<extra></extra>",
           "legendgroup": "les Corts",
           "marker": {
            "color": "#EF553B",
            "symbol": "circle"
           },
           "mode": "markers",
           "name": "les Corts",
           "orientation": "v",
           "showlegend": true,
           "type": "scatter",
           "x": [
            "121- 150 m2",
            "151- 210 m2",
            "211- 250 m2",
            "31- 60 m2",
            "61- 90 m2",
            "91- 120 m2",
            "Fins a 30 m2",
            "Més de 250 m2"
           ],
           "xaxis": "x",
           "y": [
            1576,
            686,
            99,
            4061,
            10225,
            5918,
            471,
            26
           ],
           "yaxis": "y"
          },
          {
           "hovertemplate": "Neighborhood Name=la Maternitat i Sant Ramon<br>Name_Dist=Les Corts<br>Description=%{x}<br>Amount=%{y}<extra></extra>",
           "legendgroup": "la Maternitat i Sant Ramon",
           "marker": {
            "color": "#00cc96",
            "symbol": "circle"
           },
           "mode": "markers",
           "name": "la Maternitat i Sant Ramon",
           "orientation": "v",
           "showlegend": true,
           "type": "scatter",
           "x": [
            "121- 150 m2",
            "151- 210 m2",
            "211- 250 m2",
            "31- 60 m2",
            "61- 90 m2",
            "91- 120 m2",
            "Fins a 30 m2",
            "Més de 250 m2"
           ],
           "xaxis": "x",
           "y": [
            696,
            100,
            11,
            1647,
            5788,
            3166,
            239,
            7
           ],
           "yaxis": "y"
          },
          {
           "hovertemplate": "Neighborhood Name=Pedralbes<br>Name_Dist=Les Corts<br>Description=%{x}<br>Amount=%{y}<extra></extra>",
           "legendgroup": "Pedralbes",
           "marker": {
            "color": "#ab63fa",
            "symbol": "circle"
           },
           "mode": "markers",
           "name": "Pedralbes",
           "orientation": "v",
           "showlegend": true,
           "type": "scatter",
           "x": [
            "121- 150 m2",
            "151- 210 m2",
            "211- 250 m2",
            "31- 60 m2",
            "61- 90 m2",
            "91- 120 m2",
            "Fins a 30 m2",
            "Més de 250 m2"
           ],
           "xaxis": "x",
           "y": [
            1067,
            1526,
            315,
            593,
            777,
            1349,
            211,
            264
           ],
           "yaxis": "y"
          }
         ],
         "name": "Les Corts"
        },
        {
         "data": [
          {
           "hovertemplate": "Neighborhood Name=Vallvidrera, el Tibidabo i les Planes<br>Name_Dist=Sarrià-Sant Gervasi<br>Description=%{x}<br>Amount=%{y}<extra></extra>",
           "legendgroup": "Vallvidrera, el Tibidabo i les Planes",
           "marker": {
            "color": "#FFA15A",
            "symbol": "circle"
           },
           "mode": "markers",
           "name": "Vallvidrera, el Tibidabo i les Planes",
           "orientation": "v",
           "showlegend": true,
           "type": "scatter",
           "x": [
            "121- 150 m2",
            "151- 210 m2",
            "211- 250 m2",
            "31- 60 m2",
            "61- 90 m2",
            "91- 120 m2",
            "Fins a 30 m2",
            "Més de 250 m2"
           ],
           "xaxis": "x",
           "y": [
            274,
            164,
            26,
            796,
            798,
            621,
            337,
            18
           ],
           "yaxis": "y"
          },
          {
           "hovertemplate": "Neighborhood Name=Sarrià<br>Name_Dist=Sarrià-Sant Gervasi<br>Description=%{x}<br>Amount=%{y}<extra></extra>",
           "legendgroup": "Sarrià",
           "marker": {
            "color": "#19d3f3",
            "symbol": "circle"
           },
           "mode": "markers",
           "name": "Sarrià",
           "orientation": "v",
           "showlegend": true,
           "type": "scatter",
           "x": [
            "121- 150 m2",
            "151- 210 m2",
            "211- 250 m2",
            "31- 60 m2",
            "61- 90 m2",
            "91- 120 m2",
            "Fins a 30 m2",
            "Més de 250 m2"
           ],
           "xaxis": "x",
           "y": [
            1561,
            1176,
            190,
            2325,
            4284,
            2452,
            501,
            120
           ],
           "yaxis": "y"
          },
          {
           "hovertemplate": "Neighborhood Name=les Tres Torres<br>Name_Dist=Sarrià-Sant Gervasi<br>Description=%{x}<br>Amount=%{y}<extra></extra>",
           "legendgroup": "les Tres Torres",
           "marker": {
            "color": "#FF6692",
            "symbol": "circle"
           },
           "mode": "markers",
           "name": "les Tres Torres",
           "orientation": "v",
           "showlegend": true,
           "type": "scatter",
           "x": [
            "121- 150 m2",
            "151- 210 m2",
            "211- 250 m2",
            "31- 60 m2",
            "61- 90 m2",
            "91- 120 m2",
            "Fins a 30 m2",
            "Més de 250 m2"
           ],
           "xaxis": "x",
           "y": [
            1264,
            1761,
            462,
            680,
            1136,
            1282,
            99,
            343
           ],
           "yaxis": "y"
          },
          {
           "hovertemplate": "Neighborhood Name=Sant Gervasi - la Bonanova<br>Name_Dist=Sarrià-Sant Gervasi<br>Description=%{x}<br>Amount=%{y}<extra></extra>",
           "legendgroup": "Sant Gervasi - la Bonanova",
           "marker": {
            "color": "#B6E880",
            "symbol": "circle"
           },
           "mode": "markers",
           "name": "Sant Gervasi - la Bonanova",
           "orientation": "v",
           "showlegend": true,
           "type": "scatter",
           "x": [
            "121- 150 m2",
            "151- 210 m2",
            "211- 250 m2",
            "31- 60 m2",
            "61- 90 m2",
            "91- 120 m2",
            "Fins a 30 m2",
            "Més de 250 m2"
           ],
           "xaxis": "x",
           "y": [
            2140,
            2451,
            358,
            1777,
            2753,
            2519,
            354,
            270
           ],
           "yaxis": "y"
          },
          {
           "hovertemplate": "Neighborhood Name=Sant Gervasi - Galvany<br>Name_Dist=Sarrià-Sant Gervasi<br>Description=%{x}<br>Amount=%{y}<extra></extra>",
           "legendgroup": "Sant Gervasi - Galvany",
           "marker": {
            "color": "#FF97FF",
            "symbol": "circle"
           },
           "mode": "markers",
           "name": "Sant Gervasi - Galvany",
           "orientation": "v",
           "showlegend": true,
           "type": "scatter",
           "x": [
            "121- 150 m2",
            "151- 210 m2",
            "211- 250 m2",
            "31- 60 m2",
            "61- 90 m2",
            "91- 120 m2",
            "Fins a 30 m2",
            "Més de 250 m2"
           ],
           "xaxis": "x",
           "y": [
            3543,
            4512,
            1143,
            2876,
            5334,
            5814,
            523,
            1245
           ],
           "yaxis": "y"
          },
          {
           "hovertemplate": "Neighborhood Name=el Putget i Farró<br>Name_Dist=Sarrià-Sant Gervasi<br>Description=%{x}<br>Amount=%{y}<extra></extra>",
           "legendgroup": "el Putget i Farró",
           "marker": {
            "color": "#FECB52",
            "symbol": "circle"
           },
           "mode": "markers",
           "name": "el Putget i Farró",
           "orientation": "v",
           "showlegend": true,
           "type": "scatter",
           "x": [
            "121- 150 m2",
            "151- 210 m2",
            "211- 250 m2",
            "31- 60 m2",
            "61- 90 m2",
            "91- 120 m2",
            "Fins a 30 m2",
            "Més de 250 m2"
           ],
           "xaxis": "x",
           "y": [
            1730,
            860,
            147,
            3550,
            5403,
            3940,
            549,
            102
           ],
           "yaxis": "y"
          }
         ],
         "name": "Sarrià-Sant Gervasi"
        },
        {
         "data": [
          {
           "hovertemplate": "Neighborhood Name=Vallcarca i els Penitents<br>Name_Dist=Gràcia<br>Description=%{x}<br>Amount=%{y}<extra></extra>",
           "legendgroup": "Vallcarca i els Penitents",
           "marker": {
            "color": "#636efa",
            "symbol": "circle"
           },
           "mode": "markers",
           "name": "Vallcarca i els Penitents",
           "orientation": "v",
           "showlegend": true,
           "type": "scatter",
           "x": [
            "121- 150 m2",
            "151- 210 m2",
            "211- 250 m2",
            "31- 60 m2",
            "61- 90 m2",
            "91- 120 m2",
            "Fins a 30 m2",
            "Més de 250 m2"
           ],
           "xaxis": "x",
           "y": [
            399,
            277,
            30,
            2232,
            4113,
            1539,
            368,
            15
           ],
           "yaxis": "y"
          },
          {
           "hovertemplate": "Neighborhood Name=el Coll<br>Name_Dist=Gràcia<br>Description=%{x}<br>Amount=%{y}<extra></extra>",
           "legendgroup": "el Coll",
           "marker": {
            "color": "#EF553B",
            "symbol": "circle"
           },
           "mode": "markers",
           "name": "el Coll",
           "orientation": "v",
           "showlegend": true,
           "type": "scatter",
           "x": [
            "121- 150 m2",
            "151- 210 m2",
            "211- 250 m2",
            "31- 60 m2",
            "61- 90 m2",
            "91- 120 m2",
            "Fins a 30 m2",
            "Més de 250 m2"
           ],
           "xaxis": "x",
           "y": [
            66,
            23,
            3,
            1340,
            1992,
            343,
            161,
            2
           ],
           "yaxis": "y"
          },
          {
           "hovertemplate": "Neighborhood Name=la Salut<br>Name_Dist=Gràcia<br>Description=%{x}<br>Amount=%{y}<extra></extra>",
           "legendgroup": "la Salut",
           "marker": {
            "color": "#00cc96",
            "symbol": "circle"
           },
           "mode": "markers",
           "name": "la Salut",
           "orientation": "v",
           "showlegend": true,
           "type": "scatter",
           "x": [
            "121- 150 m2",
            "151- 210 m2",
            "211- 250 m2",
            "31- 60 m2",
            "61- 90 m2",
            "91- 120 m2",
            "Fins a 30 m2",
            "Més de 250 m2"
           ],
           "xaxis": "x",
           "y": [
            346,
            106,
            12,
            1543,
            2875,
            1664,
            311,
            12
           ],
           "yaxis": "y"
          },
          {
           "hovertemplate": "Neighborhood Name=Vila de Gràcia<br>Name_Dist=Gràcia<br>Description=%{x}<br>Amount=%{y}<extra></extra>",
           "legendgroup": "Vila de Gràcia",
           "marker": {
            "color": "#ab63fa",
            "symbol": "circle"
           },
           "mode": "markers",
           "name": "Vila de Gràcia",
           "orientation": "v",
           "showlegend": true,
           "type": "scatter",
           "x": [
            "121- 150 m2",
            "151- 210 m2",
            "211- 250 m2",
            "31- 60 m2",
            "61- 90 m2",
            "91- 120 m2",
            "Fins a 30 m2",
            "Més de 250 m2"
           ],
           "xaxis": "x",
           "y": [
            1124,
            729,
            136,
            10141,
            13047,
            3892,
            1568,
            111
           ],
           "yaxis": "y"
          },
          {
           "hovertemplate": "Neighborhood Name=el Camp d'en Grassot i Gràcia Nova<br>Name_Dist=Gràcia<br>Description=%{x}<br>Amount=%{y}<extra></extra>",
           "legendgroup": "el Camp d'en Grassot i Gràcia Nova",
           "marker": {
            "color": "#FFA15A",
            "symbol": "circle"
           },
           "mode": "markers",
           "name": "el Camp d'en Grassot i Gràcia Nova",
           "orientation": "v",
           "showlegend": true,
           "type": "scatter",
           "x": [
            "121- 150 m2",
            "151- 210 m2",
            "211- 250 m2",
            "31- 60 m2",
            "61- 90 m2",
            "91- 120 m2",
            "Fins a 30 m2",
            "Més de 250 m2"
           ],
           "xaxis": "x",
           "y": [
            743,
            149,
            22,
            4352,
            9711,
            2939,
            376,
            25
           ],
           "yaxis": "y"
          }
         ],
         "name": "Gràcia"
        },
        {
         "data": [
          {
           "hovertemplate": "Neighborhood Name=el Baix Guinardó<br>Name_Dist=Horta-Guinardó<br>Description=%{x}<br>Amount=%{y}<extra></extra>",
           "legendgroup": "el Baix Guinardó",
           "marker": {
            "color": "#19d3f3",
            "symbol": "circle"
           },
           "mode": "markers",
           "name": "el Baix Guinardó",
           "orientation": "v",
           "showlegend": true,
           "type": "scatter",
           "x": [
            "121- 150 m2",
            "151- 210 m2",
            "211- 250 m2",
            "31- 60 m2",
            "61- 90 m2",
            "91- 120 m2",
            "Fins a 30 m2",
            "Més de 250 m2"
           ],
           "xaxis": "x",
           "y": [
            300,
            46,
            5,
            3371,
            6689,
            1826,
            235,
            3
           ],
           "yaxis": "y"
          },
          {
           "hovertemplate": "Neighborhood Name=Can Baró<br>Name_Dist=Horta-Guinardó<br>Description=%{x}<br>Amount=%{y}<extra></extra>",
           "legendgroup": "Can Baró",
           "marker": {
            "color": "#FF6692",
            "symbol": "circle"
           },
           "mode": "markers",
           "name": "Can Baró",
           "orientation": "v",
           "showlegend": true,
           "type": "scatter",
           "x": [
            "121- 150 m2",
            "151- 210 m2",
            "211- 250 m2",
            "31- 60 m2",
            "61- 90 m2",
            "91- 120 m2",
            "Fins a 30 m2",
            "Més de 250 m2"
           ],
           "xaxis": "x",
           "y": [
            67,
            7,
            3,
            1662,
            2255,
            588,
            242,
            2
           ],
           "yaxis": "y"
          },
          {
           "hovertemplate": "Neighborhood Name=el Guinardó<br>Name_Dist=Horta-Guinardó<br>Description=%{x}<br>Amount=%{y}<extra></extra>",
           "legendgroup": "el Guinardó",
           "marker": {
            "color": "#B6E880",
            "symbol": "circle"
           },
           "mode": "markers",
           "name": "el Guinardó",
           "orientation": "v",
           "showlegend": true,
           "type": "scatter",
           "x": [
            "121- 150 m2",
            "151- 210 m2",
            "211- 250 m2",
            "31- 60 m2",
            "61- 90 m2",
            "91- 120 m2",
            "Fins a 30 m2",
            "Més de 250 m2"
           ],
           "xaxis": "x",
           "y": [
            336,
            93,
            12,
            5836,
            9494,
            2267,
            706,
            17
           ],
           "yaxis": "y"
          },
          {
           "hovertemplate": "Neighborhood Name=la Font d'en Fargues<br>Name_Dist=Horta-Guinardó<br>Description=%{x}<br>Amount=%{y}<extra></extra>",
           "legendgroup": "la Font d'en Fargues",
           "marker": {
            "color": "#FF97FF",
            "symbol": "circle"
           },
           "mode": "markers",
           "name": "la Font d'en Fargues",
           "orientation": "v",
           "showlegend": true,
           "type": "scatter",
           "x": [
            "121- 150 m2",
            "151- 210 m2",
            "211- 250 m2",
            "31- 60 m2",
            "61- 90 m2",
            "91- 120 m2",
            "Fins a 30 m2",
            "Més de 250 m2"
           ],
           "xaxis": "x",
           "y": [
            248,
            79,
            4,
            1620,
            2218,
            752,
            398,
            10
           ],
           "yaxis": "y"
          },
          {
           "hovertemplate": "Neighborhood Name=el Carmel<br>Name_Dist=Horta-Guinardó<br>Description=%{x}<br>Amount=%{y}<extra></extra>",
           "legendgroup": "el Carmel",
           "marker": {
            "color": "#FECB52",
            "symbol": "circle"
           },
           "mode": "markers",
           "name": "el Carmel",
           "orientation": "v",
           "showlegend": true,
           "type": "scatter",
           "x": [
            "121- 150 m2",
            "151- 210 m2",
            "211- 250 m2",
            "31- 60 m2",
            "61- 90 m2",
            "91- 120 m2",
            "Fins a 30 m2",
            "Més de 250 m2"
           ],
           "xaxis": "x",
           "y": [
            66,
            13,
            1,
            7326,
            6744,
            624,
            703,
            4
           ],
           "yaxis": "y"
          },
          {
           "hovertemplate": "Neighborhood Name=la Teixonera<br>Name_Dist=Horta-Guinardó<br>Description=%{x}<br>Amount=%{y}<extra></extra>",
           "legendgroup": "la Teixonera",
           "marker": {
            "color": "#636efa",
            "symbol": "circle"
           },
           "mode": "markers",
           "name": "la Teixonera",
           "orientation": "v",
           "showlegend": true,
           "type": "scatter",
           "x": [
            "121- 150 m2",
            "151- 210 m2",
            "211- 250 m2",
            "31- 60 m2",
            "61- 90 m2",
            "91- 120 m2",
            "Fins a 30 m2"
           ],
           "xaxis": "x",
           "y": [
            50,
            2,
            2,
            2607,
            2586,
            464,
            255
           ],
           "yaxis": "y"
          },
          {
           "hovertemplate": "Neighborhood Name=Sant Genís dels Agudells<br>Name_Dist=Horta-Guinardó<br>Description=%{x}<br>Amount=%{y}<extra></extra>",
           "legendgroup": "Sant Genís dels Agudells",
           "marker": {
            "color": "#EF553B",
            "symbol": "circle"
           },
           "mode": "markers",
           "name": "Sant Genís dels Agudells",
           "orientation": "v",
           "showlegend": true,
           "type": "scatter",
           "x": [
            "121- 150 m2",
            "151- 210 m2",
            "211- 250 m2",
            "31- 60 m2",
            "61- 90 m2",
            "91- 120 m2",
            "Fins a 30 m2",
            "Més de 250 m2"
           ],
           "xaxis": "x",
           "y": [
            18,
            10,
            3,
            577,
            2685,
            123,
            89,
            4
           ],
           "yaxis": "y"
          },
          {
           "hovertemplate": "Neighborhood Name=Montbau<br>Name_Dist=Horta-Guinardó<br>Description=%{x}<br>Amount=%{y}<extra></extra>",
           "legendgroup": "Montbau",
           "marker": {
            "color": "#00cc96",
            "symbol": "circle"
           },
           "mode": "markers",
           "name": "Montbau",
           "orientation": "v",
           "showlegend": true,
           "type": "scatter",
           "x": [
            "31- 60 m2",
            "61- 90 m2",
            "91- 120 m2",
            "Fins a 30 m2"
           ],
           "xaxis": "x",
           "y": [
            941,
            1438,
            71,
            112
           ],
           "yaxis": "y"
          },
          {
           "hovertemplate": "Neighborhood Name=la Vall d'Hebron<br>Name_Dist=Horta-Guinardó<br>Description=%{x}<br>Amount=%{y}<extra></extra>",
           "legendgroup": "la Vall d'Hebron",
           "marker": {
            "color": "#ab63fa",
            "symbol": "circle"
           },
           "mode": "markers",
           "name": "la Vall d'Hebron",
           "orientation": "v",
           "showlegend": true,
           "type": "scatter",
           "x": [
            "121- 150 m2",
            "151- 210 m2",
            "211- 250 m2",
            "31- 60 m2",
            "61- 90 m2",
            "91- 120 m2"
           ],
           "xaxis": "x",
           "y": [
            194,
            12,
            1,
            777,
            1509,
            161
           ],
           "yaxis": "y"
          },
          {
           "hovertemplate": "Neighborhood Name=la Clota<br>Name_Dist=Horta-Guinardó<br>Description=%{x}<br>Amount=%{y}<extra></extra>",
           "legendgroup": "la Clota",
           "marker": {
            "color": "#FFA15A",
            "symbol": "circle"
           },
           "mode": "markers",
           "name": "la Clota",
           "orientation": "v",
           "showlegend": true,
           "type": "scatter",
           "x": [
            "121- 150 m2",
            "151- 210 m2",
            "31- 60 m2",
            "61- 90 m2",
            "91- 120 m2",
            "Fins a 30 m2"
           ],
           "xaxis": "x",
           "y": [
            3,
            1,
            147,
            180,
            52,
            36
           ],
           "yaxis": "y"
          },
          {
           "hovertemplate": "Neighborhood Name=Horta<br>Name_Dist=Horta-Guinardó<br>Description=%{x}<br>Amount=%{y}<extra></extra>",
           "legendgroup": "Horta",
           "marker": {
            "color": "#19d3f3",
            "symbol": "circle"
           },
           "mode": "markers",
           "name": "Horta",
           "orientation": "v",
           "showlegend": true,
           "type": "scatter",
           "x": [
            "121- 150 m2",
            "151- 210 m2",
            "211- 250 m2",
            "31- 60 m2",
            "61- 90 m2",
            "91- 120 m2",
            "Fins a 30 m2",
            "Més de 250 m2"
           ],
           "xaxis": "x",
           "y": [
            207,
            61,
            10,
            4419,
            6732,
            1365,
            666,
            12
           ],
           "yaxis": "y"
          }
         ],
         "name": "Horta-Guinardó"
        },
        {
         "data": [
          {
           "hovertemplate": "Neighborhood Name=Vilapicina i la Torre Llobeta<br>Name_Dist=Nou Barris<br>Description=%{x}<br>Amount=%{y}<extra></extra>",
           "legendgroup": "Vilapicina i la Torre Llobeta",
           "marker": {
            "color": "#FF6692",
            "symbol": "circle"
           },
           "mode": "markers",
           "name": "Vilapicina i la Torre Llobeta",
           "orientation": "v",
           "showlegend": true,
           "type": "scatter",
           "x": [
            "121- 150 m2",
            "151- 210 m2",
            "211- 250 m2",
            "31- 60 m2",
            "61- 90 m2",
            "91- 120 m2",
            "Fins a 30 m2",
            "Més de 250 m2"
           ],
           "xaxis": "x",
           "y": [
            89,
            11,
            2,
            3320,
            7241,
            1247,
            330,
            1
           ],
           "yaxis": "y"
          },
          {
           "hovertemplate": "Neighborhood Name=Porta<br>Name_Dist=Nou Barris<br>Description=%{x}<br>Amount=%{y}<extra></extra>",
           "legendgroup": "Porta",
           "marker": {
            "color": "#B6E880",
            "symbol": "circle"
           },
           "mode": "markers",
           "name": "Porta",
           "orientation": "v",
           "showlegend": true,
           "type": "scatter",
           "x": [
            "121- 150 m2",
            "151- 210 m2",
            "31- 60 m2",
            "61- 90 m2",
            "91- 120 m2",
            "Fins a 30 m2",
            "Més de 250 m2"
           ],
           "xaxis": "x",
           "y": [
            66,
            11,
            4371,
            6021,
            860,
            157,
            2
           ],
           "yaxis": "y"
          },
          {
           "hovertemplate": "Neighborhood Name=el Turó de la Peira<br>Name_Dist=Nou Barris<br>Description=%{x}<br>Amount=%{y}<extra></extra>",
           "legendgroup": "el Turó de la Peira",
           "marker": {
            "color": "#FF97FF",
            "symbol": "circle"
           },
           "mode": "markers",
           "name": "el Turó de la Peira",
           "orientation": "v",
           "showlegend": true,
           "type": "scatter",
           "x": [
            "121- 150 m2",
            "151- 210 m2",
            "211- 250 m2",
            "31- 60 m2",
            "61- 90 m2",
            "91- 120 m2",
            "Fins a 30 m2"
           ],
           "xaxis": "x",
           "y": [
            4,
            3,
            1,
            2942,
            3663,
            233,
            110
           ],
           "yaxis": "y"
          },
          {
           "hovertemplate": "Neighborhood Name=Can Peguera<br>Name_Dist=Nou Barris<br>Description=%{x}<br>Amount=%{y}<extra></extra>",
           "legendgroup": "Can Peguera",
           "marker": {
            "color": "#FECB52",
            "symbol": "circle"
           },
           "mode": "markers",
           "name": "Can Peguera",
           "orientation": "v",
           "showlegend": true,
           "type": "scatter",
           "x": [
            "121- 150 m2",
            "151- 210 m2",
            "31- 60 m2",
            "61- 90 m2",
            "91- 120 m2",
            "Fins a 30 m2"
           ],
           "xaxis": "x",
           "y": [
            2,
            1,
            776,
            228,
            1,
            39
           ],
           "yaxis": "y"
          },
          {
           "hovertemplate": "Neighborhood Name=la Guineueta<br>Name_Dist=Nou Barris<br>Description=%{x}<br>Amount=%{y}<extra></extra>",
           "legendgroup": "la Guineueta",
           "marker": {
            "color": "#636efa",
            "symbol": "circle"
           },
           "mode": "markers",
           "name": "la Guineueta",
           "orientation": "v",
           "showlegend": true,
           "type": "scatter",
           "x": [
            "151- 210 m2",
            "211- 250 m2",
            "31- 60 m2",
            "61- 90 m2",
            "91- 120 m2",
            "Fins a 30 m2"
           ],
           "xaxis": "x",
           "y": [
            1,
            1,
            1242,
            4767,
            782,
            8
           ],
           "yaxis": "y"
          },
          {
           "hovertemplate": "Neighborhood Name=Canyelles<br>Name_Dist=Nou Barris<br>Description=%{x}<br>Amount=%{y}<extra></extra>",
           "legendgroup": "Canyelles",
           "marker": {
            "color": "#EF553B",
            "symbol": "circle"
           },
           "mode": "markers",
           "name": "Canyelles",
           "orientation": "v",
           "showlegend": true,
           "type": "scatter",
           "x": [
            "31- 60 m2",
            "61- 90 m2",
            "91- 120 m2",
            "Fins a 30 m2"
           ],
           "xaxis": "x",
           "y": [
            38,
            2315,
            559,
            7
           ],
           "yaxis": "y"
          },
          {
           "hovertemplate": "Neighborhood Name=les Roquetes<br>Name_Dist=Nou Barris<br>Description=%{x}<br>Amount=%{y}<extra></extra>",
           "legendgroup": "les Roquetes",
           "marker": {
            "color": "#00cc96",
            "symbol": "circle"
           },
           "mode": "markers",
           "name": "les Roquetes",
           "orientation": "v",
           "showlegend": true,
           "type": "scatter",
           "x": [
            "121- 150 m2",
            "151- 210 m2",
            "31- 60 m2",
            "61- 90 m2",
            "91- 120 m2",
            "Fins a 30 m2"
           ],
           "xaxis": "x",
           "y": [
            25,
            9,
            3735,
            2643,
            349,
            323
           ],
           "yaxis": "y"
          },
          {
           "hovertemplate": "Neighborhood Name=Verdun<br>Name_Dist=Nou Barris<br>Description=%{x}<br>Amount=%{y}<extra></extra>",
           "legendgroup": "Verdun",
           "marker": {
            "color": "#ab63fa",
            "symbol": "circle"
           },
           "mode": "markers",
           "name": "Verdun",
           "orientation": "v",
           "showlegend": true,
           "type": "scatter",
           "x": [
            "121- 150 m2",
            "151- 210 m2",
            "31- 60 m2",
            "61- 90 m2",
            "91- 120 m2",
            "Fins a 30 m2",
            "Més de 250 m2"
           ],
           "xaxis": "x",
           "y": [
            18,
            3,
            3326,
            2188,
            229,
            148,
            1
           ],
           "yaxis": "y"
          },
          {
           "hovertemplate": "Neighborhood Name=la Prosperitat<br>Name_Dist=Nou Barris<br>Description=%{x}<br>Amount=%{y}<extra></extra>",
           "legendgroup": "la Prosperitat",
           "marker": {
            "color": "#FFA15A",
            "symbol": "circle"
           },
           "mode": "markers",
           "name": "la Prosperitat",
           "orientation": "v",
           "showlegend": true,
           "type": "scatter",
           "x": [
            "121- 150 m2",
            "151- 210 m2",
            "211- 250 m2",
            "31- 60 m2",
            "61- 90 m2",
            "91- 120 m2",
            "Fins a 30 m2",
            "Més de 250 m2"
           ],
           "xaxis": "x",
           "y": [
            30,
            10,
            1,
            6093,
            5190,
            558,
            287,
            2
           ],
           "yaxis": "y"
          },
          {
           "hovertemplate": "Neighborhood Name=la Trinitat Nova<br>Name_Dist=Nou Barris<br>Description=%{x}<br>Amount=%{y}<extra></extra>",
           "legendgroup": "la Trinitat Nova",
           "marker": {
            "color": "#19d3f3",
            "symbol": "circle"
           },
           "mode": "markers",
           "name": "la Trinitat Nova",
           "orientation": "v",
           "showlegend": true,
           "type": "scatter",
           "x": [
            "121- 150 m2",
            "151- 210 m2",
            "211- 250 m2",
            "31- 60 m2",
            "61- 90 m2",
            "91- 120 m2",
            "Fins a 30 m2"
           ],
           "xaxis": "x",
           "y": [
            1,
            2,
            2,
            1778,
            1690,
            152,
            24
           ],
           "yaxis": "y"
          },
          {
           "hovertemplate": "Neighborhood Name=Torre Baró<br>Name_Dist=Nou Barris<br>Description=%{x}<br>Amount=%{y}<extra></extra>",
           "legendgroup": "Torre Baró",
           "marker": {
            "color": "#FF6692",
            "symbol": "circle"
           },
           "mode": "markers",
           "name": "Torre Baró",
           "orientation": "v",
           "showlegend": true,
           "type": "scatter",
           "x": [
            "121- 150 m2",
            "151- 210 m2",
            "31- 60 m2",
            "61- 90 m2",
            "91- 120 m2",
            "Fins a 30 m2"
           ],
           "xaxis": "x",
           "y": [
            25,
            13,
            598,
            663,
            175,
            227
           ],
           "yaxis": "y"
          },
          {
           "hovertemplate": "Neighborhood Name=Ciutat Meridiana<br>Name_Dist=Nou Barris<br>Description=%{x}<br>Amount=%{y}<extra></extra>",
           "legendgroup": "Ciutat Meridiana",
           "marker": {
            "color": "#B6E880",
            "symbol": "circle"
           },
           "mode": "markers",
           "name": "Ciutat Meridiana",
           "orientation": "v",
           "showlegend": true,
           "type": "scatter",
           "x": [
            "121- 150 m2",
            "31- 60 m2",
            "61- 90 m2",
            "91- 120 m2",
            "Fins a 30 m2"
           ],
           "xaxis": "x",
           "y": [
            1,
            2786,
            1164,
            5,
            1
           ],
           "yaxis": "y"
          },
          {
           "hovertemplate": "Neighborhood Name=Vallbona<br>Name_Dist=Nou Barris<br>Description=%{x}<br>Amount=%{y}<extra></extra>",
           "legendgroup": "Vallbona",
           "marker": {
            "color": "#FF97FF",
            "symbol": "circle"
           },
           "mode": "markers",
           "name": "Vallbona",
           "orientation": "v",
           "showlegend": true,
           "type": "scatter",
           "x": [
            "121- 150 m2",
            "151- 210 m2",
            "31- 60 m2",
            "61- 90 m2",
            "91- 120 m2",
            "Fins a 30 m2"
           ],
           "xaxis": "x",
           "y": [
            7,
            3,
            209,
            381,
            89,
            156
           ],
           "yaxis": "y"
          }
         ],
         "name": "Nou Barris"
        },
        {
         "data": [
          {
           "hovertemplate": "Neighborhood Name=la Trinitat Vella<br>Name_Dist=Sant Andreu<br>Description=%{x}<br>Amount=%{y}<extra></extra>",
           "legendgroup": "la Trinitat Vella",
           "marker": {
            "color": "#FECB52",
            "symbol": "circle"
           },
           "mode": "markers",
           "name": "la Trinitat Vella",
           "orientation": "v",
           "showlegend": true,
           "type": "scatter",
           "x": [
            "121- 150 m2",
            "151- 210 m2",
            "211- 250 m2",
            "31- 60 m2",
            "61- 90 m2",
            "91- 120 m2",
            "Fins a 30 m2"
           ],
           "xaxis": "x",
           "y": [
            11,
            4,
            1,
            2091,
            1566,
            326,
            195
           ],
           "yaxis": "y"
          },
          {
           "hovertemplate": "Neighborhood Name=Baró de Viver<br>Name_Dist=Sant Andreu<br>Description=%{x}<br>Amount=%{y}<extra></extra>",
           "legendgroup": "Baró de Viver",
           "marker": {
            "color": "#636efa",
            "symbol": "circle"
           },
           "mode": "markers",
           "name": "Baró de Viver",
           "orientation": "v",
           "showlegend": true,
           "type": "scatter",
           "x": [
            "121- 150 m2",
            "31- 60 m2",
            "61- 90 m2",
            "91- 120 m2",
            "Fins a 30 m2"
           ],
           "xaxis": "x",
           "y": [
            1,
            170,
            813,
            83,
            45
           ],
           "yaxis": "y"
          },
          {
           "hovertemplate": "Neighborhood Name=el Bon Pastor<br>Name_Dist=Sant Andreu<br>Description=%{x}<br>Amount=%{y}<extra></extra>",
           "legendgroup": "el Bon Pastor",
           "marker": {
            "color": "#EF553B",
            "symbol": "circle"
           },
           "mode": "markers",
           "name": "el Bon Pastor",
           "orientation": "v",
           "showlegend": true,
           "type": "scatter",
           "x": [
            "121- 150 m2",
            "151- 210 m2",
            "31- 60 m2",
            "61- 90 m2",
            "91- 120 m2",
            "Fins a 30 m2",
            "Més de 250 m2"
           ],
           "xaxis": "x",
           "y": [
            22,
            4,
            1887,
            2670,
            569,
            180,
            1
           ],
           "yaxis": "y"
          },
          {
           "hovertemplate": "Neighborhood Name=Sant Andreu<br>Name_Dist=Sant Andreu<br>Description=%{x}<br>Amount=%{y}<extra></extra>",
           "legendgroup": "Sant Andreu",
           "marker": {
            "color": "#00cc96",
            "symbol": "circle"
           },
           "mode": "markers",
           "name": "Sant Andreu",
           "orientation": "v",
           "showlegend": true,
           "type": "scatter",
           "x": [
            "121- 150 m2",
            "151- 210 m2",
            "211- 250 m2",
            "31- 60 m2",
            "61- 90 m2",
            "91- 120 m2",
            "Fins a 30 m2",
            "Més de 250 m2"
           ],
           "xaxis": "x",
           "y": [
            457,
            72,
            8,
            8336,
            15074,
            3976,
            1194,
            3
           ],
           "yaxis": "y"
          },
          {
           "hovertemplate": "Neighborhood Name=la Sagrera<br>Name_Dist=Sant Andreu<br>Description=%{x}<br>Amount=%{y}<extra></extra>",
           "legendgroup": "la Sagrera",
           "marker": {
            "color": "#ab63fa",
            "symbol": "circle"
           },
           "mode": "markers",
           "name": "la Sagrera",
           "orientation": "v",
           "showlegend": true,
           "type": "scatter",
           "x": [
            "121- 150 m2",
            "151- 210 m2",
            "211- 250 m2",
            "31- 60 m2",
            "61- 90 m2",
            "91- 120 m2",
            "Fins a 30 m2",
            "Més de 250 m2"
           ],
           "xaxis": "x",
           "y": [
            100,
            19,
            4,
            3436,
            8001,
            1796,
            129,
            3
           ],
           "yaxis": "y"
          },
          {
           "hovertemplate": "Neighborhood Name=el Congrés i els Indians<br>Name_Dist=Sant Andreu<br>Description=%{x}<br>Amount=%{y}<extra></extra>",
           "legendgroup": "el Congrés i els Indians",
           "marker": {
            "color": "#FFA15A",
            "symbol": "circle"
           },
           "mode": "markers",
           "name": "el Congrés i els Indians",
           "orientation": "v",
           "showlegend": true,
           "type": "scatter",
           "x": [
            "121- 150 m2",
            "151- 210 m2",
            "211- 250 m2",
            "31- 60 m2",
            "61- 90 m2",
            "91- 120 m2",
            "Fins a 30 m2",
            "Més de 250 m2"
           ],
           "xaxis": "x",
           "y": [
            65,
            22,
            1,
            1814,
            4265,
            704,
            158,
            2
           ],
           "yaxis": "y"
          },
          {
           "hovertemplate": "Neighborhood Name=Navas<br>Name_Dist=Sant Andreu<br>Description=%{x}<br>Amount=%{y}<extra></extra>",
           "legendgroup": "Navas",
           "marker": {
            "color": "#19d3f3",
            "symbol": "circle"
           },
           "mode": "markers",
           "name": "Navas",
           "orientation": "v",
           "showlegend": true,
           "type": "scatter",
           "x": [
            "121- 150 m2",
            "151- 210 m2",
            "31- 60 m2",
            "61- 90 m2",
            "91- 120 m2",
            "Fins a 30 m2",
            "Més de 250 m2"
           ],
           "xaxis": "x",
           "y": [
            71,
            11,
            1922,
            6648,
            1528,
            94,
            1
           ],
           "yaxis": "y"
          }
         ],
         "name": "Sant Andreu"
        },
        {
         "data": [
          {
           "hovertemplate": "Neighborhood Name=Camp de l'Arpa del Clot<br>Name_Dist=Sant Martí<br>Description=%{x}<br>Amount=%{y}<extra></extra>",
           "legendgroup": "Camp de l'Arpa del Clot",
           "marker": {
            "color": "#FF6692",
            "symbol": "circle"
           },
           "mode": "markers",
           "name": "Camp de l'Arpa del Clot",
           "orientation": "v",
           "showlegend": true,
           "type": "scatter",
           "x": [
            "121- 150 m2",
            "151- 210 m2",
            "211- 250 m2",
            "31- 60 m2",
            "61- 90 m2",
            "91- 120 m2",
            "Fins a 30 m2",
            "Més de 250 m2"
           ],
           "xaxis": "x",
           "y": [
            221,
            96,
            11,
            6070,
            10500,
            2505,
            444,
            23
           ],
           "yaxis": "y"
          },
          {
           "hovertemplate": "Neighborhood Name=el Clot<br>Name_Dist=Sant Martí<br>Description=%{x}<br>Amount=%{y}<extra></extra>",
           "legendgroup": "el Clot",
           "marker": {
            "color": "#B6E880",
            "symbol": "circle"
           },
           "mode": "markers",
           "name": "el Clot",
           "orientation": "v",
           "showlegend": true,
           "type": "scatter",
           "x": [
            "121- 150 m2",
            "151- 210 m2",
            "211- 250 m2",
            "31- 60 m2",
            "61- 90 m2",
            "91- 120 m2",
            "Fins a 30 m2",
            "Més de 250 m2"
           ],
           "xaxis": "x",
           "y": [
            373,
            37,
            4,
            2765,
            7032,
            1815,
            372,
            16
           ],
           "yaxis": "y"
          },
          {
           "hovertemplate": "Neighborhood Name=el Parc i la Llacuna del Poblenou<br>Name_Dist=Sant Martí<br>Description=%{x}<br>Amount=%{y}<extra></extra>",
           "legendgroup": "el Parc i la Llacuna del Poblenou",
           "marker": {
            "color": "#FF97FF",
            "symbol": "circle"
           },
           "mode": "markers",
           "name": "el Parc i la Llacuna del Poblenou",
           "orientation": "v",
           "showlegend": true,
           "type": "scatter",
           "x": [
            "121- 150 m2",
            "151- 210 m2",
            "211- 250 m2",
            "31- 60 m2",
            "61- 90 m2",
            "91- 120 m2",
            "Fins a 30 m2",
            "Més de 250 m2"
           ],
           "xaxis": "x",
           "y": [
            85,
            27,
            5,
            1347,
            4332,
            1184,
            85,
            18
           ],
           "yaxis": "y"
          },
          {
           "hovertemplate": "Neighborhood Name=la Vila Olímpica del Poblenou<br>Name_Dist=Sant Martí<br>Description=%{x}<br>Amount=%{y}<extra></extra>",
           "legendgroup": "la Vila Olímpica del Poblenou",
           "marker": {
            "color": "#FECB52",
            "symbol": "circle"
           },
           "mode": "markers",
           "name": "la Vila Olímpica del Poblenou",
           "orientation": "v",
           "showlegend": true,
           "type": "scatter",
           "x": [
            "121- 150 m2",
            "151- 210 m2",
            "211- 250 m2",
            "31- 60 m2",
            "61- 90 m2",
            "91- 120 m2",
            "Fins a 30 m2",
            "Més de 250 m2"
           ],
           "xaxis": "x",
           "y": [
            957,
            166,
            2,
            992,
            1240,
            1142,
            142,
            12
           ],
           "yaxis": "y"
          },
          {
           "hovertemplate": "Neighborhood Name=el Poblenou<br>Name_Dist=Sant Martí<br>Description=%{x}<br>Amount=%{y}<extra></extra>",
           "legendgroup": "el Poblenou",
           "marker": {
            "color": "#636efa",
            "symbol": "circle"
           },
           "mode": "markers",
           "name": "el Poblenou",
           "orientation": "v",
           "showlegend": true,
           "type": "scatter",
           "x": [
            "121- 150 m2",
            "151- 210 m2",
            "211- 250 m2",
            "31- 60 m2",
            "61- 90 m2",
            "91- 120 m2",
            "Fins a 30 m2",
            "Més de 250 m2"
           ],
           "xaxis": "x",
           "y": [
            446,
            110,
            9,
            5039,
            7258,
            3127,
            425,
            22
           ],
           "yaxis": "y"
          },
          {
           "hovertemplate": "Neighborhood Name=Diagonal Mar i el Front Marítim del Poblenou<br>Name_Dist=Sant Martí<br>Description=%{x}<br>Amount=%{y}<extra></extra>",
           "legendgroup": "Diagonal Mar i el Front Marítim del Poblenou",
           "marker": {
            "color": "#EF553B",
            "symbol": "circle"
           },
           "mode": "markers",
           "name": "Diagonal Mar i el Front Marítim del Poblenou",
           "orientation": "v",
           "showlegend": true,
           "type": "scatter",
           "x": [
            "121- 150 m2",
            "151- 210 m2",
            "211- 250 m2",
            "31- 60 m2",
            "61- 90 m2",
            "91- 120 m2",
            "Fins a 30 m2",
            "Més de 250 m2"
           ],
           "xaxis": "x",
           "y": [
            344,
            76,
            9,
            814,
            3676,
            1307,
            41,
            31
           ],
           "yaxis": "y"
          },
          {
           "hovertemplate": "Neighborhood Name=el Besòs i el Maresme<br>Name_Dist=Sant Martí<br>Description=%{x}<br>Amount=%{y}<extra></extra>",
           "legendgroup": "el Besòs i el Maresme",
           "marker": {
            "color": "#00cc96",
            "symbol": "circle"
           },
           "mode": "markers",
           "name": "el Besòs i el Maresme",
           "orientation": "v",
           "showlegend": true,
           "type": "scatter",
           "x": [
            "121- 150 m2",
            "151- 210 m2",
            "31- 60 m2",
            "61- 90 m2",
            "91- 120 m2",
            "Fins a 30 m2",
            "Més de 250 m2"
           ],
           "xaxis": "x",
           "y": [
            8,
            4,
            3583,
            5487,
            289,
            273,
            1
           ],
           "yaxis": "y"
          },
          {
           "hovertemplate": "Neighborhood Name=Provençals del Poblenou<br>Name_Dist=Sant Martí<br>Description=%{x}<br>Amount=%{y}<extra></extra>",
           "legendgroup": "Provençals del Poblenou",
           "marker": {
            "color": "#ab63fa",
            "symbol": "circle"
           },
           "mode": "markers",
           "name": "Provençals del Poblenou",
           "orientation": "v",
           "showlegend": true,
           "type": "scatter",
           "x": [
            "121- 150 m2",
            "151- 210 m2",
            "31- 60 m2",
            "61- 90 m2",
            "91- 120 m2",
            "Fins a 30 m2",
            "Més de 250 m2"
           ],
           "xaxis": "x",
           "y": [
            32,
            19,
            1335,
            6327,
            1372,
            102,
            7
           ],
           "yaxis": "y"
          },
          {
           "hovertemplate": "Neighborhood Name=Sant Martí de Provençals<br>Name_Dist=Sant Martí<br>Description=%{x}<br>Amount=%{y}<extra></extra>",
           "legendgroup": "Sant Martí de Provençals",
           "marker": {
            "color": "#FFA15A",
            "symbol": "circle"
           },
           "mode": "markers",
           "name": "Sant Martí de Provençals",
           "orientation": "v",
           "showlegend": true,
           "type": "scatter",
           "x": [
            "121- 150 m2",
            "151- 210 m2",
            "211- 250 m2",
            "31- 60 m2",
            "61- 90 m2",
            "91- 120 m2",
            "Fins a 30 m2",
            "Més de 250 m2"
           ],
           "xaxis": "x",
           "y": [
            97,
            16,
            1,
            1777,
            7814,
            1911,
            74,
            2
           ],
           "yaxis": "y"
          },
          {
           "hovertemplate": "Neighborhood Name=la Verneda i la Pau<br>Name_Dist=Sant Martí<br>Description=%{x}<br>Amount=%{y}<extra></extra>",
           "legendgroup": "la Verneda i la Pau",
           "marker": {
            "color": "#19d3f3",
            "symbol": "circle"
           },
           "mode": "markers",
           "name": "la Verneda i la Pau",
           "orientation": "v",
           "showlegend": true,
           "type": "scatter",
           "x": [
            "121- 150 m2",
            "151- 210 m2",
            "211- 250 m2",
            "31- 60 m2",
            "61- 90 m2",
            "91- 120 m2",
            "Fins a 30 m2",
            "Més de 250 m2"
           ],
           "xaxis": "x",
           "y": [
            28,
            15,
            3,
            3146,
            8713,
            1086,
            65,
            7
           ],
           "yaxis": "y"
          }
         ],
         "name": "Sant Martí"
        }
       ],
       "layout": {
        "legend": {
         "title": {
          "text": "Neighborhood Name"
         },
         "tracegroupgap": 0
        },
        "sliders": [
         {
          "active": 0,
          "currentvalue": {
           "prefix": "Name_Dist="
          },
          "len": 0.9,
          "pad": {
           "b": 10,
           "t": 60
          },
          "steps": [
           {
            "args": [
             [
              "Ciutat Vella"
             ],
             {
              "frame": {
               "duration": 0,
               "redraw": false
              },
              "fromcurrent": true,
              "mode": "immediate",
              "transition": {
               "duration": 0,
               "easing": "linear"
              }
             }
            ],
            "label": "Ciutat Vella",
            "method": "animate"
           },
           {
            "args": [
             [
              "Eixample"
             ],
             {
              "frame": {
               "duration": 0,
               "redraw": false
              },
              "fromcurrent": true,
              "mode": "immediate",
              "transition": {
               "duration": 0,
               "easing": "linear"
              }
             }
            ],
            "label": "Eixample",
            "method": "animate"
           },
           {
            "args": [
             [
              "Sants-Montjuïc"
             ],
             {
              "frame": {
               "duration": 0,
               "redraw": false
              },
              "fromcurrent": true,
              "mode": "immediate",
              "transition": {
               "duration": 0,
               "easing": "linear"
              }
             }
            ],
            "label": "Sants-Montjuïc",
            "method": "animate"
           },
           {
            "args": [
             [
              "Les Corts"
             ],
             {
              "frame": {
               "duration": 0,
               "redraw": false
              },
              "fromcurrent": true,
              "mode": "immediate",
              "transition": {
               "duration": 0,
               "easing": "linear"
              }
             }
            ],
            "label": "Les Corts",
            "method": "animate"
           },
           {
            "args": [
             [
              "Sarrià-Sant Gervasi"
             ],
             {
              "frame": {
               "duration": 0,
               "redraw": false
              },
              "fromcurrent": true,
              "mode": "immediate",
              "transition": {
               "duration": 0,
               "easing": "linear"
              }
             }
            ],
            "label": "Sarrià-Sant Gervasi",
            "method": "animate"
           },
           {
            "args": [
             [
              "Gràcia"
             ],
             {
              "frame": {
               "duration": 0,
               "redraw": false
              },
              "fromcurrent": true,
              "mode": "immediate",
              "transition": {
               "duration": 0,
               "easing": "linear"
              }
             }
            ],
            "label": "Gràcia",
            "method": "animate"
           },
           {
            "args": [
             [
              "Horta-Guinardó"
             ],
             {
              "frame": {
               "duration": 0,
               "redraw": false
              },
              "fromcurrent": true,
              "mode": "immediate",
              "transition": {
               "duration": 0,
               "easing": "linear"
              }
             }
            ],
            "label": "Horta-Guinardó",
            "method": "animate"
           },
           {
            "args": [
             [
              "Nou Barris"
             ],
             {
              "frame": {
               "duration": 0,
               "redraw": false
              },
              "fromcurrent": true,
              "mode": "immediate",
              "transition": {
               "duration": 0,
               "easing": "linear"
              }
             }
            ],
            "label": "Nou Barris",
            "method": "animate"
           },
           {
            "args": [
             [
              "Sant Andreu"
             ],
             {
              "frame": {
               "duration": 0,
               "redraw": false
              },
              "fromcurrent": true,
              "mode": "immediate",
              "transition": {
               "duration": 0,
               "easing": "linear"
              }
             }
            ],
            "label": "Sant Andreu",
            "method": "animate"
           },
           {
            "args": [
             [
              "Sant Martí"
             ],
             {
              "frame": {
               "duration": 0,
               "redraw": false
              },
              "fromcurrent": true,
              "mode": "immediate",
              "transition": {
               "duration": 0,
               "easing": "linear"
              }
             }
            ],
            "label": "Sant Martí",
            "method": "animate"
           }
          ],
          "x": 0.1,
          "xanchor": "left",
          "y": 0,
          "yanchor": "top"
         }
        ],
        "template": {
         "data": {
          "bar": [
           {
            "error_x": {
             "color": "#2a3f5f"
            },
            "error_y": {
             "color": "#2a3f5f"
            },
            "marker": {
             "line": {
              "color": "white",
              "width": 0.5
             }
            },
            "type": "bar"
           }
          ],
          "barpolar": [
           {
            "marker": {
             "line": {
              "color": "white",
              "width": 0.5
             }
            },
            "type": "barpolar"
           }
          ],
          "carpet": [
           {
            "aaxis": {
             "endlinecolor": "#2a3f5f",
             "gridcolor": "#C8D4E3",
             "linecolor": "#C8D4E3",
             "minorgridcolor": "#C8D4E3",
             "startlinecolor": "#2a3f5f"
            },
            "baxis": {
             "endlinecolor": "#2a3f5f",
             "gridcolor": "#C8D4E3",
             "linecolor": "#C8D4E3",
             "minorgridcolor": "#C8D4E3",
             "startlinecolor": "#2a3f5f"
            },
            "type": "carpet"
           }
          ],
          "choropleth": [
           {
            "colorbar": {
             "outlinewidth": 0,
             "ticks": ""
            },
            "type": "choropleth"
           }
          ],
          "contour": [
           {
            "colorbar": {
             "outlinewidth": 0,
             "ticks": ""
            },
            "colorscale": [
             [
              0,
              "#0d0887"
             ],
             [
              0.1111111111111111,
              "#46039f"
             ],
             [
              0.2222222222222222,
              "#7201a8"
             ],
             [
              0.3333333333333333,
              "#9c179e"
             ],
             [
              0.4444444444444444,
              "#bd3786"
             ],
             [
              0.5555555555555556,
              "#d8576b"
             ],
             [
              0.6666666666666666,
              "#ed7953"
             ],
             [
              0.7777777777777778,
              "#fb9f3a"
             ],
             [
              0.8888888888888888,
              "#fdca26"
             ],
             [
              1,
              "#f0f921"
             ]
            ],
            "type": "contour"
           }
          ],
          "contourcarpet": [
           {
            "colorbar": {
             "outlinewidth": 0,
             "ticks": ""
            },
            "type": "contourcarpet"
           }
          ],
          "heatmap": [
           {
            "colorbar": {
             "outlinewidth": 0,
             "ticks": ""
            },
            "colorscale": [
             [
              0,
              "#0d0887"
             ],
             [
              0.1111111111111111,
              "#46039f"
             ],
             [
              0.2222222222222222,
              "#7201a8"
             ],
             [
              0.3333333333333333,
              "#9c179e"
             ],
             [
              0.4444444444444444,
              "#bd3786"
             ],
             [
              0.5555555555555556,
              "#d8576b"
             ],
             [
              0.6666666666666666,
              "#ed7953"
             ],
             [
              0.7777777777777778,
              "#fb9f3a"
             ],
             [
              0.8888888888888888,
              "#fdca26"
             ],
             [
              1,
              "#f0f921"
             ]
            ],
            "type": "heatmap"
           }
          ],
          "heatmapgl": [
           {
            "colorbar": {
             "outlinewidth": 0,
             "ticks": ""
            },
            "colorscale": [
             [
              0,
              "#0d0887"
             ],
             [
              0.1111111111111111,
              "#46039f"
             ],
             [
              0.2222222222222222,
              "#7201a8"
             ],
             [
              0.3333333333333333,
              "#9c179e"
             ],
             [
              0.4444444444444444,
              "#bd3786"
             ],
             [
              0.5555555555555556,
              "#d8576b"
             ],
             [
              0.6666666666666666,
              "#ed7953"
             ],
             [
              0.7777777777777778,
              "#fb9f3a"
             ],
             [
              0.8888888888888888,
              "#fdca26"
             ],
             [
              1,
              "#f0f921"
             ]
            ],
            "type": "heatmapgl"
           }
          ],
          "histogram": [
           {
            "marker": {
             "colorbar": {
              "outlinewidth": 0,
              "ticks": ""
             }
            },
            "type": "histogram"
           }
          ],
          "histogram2d": [
           {
            "colorbar": {
             "outlinewidth": 0,
             "ticks": ""
            },
            "colorscale": [
             [
              0,
              "#0d0887"
             ],
             [
              0.1111111111111111,
              "#46039f"
             ],
             [
              0.2222222222222222,
              "#7201a8"
             ],
             [
              0.3333333333333333,
              "#9c179e"
             ],
             [
              0.4444444444444444,
              "#bd3786"
             ],
             [
              0.5555555555555556,
              "#d8576b"
             ],
             [
              0.6666666666666666,
              "#ed7953"
             ],
             [
              0.7777777777777778,
              "#fb9f3a"
             ],
             [
              0.8888888888888888,
              "#fdca26"
             ],
             [
              1,
              "#f0f921"
             ]
            ],
            "type": "histogram2d"
           }
          ],
          "histogram2dcontour": [
           {
            "colorbar": {
             "outlinewidth": 0,
             "ticks": ""
            },
            "colorscale": [
             [
              0,
              "#0d0887"
             ],
             [
              0.1111111111111111,
              "#46039f"
             ],
             [
              0.2222222222222222,
              "#7201a8"
             ],
             [
              0.3333333333333333,
              "#9c179e"
             ],
             [
              0.4444444444444444,
              "#bd3786"
             ],
             [
              0.5555555555555556,
              "#d8576b"
             ],
             [
              0.6666666666666666,
              "#ed7953"
             ],
             [
              0.7777777777777778,
              "#fb9f3a"
             ],
             [
              0.8888888888888888,
              "#fdca26"
             ],
             [
              1,
              "#f0f921"
             ]
            ],
            "type": "histogram2dcontour"
           }
          ],
          "mesh3d": [
           {
            "colorbar": {
             "outlinewidth": 0,
             "ticks": ""
            },
            "type": "mesh3d"
           }
          ],
          "parcoords": [
           {
            "line": {
             "colorbar": {
              "outlinewidth": 0,
              "ticks": ""
             }
            },
            "type": "parcoords"
           }
          ],
          "pie": [
           {
            "automargin": true,
            "type": "pie"
           }
          ],
          "scatter": [
           {
            "marker": {
             "colorbar": {
              "outlinewidth": 0,
              "ticks": ""
             }
            },
            "type": "scatter"
           }
          ],
          "scatter3d": [
           {
            "line": {
             "colorbar": {
              "outlinewidth": 0,
              "ticks": ""
             }
            },
            "marker": {
             "colorbar": {
              "outlinewidth": 0,
              "ticks": ""
             }
            },
            "type": "scatter3d"
           }
          ],
          "scattercarpet": [
           {
            "marker": {
             "colorbar": {
              "outlinewidth": 0,
              "ticks": ""
             }
            },
            "type": "scattercarpet"
           }
          ],
          "scattergeo": [
           {
            "marker": {
             "colorbar": {
              "outlinewidth": 0,
              "ticks": ""
             }
            },
            "type": "scattergeo"
           }
          ],
          "scattergl": [
           {
            "marker": {
             "colorbar": {
              "outlinewidth": 0,
              "ticks": ""
             }
            },
            "type": "scattergl"
           }
          ],
          "scattermapbox": [
           {
            "marker": {
             "colorbar": {
              "outlinewidth": 0,
              "ticks": ""
             }
            },
            "type": "scattermapbox"
           }
          ],
          "scatterpolar": [
           {
            "marker": {
             "colorbar": {
              "outlinewidth": 0,
              "ticks": ""
             }
            },
            "type": "scatterpolar"
           }
          ],
          "scatterpolargl": [
           {
            "marker": {
             "colorbar": {
              "outlinewidth": 0,
              "ticks": ""
             }
            },
            "type": "scatterpolargl"
           }
          ],
          "scatterternary": [
           {
            "marker": {
             "colorbar": {
              "outlinewidth": 0,
              "ticks": ""
             }
            },
            "type": "scatterternary"
           }
          ],
          "surface": [
           {
            "colorbar": {
             "outlinewidth": 0,
             "ticks": ""
            },
            "colorscale": [
             [
              0,
              "#0d0887"
             ],
             [
              0.1111111111111111,
              "#46039f"
             ],
             [
              0.2222222222222222,
              "#7201a8"
             ],
             [
              0.3333333333333333,
              "#9c179e"
             ],
             [
              0.4444444444444444,
              "#bd3786"
             ],
             [
              0.5555555555555556,
              "#d8576b"
             ],
             [
              0.6666666666666666,
              "#ed7953"
             ],
             [
              0.7777777777777778,
              "#fb9f3a"
             ],
             [
              0.8888888888888888,
              "#fdca26"
             ],
             [
              1,
              "#f0f921"
             ]
            ],
            "type": "surface"
           }
          ],
          "table": [
           {
            "cells": {
             "fill": {
              "color": "#EBF0F8"
             },
             "line": {
              "color": "white"
             }
            },
            "header": {
             "fill": {
              "color": "#C8D4E3"
             },
             "line": {
              "color": "white"
             }
            },
            "type": "table"
           }
          ]
         },
         "layout": {
          "annotationdefaults": {
           "arrowcolor": "#2a3f5f",
           "arrowhead": 0,
           "arrowwidth": 1
          },
          "coloraxis": {
           "colorbar": {
            "outlinewidth": 0,
            "ticks": ""
           }
          },
          "colorscale": {
           "diverging": [
            [
             0,
             "#8e0152"
            ],
            [
             0.1,
             "#c51b7d"
            ],
            [
             0.2,
             "#de77ae"
            ],
            [
             0.3,
             "#f1b6da"
            ],
            [
             0.4,
             "#fde0ef"
            ],
            [
             0.5,
             "#f7f7f7"
            ],
            [
             0.6,
             "#e6f5d0"
            ],
            [
             0.7,
             "#b8e186"
            ],
            [
             0.8,
             "#7fbc41"
            ],
            [
             0.9,
             "#4d9221"
            ],
            [
             1,
             "#276419"
            ]
           ],
           "sequential": [
            [
             0,
             "#0d0887"
            ],
            [
             0.1111111111111111,
             "#46039f"
            ],
            [
             0.2222222222222222,
             "#7201a8"
            ],
            [
             0.3333333333333333,
             "#9c179e"
            ],
            [
             0.4444444444444444,
             "#bd3786"
            ],
            [
             0.5555555555555556,
             "#d8576b"
            ],
            [
             0.6666666666666666,
             "#ed7953"
            ],
            [
             0.7777777777777778,
             "#fb9f3a"
            ],
            [
             0.8888888888888888,
             "#fdca26"
            ],
            [
             1,
             "#f0f921"
            ]
           ],
           "sequentialminus": [
            [
             0,
             "#0d0887"
            ],
            [
             0.1111111111111111,
             "#46039f"
            ],
            [
             0.2222222222222222,
             "#7201a8"
            ],
            [
             0.3333333333333333,
             "#9c179e"
            ],
            [
             0.4444444444444444,
             "#bd3786"
            ],
            [
             0.5555555555555556,
             "#d8576b"
            ],
            [
             0.6666666666666666,
             "#ed7953"
            ],
            [
             0.7777777777777778,
             "#fb9f3a"
            ],
            [
             0.8888888888888888,
             "#fdca26"
            ],
            [
             1,
             "#f0f921"
            ]
           ]
          },
          "colorway": [
           "#636efa",
           "#EF553B",
           "#00cc96",
           "#ab63fa",
           "#FFA15A",
           "#19d3f3",
           "#FF6692",
           "#B6E880",
           "#FF97FF",
           "#FECB52"
          ],
          "font": {
           "color": "#2a3f5f"
          },
          "geo": {
           "bgcolor": "white",
           "lakecolor": "white",
           "landcolor": "white",
           "showlakes": true,
           "showland": true,
           "subunitcolor": "#C8D4E3"
          },
          "hoverlabel": {
           "align": "left"
          },
          "hovermode": "closest",
          "mapbox": {
           "style": "light"
          },
          "paper_bgcolor": "white",
          "plot_bgcolor": "white",
          "polar": {
           "angularaxis": {
            "gridcolor": "#EBF0F8",
            "linecolor": "#EBF0F8",
            "ticks": ""
           },
           "bgcolor": "white",
           "radialaxis": {
            "gridcolor": "#EBF0F8",
            "linecolor": "#EBF0F8",
            "ticks": ""
           }
          },
          "scene": {
           "xaxis": {
            "backgroundcolor": "white",
            "gridcolor": "#DFE8F3",
            "gridwidth": 2,
            "linecolor": "#EBF0F8",
            "showbackground": true,
            "ticks": "",
            "zerolinecolor": "#EBF0F8"
           },
           "yaxis": {
            "backgroundcolor": "white",
            "gridcolor": "#DFE8F3",
            "gridwidth": 2,
            "linecolor": "#EBF0F8",
            "showbackground": true,
            "ticks": "",
            "zerolinecolor": "#EBF0F8"
           },
           "zaxis": {
            "backgroundcolor": "white",
            "gridcolor": "#DFE8F3",
            "gridwidth": 2,
            "linecolor": "#EBF0F8",
            "showbackground": true,
            "ticks": "",
            "zerolinecolor": "#EBF0F8"
           }
          },
          "shapedefaults": {
           "line": {
            "color": "#2a3f5f"
           }
          },
          "ternary": {
           "aaxis": {
            "gridcolor": "#DFE8F3",
            "linecolor": "#A2B1C6",
            "ticks": ""
           },
           "baxis": {
            "gridcolor": "#DFE8F3",
            "linecolor": "#A2B1C6",
            "ticks": ""
           },
           "bgcolor": "white",
           "caxis": {
            "gridcolor": "#DFE8F3",
            "linecolor": "#A2B1C6",
            "ticks": ""
           }
          },
          "title": {
           "x": 0.05
          },
          "xaxis": {
           "automargin": true,
           "gridcolor": "#EBF0F8",
           "linecolor": "#EBF0F8",
           "ticks": "",
           "title": {
            "standoff": 15
           },
           "zerolinecolor": "#EBF0F8",
           "zerolinewidth": 2
          },
          "yaxis": {
           "automargin": true,
           "gridcolor": "#EBF0F8",
           "linecolor": "#EBF0F8",
           "ticks": "",
           "title": {
            "standoff": 15
           },
           "zerolinecolor": "#EBF0F8",
           "zerolinewidth": 2
          }
         }
        },
        "title": {
         "text": "District"
        },
        "updatemenus": [
         {
          "buttons": [
           {
            "args": [
             null,
             {
              "frame": {
               "duration": 500,
               "redraw": false
              },
              "fromcurrent": true,
              "mode": "immediate",
              "transition": {
               "duration": 500,
               "easing": "linear"
              }
             }
            ],
            "label": "&#9654;",
            "method": "animate"
           },
           {
            "args": [
             [
              null
             ],
             {
              "frame": {
               "duration": 0,
               "redraw": false
              },
              "fromcurrent": true,
              "mode": "immediate",
              "transition": {
               "duration": 0,
               "easing": "linear"
              }
             }
            ],
            "label": "&#9724;",
            "method": "animate"
           }
          ],
          "direction": "left",
          "pad": {
           "r": 10,
           "t": 70
          },
          "showactive": false,
          "type": "buttons",
          "x": 0.1,
          "xanchor": "right",
          "y": 0,
          "yanchor": "top"
         }
        ],
        "xaxis": {
         "anchor": "y",
         "domain": [
          0,
          1
         ],
         "title": {
          "text": "Description"
         }
        },
        "yaxis": {
         "anchor": "x",
         "domain": [
          0,
          1
         ],
         "title": {
          "text": "Amount"
         }
        }
       }
      },
      "text/html": [
       "<div>                            <div id=\"cf493d74-f670-4237-b30d-9f235c90f74a\" class=\"plotly-graph-div\" style=\"height:525px; width:100%;\"></div>            <script type=\"text/javascript\">                require([\"plotly\"], function(Plotly) {                    window.PLOTLYENV=window.PLOTLYENV || {};                                    if (document.getElementById(\"cf493d74-f670-4237-b30d-9f235c90f74a\")) {                    Plotly.newPlot(                        \"cf493d74-f670-4237-b30d-9f235c90f74a\",                        [{\"hovertemplate\": \"Neighborhood Name=el Raval<br>Name_Dist=Ciutat Vella<br>Description=%{x}<br>Amount=%{y}<extra></extra>\", \"legendgroup\": \"el Raval\", \"marker\": {\"color\": \"#ab63fa\", \"symbol\": \"circle\"}, \"mode\": \"markers\", \"name\": \"el Raval\", \"orientation\": \"v\", \"showlegend\": true, \"type\": \"scatter\", \"x\": [\"121- 150 m2\", \"151- 210 m2\", \"211- 250 m2\", \"31- 60 m2\", \"61- 90 m2\", \"91- 120 m2\", \"Fins a 30 m2\", \"M\\u00e9s de 250 m2\"], \"xaxis\": \"x\", \"y\": [861, 420, 103, 11369, 6568, 2097, 1583, 111], \"yaxis\": \"y\"}, {\"hovertemplate\": \"Neighborhood Name=el G\\u00f2tic<br>Name_Dist=Ciutat Vella<br>Description=%{x}<br>Amount=%{y}<extra></extra>\", \"legendgroup\": \"el G\\u00f2tic\", \"marker\": {\"color\": \"#FFA15A\", \"symbol\": \"circle\"}, \"mode\": \"markers\", \"name\": \"el G\\u00f2tic\", \"orientation\": \"v\", \"showlegend\": true, \"type\": \"scatter\", \"x\": [\"121- 150 m2\", \"151- 210 m2\", \"211- 250 m2\", \"31- 60 m2\", \"61- 90 m2\", \"91- 120 m2\", \"Fins a 30 m2\", \"M\\u00e9s de 250 m2\"], \"xaxis\": \"x\", \"y\": [1050, 716, 128, 2725, 2899, 1929, 715, 170], \"yaxis\": \"y\"}, {\"hovertemplate\": \"Neighborhood Name=la Barceloneta<br>Name_Dist=Ciutat Vella<br>Description=%{x}<br>Amount=%{y}<extra></extra>\", \"legendgroup\": \"la Barceloneta\", \"marker\": {\"color\": \"#19d3f3\", \"symbol\": \"circle\"}, \"mode\": \"markers\", \"name\": \"la Barceloneta\", \"orientation\": \"v\", \"showlegend\": true, \"type\": \"scatter\", \"x\": [\"121- 150 m2\", \"151- 210 m2\", \"211- 250 m2\", \"31- 60 m2\", \"61- 90 m2\", \"91- 120 m2\", \"Fins a 30 m2\", \"M\\u00e9s de 250 m2\"], \"xaxis\": \"x\", \"y\": [41, 9, 3, 5972, 1736, 319, 1073, 7], \"yaxis\": \"y\"}, {\"hovertemplate\": \"Neighborhood Name=Sant Pere, Santa Caterina i la Ribera<br>Name_Dist=Ciutat Vella<br>Description=%{x}<br>Amount=%{y}<extra></extra>\", \"legendgroup\": \"Sant Pere, Santa Caterina i la Ribera\", \"marker\": {\"color\": \"#FF6692\", \"symbol\": \"circle\"}, \"mode\": \"markers\", \"name\": \"Sant Pere, Santa Caterina i la Ribera\", \"orientation\": \"v\", \"showlegend\": true, \"type\": \"scatter\", \"x\": [\"121- 150 m2\", \"151- 210 m2\", \"211- 250 m2\", \"31- 60 m2\", \"61- 90 m2\", \"91- 120 m2\", \"Fins a 30 m2\", \"M\\u00e9s de 250 m2\"], \"xaxis\": \"x\", \"y\": [870, 479, 89, 5621, 4314, 1887, 1099, 93], \"yaxis\": \"y\"}],                        {\"legend\": {\"title\": {\"text\": \"Neighborhood Name\"}, \"tracegroupgap\": 0}, \"sliders\": [{\"active\": 0, \"currentvalue\": {\"prefix\": \"Name_Dist=\"}, \"len\": 0.9, \"pad\": {\"b\": 10, \"t\": 60}, \"steps\": [{\"args\": [[\"Ciutat Vella\"], {\"frame\": {\"duration\": 0, \"redraw\": false}, \"fromcurrent\": true, \"mode\": \"immediate\", \"transition\": {\"duration\": 0, \"easing\": \"linear\"}}], \"label\": \"Ciutat Vella\", \"method\": \"animate\"}, {\"args\": [[\"Eixample\"], {\"frame\": {\"duration\": 0, \"redraw\": false}, \"fromcurrent\": true, \"mode\": \"immediate\", \"transition\": {\"duration\": 0, \"easing\": \"linear\"}}], \"label\": \"Eixample\", \"method\": \"animate\"}, {\"args\": [[\"Sants-Montju\\u00efc\"], {\"frame\": {\"duration\": 0, \"redraw\": false}, \"fromcurrent\": true, \"mode\": \"immediate\", \"transition\": {\"duration\": 0, \"easing\": \"linear\"}}], \"label\": \"Sants-Montju\\u00efc\", \"method\": \"animate\"}, {\"args\": [[\"Les Corts\"], {\"frame\": {\"duration\": 0, \"redraw\": false}, \"fromcurrent\": true, \"mode\": \"immediate\", \"transition\": {\"duration\": 0, \"easing\": \"linear\"}}], \"label\": \"Les Corts\", \"method\": \"animate\"}, {\"args\": [[\"Sarri\\u00e0-Sant Gervasi\"], {\"frame\": {\"duration\": 0, \"redraw\": false}, \"fromcurrent\": true, \"mode\": \"immediate\", \"transition\": {\"duration\": 0, \"easing\": \"linear\"}}], \"label\": \"Sarri\\u00e0-Sant Gervasi\", \"method\": \"animate\"}, {\"args\": [[\"Gr\\u00e0cia\"], {\"frame\": {\"duration\": 0, \"redraw\": false}, \"fromcurrent\": true, \"mode\": \"immediate\", \"transition\": {\"duration\": 0, \"easing\": \"linear\"}}], \"label\": \"Gr\\u00e0cia\", \"method\": \"animate\"}, {\"args\": [[\"Horta-Guinard\\u00f3\"], {\"frame\": {\"duration\": 0, \"redraw\": false}, \"fromcurrent\": true, \"mode\": \"immediate\", \"transition\": {\"duration\": 0, \"easing\": \"linear\"}}], \"label\": \"Horta-Guinard\\u00f3\", \"method\": \"animate\"}, {\"args\": [[\"Nou Barris\"], {\"frame\": {\"duration\": 0, \"redraw\": false}, \"fromcurrent\": true, \"mode\": \"immediate\", \"transition\": {\"duration\": 0, \"easing\": \"linear\"}}], \"label\": \"Nou Barris\", \"method\": \"animate\"}, {\"args\": [[\"Sant Andreu\"], {\"frame\": {\"duration\": 0, \"redraw\": false}, \"fromcurrent\": true, \"mode\": \"immediate\", \"transition\": {\"duration\": 0, \"easing\": \"linear\"}}], \"label\": \"Sant Andreu\", \"method\": \"animate\"}, {\"args\": [[\"Sant Mart\\u00ed\"], {\"frame\": {\"duration\": 0, \"redraw\": false}, \"fromcurrent\": true, \"mode\": \"immediate\", \"transition\": {\"duration\": 0, \"easing\": \"linear\"}}], \"label\": \"Sant Mart\\u00ed\", \"method\": \"animate\"}], \"x\": 0.1, \"xanchor\": \"left\", \"y\": 0, \"yanchor\": \"top\"}], \"template\": {\"data\": {\"bar\": [{\"error_x\": {\"color\": \"#2a3f5f\"}, \"error_y\": {\"color\": \"#2a3f5f\"}, \"marker\": {\"line\": {\"color\": \"white\", \"width\": 0.5}}, \"type\": \"bar\"}], \"barpolar\": [{\"marker\": {\"line\": {\"color\": \"white\", \"width\": 0.5}}, \"type\": \"barpolar\"}], \"carpet\": [{\"aaxis\": {\"endlinecolor\": \"#2a3f5f\", \"gridcolor\": \"#C8D4E3\", \"linecolor\": \"#C8D4E3\", \"minorgridcolor\": \"#C8D4E3\", \"startlinecolor\": \"#2a3f5f\"}, \"baxis\": {\"endlinecolor\": \"#2a3f5f\", \"gridcolor\": \"#C8D4E3\", \"linecolor\": \"#C8D4E3\", \"minorgridcolor\": \"#C8D4E3\", \"startlinecolor\": \"#2a3f5f\"}, \"type\": \"carpet\"}], \"choropleth\": [{\"colorbar\": {\"outlinewidth\": 0, \"ticks\": \"\"}, \"type\": \"choropleth\"}], \"contour\": [{\"colorbar\": {\"outlinewidth\": 0, \"ticks\": \"\"}, \"colorscale\": [[0.0, \"#0d0887\"], [0.1111111111111111, \"#46039f\"], [0.2222222222222222, \"#7201a8\"], [0.3333333333333333, \"#9c179e\"], [0.4444444444444444, \"#bd3786\"], [0.5555555555555556, \"#d8576b\"], [0.6666666666666666, \"#ed7953\"], [0.7777777777777778, \"#fb9f3a\"], [0.8888888888888888, \"#fdca26\"], [1.0, \"#f0f921\"]], \"type\": \"contour\"}], \"contourcarpet\": [{\"colorbar\": {\"outlinewidth\": 0, \"ticks\": \"\"}, \"type\": \"contourcarpet\"}], \"heatmap\": [{\"colorbar\": {\"outlinewidth\": 0, \"ticks\": \"\"}, \"colorscale\": [[0.0, \"#0d0887\"], [0.1111111111111111, \"#46039f\"], [0.2222222222222222, \"#7201a8\"], [0.3333333333333333, \"#9c179e\"], [0.4444444444444444, \"#bd3786\"], [0.5555555555555556, \"#d8576b\"], [0.6666666666666666, \"#ed7953\"], [0.7777777777777778, \"#fb9f3a\"], [0.8888888888888888, \"#fdca26\"], [1.0, \"#f0f921\"]], \"type\": \"heatmap\"}], \"heatmapgl\": [{\"colorbar\": {\"outlinewidth\": 0, \"ticks\": \"\"}, \"colorscale\": [[0.0, \"#0d0887\"], [0.1111111111111111, \"#46039f\"], [0.2222222222222222, \"#7201a8\"], [0.3333333333333333, \"#9c179e\"], [0.4444444444444444, \"#bd3786\"], [0.5555555555555556, \"#d8576b\"], [0.6666666666666666, \"#ed7953\"], [0.7777777777777778, \"#fb9f3a\"], [0.8888888888888888, \"#fdca26\"], [1.0, \"#f0f921\"]], \"type\": \"heatmapgl\"}], \"histogram\": [{\"marker\": {\"colorbar\": {\"outlinewidth\": 0, \"ticks\": \"\"}}, \"type\": \"histogram\"}], \"histogram2d\": [{\"colorbar\": {\"outlinewidth\": 0, \"ticks\": \"\"}, \"colorscale\": [[0.0, \"#0d0887\"], [0.1111111111111111, \"#46039f\"], [0.2222222222222222, \"#7201a8\"], [0.3333333333333333, \"#9c179e\"], [0.4444444444444444, \"#bd3786\"], [0.5555555555555556, \"#d8576b\"], [0.6666666666666666, \"#ed7953\"], [0.7777777777777778, \"#fb9f3a\"], [0.8888888888888888, \"#fdca26\"], [1.0, \"#f0f921\"]], \"type\": \"histogram2d\"}], \"histogram2dcontour\": [{\"colorbar\": {\"outlinewidth\": 0, \"ticks\": \"\"}, \"colorscale\": [[0.0, \"#0d0887\"], [0.1111111111111111, \"#46039f\"], [0.2222222222222222, \"#7201a8\"], [0.3333333333333333, \"#9c179e\"], [0.4444444444444444, \"#bd3786\"], [0.5555555555555556, \"#d8576b\"], [0.6666666666666666, \"#ed7953\"], [0.7777777777777778, \"#fb9f3a\"], [0.8888888888888888, \"#fdca26\"], [1.0, \"#f0f921\"]], \"type\": \"histogram2dcontour\"}], \"mesh3d\": [{\"colorbar\": {\"outlinewidth\": 0, \"ticks\": \"\"}, \"type\": \"mesh3d\"}], \"parcoords\": [{\"line\": {\"colorbar\": {\"outlinewidth\": 0, \"ticks\": \"\"}}, \"type\": \"parcoords\"}], \"pie\": [{\"automargin\": true, \"type\": \"pie\"}], \"scatter\": [{\"marker\": {\"colorbar\": {\"outlinewidth\": 0, \"ticks\": \"\"}}, \"type\": \"scatter\"}], \"scatter3d\": [{\"line\": {\"colorbar\": {\"outlinewidth\": 0, \"ticks\": \"\"}}, \"marker\": {\"colorbar\": {\"outlinewidth\": 0, \"ticks\": \"\"}}, \"type\": \"scatter3d\"}], \"scattercarpet\": [{\"marker\": {\"colorbar\": {\"outlinewidth\": 0, \"ticks\": \"\"}}, \"type\": \"scattercarpet\"}], \"scattergeo\": [{\"marker\": {\"colorbar\": {\"outlinewidth\": 0, \"ticks\": \"\"}}, \"type\": \"scattergeo\"}], \"scattergl\": [{\"marker\": {\"colorbar\": {\"outlinewidth\": 0, \"ticks\": \"\"}}, \"type\": \"scattergl\"}], \"scattermapbox\": [{\"marker\": {\"colorbar\": {\"outlinewidth\": 0, \"ticks\": \"\"}}, \"type\": \"scattermapbox\"}], \"scatterpolar\": [{\"marker\": {\"colorbar\": {\"outlinewidth\": 0, \"ticks\": \"\"}}, \"type\": \"scatterpolar\"}], \"scatterpolargl\": [{\"marker\": {\"colorbar\": {\"outlinewidth\": 0, \"ticks\": \"\"}}, \"type\": \"scatterpolargl\"}], \"scatterternary\": [{\"marker\": {\"colorbar\": {\"outlinewidth\": 0, \"ticks\": \"\"}}, \"type\": \"scatterternary\"}], \"surface\": [{\"colorbar\": {\"outlinewidth\": 0, \"ticks\": \"\"}, \"colorscale\": [[0.0, \"#0d0887\"], [0.1111111111111111, \"#46039f\"], [0.2222222222222222, \"#7201a8\"], [0.3333333333333333, \"#9c179e\"], [0.4444444444444444, \"#bd3786\"], [0.5555555555555556, \"#d8576b\"], [0.6666666666666666, \"#ed7953\"], [0.7777777777777778, \"#fb9f3a\"], [0.8888888888888888, \"#fdca26\"], [1.0, \"#f0f921\"]], \"type\": \"surface\"}], \"table\": [{\"cells\": {\"fill\": {\"color\": \"#EBF0F8\"}, \"line\": {\"color\": \"white\"}}, \"header\": {\"fill\": {\"color\": \"#C8D4E3\"}, \"line\": {\"color\": \"white\"}}, \"type\": \"table\"}]}, \"layout\": {\"annotationdefaults\": {\"arrowcolor\": \"#2a3f5f\", \"arrowhead\": 0, \"arrowwidth\": 1}, \"coloraxis\": {\"colorbar\": {\"outlinewidth\": 0, \"ticks\": \"\"}}, \"colorscale\": {\"diverging\": [[0, \"#8e0152\"], [0.1, \"#c51b7d\"], [0.2, \"#de77ae\"], [0.3, \"#f1b6da\"], [0.4, \"#fde0ef\"], [0.5, \"#f7f7f7\"], [0.6, \"#e6f5d0\"], [0.7, \"#b8e186\"], [0.8, \"#7fbc41\"], [0.9, \"#4d9221\"], [1, \"#276419\"]], \"sequential\": [[0.0, \"#0d0887\"], [0.1111111111111111, \"#46039f\"], [0.2222222222222222, \"#7201a8\"], [0.3333333333333333, \"#9c179e\"], [0.4444444444444444, \"#bd3786\"], [0.5555555555555556, \"#d8576b\"], [0.6666666666666666, \"#ed7953\"], [0.7777777777777778, \"#fb9f3a\"], [0.8888888888888888, \"#fdca26\"], [1.0, \"#f0f921\"]], \"sequentialminus\": [[0.0, \"#0d0887\"], [0.1111111111111111, \"#46039f\"], [0.2222222222222222, \"#7201a8\"], [0.3333333333333333, \"#9c179e\"], [0.4444444444444444, \"#bd3786\"], [0.5555555555555556, \"#d8576b\"], [0.6666666666666666, \"#ed7953\"], [0.7777777777777778, \"#fb9f3a\"], [0.8888888888888888, \"#fdca26\"], [1.0, \"#f0f921\"]]}, \"colorway\": [\"#636efa\", \"#EF553B\", \"#00cc96\", \"#ab63fa\", \"#FFA15A\", \"#19d3f3\", \"#FF6692\", \"#B6E880\", \"#FF97FF\", \"#FECB52\"], \"font\": {\"color\": \"#2a3f5f\"}, \"geo\": {\"bgcolor\": \"white\", \"lakecolor\": \"white\", \"landcolor\": \"white\", \"showlakes\": true, \"showland\": true, \"subunitcolor\": \"#C8D4E3\"}, \"hoverlabel\": {\"align\": \"left\"}, \"hovermode\": \"closest\", \"mapbox\": {\"style\": \"light\"}, \"paper_bgcolor\": \"white\", \"plot_bgcolor\": \"white\", \"polar\": {\"angularaxis\": {\"gridcolor\": \"#EBF0F8\", \"linecolor\": \"#EBF0F8\", \"ticks\": \"\"}, \"bgcolor\": \"white\", \"radialaxis\": {\"gridcolor\": \"#EBF0F8\", \"linecolor\": \"#EBF0F8\", \"ticks\": \"\"}}, \"scene\": {\"xaxis\": {\"backgroundcolor\": \"white\", \"gridcolor\": \"#DFE8F3\", \"gridwidth\": 2, \"linecolor\": \"#EBF0F8\", \"showbackground\": true, \"ticks\": \"\", \"zerolinecolor\": \"#EBF0F8\"}, \"yaxis\": {\"backgroundcolor\": \"white\", \"gridcolor\": \"#DFE8F3\", \"gridwidth\": 2, \"linecolor\": \"#EBF0F8\", \"showbackground\": true, \"ticks\": \"\", \"zerolinecolor\": \"#EBF0F8\"}, \"zaxis\": {\"backgroundcolor\": \"white\", \"gridcolor\": \"#DFE8F3\", \"gridwidth\": 2, \"linecolor\": \"#EBF0F8\", \"showbackground\": true, \"ticks\": \"\", \"zerolinecolor\": \"#EBF0F8\"}}, \"shapedefaults\": {\"line\": {\"color\": \"#2a3f5f\"}}, \"ternary\": {\"aaxis\": {\"gridcolor\": \"#DFE8F3\", \"linecolor\": \"#A2B1C6\", \"ticks\": \"\"}, \"baxis\": {\"gridcolor\": \"#DFE8F3\", \"linecolor\": \"#A2B1C6\", \"ticks\": \"\"}, \"bgcolor\": \"white\", \"caxis\": {\"gridcolor\": \"#DFE8F3\", \"linecolor\": \"#A2B1C6\", \"ticks\": \"\"}}, \"title\": {\"x\": 0.05}, \"xaxis\": {\"automargin\": true, \"gridcolor\": \"#EBF0F8\", \"linecolor\": \"#EBF0F8\", \"ticks\": \"\", \"title\": {\"standoff\": 15}, \"zerolinecolor\": \"#EBF0F8\", \"zerolinewidth\": 2}, \"yaxis\": {\"automargin\": true, \"gridcolor\": \"#EBF0F8\", \"linecolor\": \"#EBF0F8\", \"ticks\": \"\", \"title\": {\"standoff\": 15}, \"zerolinecolor\": \"#EBF0F8\", \"zerolinewidth\": 2}}}, \"title\": {\"text\": \"District\"}, \"updatemenus\": [{\"buttons\": [{\"args\": [null, {\"frame\": {\"duration\": 500, \"redraw\": false}, \"fromcurrent\": true, \"mode\": \"immediate\", \"transition\": {\"duration\": 500, \"easing\": \"linear\"}}], \"label\": \"&#9654;\", \"method\": \"animate\"}, {\"args\": [[null], {\"frame\": {\"duration\": 0, \"redraw\": false}, \"fromcurrent\": true, \"mode\": \"immediate\", \"transition\": {\"duration\": 0, \"easing\": \"linear\"}}], \"label\": \"&#9724;\", \"method\": \"animate\"}], \"direction\": \"left\", \"pad\": {\"r\": 10, \"t\": 70}, \"showactive\": false, \"type\": \"buttons\", \"x\": 0.1, \"xanchor\": \"right\", \"y\": 0, \"yanchor\": \"top\"}], \"xaxis\": {\"anchor\": \"y\", \"domain\": [0.0, 1.0], \"title\": {\"text\": \"Description\"}}, \"yaxis\": {\"anchor\": \"x\", \"domain\": [0.0, 1.0], \"title\": {\"text\": \"Amount\"}}},                        {\"responsive\": true}                    ).then(function(){\n",
       "                            Plotly.addFrames('cf493d74-f670-4237-b30d-9f235c90f74a', [{\"data\": [{\"hovertemplate\": \"Neighborhood Name=el Raval<br>Name_Dist=Ciutat Vella<br>Description=%{x}<br>Amount=%{y}<extra></extra>\", \"legendgroup\": \"el Raval\", \"marker\": {\"color\": \"#ab63fa\", \"symbol\": \"circle\"}, \"mode\": \"markers\", \"name\": \"el Raval\", \"orientation\": \"v\", \"showlegend\": true, \"x\": [\"121- 150 m2\", \"151- 210 m2\", \"211- 250 m2\", \"31- 60 m2\", \"61- 90 m2\", \"91- 120 m2\", \"Fins a 30 m2\", \"M\\u00e9s de 250 m2\"], \"xaxis\": \"x\", \"y\": [861, 420, 103, 11369, 6568, 2097, 1583, 111], \"yaxis\": \"y\", \"type\": \"scatter\"}, {\"hovertemplate\": \"Neighborhood Name=el G\\u00f2tic<br>Name_Dist=Ciutat Vella<br>Description=%{x}<br>Amount=%{y}<extra></extra>\", \"legendgroup\": \"el G\\u00f2tic\", \"marker\": {\"color\": \"#FFA15A\", \"symbol\": \"circle\"}, \"mode\": \"markers\", \"name\": \"el G\\u00f2tic\", \"orientation\": \"v\", \"showlegend\": true, \"x\": [\"121- 150 m2\", \"151- 210 m2\", \"211- 250 m2\", \"31- 60 m2\", \"61- 90 m2\", \"91- 120 m2\", \"Fins a 30 m2\", \"M\\u00e9s de 250 m2\"], \"xaxis\": \"x\", \"y\": [1050, 716, 128, 2725, 2899, 1929, 715, 170], \"yaxis\": \"y\", \"type\": \"scatter\"}, {\"hovertemplate\": \"Neighborhood Name=la Barceloneta<br>Name_Dist=Ciutat Vella<br>Description=%{x}<br>Amount=%{y}<extra></extra>\", \"legendgroup\": \"la Barceloneta\", \"marker\": {\"color\": \"#19d3f3\", \"symbol\": \"circle\"}, \"mode\": \"markers\", \"name\": \"la Barceloneta\", \"orientation\": \"v\", \"showlegend\": true, \"x\": [\"121- 150 m2\", \"151- 210 m2\", \"211- 250 m2\", \"31- 60 m2\", \"61- 90 m2\", \"91- 120 m2\", \"Fins a 30 m2\", \"M\\u00e9s de 250 m2\"], \"xaxis\": \"x\", \"y\": [41, 9, 3, 5972, 1736, 319, 1073, 7], \"yaxis\": \"y\", \"type\": \"scatter\"}, {\"hovertemplate\": \"Neighborhood Name=Sant Pere, Santa Caterina i la Ribera<br>Name_Dist=Ciutat Vella<br>Description=%{x}<br>Amount=%{y}<extra></extra>\", \"legendgroup\": \"Sant Pere, Santa Caterina i la Ribera\", \"marker\": {\"color\": \"#FF6692\", \"symbol\": \"circle\"}, \"mode\": \"markers\", \"name\": \"Sant Pere, Santa Caterina i la Ribera\", \"orientation\": \"v\", \"showlegend\": true, \"x\": [\"121- 150 m2\", \"151- 210 m2\", \"211- 250 m2\", \"31- 60 m2\", \"61- 90 m2\", \"91- 120 m2\", \"Fins a 30 m2\", \"M\\u00e9s de 250 m2\"], \"xaxis\": \"x\", \"y\": [870, 479, 89, 5621, 4314, 1887, 1099, 93], \"yaxis\": \"y\", \"type\": \"scatter\"}], \"name\": \"Ciutat Vella\"}, {\"data\": [{\"hovertemplate\": \"Neighborhood Name=el Fort Pienc<br>Name_Dist=Eixample<br>Description=%{x}<br>Amount=%{y}<extra></extra>\", \"legendgroup\": \"el Fort Pienc\", \"marker\": {\"color\": \"#B6E880\", \"symbol\": \"circle\"}, \"mode\": \"markers\", \"name\": \"el Fort Pienc\", \"orientation\": \"v\", \"showlegend\": true, \"x\": [\"121- 150 m2\", \"151- 210 m2\", \"211- 250 m2\", \"31- 60 m2\", \"61- 90 m2\", \"91- 120 m2\", \"Fins a 30 m2\", \"M\\u00e9s de 250 m2\"], \"xaxis\": \"x\", \"y\": [597, 271, 33, 2591, 7654, 3729, 229, 32], \"yaxis\": \"y\", \"type\": \"scatter\"}, {\"hovertemplate\": \"Neighborhood Name=la Sagrada Fam\\u00edlia<br>Name_Dist=Eixample<br>Description=%{x}<br>Amount=%{y}<extra></extra>\", \"legendgroup\": \"la Sagrada Fam\\u00edlia\", \"marker\": {\"color\": \"#FF97FF\", \"symbol\": \"circle\"}, \"mode\": \"markers\", \"name\": \"la Sagrada Fam\\u00edlia\", \"orientation\": \"v\", \"showlegend\": true, \"x\": [\"121- 150 m2\", \"151- 210 m2\", \"211- 250 m2\", \"31- 60 m2\", \"61- 90 m2\", \"91- 120 m2\", \"Fins a 30 m2\", \"M\\u00e9s de 250 m2\"], \"xaxis\": \"x\", \"y\": [744, 130, 17, 6383, 14102, 4539, 536, 58], \"yaxis\": \"y\", \"type\": \"scatter\"}, {\"hovertemplate\": \"Neighborhood Name=la Dreta de l'Eixample<br>Name_Dist=Eixample<br>Description=%{x}<br>Amount=%{y}<extra></extra>\", \"legendgroup\": \"la Dreta de l'Eixample\", \"marker\": {\"color\": \"#FECB52\", \"symbol\": \"circle\"}, \"mode\": \"markers\", \"name\": \"la Dreta de l'Eixample\", \"orientation\": \"v\", \"showlegend\": true, \"x\": [\"121- 150 m2\", \"151- 210 m2\", \"211- 250 m2\", \"31- 60 m2\", \"61- 90 m2\", \"91- 120 m2\", \"Fins a 30 m2\", \"M\\u00e9s de 250 m2\"], \"xaxis\": \"x\", \"y\": [3544, 3862, 945, 2865, 6864, 5882, 552, 701], \"yaxis\": \"y\", \"type\": \"scatter\"}, {\"hovertemplate\": \"Neighborhood Name=l'Antiga Esquerra de l'Eixample<br>Name_Dist=Eixample<br>Description=%{x}<br>Amount=%{y}<extra></extra>\", \"legendgroup\": \"l'Antiga Esquerra de l'Eixample\", \"marker\": {\"color\": \"#636efa\", \"symbol\": \"circle\"}, \"mode\": \"markers\", \"name\": \"l'Antiga Esquerra de l'Eixample\", \"orientation\": \"v\", \"showlegend\": true, \"x\": [\"121- 150 m2\", \"151- 210 m2\", \"211- 250 m2\", \"31- 60 m2\", \"61- 90 m2\", \"91- 120 m2\", \"Fins a 30 m2\", \"M\\u00e9s de 250 m2\"], \"xaxis\": \"x\", \"y\": [2681, 1388, 251, 3123, 8873, 6601, 374, 159], \"yaxis\": \"y\", \"type\": \"scatter\"}, {\"hovertemplate\": \"Neighborhood Name=la Nova Esquerra de l'Eixample<br>Name_Dist=Eixample<br>Description=%{x}<br>Amount=%{y}<extra></extra>\", \"legendgroup\": \"la Nova Esquerra de l'Eixample\", \"marker\": {\"color\": \"#EF553B\", \"symbol\": \"circle\"}, \"mode\": \"markers\", \"name\": \"la Nova Esquerra de l'Eixample\", \"orientation\": \"v\", \"showlegend\": true, \"x\": [\"121- 150 m2\", \"151- 210 m2\", \"211- 250 m2\", \"31- 60 m2\", \"61- 90 m2\", \"91- 120 m2\", \"Fins a 30 m2\", \"M\\u00e9s de 250 m2\"], \"xaxis\": \"x\", \"y\": [1416, 481, 18, 4974, 14146, 8232, 446, 8], \"yaxis\": \"y\", \"type\": \"scatter\"}, {\"hovertemplate\": \"Neighborhood Name=Sant Antoni<br>Name_Dist=Eixample<br>Description=%{x}<br>Amount=%{y}<extra></extra>\", \"legendgroup\": \"Sant Antoni\", \"marker\": {\"color\": \"#00cc96\", \"symbol\": \"circle\"}, \"mode\": \"markers\", \"name\": \"Sant Antoni\", \"orientation\": \"v\", \"showlegend\": true, \"x\": [\"121- 150 m2\", \"151- 210 m2\", \"211- 250 m2\", \"31- 60 m2\", \"61- 90 m2\", \"91- 120 m2\", \"Fins a 30 m2\", \"M\\u00e9s de 250 m2\"], \"xaxis\": \"x\", \"y\": [1013, 330, 28, 3765, 9579, 4353, 375, 41], \"yaxis\": \"y\", \"type\": \"scatter\"}], \"name\": \"Eixample\"}, {\"data\": [{\"hovertemplate\": \"Neighborhood Name=el Poble Sec<br>Name_Dist=Sants-Montju\\u00efc<br>Description=%{x}<br>Amount=%{y}<extra></extra>\", \"legendgroup\": \"el Poble Sec\", \"marker\": {\"color\": \"#ab63fa\", \"symbol\": \"circle\"}, \"mode\": \"markers\", \"name\": \"el Poble Sec\", \"orientation\": \"v\", \"showlegend\": true, \"x\": [\"121- 150 m2\", \"151- 210 m2\", \"211- 250 m2\", \"31- 60 m2\", \"61- 90 m2\", \"91- 120 m2\", \"Fins a 30 m2\", \"M\\u00e9s de 250 m2\"], \"xaxis\": \"x\", \"y\": [129, 23, 7, 8069, 8104, 1442, 738, 8], \"yaxis\": \"y\", \"type\": \"scatter\"}, {\"hovertemplate\": \"Neighborhood Name=la Marina del Prat Vermell<br>Name_Dist=Sants-Montju\\u00efc<br>Description=%{x}<br>Amount=%{y}<extra></extra>\", \"legendgroup\": \"la Marina del Prat Vermell\", \"marker\": {\"color\": \"#FFA15A\", \"symbol\": \"circle\"}, \"mode\": \"markers\", \"name\": \"la Marina del Prat Vermell\", \"orientation\": \"v\", \"showlegend\": true, \"x\": [\"121- 150 m2\", \"151- 210 m2\", \"211- 250 m2\", \"31- 60 m2\", \"61- 90 m2\", \"91- 120 m2\", \"Fins a 30 m2\", \"M\\u00e9s de 250 m2\"], \"xaxis\": \"x\", \"y\": [6, 9, 2, 168, 297, 214, 75, 5], \"yaxis\": \"y\", \"type\": \"scatter\"}, {\"hovertemplate\": \"Neighborhood Name=la Marina de Port<br>Name_Dist=Sants-Montju\\u00efc<br>Description=%{x}<br>Amount=%{y}<extra></extra>\", \"legendgroup\": \"la Marina de Port\", \"marker\": {\"color\": \"#19d3f3\", \"symbol\": \"circle\"}, \"mode\": \"markers\", \"name\": \"la Marina de Port\", \"orientation\": \"v\", \"showlegend\": true, \"x\": [\"121- 150 m2\", \"151- 210 m2\", \"31- 60 m2\", \"61- 90 m2\", \"91- 120 m2\", \"Fins a 30 m2\", \"M\\u00e9s de 250 m2\"], \"xaxis\": \"x\", \"y\": [22, 8, 2513, 8734, 1854, 202, 1], \"yaxis\": \"y\", \"type\": \"scatter\"}, {\"hovertemplate\": \"Neighborhood Name=la Font de la Guatlla<br>Name_Dist=Sants-Montju\\u00efc<br>Description=%{x}<br>Amount=%{y}<extra></extra>\", \"legendgroup\": \"la Font de la Guatlla\", \"marker\": {\"color\": \"#FF6692\", \"symbol\": \"circle\"}, \"mode\": \"markers\", \"name\": \"la Font de la Guatlla\", \"orientation\": \"v\", \"showlegend\": true, \"x\": [\"121- 150 m2\", \"151- 210 m2\", \"31- 60 m2\", \"61- 90 m2\", \"91- 120 m2\", \"Fins a 30 m2\"], \"xaxis\": \"x\", \"y\": [121, 20, 1062, 2804, 802, 100], \"yaxis\": \"y\", \"type\": \"scatter\"}, {\"hovertemplate\": \"Neighborhood Name=Hostafrancs<br>Name_Dist=Sants-Montju\\u00efc<br>Description=%{x}<br>Amount=%{y}<extra></extra>\", \"legendgroup\": \"Hostafrancs\", \"marker\": {\"color\": \"#B6E880\", \"symbol\": \"circle\"}, \"mode\": \"markers\", \"name\": \"Hostafrancs\", \"orientation\": \"v\", \"showlegend\": true, \"x\": [\"121- 150 m2\", \"151- 210 m2\", \"31- 60 m2\", \"61- 90 m2\", \"91- 120 m2\", \"Fins a 30 m2\", \"M\\u00e9s de 250 m2\"], \"xaxis\": \"x\", \"y\": [97, 31, 2636, 3814, 1142, 278, 7], \"yaxis\": \"y\", \"type\": \"scatter\"}, {\"hovertemplate\": \"Neighborhood Name=la Bordeta<br>Name_Dist=Sants-Montju\\u00efc<br>Description=%{x}<br>Amount=%{y}<extra></extra>\", \"legendgroup\": \"la Bordeta\", \"marker\": {\"color\": \"#FF97FF\", \"symbol\": \"circle\"}, \"mode\": \"markers\", \"name\": \"la Bordeta\", \"orientation\": \"v\", \"showlegend\": true, \"x\": [\"121- 150 m2\", \"151- 210 m2\", \"211- 250 m2\", \"31- 60 m2\", \"61- 90 m2\", \"91- 120 m2\", \"Fins a 30 m2\", \"M\\u00e9s de 250 m2\"], \"xaxis\": \"x\", \"y\": [92, 9, 1, 1805, 5742, 1085, 103, 1], \"yaxis\": \"y\", \"type\": \"scatter\"}, {\"hovertemplate\": \"Neighborhood Name=Sants - Badal<br>Name_Dist=Sants-Montju\\u00efc<br>Description=%{x}<br>Amount=%{y}<extra></extra>\", \"legendgroup\": \"Sants - Badal\", \"marker\": {\"color\": \"#FECB52\", \"symbol\": \"circle\"}, \"mode\": \"markers\", \"name\": \"Sants - Badal\", \"orientation\": \"v\", \"showlegend\": true, \"x\": [\"121- 150 m2\", \"151- 210 m2\", \"211- 250 m2\", \"31- 60 m2\", \"61- 90 m2\", \"91- 120 m2\", \"Fins a 30 m2\", \"M\\u00e9s de 250 m2\"], \"xaxis\": \"x\", \"y\": [91, 13, 2, 3735, 6260, 1418, 201, 2], \"yaxis\": \"y\", \"type\": \"scatter\"}, {\"hovertemplate\": \"Neighborhood Name=Sants<br>Name_Dist=Sants-Montju\\u00efc<br>Description=%{x}<br>Amount=%{y}<extra></extra>\", \"legendgroup\": \"Sants\", \"marker\": {\"color\": \"#636efa\", \"symbol\": \"circle\"}, \"mode\": \"markers\", \"name\": \"Sants\", \"orientation\": \"v\", \"showlegend\": true, \"x\": [\"121- 150 m2\", \"151- 210 m2\", \"211- 250 m2\", \"31- 60 m2\", \"61- 90 m2\", \"91- 120 m2\", \"Fins a 30 m2\", \"M\\u00e9s de 250 m2\"], \"xaxis\": \"x\", \"y\": [542, 128, 6, 6483, 10343, 2843, 639, 5], \"yaxis\": \"y\", \"type\": \"scatter\"}], \"name\": \"Sants-Montju\\u00efc\"}, {\"data\": [{\"hovertemplate\": \"Neighborhood Name=les Corts<br>Name_Dist=Les Corts<br>Description=%{x}<br>Amount=%{y}<extra></extra>\", \"legendgroup\": \"les Corts\", \"marker\": {\"color\": \"#EF553B\", \"symbol\": \"circle\"}, \"mode\": \"markers\", \"name\": \"les Corts\", \"orientation\": \"v\", \"showlegend\": true, \"x\": [\"121- 150 m2\", \"151- 210 m2\", \"211- 250 m2\", \"31- 60 m2\", \"61- 90 m2\", \"91- 120 m2\", \"Fins a 30 m2\", \"M\\u00e9s de 250 m2\"], \"xaxis\": \"x\", \"y\": [1576, 686, 99, 4061, 10225, 5918, 471, 26], \"yaxis\": \"y\", \"type\": \"scatter\"}, {\"hovertemplate\": \"Neighborhood Name=la Maternitat i Sant Ramon<br>Name_Dist=Les Corts<br>Description=%{x}<br>Amount=%{y}<extra></extra>\", \"legendgroup\": \"la Maternitat i Sant Ramon\", \"marker\": {\"color\": \"#00cc96\", \"symbol\": \"circle\"}, \"mode\": \"markers\", \"name\": \"la Maternitat i Sant Ramon\", \"orientation\": \"v\", \"showlegend\": true, \"x\": [\"121- 150 m2\", \"151- 210 m2\", \"211- 250 m2\", \"31- 60 m2\", \"61- 90 m2\", \"91- 120 m2\", \"Fins a 30 m2\", \"M\\u00e9s de 250 m2\"], \"xaxis\": \"x\", \"y\": [696, 100, 11, 1647, 5788, 3166, 239, 7], \"yaxis\": \"y\", \"type\": \"scatter\"}, {\"hovertemplate\": \"Neighborhood Name=Pedralbes<br>Name_Dist=Les Corts<br>Description=%{x}<br>Amount=%{y}<extra></extra>\", \"legendgroup\": \"Pedralbes\", \"marker\": {\"color\": \"#ab63fa\", \"symbol\": \"circle\"}, \"mode\": \"markers\", \"name\": \"Pedralbes\", \"orientation\": \"v\", \"showlegend\": true, \"x\": [\"121- 150 m2\", \"151- 210 m2\", \"211- 250 m2\", \"31- 60 m2\", \"61- 90 m2\", \"91- 120 m2\", \"Fins a 30 m2\", \"M\\u00e9s de 250 m2\"], \"xaxis\": \"x\", \"y\": [1067, 1526, 315, 593, 777, 1349, 211, 264], \"yaxis\": \"y\", \"type\": \"scatter\"}], \"name\": \"Les Corts\"}, {\"data\": [{\"hovertemplate\": \"Neighborhood Name=Vallvidrera, el Tibidabo i les Planes<br>Name_Dist=Sarri\\u00e0-Sant Gervasi<br>Description=%{x}<br>Amount=%{y}<extra></extra>\", \"legendgroup\": \"Vallvidrera, el Tibidabo i les Planes\", \"marker\": {\"color\": \"#FFA15A\", \"symbol\": \"circle\"}, \"mode\": \"markers\", \"name\": \"Vallvidrera, el Tibidabo i les Planes\", \"orientation\": \"v\", \"showlegend\": true, \"x\": [\"121- 150 m2\", \"151- 210 m2\", \"211- 250 m2\", \"31- 60 m2\", \"61- 90 m2\", \"91- 120 m2\", \"Fins a 30 m2\", \"M\\u00e9s de 250 m2\"], \"xaxis\": \"x\", \"y\": [274, 164, 26, 796, 798, 621, 337, 18], \"yaxis\": \"y\", \"type\": \"scatter\"}, {\"hovertemplate\": \"Neighborhood Name=Sarri\\u00e0<br>Name_Dist=Sarri\\u00e0-Sant Gervasi<br>Description=%{x}<br>Amount=%{y}<extra></extra>\", \"legendgroup\": \"Sarri\\u00e0\", \"marker\": {\"color\": \"#19d3f3\", \"symbol\": \"circle\"}, \"mode\": \"markers\", \"name\": \"Sarri\\u00e0\", \"orientation\": \"v\", \"showlegend\": true, \"x\": [\"121- 150 m2\", \"151- 210 m2\", \"211- 250 m2\", \"31- 60 m2\", \"61- 90 m2\", \"91- 120 m2\", \"Fins a 30 m2\", \"M\\u00e9s de 250 m2\"], \"xaxis\": \"x\", \"y\": [1561, 1176, 190, 2325, 4284, 2452, 501, 120], \"yaxis\": \"y\", \"type\": \"scatter\"}, {\"hovertemplate\": \"Neighborhood Name=les Tres Torres<br>Name_Dist=Sarri\\u00e0-Sant Gervasi<br>Description=%{x}<br>Amount=%{y}<extra></extra>\", \"legendgroup\": \"les Tres Torres\", \"marker\": {\"color\": \"#FF6692\", \"symbol\": \"circle\"}, \"mode\": \"markers\", \"name\": \"les Tres Torres\", \"orientation\": \"v\", \"showlegend\": true, \"x\": [\"121- 150 m2\", \"151- 210 m2\", \"211- 250 m2\", \"31- 60 m2\", \"61- 90 m2\", \"91- 120 m2\", \"Fins a 30 m2\", \"M\\u00e9s de 250 m2\"], \"xaxis\": \"x\", \"y\": [1264, 1761, 462, 680, 1136, 1282, 99, 343], \"yaxis\": \"y\", \"type\": \"scatter\"}, {\"hovertemplate\": \"Neighborhood Name=Sant Gervasi - la Bonanova<br>Name_Dist=Sarri\\u00e0-Sant Gervasi<br>Description=%{x}<br>Amount=%{y}<extra></extra>\", \"legendgroup\": \"Sant Gervasi - la Bonanova\", \"marker\": {\"color\": \"#B6E880\", \"symbol\": \"circle\"}, \"mode\": \"markers\", \"name\": \"Sant Gervasi - la Bonanova\", \"orientation\": \"v\", \"showlegend\": true, \"x\": [\"121- 150 m2\", \"151- 210 m2\", \"211- 250 m2\", \"31- 60 m2\", \"61- 90 m2\", \"91- 120 m2\", \"Fins a 30 m2\", \"M\\u00e9s de 250 m2\"], \"xaxis\": \"x\", \"y\": [2140, 2451, 358, 1777, 2753, 2519, 354, 270], \"yaxis\": \"y\", \"type\": \"scatter\"}, {\"hovertemplate\": \"Neighborhood Name=Sant Gervasi - Galvany<br>Name_Dist=Sarri\\u00e0-Sant Gervasi<br>Description=%{x}<br>Amount=%{y}<extra></extra>\", \"legendgroup\": \"Sant Gervasi - Galvany\", \"marker\": {\"color\": \"#FF97FF\", \"symbol\": \"circle\"}, \"mode\": \"markers\", \"name\": \"Sant Gervasi - Galvany\", \"orientation\": \"v\", \"showlegend\": true, \"x\": [\"121- 150 m2\", \"151- 210 m2\", \"211- 250 m2\", \"31- 60 m2\", \"61- 90 m2\", \"91- 120 m2\", \"Fins a 30 m2\", \"M\\u00e9s de 250 m2\"], \"xaxis\": \"x\", \"y\": [3543, 4512, 1143, 2876, 5334, 5814, 523, 1245], \"yaxis\": \"y\", \"type\": \"scatter\"}, {\"hovertemplate\": \"Neighborhood Name=el Putget i Farr\\u00f3<br>Name_Dist=Sarri\\u00e0-Sant Gervasi<br>Description=%{x}<br>Amount=%{y}<extra></extra>\", \"legendgroup\": \"el Putget i Farr\\u00f3\", \"marker\": {\"color\": \"#FECB52\", \"symbol\": \"circle\"}, \"mode\": \"markers\", \"name\": \"el Putget i Farr\\u00f3\", \"orientation\": \"v\", \"showlegend\": true, \"x\": [\"121- 150 m2\", \"151- 210 m2\", \"211- 250 m2\", \"31- 60 m2\", \"61- 90 m2\", \"91- 120 m2\", \"Fins a 30 m2\", \"M\\u00e9s de 250 m2\"], \"xaxis\": \"x\", \"y\": [1730, 860, 147, 3550, 5403, 3940, 549, 102], \"yaxis\": \"y\", \"type\": \"scatter\"}], \"name\": \"Sarri\\u00e0-Sant Gervasi\"}, {\"data\": [{\"hovertemplate\": \"Neighborhood Name=Vallcarca i els Penitents<br>Name_Dist=Gr\\u00e0cia<br>Description=%{x}<br>Amount=%{y}<extra></extra>\", \"legendgroup\": \"Vallcarca i els Penitents\", \"marker\": {\"color\": \"#636efa\", \"symbol\": \"circle\"}, \"mode\": \"markers\", \"name\": \"Vallcarca i els Penitents\", \"orientation\": \"v\", \"showlegend\": true, \"x\": [\"121- 150 m2\", \"151- 210 m2\", \"211- 250 m2\", \"31- 60 m2\", \"61- 90 m2\", \"91- 120 m2\", \"Fins a 30 m2\", \"M\\u00e9s de 250 m2\"], \"xaxis\": \"x\", \"y\": [399, 277, 30, 2232, 4113, 1539, 368, 15], \"yaxis\": \"y\", \"type\": \"scatter\"}, {\"hovertemplate\": \"Neighborhood Name=el Coll<br>Name_Dist=Gr\\u00e0cia<br>Description=%{x}<br>Amount=%{y}<extra></extra>\", \"legendgroup\": \"el Coll\", \"marker\": {\"color\": \"#EF553B\", \"symbol\": \"circle\"}, \"mode\": \"markers\", \"name\": \"el Coll\", \"orientation\": \"v\", \"showlegend\": true, \"x\": [\"121- 150 m2\", \"151- 210 m2\", \"211- 250 m2\", \"31- 60 m2\", \"61- 90 m2\", \"91- 120 m2\", \"Fins a 30 m2\", \"M\\u00e9s de 250 m2\"], \"xaxis\": \"x\", \"y\": [66, 23, 3, 1340, 1992, 343, 161, 2], \"yaxis\": \"y\", \"type\": \"scatter\"}, {\"hovertemplate\": \"Neighborhood Name=la Salut<br>Name_Dist=Gr\\u00e0cia<br>Description=%{x}<br>Amount=%{y}<extra></extra>\", \"legendgroup\": \"la Salut\", \"marker\": {\"color\": \"#00cc96\", \"symbol\": \"circle\"}, \"mode\": \"markers\", \"name\": \"la Salut\", \"orientation\": \"v\", \"showlegend\": true, \"x\": [\"121- 150 m2\", \"151- 210 m2\", \"211- 250 m2\", \"31- 60 m2\", \"61- 90 m2\", \"91- 120 m2\", \"Fins a 30 m2\", \"M\\u00e9s de 250 m2\"], \"xaxis\": \"x\", \"y\": [346, 106, 12, 1543, 2875, 1664, 311, 12], \"yaxis\": \"y\", \"type\": \"scatter\"}, {\"hovertemplate\": \"Neighborhood Name=Vila de Gr\\u00e0cia<br>Name_Dist=Gr\\u00e0cia<br>Description=%{x}<br>Amount=%{y}<extra></extra>\", \"legendgroup\": \"Vila de Gr\\u00e0cia\", \"marker\": {\"color\": \"#ab63fa\", \"symbol\": \"circle\"}, \"mode\": \"markers\", \"name\": \"Vila de Gr\\u00e0cia\", \"orientation\": \"v\", \"showlegend\": true, \"x\": [\"121- 150 m2\", \"151- 210 m2\", \"211- 250 m2\", \"31- 60 m2\", \"61- 90 m2\", \"91- 120 m2\", \"Fins a 30 m2\", \"M\\u00e9s de 250 m2\"], \"xaxis\": \"x\", \"y\": [1124, 729, 136, 10141, 13047, 3892, 1568, 111], \"yaxis\": \"y\", \"type\": \"scatter\"}, {\"hovertemplate\": \"Neighborhood Name=el Camp d'en Grassot i Gr\\u00e0cia Nova<br>Name_Dist=Gr\\u00e0cia<br>Description=%{x}<br>Amount=%{y}<extra></extra>\", \"legendgroup\": \"el Camp d'en Grassot i Gr\\u00e0cia Nova\", \"marker\": {\"color\": \"#FFA15A\", \"symbol\": \"circle\"}, \"mode\": \"markers\", \"name\": \"el Camp d'en Grassot i Gr\\u00e0cia Nova\", \"orientation\": \"v\", \"showlegend\": true, \"x\": [\"121- 150 m2\", \"151- 210 m2\", \"211- 250 m2\", \"31- 60 m2\", \"61- 90 m2\", \"91- 120 m2\", \"Fins a 30 m2\", \"M\\u00e9s de 250 m2\"], \"xaxis\": \"x\", \"y\": [743, 149, 22, 4352, 9711, 2939, 376, 25], \"yaxis\": \"y\", \"type\": \"scatter\"}], \"name\": \"Gr\\u00e0cia\"}, {\"data\": [{\"hovertemplate\": \"Neighborhood Name=el Baix Guinard\\u00f3<br>Name_Dist=Horta-Guinard\\u00f3<br>Description=%{x}<br>Amount=%{y}<extra></extra>\", \"legendgroup\": \"el Baix Guinard\\u00f3\", \"marker\": {\"color\": \"#19d3f3\", \"symbol\": \"circle\"}, \"mode\": \"markers\", \"name\": \"el Baix Guinard\\u00f3\", \"orientation\": \"v\", \"showlegend\": true, \"x\": [\"121- 150 m2\", \"151- 210 m2\", \"211- 250 m2\", \"31- 60 m2\", \"61- 90 m2\", \"91- 120 m2\", \"Fins a 30 m2\", \"M\\u00e9s de 250 m2\"], \"xaxis\": \"x\", \"y\": [300, 46, 5, 3371, 6689, 1826, 235, 3], \"yaxis\": \"y\", \"type\": \"scatter\"}, {\"hovertemplate\": \"Neighborhood Name=Can Bar\\u00f3<br>Name_Dist=Horta-Guinard\\u00f3<br>Description=%{x}<br>Amount=%{y}<extra></extra>\", \"legendgroup\": \"Can Bar\\u00f3\", \"marker\": {\"color\": \"#FF6692\", \"symbol\": \"circle\"}, \"mode\": \"markers\", \"name\": \"Can Bar\\u00f3\", \"orientation\": \"v\", \"showlegend\": true, \"x\": [\"121- 150 m2\", \"151- 210 m2\", \"211- 250 m2\", \"31- 60 m2\", \"61- 90 m2\", \"91- 120 m2\", \"Fins a 30 m2\", \"M\\u00e9s de 250 m2\"], \"xaxis\": \"x\", \"y\": [67, 7, 3, 1662, 2255, 588, 242, 2], \"yaxis\": \"y\", \"type\": \"scatter\"}, {\"hovertemplate\": \"Neighborhood Name=el Guinard\\u00f3<br>Name_Dist=Horta-Guinard\\u00f3<br>Description=%{x}<br>Amount=%{y}<extra></extra>\", \"legendgroup\": \"el Guinard\\u00f3\", \"marker\": {\"color\": \"#B6E880\", \"symbol\": \"circle\"}, \"mode\": \"markers\", \"name\": \"el Guinard\\u00f3\", \"orientation\": \"v\", \"showlegend\": true, \"x\": [\"121- 150 m2\", \"151- 210 m2\", \"211- 250 m2\", \"31- 60 m2\", \"61- 90 m2\", \"91- 120 m2\", \"Fins a 30 m2\", \"M\\u00e9s de 250 m2\"], \"xaxis\": \"x\", \"y\": [336, 93, 12, 5836, 9494, 2267, 706, 17], \"yaxis\": \"y\", \"type\": \"scatter\"}, {\"hovertemplate\": \"Neighborhood Name=la Font d'en Fargues<br>Name_Dist=Horta-Guinard\\u00f3<br>Description=%{x}<br>Amount=%{y}<extra></extra>\", \"legendgroup\": \"la Font d'en Fargues\", \"marker\": {\"color\": \"#FF97FF\", \"symbol\": \"circle\"}, \"mode\": \"markers\", \"name\": \"la Font d'en Fargues\", \"orientation\": \"v\", \"showlegend\": true, \"x\": [\"121- 150 m2\", \"151- 210 m2\", \"211- 250 m2\", \"31- 60 m2\", \"61- 90 m2\", \"91- 120 m2\", \"Fins a 30 m2\", \"M\\u00e9s de 250 m2\"], \"xaxis\": \"x\", \"y\": [248, 79, 4, 1620, 2218, 752, 398, 10], \"yaxis\": \"y\", \"type\": \"scatter\"}, {\"hovertemplate\": \"Neighborhood Name=el Carmel<br>Name_Dist=Horta-Guinard\\u00f3<br>Description=%{x}<br>Amount=%{y}<extra></extra>\", \"legendgroup\": \"el Carmel\", \"marker\": {\"color\": \"#FECB52\", \"symbol\": \"circle\"}, \"mode\": \"markers\", \"name\": \"el Carmel\", \"orientation\": \"v\", \"showlegend\": true, \"x\": [\"121- 150 m2\", \"151- 210 m2\", \"211- 250 m2\", \"31- 60 m2\", \"61- 90 m2\", \"91- 120 m2\", \"Fins a 30 m2\", \"M\\u00e9s de 250 m2\"], \"xaxis\": \"x\", \"y\": [66, 13, 1, 7326, 6744, 624, 703, 4], \"yaxis\": \"y\", \"type\": \"scatter\"}, {\"hovertemplate\": \"Neighborhood Name=la Teixonera<br>Name_Dist=Horta-Guinard\\u00f3<br>Description=%{x}<br>Amount=%{y}<extra></extra>\", \"legendgroup\": \"la Teixonera\", \"marker\": {\"color\": \"#636efa\", \"symbol\": \"circle\"}, \"mode\": \"markers\", \"name\": \"la Teixonera\", \"orientation\": \"v\", \"showlegend\": true, \"x\": [\"121- 150 m2\", \"151- 210 m2\", \"211- 250 m2\", \"31- 60 m2\", \"61- 90 m2\", \"91- 120 m2\", \"Fins a 30 m2\"], \"xaxis\": \"x\", \"y\": [50, 2, 2, 2607, 2586, 464, 255], \"yaxis\": \"y\", \"type\": \"scatter\"}, {\"hovertemplate\": \"Neighborhood Name=Sant Gen\\u00eds dels Agudells<br>Name_Dist=Horta-Guinard\\u00f3<br>Description=%{x}<br>Amount=%{y}<extra></extra>\", \"legendgroup\": \"Sant Gen\\u00eds dels Agudells\", \"marker\": {\"color\": \"#EF553B\", \"symbol\": \"circle\"}, \"mode\": \"markers\", \"name\": \"Sant Gen\\u00eds dels Agudells\", \"orientation\": \"v\", \"showlegend\": true, \"x\": [\"121- 150 m2\", \"151- 210 m2\", \"211- 250 m2\", \"31- 60 m2\", \"61- 90 m2\", \"91- 120 m2\", \"Fins a 30 m2\", \"M\\u00e9s de 250 m2\"], \"xaxis\": \"x\", \"y\": [18, 10, 3, 577, 2685, 123, 89, 4], \"yaxis\": \"y\", \"type\": \"scatter\"}, {\"hovertemplate\": \"Neighborhood Name=Montbau<br>Name_Dist=Horta-Guinard\\u00f3<br>Description=%{x}<br>Amount=%{y}<extra></extra>\", \"legendgroup\": \"Montbau\", \"marker\": {\"color\": \"#00cc96\", \"symbol\": \"circle\"}, \"mode\": \"markers\", \"name\": \"Montbau\", \"orientation\": \"v\", \"showlegend\": true, \"x\": [\"31- 60 m2\", \"61- 90 m2\", \"91- 120 m2\", \"Fins a 30 m2\"], \"xaxis\": \"x\", \"y\": [941, 1438, 71, 112], \"yaxis\": \"y\", \"type\": \"scatter\"}, {\"hovertemplate\": \"Neighborhood Name=la Vall d'Hebron<br>Name_Dist=Horta-Guinard\\u00f3<br>Description=%{x}<br>Amount=%{y}<extra></extra>\", \"legendgroup\": \"la Vall d'Hebron\", \"marker\": {\"color\": \"#ab63fa\", \"symbol\": \"circle\"}, \"mode\": \"markers\", \"name\": \"la Vall d'Hebron\", \"orientation\": \"v\", \"showlegend\": true, \"x\": [\"121- 150 m2\", \"151- 210 m2\", \"211- 250 m2\", \"31- 60 m2\", \"61- 90 m2\", \"91- 120 m2\"], \"xaxis\": \"x\", \"y\": [194, 12, 1, 777, 1509, 161], \"yaxis\": \"y\", \"type\": \"scatter\"}, {\"hovertemplate\": \"Neighborhood Name=la Clota<br>Name_Dist=Horta-Guinard\\u00f3<br>Description=%{x}<br>Amount=%{y}<extra></extra>\", \"legendgroup\": \"la Clota\", \"marker\": {\"color\": \"#FFA15A\", \"symbol\": \"circle\"}, \"mode\": \"markers\", \"name\": \"la Clota\", \"orientation\": \"v\", \"showlegend\": true, \"x\": [\"121- 150 m2\", \"151- 210 m2\", \"31- 60 m2\", \"61- 90 m2\", \"91- 120 m2\", \"Fins a 30 m2\"], \"xaxis\": \"x\", \"y\": [3, 1, 147, 180, 52, 36], \"yaxis\": \"y\", \"type\": \"scatter\"}, {\"hovertemplate\": \"Neighborhood Name=Horta<br>Name_Dist=Horta-Guinard\\u00f3<br>Description=%{x}<br>Amount=%{y}<extra></extra>\", \"legendgroup\": \"Horta\", \"marker\": {\"color\": \"#19d3f3\", \"symbol\": \"circle\"}, \"mode\": \"markers\", \"name\": \"Horta\", \"orientation\": \"v\", \"showlegend\": true, \"x\": [\"121- 150 m2\", \"151- 210 m2\", \"211- 250 m2\", \"31- 60 m2\", \"61- 90 m2\", \"91- 120 m2\", \"Fins a 30 m2\", \"M\\u00e9s de 250 m2\"], \"xaxis\": \"x\", \"y\": [207, 61, 10, 4419, 6732, 1365, 666, 12], \"yaxis\": \"y\", \"type\": \"scatter\"}], \"name\": \"Horta-Guinard\\u00f3\"}, {\"data\": [{\"hovertemplate\": \"Neighborhood Name=Vilapicina i la Torre Llobeta<br>Name_Dist=Nou Barris<br>Description=%{x}<br>Amount=%{y}<extra></extra>\", \"legendgroup\": \"Vilapicina i la Torre Llobeta\", \"marker\": {\"color\": \"#FF6692\", \"symbol\": \"circle\"}, \"mode\": \"markers\", \"name\": \"Vilapicina i la Torre Llobeta\", \"orientation\": \"v\", \"showlegend\": true, \"x\": [\"121- 150 m2\", \"151- 210 m2\", \"211- 250 m2\", \"31- 60 m2\", \"61- 90 m2\", \"91- 120 m2\", \"Fins a 30 m2\", \"M\\u00e9s de 250 m2\"], \"xaxis\": \"x\", \"y\": [89, 11, 2, 3320, 7241, 1247, 330, 1], \"yaxis\": \"y\", \"type\": \"scatter\"}, {\"hovertemplate\": \"Neighborhood Name=Porta<br>Name_Dist=Nou Barris<br>Description=%{x}<br>Amount=%{y}<extra></extra>\", \"legendgroup\": \"Porta\", \"marker\": {\"color\": \"#B6E880\", \"symbol\": \"circle\"}, \"mode\": \"markers\", \"name\": \"Porta\", \"orientation\": \"v\", \"showlegend\": true, \"x\": [\"121- 150 m2\", \"151- 210 m2\", \"31- 60 m2\", \"61- 90 m2\", \"91- 120 m2\", \"Fins a 30 m2\", \"M\\u00e9s de 250 m2\"], \"xaxis\": \"x\", \"y\": [66, 11, 4371, 6021, 860, 157, 2], \"yaxis\": \"y\", \"type\": \"scatter\"}, {\"hovertemplate\": \"Neighborhood Name=el Tur\\u00f3 de la Peira<br>Name_Dist=Nou Barris<br>Description=%{x}<br>Amount=%{y}<extra></extra>\", \"legendgroup\": \"el Tur\\u00f3 de la Peira\", \"marker\": {\"color\": \"#FF97FF\", \"symbol\": \"circle\"}, \"mode\": \"markers\", \"name\": \"el Tur\\u00f3 de la Peira\", \"orientation\": \"v\", \"showlegend\": true, \"x\": [\"121- 150 m2\", \"151- 210 m2\", \"211- 250 m2\", \"31- 60 m2\", \"61- 90 m2\", \"91- 120 m2\", \"Fins a 30 m2\"], \"xaxis\": \"x\", \"y\": [4, 3, 1, 2942, 3663, 233, 110], \"yaxis\": \"y\", \"type\": \"scatter\"}, {\"hovertemplate\": \"Neighborhood Name=Can Peguera<br>Name_Dist=Nou Barris<br>Description=%{x}<br>Amount=%{y}<extra></extra>\", \"legendgroup\": \"Can Peguera\", \"marker\": {\"color\": \"#FECB52\", \"symbol\": \"circle\"}, \"mode\": \"markers\", \"name\": \"Can Peguera\", \"orientation\": \"v\", \"showlegend\": true, \"x\": [\"121- 150 m2\", \"151- 210 m2\", \"31- 60 m2\", \"61- 90 m2\", \"91- 120 m2\", \"Fins a 30 m2\"], \"xaxis\": \"x\", \"y\": [2, 1, 776, 228, 1, 39], \"yaxis\": \"y\", \"type\": \"scatter\"}, {\"hovertemplate\": \"Neighborhood Name=la Guineueta<br>Name_Dist=Nou Barris<br>Description=%{x}<br>Amount=%{y}<extra></extra>\", \"legendgroup\": \"la Guineueta\", \"marker\": {\"color\": \"#636efa\", \"symbol\": \"circle\"}, \"mode\": \"markers\", \"name\": \"la Guineueta\", \"orientation\": \"v\", \"showlegend\": true, \"x\": [\"151- 210 m2\", \"211- 250 m2\", \"31- 60 m2\", \"61- 90 m2\", \"91- 120 m2\", \"Fins a 30 m2\"], \"xaxis\": \"x\", \"y\": [1, 1, 1242, 4767, 782, 8], \"yaxis\": \"y\", \"type\": \"scatter\"}, {\"hovertemplate\": \"Neighborhood Name=Canyelles<br>Name_Dist=Nou Barris<br>Description=%{x}<br>Amount=%{y}<extra></extra>\", \"legendgroup\": \"Canyelles\", \"marker\": {\"color\": \"#EF553B\", \"symbol\": \"circle\"}, \"mode\": \"markers\", \"name\": \"Canyelles\", \"orientation\": \"v\", \"showlegend\": true, \"x\": [\"31- 60 m2\", \"61- 90 m2\", \"91- 120 m2\", \"Fins a 30 m2\"], \"xaxis\": \"x\", \"y\": [38, 2315, 559, 7], \"yaxis\": \"y\", \"type\": \"scatter\"}, {\"hovertemplate\": \"Neighborhood Name=les Roquetes<br>Name_Dist=Nou Barris<br>Description=%{x}<br>Amount=%{y}<extra></extra>\", \"legendgroup\": \"les Roquetes\", \"marker\": {\"color\": \"#00cc96\", \"symbol\": \"circle\"}, \"mode\": \"markers\", \"name\": \"les Roquetes\", \"orientation\": \"v\", \"showlegend\": true, \"x\": [\"121- 150 m2\", \"151- 210 m2\", \"31- 60 m2\", \"61- 90 m2\", \"91- 120 m2\", \"Fins a 30 m2\"], \"xaxis\": \"x\", \"y\": [25, 9, 3735, 2643, 349, 323], \"yaxis\": \"y\", \"type\": \"scatter\"}, {\"hovertemplate\": \"Neighborhood Name=Verdun<br>Name_Dist=Nou Barris<br>Description=%{x}<br>Amount=%{y}<extra></extra>\", \"legendgroup\": \"Verdun\", \"marker\": {\"color\": \"#ab63fa\", \"symbol\": \"circle\"}, \"mode\": \"markers\", \"name\": \"Verdun\", \"orientation\": \"v\", \"showlegend\": true, \"x\": [\"121- 150 m2\", \"151- 210 m2\", \"31- 60 m2\", \"61- 90 m2\", \"91- 120 m2\", \"Fins a 30 m2\", \"M\\u00e9s de 250 m2\"], \"xaxis\": \"x\", \"y\": [18, 3, 3326, 2188, 229, 148, 1], \"yaxis\": \"y\", \"type\": \"scatter\"}, {\"hovertemplate\": \"Neighborhood Name=la Prosperitat<br>Name_Dist=Nou Barris<br>Description=%{x}<br>Amount=%{y}<extra></extra>\", \"legendgroup\": \"la Prosperitat\", \"marker\": {\"color\": \"#FFA15A\", \"symbol\": \"circle\"}, \"mode\": \"markers\", \"name\": \"la Prosperitat\", \"orientation\": \"v\", \"showlegend\": true, \"x\": [\"121- 150 m2\", \"151- 210 m2\", \"211- 250 m2\", \"31- 60 m2\", \"61- 90 m2\", \"91- 120 m2\", \"Fins a 30 m2\", \"M\\u00e9s de 250 m2\"], \"xaxis\": \"x\", \"y\": [30, 10, 1, 6093, 5190, 558, 287, 2], \"yaxis\": \"y\", \"type\": \"scatter\"}, {\"hovertemplate\": \"Neighborhood Name=la Trinitat Nova<br>Name_Dist=Nou Barris<br>Description=%{x}<br>Amount=%{y}<extra></extra>\", \"legendgroup\": \"la Trinitat Nova\", \"marker\": {\"color\": \"#19d3f3\", \"symbol\": \"circle\"}, \"mode\": \"markers\", \"name\": \"la Trinitat Nova\", \"orientation\": \"v\", \"showlegend\": true, \"x\": [\"121- 150 m2\", \"151- 210 m2\", \"211- 250 m2\", \"31- 60 m2\", \"61- 90 m2\", \"91- 120 m2\", \"Fins a 30 m2\"], \"xaxis\": \"x\", \"y\": [1, 2, 2, 1778, 1690, 152, 24], \"yaxis\": \"y\", \"type\": \"scatter\"}, {\"hovertemplate\": \"Neighborhood Name=Torre Bar\\u00f3<br>Name_Dist=Nou Barris<br>Description=%{x}<br>Amount=%{y}<extra></extra>\", \"legendgroup\": \"Torre Bar\\u00f3\", \"marker\": {\"color\": \"#FF6692\", \"symbol\": \"circle\"}, \"mode\": \"markers\", \"name\": \"Torre Bar\\u00f3\", \"orientation\": \"v\", \"showlegend\": true, \"x\": [\"121- 150 m2\", \"151- 210 m2\", \"31- 60 m2\", \"61- 90 m2\", \"91- 120 m2\", \"Fins a 30 m2\"], \"xaxis\": \"x\", \"y\": [25, 13, 598, 663, 175, 227], \"yaxis\": \"y\", \"type\": \"scatter\"}, {\"hovertemplate\": \"Neighborhood Name=Ciutat Meridiana<br>Name_Dist=Nou Barris<br>Description=%{x}<br>Amount=%{y}<extra></extra>\", \"legendgroup\": \"Ciutat Meridiana\", \"marker\": {\"color\": \"#B6E880\", \"symbol\": \"circle\"}, \"mode\": \"markers\", \"name\": \"Ciutat Meridiana\", \"orientation\": \"v\", \"showlegend\": true, \"x\": [\"121- 150 m2\", \"31- 60 m2\", \"61- 90 m2\", \"91- 120 m2\", \"Fins a 30 m2\"], \"xaxis\": \"x\", \"y\": [1, 2786, 1164, 5, 1], \"yaxis\": \"y\", \"type\": \"scatter\"}, {\"hovertemplate\": \"Neighborhood Name=Vallbona<br>Name_Dist=Nou Barris<br>Description=%{x}<br>Amount=%{y}<extra></extra>\", \"legendgroup\": \"Vallbona\", \"marker\": {\"color\": \"#FF97FF\", \"symbol\": \"circle\"}, \"mode\": \"markers\", \"name\": \"Vallbona\", \"orientation\": \"v\", \"showlegend\": true, \"x\": [\"121- 150 m2\", \"151- 210 m2\", \"31- 60 m2\", \"61- 90 m2\", \"91- 120 m2\", \"Fins a 30 m2\"], \"xaxis\": \"x\", \"y\": [7, 3, 209, 381, 89, 156], \"yaxis\": \"y\", \"type\": \"scatter\"}], \"name\": \"Nou Barris\"}, {\"data\": [{\"hovertemplate\": \"Neighborhood Name=la Trinitat Vella<br>Name_Dist=Sant Andreu<br>Description=%{x}<br>Amount=%{y}<extra></extra>\", \"legendgroup\": \"la Trinitat Vella\", \"marker\": {\"color\": \"#FECB52\", \"symbol\": \"circle\"}, \"mode\": \"markers\", \"name\": \"la Trinitat Vella\", \"orientation\": \"v\", \"showlegend\": true, \"x\": [\"121- 150 m2\", \"151- 210 m2\", \"211- 250 m2\", \"31- 60 m2\", \"61- 90 m2\", \"91- 120 m2\", \"Fins a 30 m2\"], \"xaxis\": \"x\", \"y\": [11, 4, 1, 2091, 1566, 326, 195], \"yaxis\": \"y\", \"type\": \"scatter\"}, {\"hovertemplate\": \"Neighborhood Name=Bar\\u00f3 de Viver<br>Name_Dist=Sant Andreu<br>Description=%{x}<br>Amount=%{y}<extra></extra>\", \"legendgroup\": \"Bar\\u00f3 de Viver\", \"marker\": {\"color\": \"#636efa\", \"symbol\": \"circle\"}, \"mode\": \"markers\", \"name\": \"Bar\\u00f3 de Viver\", \"orientation\": \"v\", \"showlegend\": true, \"x\": [\"121- 150 m2\", \"31- 60 m2\", \"61- 90 m2\", \"91- 120 m2\", \"Fins a 30 m2\"], \"xaxis\": \"x\", \"y\": [1, 170, 813, 83, 45], \"yaxis\": \"y\", \"type\": \"scatter\"}, {\"hovertemplate\": \"Neighborhood Name=el Bon Pastor<br>Name_Dist=Sant Andreu<br>Description=%{x}<br>Amount=%{y}<extra></extra>\", \"legendgroup\": \"el Bon Pastor\", \"marker\": {\"color\": \"#EF553B\", \"symbol\": \"circle\"}, \"mode\": \"markers\", \"name\": \"el Bon Pastor\", \"orientation\": \"v\", \"showlegend\": true, \"x\": [\"121- 150 m2\", \"151- 210 m2\", \"31- 60 m2\", \"61- 90 m2\", \"91- 120 m2\", \"Fins a 30 m2\", \"M\\u00e9s de 250 m2\"], \"xaxis\": \"x\", \"y\": [22, 4, 1887, 2670, 569, 180, 1], \"yaxis\": \"y\", \"type\": \"scatter\"}, {\"hovertemplate\": \"Neighborhood Name=Sant Andreu<br>Name_Dist=Sant Andreu<br>Description=%{x}<br>Amount=%{y}<extra></extra>\", \"legendgroup\": \"Sant Andreu\", \"marker\": {\"color\": \"#00cc96\", \"symbol\": \"circle\"}, \"mode\": \"markers\", \"name\": \"Sant Andreu\", \"orientation\": \"v\", \"showlegend\": true, \"x\": [\"121- 150 m2\", \"151- 210 m2\", \"211- 250 m2\", \"31- 60 m2\", \"61- 90 m2\", \"91- 120 m2\", \"Fins a 30 m2\", \"M\\u00e9s de 250 m2\"], \"xaxis\": \"x\", \"y\": [457, 72, 8, 8336, 15074, 3976, 1194, 3], \"yaxis\": \"y\", \"type\": \"scatter\"}, {\"hovertemplate\": \"Neighborhood Name=la Sagrera<br>Name_Dist=Sant Andreu<br>Description=%{x}<br>Amount=%{y}<extra></extra>\", \"legendgroup\": \"la Sagrera\", \"marker\": {\"color\": \"#ab63fa\", \"symbol\": \"circle\"}, \"mode\": \"markers\", \"name\": \"la Sagrera\", \"orientation\": \"v\", \"showlegend\": true, \"x\": [\"121- 150 m2\", \"151- 210 m2\", \"211- 250 m2\", \"31- 60 m2\", \"61- 90 m2\", \"91- 120 m2\", \"Fins a 30 m2\", \"M\\u00e9s de 250 m2\"], \"xaxis\": \"x\", \"y\": [100, 19, 4, 3436, 8001, 1796, 129, 3], \"yaxis\": \"y\", \"type\": \"scatter\"}, {\"hovertemplate\": \"Neighborhood Name=el Congr\\u00e9s i els Indians<br>Name_Dist=Sant Andreu<br>Description=%{x}<br>Amount=%{y}<extra></extra>\", \"legendgroup\": \"el Congr\\u00e9s i els Indians\", \"marker\": {\"color\": \"#FFA15A\", \"symbol\": \"circle\"}, \"mode\": \"markers\", \"name\": \"el Congr\\u00e9s i els Indians\", \"orientation\": \"v\", \"showlegend\": true, \"x\": [\"121- 150 m2\", \"151- 210 m2\", \"211- 250 m2\", \"31- 60 m2\", \"61- 90 m2\", \"91- 120 m2\", \"Fins a 30 m2\", \"M\\u00e9s de 250 m2\"], \"xaxis\": \"x\", \"y\": [65, 22, 1, 1814, 4265, 704, 158, 2], \"yaxis\": \"y\", \"type\": \"scatter\"}, {\"hovertemplate\": \"Neighborhood Name=Navas<br>Name_Dist=Sant Andreu<br>Description=%{x}<br>Amount=%{y}<extra></extra>\", \"legendgroup\": \"Navas\", \"marker\": {\"color\": \"#19d3f3\", \"symbol\": \"circle\"}, \"mode\": \"markers\", \"name\": \"Navas\", \"orientation\": \"v\", \"showlegend\": true, \"x\": [\"121- 150 m2\", \"151- 210 m2\", \"31- 60 m2\", \"61- 90 m2\", \"91- 120 m2\", \"Fins a 30 m2\", \"M\\u00e9s de 250 m2\"], \"xaxis\": \"x\", \"y\": [71, 11, 1922, 6648, 1528, 94, 1], \"yaxis\": \"y\", \"type\": \"scatter\"}], \"name\": \"Sant Andreu\"}, {\"data\": [{\"hovertemplate\": \"Neighborhood Name=Camp de l'Arpa del Clot<br>Name_Dist=Sant Mart\\u00ed<br>Description=%{x}<br>Amount=%{y}<extra></extra>\", \"legendgroup\": \"Camp de l'Arpa del Clot\", \"marker\": {\"color\": \"#FF6692\", \"symbol\": \"circle\"}, \"mode\": \"markers\", \"name\": \"Camp de l'Arpa del Clot\", \"orientation\": \"v\", \"showlegend\": true, \"x\": [\"121- 150 m2\", \"151- 210 m2\", \"211- 250 m2\", \"31- 60 m2\", \"61- 90 m2\", \"91- 120 m2\", \"Fins a 30 m2\", \"M\\u00e9s de 250 m2\"], \"xaxis\": \"x\", \"y\": [221, 96, 11, 6070, 10500, 2505, 444, 23], \"yaxis\": \"y\", \"type\": \"scatter\"}, {\"hovertemplate\": \"Neighborhood Name=el Clot<br>Name_Dist=Sant Mart\\u00ed<br>Description=%{x}<br>Amount=%{y}<extra></extra>\", \"legendgroup\": \"el Clot\", \"marker\": {\"color\": \"#B6E880\", \"symbol\": \"circle\"}, \"mode\": \"markers\", \"name\": \"el Clot\", \"orientation\": \"v\", \"showlegend\": true, \"x\": [\"121- 150 m2\", \"151- 210 m2\", \"211- 250 m2\", \"31- 60 m2\", \"61- 90 m2\", \"91- 120 m2\", \"Fins a 30 m2\", \"M\\u00e9s de 250 m2\"], \"xaxis\": \"x\", \"y\": [373, 37, 4, 2765, 7032, 1815, 372, 16], \"yaxis\": \"y\", \"type\": \"scatter\"}, {\"hovertemplate\": \"Neighborhood Name=el Parc i la Llacuna del Poblenou<br>Name_Dist=Sant Mart\\u00ed<br>Description=%{x}<br>Amount=%{y}<extra></extra>\", \"legendgroup\": \"el Parc i la Llacuna del Poblenou\", \"marker\": {\"color\": \"#FF97FF\", \"symbol\": \"circle\"}, \"mode\": \"markers\", \"name\": \"el Parc i la Llacuna del Poblenou\", \"orientation\": \"v\", \"showlegend\": true, \"x\": [\"121- 150 m2\", \"151- 210 m2\", \"211- 250 m2\", \"31- 60 m2\", \"61- 90 m2\", \"91- 120 m2\", \"Fins a 30 m2\", \"M\\u00e9s de 250 m2\"], \"xaxis\": \"x\", \"y\": [85, 27, 5, 1347, 4332, 1184, 85, 18], \"yaxis\": \"y\", \"type\": \"scatter\"}, {\"hovertemplate\": \"Neighborhood Name=la Vila Ol\\u00edmpica del Poblenou<br>Name_Dist=Sant Mart\\u00ed<br>Description=%{x}<br>Amount=%{y}<extra></extra>\", \"legendgroup\": \"la Vila Ol\\u00edmpica del Poblenou\", \"marker\": {\"color\": \"#FECB52\", \"symbol\": \"circle\"}, \"mode\": \"markers\", \"name\": \"la Vila Ol\\u00edmpica del Poblenou\", \"orientation\": \"v\", \"showlegend\": true, \"x\": [\"121- 150 m2\", \"151- 210 m2\", \"211- 250 m2\", \"31- 60 m2\", \"61- 90 m2\", \"91- 120 m2\", \"Fins a 30 m2\", \"M\\u00e9s de 250 m2\"], \"xaxis\": \"x\", \"y\": [957, 166, 2, 992, 1240, 1142, 142, 12], \"yaxis\": \"y\", \"type\": \"scatter\"}, {\"hovertemplate\": \"Neighborhood Name=el Poblenou<br>Name_Dist=Sant Mart\\u00ed<br>Description=%{x}<br>Amount=%{y}<extra></extra>\", \"legendgroup\": \"el Poblenou\", \"marker\": {\"color\": \"#636efa\", \"symbol\": \"circle\"}, \"mode\": \"markers\", \"name\": \"el Poblenou\", \"orientation\": \"v\", \"showlegend\": true, \"x\": [\"121- 150 m2\", \"151- 210 m2\", \"211- 250 m2\", \"31- 60 m2\", \"61- 90 m2\", \"91- 120 m2\", \"Fins a 30 m2\", \"M\\u00e9s de 250 m2\"], \"xaxis\": \"x\", \"y\": [446, 110, 9, 5039, 7258, 3127, 425, 22], \"yaxis\": \"y\", \"type\": \"scatter\"}, {\"hovertemplate\": \"Neighborhood Name=Diagonal Mar i el Front Mar\\u00edtim del Poblenou<br>Name_Dist=Sant Mart\\u00ed<br>Description=%{x}<br>Amount=%{y}<extra></extra>\", \"legendgroup\": \"Diagonal Mar i el Front Mar\\u00edtim del Poblenou\", \"marker\": {\"color\": \"#EF553B\", \"symbol\": \"circle\"}, \"mode\": \"markers\", \"name\": \"Diagonal Mar i el Front Mar\\u00edtim del Poblenou\", \"orientation\": \"v\", \"showlegend\": true, \"x\": [\"121- 150 m2\", \"151- 210 m2\", \"211- 250 m2\", \"31- 60 m2\", \"61- 90 m2\", \"91- 120 m2\", \"Fins a 30 m2\", \"M\\u00e9s de 250 m2\"], \"xaxis\": \"x\", \"y\": [344, 76, 9, 814, 3676, 1307, 41, 31], \"yaxis\": \"y\", \"type\": \"scatter\"}, {\"hovertemplate\": \"Neighborhood Name=el Bes\\u00f2s i el Maresme<br>Name_Dist=Sant Mart\\u00ed<br>Description=%{x}<br>Amount=%{y}<extra></extra>\", \"legendgroup\": \"el Bes\\u00f2s i el Maresme\", \"marker\": {\"color\": \"#00cc96\", \"symbol\": \"circle\"}, \"mode\": \"markers\", \"name\": \"el Bes\\u00f2s i el Maresme\", \"orientation\": \"v\", \"showlegend\": true, \"x\": [\"121- 150 m2\", \"151- 210 m2\", \"31- 60 m2\", \"61- 90 m2\", \"91- 120 m2\", \"Fins a 30 m2\", \"M\\u00e9s de 250 m2\"], \"xaxis\": \"x\", \"y\": [8, 4, 3583, 5487, 289, 273, 1], \"yaxis\": \"y\", \"type\": \"scatter\"}, {\"hovertemplate\": \"Neighborhood Name=Proven\\u00e7als del Poblenou<br>Name_Dist=Sant Mart\\u00ed<br>Description=%{x}<br>Amount=%{y}<extra></extra>\", \"legendgroup\": \"Proven\\u00e7als del Poblenou\", \"marker\": {\"color\": \"#ab63fa\", \"symbol\": \"circle\"}, \"mode\": \"markers\", \"name\": \"Proven\\u00e7als del Poblenou\", \"orientation\": \"v\", \"showlegend\": true, \"x\": [\"121- 150 m2\", \"151- 210 m2\", \"31- 60 m2\", \"61- 90 m2\", \"91- 120 m2\", \"Fins a 30 m2\", \"M\\u00e9s de 250 m2\"], \"xaxis\": \"x\", \"y\": [32, 19, 1335, 6327, 1372, 102, 7], \"yaxis\": \"y\", \"type\": \"scatter\"}, {\"hovertemplate\": \"Neighborhood Name=Sant Mart\\u00ed de Proven\\u00e7als<br>Name_Dist=Sant Mart\\u00ed<br>Description=%{x}<br>Amount=%{y}<extra></extra>\", \"legendgroup\": \"Sant Mart\\u00ed de Proven\\u00e7als\", \"marker\": {\"color\": \"#FFA15A\", \"symbol\": \"circle\"}, \"mode\": \"markers\", \"name\": \"Sant Mart\\u00ed de Proven\\u00e7als\", \"orientation\": \"v\", \"showlegend\": true, \"x\": [\"121- 150 m2\", \"151- 210 m2\", \"211- 250 m2\", \"31- 60 m2\", \"61- 90 m2\", \"91- 120 m2\", \"Fins a 30 m2\", \"M\\u00e9s de 250 m2\"], \"xaxis\": \"x\", \"y\": [97, 16, 1, 1777, 7814, 1911, 74, 2], \"yaxis\": \"y\", \"type\": \"scatter\"}, {\"hovertemplate\": \"Neighborhood Name=la Verneda i la Pau<br>Name_Dist=Sant Mart\\u00ed<br>Description=%{x}<br>Amount=%{y}<extra></extra>\", \"legendgroup\": \"la Verneda i la Pau\", \"marker\": {\"color\": \"#19d3f3\", \"symbol\": \"circle\"}, \"mode\": \"markers\", \"name\": \"la Verneda i la Pau\", \"orientation\": \"v\", \"showlegend\": true, \"x\": [\"121- 150 m2\", \"151- 210 m2\", \"211- 250 m2\", \"31- 60 m2\", \"61- 90 m2\", \"91- 120 m2\", \"Fins a 30 m2\", \"M\\u00e9s de 250 m2\"], \"xaxis\": \"x\", \"y\": [28, 15, 3, 3146, 8713, 1086, 65, 7], \"yaxis\": \"y\", \"type\": \"scatter\"}], \"name\": \"Sant Mart\\u00ed\"}]);\n",
       "                        }).then(function(){\n",
       "                            \n",
       "var gd = document.getElementById('cf493d74-f670-4237-b30d-9f235c90f74a');\n",
       "var x = new MutationObserver(function (mutations, observer) {{\n",
       "        var display = window.getComputedStyle(gd).display;\n",
       "        if (!display || display === 'none') {{\n",
       "            console.log([gd, 'removed!']);\n",
       "            Plotly.purge(gd);\n",
       "            observer.disconnect();\n",
       "        }}\n",
       "}});\n",
       "\n",
       "// Listen for the removal of the full notebook cells\n",
       "var notebookContainer = gd.closest('#notebook-container');\n",
       "if (notebookContainer) {{\n",
       "    x.observe(notebookContainer, {childList: true});\n",
       "}}\n",
       "\n",
       "// Listen for the clearing of the current output cell\n",
       "var outputEl = gd.closest('.output');\n",
       "if (outputEl) {{\n",
       "    x.observe(outputEl, {childList: true});\n",
       "}}\n",
       "\n",
       "                        })                };                });            </script>        </div>"
      ]
     },
     "metadata": {},
     "output_type": "display_data"
    }
   ],
   "source": [
    "fig = px.scatter(house_area_2019, x='Description', y='Amount', title=\"District\", animation_frame=\"Name_Dist\",\n",
    "                     color_discrete_map=color_dict, color=\"Name_NBHD\",  template=\"plotly_white\",\n",
    "                     labels={'Name_NBHD':'Neighborhood Name'})\n",
    "fig.show()"
   ]
  },
  {
   "cell_type": "code",
   "execution_count": 38,
   "metadata": {},
   "outputs": [
    {
     "data": {
      "application/vnd.plotly.v1+json": {
       "config": {
        "plotlyServerURL": "https://plotly.com"
       },
       "data": [
        {
         "hovertemplate": "Name_Dist=Ciutat Vella<br>Description=%{x}<br>Amount=%{y}<extra></extra>",
         "legendgroup": "Ciutat Vella",
         "marker": {
          "color": "#ab63fa",
          "symbol": "circle"
         },
         "mode": "markers",
         "name": "Ciutat Vella",
         "orientation": "v",
         "showlegend": true,
         "type": "scatter",
         "x": [
          "121- 150 m2",
          "151- 210 m2",
          "211- 250 m2",
          "31- 60 m2",
          "61- 90 m2",
          "91- 120 m2",
          "Fins a 30 m2",
          "Més de 250 m2",
          "121- 150 m2",
          "151- 210 m2",
          "211- 250 m2",
          "31- 60 m2",
          "61- 90 m2",
          "91- 120 m2",
          "Fins a 30 m2",
          "Més de 250 m2",
          "121- 150 m2",
          "151- 210 m2",
          "211- 250 m2",
          "31- 60 m2",
          "61- 90 m2",
          "91- 120 m2",
          "Fins a 30 m2",
          "Més de 250 m2",
          "121- 150 m2",
          "151- 210 m2",
          "211- 250 m2",
          "31- 60 m2",
          "61- 90 m2",
          "91- 120 m2",
          "Fins a 30 m2",
          "Més de 250 m2"
         ],
         "xaxis": "x",
         "y": [
          861,
          420,
          103,
          11369,
          6568,
          2097,
          1583,
          111,
          1050,
          716,
          128,
          2725,
          2899,
          1929,
          715,
          170,
          41,
          9,
          3,
          5972,
          1736,
          319,
          1073,
          7,
          870,
          479,
          89,
          5621,
          4314,
          1887,
          1099,
          93
         ],
         "yaxis": "y"
        },
        {
         "hovertemplate": "Name_Dist=Eixample<br>Description=%{x}<br>Amount=%{y}<extra></extra>",
         "legendgroup": "Eixample",
         "marker": {
          "color": "#FFA15A",
          "symbol": "circle"
         },
         "mode": "markers",
         "name": "Eixample",
         "orientation": "v",
         "showlegend": true,
         "type": "scatter",
         "x": [
          "121- 150 m2",
          "151- 210 m2",
          "211- 250 m2",
          "31- 60 m2",
          "61- 90 m2",
          "91- 120 m2",
          "Fins a 30 m2",
          "Més de 250 m2",
          "121- 150 m2",
          "151- 210 m2",
          "211- 250 m2",
          "31- 60 m2",
          "61- 90 m2",
          "91- 120 m2",
          "Fins a 30 m2",
          "Més de 250 m2",
          "121- 150 m2",
          "151- 210 m2",
          "211- 250 m2",
          "31- 60 m2",
          "61- 90 m2",
          "91- 120 m2",
          "Fins a 30 m2",
          "Més de 250 m2",
          "121- 150 m2",
          "151- 210 m2",
          "211- 250 m2",
          "31- 60 m2",
          "61- 90 m2",
          "91- 120 m2",
          "Fins a 30 m2",
          "Més de 250 m2",
          "121- 150 m2",
          "151- 210 m2",
          "211- 250 m2",
          "31- 60 m2",
          "61- 90 m2",
          "91- 120 m2",
          "Fins a 30 m2",
          "Més de 250 m2",
          "121- 150 m2",
          "151- 210 m2",
          "211- 250 m2",
          "31- 60 m2",
          "61- 90 m2",
          "91- 120 m2",
          "Fins a 30 m2",
          "Més de 250 m2"
         ],
         "xaxis": "x",
         "y": [
          597,
          271,
          33,
          2591,
          7654,
          3729,
          229,
          32,
          744,
          130,
          17,
          6383,
          14102,
          4539,
          536,
          58,
          3544,
          3862,
          945,
          2865,
          6864,
          5882,
          552,
          701,
          2681,
          1388,
          251,
          3123,
          8873,
          6601,
          374,
          159,
          1416,
          481,
          18,
          4974,
          14146,
          8232,
          446,
          8,
          1013,
          330,
          28,
          3765,
          9579,
          4353,
          375,
          41
         ],
         "yaxis": "y"
        },
        {
         "hovertemplate": "Name_Dist=Sants-Montjuïc<br>Description=%{x}<br>Amount=%{y}<extra></extra>",
         "legendgroup": "Sants-Montjuïc",
         "marker": {
          "color": "#19d3f3",
          "symbol": "circle"
         },
         "mode": "markers",
         "name": "Sants-Montjuïc",
         "orientation": "v",
         "showlegend": true,
         "type": "scatter",
         "x": [
          "121- 150 m2",
          "151- 210 m2",
          "211- 250 m2",
          "31- 60 m2",
          "61- 90 m2",
          "91- 120 m2",
          "Fins a 30 m2",
          "Més de 250 m2",
          "121- 150 m2",
          "151- 210 m2",
          "211- 250 m2",
          "31- 60 m2",
          "61- 90 m2",
          "91- 120 m2",
          "Fins a 30 m2",
          "Més de 250 m2",
          "121- 150 m2",
          "151- 210 m2",
          "31- 60 m2",
          "61- 90 m2",
          "91- 120 m2",
          "Fins a 30 m2",
          "Més de 250 m2",
          "121- 150 m2",
          "151- 210 m2",
          "31- 60 m2",
          "61- 90 m2",
          "91- 120 m2",
          "Fins a 30 m2",
          "121- 150 m2",
          "151- 210 m2",
          "31- 60 m2",
          "61- 90 m2",
          "91- 120 m2",
          "Fins a 30 m2",
          "Més de 250 m2",
          "121- 150 m2",
          "151- 210 m2",
          "211- 250 m2",
          "31- 60 m2",
          "61- 90 m2",
          "91- 120 m2",
          "Fins a 30 m2",
          "Més de 250 m2",
          "121- 150 m2",
          "151- 210 m2",
          "211- 250 m2",
          "31- 60 m2",
          "61- 90 m2",
          "91- 120 m2",
          "Fins a 30 m2",
          "Més de 250 m2",
          "121- 150 m2",
          "151- 210 m2",
          "211- 250 m2",
          "31- 60 m2",
          "61- 90 m2",
          "91- 120 m2",
          "Fins a 30 m2",
          "Més de 250 m2"
         ],
         "xaxis": "x",
         "y": [
          129,
          23,
          7,
          8069,
          8104,
          1442,
          738,
          8,
          6,
          9,
          2,
          168,
          297,
          214,
          75,
          5,
          22,
          8,
          2513,
          8734,
          1854,
          202,
          1,
          121,
          20,
          1062,
          2804,
          802,
          100,
          97,
          31,
          2636,
          3814,
          1142,
          278,
          7,
          92,
          9,
          1,
          1805,
          5742,
          1085,
          103,
          1,
          91,
          13,
          2,
          3735,
          6260,
          1418,
          201,
          2,
          542,
          128,
          6,
          6483,
          10343,
          2843,
          639,
          5
         ],
         "yaxis": "y"
        },
        {
         "hovertemplate": "Name_Dist=Les Corts<br>Description=%{x}<br>Amount=%{y}<extra></extra>",
         "legendgroup": "Les Corts",
         "marker": {
          "color": "#FF6692",
          "symbol": "circle"
         },
         "mode": "markers",
         "name": "Les Corts",
         "orientation": "v",
         "showlegend": true,
         "type": "scatter",
         "x": [
          "121- 150 m2",
          "151- 210 m2",
          "211- 250 m2",
          "31- 60 m2",
          "61- 90 m2",
          "91- 120 m2",
          "Fins a 30 m2",
          "Més de 250 m2",
          "121- 150 m2",
          "151- 210 m2",
          "211- 250 m2",
          "31- 60 m2",
          "61- 90 m2",
          "91- 120 m2",
          "Fins a 30 m2",
          "Més de 250 m2",
          "121- 150 m2",
          "151- 210 m2",
          "211- 250 m2",
          "31- 60 m2",
          "61- 90 m2",
          "91- 120 m2",
          "Fins a 30 m2",
          "Més de 250 m2"
         ],
         "xaxis": "x",
         "y": [
          1576,
          686,
          99,
          4061,
          10225,
          5918,
          471,
          26,
          696,
          100,
          11,
          1647,
          5788,
          3166,
          239,
          7,
          1067,
          1526,
          315,
          593,
          777,
          1349,
          211,
          264
         ],
         "yaxis": "y"
        },
        {
         "hovertemplate": "Name_Dist=Sarrià-Sant Gervasi<br>Description=%{x}<br>Amount=%{y}<extra></extra>",
         "legendgroup": "Sarrià-Sant Gervasi",
         "marker": {
          "color": "#B6E880",
          "symbol": "circle"
         },
         "mode": "markers",
         "name": "Sarrià-Sant Gervasi",
         "orientation": "v",
         "showlegend": true,
         "type": "scatter",
         "x": [
          "121- 150 m2",
          "151- 210 m2",
          "211- 250 m2",
          "31- 60 m2",
          "61- 90 m2",
          "91- 120 m2",
          "Fins a 30 m2",
          "Més de 250 m2",
          "121- 150 m2",
          "151- 210 m2",
          "211- 250 m2",
          "31- 60 m2",
          "61- 90 m2",
          "91- 120 m2",
          "Fins a 30 m2",
          "Més de 250 m2",
          "121- 150 m2",
          "151- 210 m2",
          "211- 250 m2",
          "31- 60 m2",
          "61- 90 m2",
          "91- 120 m2",
          "Fins a 30 m2",
          "Més de 250 m2",
          "121- 150 m2",
          "151- 210 m2",
          "211- 250 m2",
          "31- 60 m2",
          "61- 90 m2",
          "91- 120 m2",
          "Fins a 30 m2",
          "Més de 250 m2",
          "121- 150 m2",
          "151- 210 m2",
          "211- 250 m2",
          "31- 60 m2",
          "61- 90 m2",
          "91- 120 m2",
          "Fins a 30 m2",
          "Més de 250 m2",
          "121- 150 m2",
          "151- 210 m2",
          "211- 250 m2",
          "31- 60 m2",
          "61- 90 m2",
          "91- 120 m2",
          "Fins a 30 m2",
          "Més de 250 m2"
         ],
         "xaxis": "x",
         "y": [
          274,
          164,
          26,
          796,
          798,
          621,
          337,
          18,
          1561,
          1176,
          190,
          2325,
          4284,
          2452,
          501,
          120,
          1264,
          1761,
          462,
          680,
          1136,
          1282,
          99,
          343,
          2140,
          2451,
          358,
          1777,
          2753,
          2519,
          354,
          270,
          3543,
          4512,
          1143,
          2876,
          5334,
          5814,
          523,
          1245,
          1730,
          860,
          147,
          3550,
          5403,
          3940,
          549,
          102
         ],
         "yaxis": "y"
        },
        {
         "hovertemplate": "Name_Dist=Gràcia<br>Description=%{x}<br>Amount=%{y}<extra></extra>",
         "legendgroup": "Gràcia",
         "marker": {
          "color": "#FF97FF",
          "symbol": "circle"
         },
         "mode": "markers",
         "name": "Gràcia",
         "orientation": "v",
         "showlegend": true,
         "type": "scatter",
         "x": [
          "121- 150 m2",
          "151- 210 m2",
          "211- 250 m2",
          "31- 60 m2",
          "61- 90 m2",
          "91- 120 m2",
          "Fins a 30 m2",
          "Més de 250 m2",
          "121- 150 m2",
          "151- 210 m2",
          "211- 250 m2",
          "31- 60 m2",
          "61- 90 m2",
          "91- 120 m2",
          "Fins a 30 m2",
          "Més de 250 m2",
          "121- 150 m2",
          "151- 210 m2",
          "211- 250 m2",
          "31- 60 m2",
          "61- 90 m2",
          "91- 120 m2",
          "Fins a 30 m2",
          "Més de 250 m2",
          "121- 150 m2",
          "151- 210 m2",
          "211- 250 m2",
          "31- 60 m2",
          "61- 90 m2",
          "91- 120 m2",
          "Fins a 30 m2",
          "Més de 250 m2",
          "121- 150 m2",
          "151- 210 m2",
          "211- 250 m2",
          "31- 60 m2",
          "61- 90 m2",
          "91- 120 m2",
          "Fins a 30 m2",
          "Més de 250 m2"
         ],
         "xaxis": "x",
         "y": [
          399,
          277,
          30,
          2232,
          4113,
          1539,
          368,
          15,
          66,
          23,
          3,
          1340,
          1992,
          343,
          161,
          2,
          346,
          106,
          12,
          1543,
          2875,
          1664,
          311,
          12,
          1124,
          729,
          136,
          10141,
          13047,
          3892,
          1568,
          111,
          743,
          149,
          22,
          4352,
          9711,
          2939,
          376,
          25
         ],
         "yaxis": "y"
        },
        {
         "hovertemplate": "Name_Dist=Horta-Guinardó<br>Description=%{x}<br>Amount=%{y}<extra></extra>",
         "legendgroup": "Horta-Guinardó",
         "marker": {
          "color": "#FECB52",
          "symbol": "circle"
         },
         "mode": "markers",
         "name": "Horta-Guinardó",
         "orientation": "v",
         "showlegend": true,
         "type": "scatter",
         "x": [
          "121- 150 m2",
          "151- 210 m2",
          "211- 250 m2",
          "31- 60 m2",
          "61- 90 m2",
          "91- 120 m2",
          "Fins a 30 m2",
          "Més de 250 m2",
          "121- 150 m2",
          "151- 210 m2",
          "211- 250 m2",
          "31- 60 m2",
          "61- 90 m2",
          "91- 120 m2",
          "Fins a 30 m2",
          "Més de 250 m2",
          "121- 150 m2",
          "151- 210 m2",
          "211- 250 m2",
          "31- 60 m2",
          "61- 90 m2",
          "91- 120 m2",
          "Fins a 30 m2",
          "Més de 250 m2",
          "121- 150 m2",
          "151- 210 m2",
          "211- 250 m2",
          "31- 60 m2",
          "61- 90 m2",
          "91- 120 m2",
          "Fins a 30 m2",
          "Més de 250 m2",
          "121- 150 m2",
          "151- 210 m2",
          "211- 250 m2",
          "31- 60 m2",
          "61- 90 m2",
          "91- 120 m2",
          "Fins a 30 m2",
          "Més de 250 m2",
          "121- 150 m2",
          "151- 210 m2",
          "211- 250 m2",
          "31- 60 m2",
          "61- 90 m2",
          "91- 120 m2",
          "Fins a 30 m2",
          "121- 150 m2",
          "151- 210 m2",
          "211- 250 m2",
          "31- 60 m2",
          "61- 90 m2",
          "91- 120 m2",
          "Fins a 30 m2",
          "Més de 250 m2",
          "31- 60 m2",
          "61- 90 m2",
          "91- 120 m2",
          "Fins a 30 m2",
          "121- 150 m2",
          "151- 210 m2",
          "211- 250 m2",
          "31- 60 m2",
          "61- 90 m2",
          "91- 120 m2",
          "121- 150 m2",
          "151- 210 m2",
          "31- 60 m2",
          "61- 90 m2",
          "91- 120 m2",
          "Fins a 30 m2",
          "121- 150 m2",
          "151- 210 m2",
          "211- 250 m2",
          "31- 60 m2",
          "61- 90 m2",
          "91- 120 m2",
          "Fins a 30 m2",
          "Més de 250 m2"
         ],
         "xaxis": "x",
         "y": [
          300,
          46,
          5,
          3371,
          6689,
          1826,
          235,
          3,
          67,
          7,
          3,
          1662,
          2255,
          588,
          242,
          2,
          336,
          93,
          12,
          5836,
          9494,
          2267,
          706,
          17,
          248,
          79,
          4,
          1620,
          2218,
          752,
          398,
          10,
          66,
          13,
          1,
          7326,
          6744,
          624,
          703,
          4,
          50,
          2,
          2,
          2607,
          2586,
          464,
          255,
          18,
          10,
          3,
          577,
          2685,
          123,
          89,
          4,
          941,
          1438,
          71,
          112,
          194,
          12,
          1,
          777,
          1509,
          161,
          3,
          1,
          147,
          180,
          52,
          36,
          207,
          61,
          10,
          4419,
          6732,
          1365,
          666,
          12
         ],
         "yaxis": "y"
        },
        {
         "hovertemplate": "Name_Dist=Nou Barris<br>Description=%{x}<br>Amount=%{y}<extra></extra>",
         "legendgroup": "Nou Barris",
         "marker": {
          "color": "#636efa",
          "symbol": "circle"
         },
         "mode": "markers",
         "name": "Nou Barris",
         "orientation": "v",
         "showlegend": true,
         "type": "scatter",
         "x": [
          "121- 150 m2",
          "151- 210 m2",
          "211- 250 m2",
          "31- 60 m2",
          "61- 90 m2",
          "91- 120 m2",
          "Fins a 30 m2",
          "Més de 250 m2",
          "121- 150 m2",
          "151- 210 m2",
          "31- 60 m2",
          "61- 90 m2",
          "91- 120 m2",
          "Fins a 30 m2",
          "Més de 250 m2",
          "121- 150 m2",
          "151- 210 m2",
          "211- 250 m2",
          "31- 60 m2",
          "61- 90 m2",
          "91- 120 m2",
          "Fins a 30 m2",
          "121- 150 m2",
          "151- 210 m2",
          "31- 60 m2",
          "61- 90 m2",
          "91- 120 m2",
          "Fins a 30 m2",
          "151- 210 m2",
          "211- 250 m2",
          "31- 60 m2",
          "61- 90 m2",
          "91- 120 m2",
          "Fins a 30 m2",
          "31- 60 m2",
          "61- 90 m2",
          "91- 120 m2",
          "Fins a 30 m2",
          "121- 150 m2",
          "151- 210 m2",
          "31- 60 m2",
          "61- 90 m2",
          "91- 120 m2",
          "Fins a 30 m2",
          "121- 150 m2",
          "151- 210 m2",
          "31- 60 m2",
          "61- 90 m2",
          "91- 120 m2",
          "Fins a 30 m2",
          "Més de 250 m2",
          "121- 150 m2",
          "151- 210 m2",
          "211- 250 m2",
          "31- 60 m2",
          "61- 90 m2",
          "91- 120 m2",
          "Fins a 30 m2",
          "Més de 250 m2",
          "121- 150 m2",
          "151- 210 m2",
          "211- 250 m2",
          "31- 60 m2",
          "61- 90 m2",
          "91- 120 m2",
          "Fins a 30 m2",
          "121- 150 m2",
          "151- 210 m2",
          "31- 60 m2",
          "61- 90 m2",
          "91- 120 m2",
          "Fins a 30 m2",
          "121- 150 m2",
          "31- 60 m2",
          "61- 90 m2",
          "91- 120 m2",
          "Fins a 30 m2",
          "121- 150 m2",
          "151- 210 m2",
          "31- 60 m2",
          "61- 90 m2",
          "91- 120 m2",
          "Fins a 30 m2"
         ],
         "xaxis": "x",
         "y": [
          89,
          11,
          2,
          3320,
          7241,
          1247,
          330,
          1,
          66,
          11,
          4371,
          6021,
          860,
          157,
          2,
          4,
          3,
          1,
          2942,
          3663,
          233,
          110,
          2,
          1,
          776,
          228,
          1,
          39,
          1,
          1,
          1242,
          4767,
          782,
          8,
          38,
          2315,
          559,
          7,
          25,
          9,
          3735,
          2643,
          349,
          323,
          18,
          3,
          3326,
          2188,
          229,
          148,
          1,
          30,
          10,
          1,
          6093,
          5190,
          558,
          287,
          2,
          1,
          2,
          2,
          1778,
          1690,
          152,
          24,
          25,
          13,
          598,
          663,
          175,
          227,
          1,
          2786,
          1164,
          5,
          1,
          7,
          3,
          209,
          381,
          89,
          156
         ],
         "yaxis": "y"
        },
        {
         "hovertemplate": "Name_Dist=Sant Andreu<br>Description=%{x}<br>Amount=%{y}<extra></extra>",
         "legendgroup": "Sant Andreu",
         "marker": {
          "color": "#EF553B",
          "symbol": "circle"
         },
         "mode": "markers",
         "name": "Sant Andreu",
         "orientation": "v",
         "showlegend": true,
         "type": "scatter",
         "x": [
          "121- 150 m2",
          "151- 210 m2",
          "211- 250 m2",
          "31- 60 m2",
          "61- 90 m2",
          "91- 120 m2",
          "Fins a 30 m2",
          "121- 150 m2",
          "31- 60 m2",
          "61- 90 m2",
          "91- 120 m2",
          "Fins a 30 m2",
          "121- 150 m2",
          "151- 210 m2",
          "31- 60 m2",
          "61- 90 m2",
          "91- 120 m2",
          "Fins a 30 m2",
          "Més de 250 m2",
          "121- 150 m2",
          "151- 210 m2",
          "211- 250 m2",
          "31- 60 m2",
          "61- 90 m2",
          "91- 120 m2",
          "Fins a 30 m2",
          "Més de 250 m2",
          "121- 150 m2",
          "151- 210 m2",
          "211- 250 m2",
          "31- 60 m2",
          "61- 90 m2",
          "91- 120 m2",
          "Fins a 30 m2",
          "Més de 250 m2",
          "121- 150 m2",
          "151- 210 m2",
          "211- 250 m2",
          "31- 60 m2",
          "61- 90 m2",
          "91- 120 m2",
          "Fins a 30 m2",
          "Més de 250 m2",
          "121- 150 m2",
          "151- 210 m2",
          "31- 60 m2",
          "61- 90 m2",
          "91- 120 m2",
          "Fins a 30 m2",
          "Més de 250 m2"
         ],
         "xaxis": "x",
         "y": [
          11,
          4,
          1,
          2091,
          1566,
          326,
          195,
          1,
          170,
          813,
          83,
          45,
          22,
          4,
          1887,
          2670,
          569,
          180,
          1,
          457,
          72,
          8,
          8336,
          15074,
          3976,
          1194,
          3,
          100,
          19,
          4,
          3436,
          8001,
          1796,
          129,
          3,
          65,
          22,
          1,
          1814,
          4265,
          704,
          158,
          2,
          71,
          11,
          1922,
          6648,
          1528,
          94,
          1
         ],
         "yaxis": "y"
        },
        {
         "hovertemplate": "Name_Dist=Sant Martí<br>Description=%{x}<br>Amount=%{y}<extra></extra>",
         "legendgroup": "Sant Martí",
         "marker": {
          "color": "#00cc96",
          "symbol": "circle"
         },
         "mode": "markers",
         "name": "Sant Martí",
         "orientation": "v",
         "showlegend": true,
         "type": "scatter",
         "x": [
          "121- 150 m2",
          "151- 210 m2",
          "211- 250 m2",
          "31- 60 m2",
          "61- 90 m2",
          "91- 120 m2",
          "Fins a 30 m2",
          "Més de 250 m2",
          "121- 150 m2",
          "151- 210 m2",
          "211- 250 m2",
          "31- 60 m2",
          "61- 90 m2",
          "91- 120 m2",
          "Fins a 30 m2",
          "Més de 250 m2",
          "121- 150 m2",
          "151- 210 m2",
          "211- 250 m2",
          "31- 60 m2",
          "61- 90 m2",
          "91- 120 m2",
          "Fins a 30 m2",
          "Més de 250 m2",
          "121- 150 m2",
          "151- 210 m2",
          "211- 250 m2",
          "31- 60 m2",
          "61- 90 m2",
          "91- 120 m2",
          "Fins a 30 m2",
          "Més de 250 m2",
          "121- 150 m2",
          "151- 210 m2",
          "211- 250 m2",
          "31- 60 m2",
          "61- 90 m2",
          "91- 120 m2",
          "Fins a 30 m2",
          "Més de 250 m2",
          "121- 150 m2",
          "151- 210 m2",
          "211- 250 m2",
          "31- 60 m2",
          "61- 90 m2",
          "91- 120 m2",
          "Fins a 30 m2",
          "Més de 250 m2",
          "121- 150 m2",
          "151- 210 m2",
          "31- 60 m2",
          "61- 90 m2",
          "91- 120 m2",
          "Fins a 30 m2",
          "Més de 250 m2",
          "121- 150 m2",
          "151- 210 m2",
          "31- 60 m2",
          "61- 90 m2",
          "91- 120 m2",
          "Fins a 30 m2",
          "Més de 250 m2",
          "121- 150 m2",
          "151- 210 m2",
          "211- 250 m2",
          "31- 60 m2",
          "61- 90 m2",
          "91- 120 m2",
          "Fins a 30 m2",
          "Més de 250 m2",
          "121- 150 m2",
          "151- 210 m2",
          "211- 250 m2",
          "31- 60 m2",
          "61- 90 m2",
          "91- 120 m2",
          "Fins a 30 m2",
          "Més de 250 m2"
         ],
         "xaxis": "x",
         "y": [
          221,
          96,
          11,
          6070,
          10500,
          2505,
          444,
          23,
          373,
          37,
          4,
          2765,
          7032,
          1815,
          372,
          16,
          85,
          27,
          5,
          1347,
          4332,
          1184,
          85,
          18,
          957,
          166,
          2,
          992,
          1240,
          1142,
          142,
          12,
          446,
          110,
          9,
          5039,
          7258,
          3127,
          425,
          22,
          344,
          76,
          9,
          814,
          3676,
          1307,
          41,
          31,
          8,
          4,
          3583,
          5487,
          289,
          273,
          1,
          32,
          19,
          1335,
          6327,
          1372,
          102,
          7,
          97,
          16,
          1,
          1777,
          7814,
          1911,
          74,
          2,
          28,
          15,
          3,
          3146,
          8713,
          1086,
          65,
          7
         ],
         "yaxis": "y"
        }
       ],
       "layout": {
        "legend": {
         "title": {
          "text": "Name_Dist"
         },
         "tracegroupgap": 0
        },
        "template": {
         "data": {
          "bar": [
           {
            "error_x": {
             "color": "#2a3f5f"
            },
            "error_y": {
             "color": "#2a3f5f"
            },
            "marker": {
             "line": {
              "color": "white",
              "width": 0.5
             }
            },
            "type": "bar"
           }
          ],
          "barpolar": [
           {
            "marker": {
             "line": {
              "color": "white",
              "width": 0.5
             }
            },
            "type": "barpolar"
           }
          ],
          "carpet": [
           {
            "aaxis": {
             "endlinecolor": "#2a3f5f",
             "gridcolor": "#C8D4E3",
             "linecolor": "#C8D4E3",
             "minorgridcolor": "#C8D4E3",
             "startlinecolor": "#2a3f5f"
            },
            "baxis": {
             "endlinecolor": "#2a3f5f",
             "gridcolor": "#C8D4E3",
             "linecolor": "#C8D4E3",
             "minorgridcolor": "#C8D4E3",
             "startlinecolor": "#2a3f5f"
            },
            "type": "carpet"
           }
          ],
          "choropleth": [
           {
            "colorbar": {
             "outlinewidth": 0,
             "ticks": ""
            },
            "type": "choropleth"
           }
          ],
          "contour": [
           {
            "colorbar": {
             "outlinewidth": 0,
             "ticks": ""
            },
            "colorscale": [
             [
              0,
              "#0d0887"
             ],
             [
              0.1111111111111111,
              "#46039f"
             ],
             [
              0.2222222222222222,
              "#7201a8"
             ],
             [
              0.3333333333333333,
              "#9c179e"
             ],
             [
              0.4444444444444444,
              "#bd3786"
             ],
             [
              0.5555555555555556,
              "#d8576b"
             ],
             [
              0.6666666666666666,
              "#ed7953"
             ],
             [
              0.7777777777777778,
              "#fb9f3a"
             ],
             [
              0.8888888888888888,
              "#fdca26"
             ],
             [
              1,
              "#f0f921"
             ]
            ],
            "type": "contour"
           }
          ],
          "contourcarpet": [
           {
            "colorbar": {
             "outlinewidth": 0,
             "ticks": ""
            },
            "type": "contourcarpet"
           }
          ],
          "heatmap": [
           {
            "colorbar": {
             "outlinewidth": 0,
             "ticks": ""
            },
            "colorscale": [
             [
              0,
              "#0d0887"
             ],
             [
              0.1111111111111111,
              "#46039f"
             ],
             [
              0.2222222222222222,
              "#7201a8"
             ],
             [
              0.3333333333333333,
              "#9c179e"
             ],
             [
              0.4444444444444444,
              "#bd3786"
             ],
             [
              0.5555555555555556,
              "#d8576b"
             ],
             [
              0.6666666666666666,
              "#ed7953"
             ],
             [
              0.7777777777777778,
              "#fb9f3a"
             ],
             [
              0.8888888888888888,
              "#fdca26"
             ],
             [
              1,
              "#f0f921"
             ]
            ],
            "type": "heatmap"
           }
          ],
          "heatmapgl": [
           {
            "colorbar": {
             "outlinewidth": 0,
             "ticks": ""
            },
            "colorscale": [
             [
              0,
              "#0d0887"
             ],
             [
              0.1111111111111111,
              "#46039f"
             ],
             [
              0.2222222222222222,
              "#7201a8"
             ],
             [
              0.3333333333333333,
              "#9c179e"
             ],
             [
              0.4444444444444444,
              "#bd3786"
             ],
             [
              0.5555555555555556,
              "#d8576b"
             ],
             [
              0.6666666666666666,
              "#ed7953"
             ],
             [
              0.7777777777777778,
              "#fb9f3a"
             ],
             [
              0.8888888888888888,
              "#fdca26"
             ],
             [
              1,
              "#f0f921"
             ]
            ],
            "type": "heatmapgl"
           }
          ],
          "histogram": [
           {
            "marker": {
             "colorbar": {
              "outlinewidth": 0,
              "ticks": ""
             }
            },
            "type": "histogram"
           }
          ],
          "histogram2d": [
           {
            "colorbar": {
             "outlinewidth": 0,
             "ticks": ""
            },
            "colorscale": [
             [
              0,
              "#0d0887"
             ],
             [
              0.1111111111111111,
              "#46039f"
             ],
             [
              0.2222222222222222,
              "#7201a8"
             ],
             [
              0.3333333333333333,
              "#9c179e"
             ],
             [
              0.4444444444444444,
              "#bd3786"
             ],
             [
              0.5555555555555556,
              "#d8576b"
             ],
             [
              0.6666666666666666,
              "#ed7953"
             ],
             [
              0.7777777777777778,
              "#fb9f3a"
             ],
             [
              0.8888888888888888,
              "#fdca26"
             ],
             [
              1,
              "#f0f921"
             ]
            ],
            "type": "histogram2d"
           }
          ],
          "histogram2dcontour": [
           {
            "colorbar": {
             "outlinewidth": 0,
             "ticks": ""
            },
            "colorscale": [
             [
              0,
              "#0d0887"
             ],
             [
              0.1111111111111111,
              "#46039f"
             ],
             [
              0.2222222222222222,
              "#7201a8"
             ],
             [
              0.3333333333333333,
              "#9c179e"
             ],
             [
              0.4444444444444444,
              "#bd3786"
             ],
             [
              0.5555555555555556,
              "#d8576b"
             ],
             [
              0.6666666666666666,
              "#ed7953"
             ],
             [
              0.7777777777777778,
              "#fb9f3a"
             ],
             [
              0.8888888888888888,
              "#fdca26"
             ],
             [
              1,
              "#f0f921"
             ]
            ],
            "type": "histogram2dcontour"
           }
          ],
          "mesh3d": [
           {
            "colorbar": {
             "outlinewidth": 0,
             "ticks": ""
            },
            "type": "mesh3d"
           }
          ],
          "parcoords": [
           {
            "line": {
             "colorbar": {
              "outlinewidth": 0,
              "ticks": ""
             }
            },
            "type": "parcoords"
           }
          ],
          "pie": [
           {
            "automargin": true,
            "type": "pie"
           }
          ],
          "scatter": [
           {
            "marker": {
             "colorbar": {
              "outlinewidth": 0,
              "ticks": ""
             }
            },
            "type": "scatter"
           }
          ],
          "scatter3d": [
           {
            "line": {
             "colorbar": {
              "outlinewidth": 0,
              "ticks": ""
             }
            },
            "marker": {
             "colorbar": {
              "outlinewidth": 0,
              "ticks": ""
             }
            },
            "type": "scatter3d"
           }
          ],
          "scattercarpet": [
           {
            "marker": {
             "colorbar": {
              "outlinewidth": 0,
              "ticks": ""
             }
            },
            "type": "scattercarpet"
           }
          ],
          "scattergeo": [
           {
            "marker": {
             "colorbar": {
              "outlinewidth": 0,
              "ticks": ""
             }
            },
            "type": "scattergeo"
           }
          ],
          "scattergl": [
           {
            "marker": {
             "colorbar": {
              "outlinewidth": 0,
              "ticks": ""
             }
            },
            "type": "scattergl"
           }
          ],
          "scattermapbox": [
           {
            "marker": {
             "colorbar": {
              "outlinewidth": 0,
              "ticks": ""
             }
            },
            "type": "scattermapbox"
           }
          ],
          "scatterpolar": [
           {
            "marker": {
             "colorbar": {
              "outlinewidth": 0,
              "ticks": ""
             }
            },
            "type": "scatterpolar"
           }
          ],
          "scatterpolargl": [
           {
            "marker": {
             "colorbar": {
              "outlinewidth": 0,
              "ticks": ""
             }
            },
            "type": "scatterpolargl"
           }
          ],
          "scatterternary": [
           {
            "marker": {
             "colorbar": {
              "outlinewidth": 0,
              "ticks": ""
             }
            },
            "type": "scatterternary"
           }
          ],
          "surface": [
           {
            "colorbar": {
             "outlinewidth": 0,
             "ticks": ""
            },
            "colorscale": [
             [
              0,
              "#0d0887"
             ],
             [
              0.1111111111111111,
              "#46039f"
             ],
             [
              0.2222222222222222,
              "#7201a8"
             ],
             [
              0.3333333333333333,
              "#9c179e"
             ],
             [
              0.4444444444444444,
              "#bd3786"
             ],
             [
              0.5555555555555556,
              "#d8576b"
             ],
             [
              0.6666666666666666,
              "#ed7953"
             ],
             [
              0.7777777777777778,
              "#fb9f3a"
             ],
             [
              0.8888888888888888,
              "#fdca26"
             ],
             [
              1,
              "#f0f921"
             ]
            ],
            "type": "surface"
           }
          ],
          "table": [
           {
            "cells": {
             "fill": {
              "color": "#EBF0F8"
             },
             "line": {
              "color": "white"
             }
            },
            "header": {
             "fill": {
              "color": "#C8D4E3"
             },
             "line": {
              "color": "white"
             }
            },
            "type": "table"
           }
          ]
         },
         "layout": {
          "annotationdefaults": {
           "arrowcolor": "#2a3f5f",
           "arrowhead": 0,
           "arrowwidth": 1
          },
          "coloraxis": {
           "colorbar": {
            "outlinewidth": 0,
            "ticks": ""
           }
          },
          "colorscale": {
           "diverging": [
            [
             0,
             "#8e0152"
            ],
            [
             0.1,
             "#c51b7d"
            ],
            [
             0.2,
             "#de77ae"
            ],
            [
             0.3,
             "#f1b6da"
            ],
            [
             0.4,
             "#fde0ef"
            ],
            [
             0.5,
             "#f7f7f7"
            ],
            [
             0.6,
             "#e6f5d0"
            ],
            [
             0.7,
             "#b8e186"
            ],
            [
             0.8,
             "#7fbc41"
            ],
            [
             0.9,
             "#4d9221"
            ],
            [
             1,
             "#276419"
            ]
           ],
           "sequential": [
            [
             0,
             "#0d0887"
            ],
            [
             0.1111111111111111,
             "#46039f"
            ],
            [
             0.2222222222222222,
             "#7201a8"
            ],
            [
             0.3333333333333333,
             "#9c179e"
            ],
            [
             0.4444444444444444,
             "#bd3786"
            ],
            [
             0.5555555555555556,
             "#d8576b"
            ],
            [
             0.6666666666666666,
             "#ed7953"
            ],
            [
             0.7777777777777778,
             "#fb9f3a"
            ],
            [
             0.8888888888888888,
             "#fdca26"
            ],
            [
             1,
             "#f0f921"
            ]
           ],
           "sequentialminus": [
            [
             0,
             "#0d0887"
            ],
            [
             0.1111111111111111,
             "#46039f"
            ],
            [
             0.2222222222222222,
             "#7201a8"
            ],
            [
             0.3333333333333333,
             "#9c179e"
            ],
            [
             0.4444444444444444,
             "#bd3786"
            ],
            [
             0.5555555555555556,
             "#d8576b"
            ],
            [
             0.6666666666666666,
             "#ed7953"
            ],
            [
             0.7777777777777778,
             "#fb9f3a"
            ],
            [
             0.8888888888888888,
             "#fdca26"
            ],
            [
             1,
             "#f0f921"
            ]
           ]
          },
          "colorway": [
           "#636efa",
           "#EF553B",
           "#00cc96",
           "#ab63fa",
           "#FFA15A",
           "#19d3f3",
           "#FF6692",
           "#B6E880",
           "#FF97FF",
           "#FECB52"
          ],
          "font": {
           "color": "#2a3f5f"
          },
          "geo": {
           "bgcolor": "white",
           "lakecolor": "white",
           "landcolor": "white",
           "showlakes": true,
           "showland": true,
           "subunitcolor": "#C8D4E3"
          },
          "hoverlabel": {
           "align": "left"
          },
          "hovermode": "closest",
          "mapbox": {
           "style": "light"
          },
          "paper_bgcolor": "white",
          "plot_bgcolor": "white",
          "polar": {
           "angularaxis": {
            "gridcolor": "#EBF0F8",
            "linecolor": "#EBF0F8",
            "ticks": ""
           },
           "bgcolor": "white",
           "radialaxis": {
            "gridcolor": "#EBF0F8",
            "linecolor": "#EBF0F8",
            "ticks": ""
           }
          },
          "scene": {
           "xaxis": {
            "backgroundcolor": "white",
            "gridcolor": "#DFE8F3",
            "gridwidth": 2,
            "linecolor": "#EBF0F8",
            "showbackground": true,
            "ticks": "",
            "zerolinecolor": "#EBF0F8"
           },
           "yaxis": {
            "backgroundcolor": "white",
            "gridcolor": "#DFE8F3",
            "gridwidth": 2,
            "linecolor": "#EBF0F8",
            "showbackground": true,
            "ticks": "",
            "zerolinecolor": "#EBF0F8"
           },
           "zaxis": {
            "backgroundcolor": "white",
            "gridcolor": "#DFE8F3",
            "gridwidth": 2,
            "linecolor": "#EBF0F8",
            "showbackground": true,
            "ticks": "",
            "zerolinecolor": "#EBF0F8"
           }
          },
          "shapedefaults": {
           "line": {
            "color": "#2a3f5f"
           }
          },
          "ternary": {
           "aaxis": {
            "gridcolor": "#DFE8F3",
            "linecolor": "#A2B1C6",
            "ticks": ""
           },
           "baxis": {
            "gridcolor": "#DFE8F3",
            "linecolor": "#A2B1C6",
            "ticks": ""
           },
           "bgcolor": "white",
           "caxis": {
            "gridcolor": "#DFE8F3",
            "linecolor": "#A2B1C6",
            "ticks": ""
           }
          },
          "title": {
           "x": 0.05
          },
          "xaxis": {
           "automargin": true,
           "gridcolor": "#EBF0F8",
           "linecolor": "#EBF0F8",
           "ticks": "",
           "title": {
            "standoff": 15
           },
           "zerolinecolor": "#EBF0F8",
           "zerolinewidth": 2
          },
          "yaxis": {
           "automargin": true,
           "gridcolor": "#EBF0F8",
           "linecolor": "#EBF0F8",
           "ticks": "",
           "title": {
            "standoff": 15
           },
           "zerolinecolor": "#EBF0F8",
           "zerolinewidth": 2
          }
         }
        },
        "title": {
         "text": "District"
        },
        "xaxis": {
         "anchor": "y",
         "domain": [
          0,
          1
         ],
         "title": {
          "text": "Description"
         }
        },
        "yaxis": {
         "anchor": "x",
         "domain": [
          0,
          1
         ],
         "title": {
          "text": "Amount"
         }
        }
       }
      },
      "text/html": [
       "<div>                            <div id=\"aeaa9440-fb90-4240-9a73-44c833e2185c\" class=\"plotly-graph-div\" style=\"height:525px; width:100%;\"></div>            <script type=\"text/javascript\">                require([\"plotly\"], function(Plotly) {                    window.PLOTLYENV=window.PLOTLYENV || {};                                    if (document.getElementById(\"aeaa9440-fb90-4240-9a73-44c833e2185c\")) {                    Plotly.newPlot(                        \"aeaa9440-fb90-4240-9a73-44c833e2185c\",                        [{\"hovertemplate\": \"Name_Dist=Ciutat Vella<br>Description=%{x}<br>Amount=%{y}<extra></extra>\", \"legendgroup\": \"Ciutat Vella\", \"marker\": {\"color\": \"#ab63fa\", \"symbol\": \"circle\"}, \"mode\": \"markers\", \"name\": \"Ciutat Vella\", \"orientation\": \"v\", \"showlegend\": true, \"type\": \"scatter\", \"x\": [\"121- 150 m2\", \"151- 210 m2\", \"211- 250 m2\", \"31- 60 m2\", \"61- 90 m2\", \"91- 120 m2\", \"Fins a 30 m2\", \"M\\u00e9s de 250 m2\", \"121- 150 m2\", \"151- 210 m2\", \"211- 250 m2\", \"31- 60 m2\", \"61- 90 m2\", \"91- 120 m2\", \"Fins a 30 m2\", \"M\\u00e9s de 250 m2\", \"121- 150 m2\", \"151- 210 m2\", \"211- 250 m2\", \"31- 60 m2\", \"61- 90 m2\", \"91- 120 m2\", \"Fins a 30 m2\", \"M\\u00e9s de 250 m2\", \"121- 150 m2\", \"151- 210 m2\", \"211- 250 m2\", \"31- 60 m2\", \"61- 90 m2\", \"91- 120 m2\", \"Fins a 30 m2\", \"M\\u00e9s de 250 m2\"], \"xaxis\": \"x\", \"y\": [861, 420, 103, 11369, 6568, 2097, 1583, 111, 1050, 716, 128, 2725, 2899, 1929, 715, 170, 41, 9, 3, 5972, 1736, 319, 1073, 7, 870, 479, 89, 5621, 4314, 1887, 1099, 93], \"yaxis\": \"y\"}, {\"hovertemplate\": \"Name_Dist=Eixample<br>Description=%{x}<br>Amount=%{y}<extra></extra>\", \"legendgroup\": \"Eixample\", \"marker\": {\"color\": \"#FFA15A\", \"symbol\": \"circle\"}, \"mode\": \"markers\", \"name\": \"Eixample\", \"orientation\": \"v\", \"showlegend\": true, \"type\": \"scatter\", \"x\": [\"121- 150 m2\", \"151- 210 m2\", \"211- 250 m2\", \"31- 60 m2\", \"61- 90 m2\", \"91- 120 m2\", \"Fins a 30 m2\", \"M\\u00e9s de 250 m2\", \"121- 150 m2\", \"151- 210 m2\", \"211- 250 m2\", \"31- 60 m2\", \"61- 90 m2\", \"91- 120 m2\", \"Fins a 30 m2\", \"M\\u00e9s de 250 m2\", \"121- 150 m2\", \"151- 210 m2\", \"211- 250 m2\", \"31- 60 m2\", \"61- 90 m2\", \"91- 120 m2\", \"Fins a 30 m2\", \"M\\u00e9s de 250 m2\", \"121- 150 m2\", \"151- 210 m2\", \"211- 250 m2\", \"31- 60 m2\", \"61- 90 m2\", \"91- 120 m2\", \"Fins a 30 m2\", \"M\\u00e9s de 250 m2\", \"121- 150 m2\", \"151- 210 m2\", \"211- 250 m2\", \"31- 60 m2\", \"61- 90 m2\", \"91- 120 m2\", \"Fins a 30 m2\", \"M\\u00e9s de 250 m2\", \"121- 150 m2\", \"151- 210 m2\", \"211- 250 m2\", \"31- 60 m2\", \"61- 90 m2\", \"91- 120 m2\", \"Fins a 30 m2\", \"M\\u00e9s de 250 m2\"], \"xaxis\": \"x\", \"y\": [597, 271, 33, 2591, 7654, 3729, 229, 32, 744, 130, 17, 6383, 14102, 4539, 536, 58, 3544, 3862, 945, 2865, 6864, 5882, 552, 701, 2681, 1388, 251, 3123, 8873, 6601, 374, 159, 1416, 481, 18, 4974, 14146, 8232, 446, 8, 1013, 330, 28, 3765, 9579, 4353, 375, 41], \"yaxis\": \"y\"}, {\"hovertemplate\": \"Name_Dist=Sants-Montju\\u00efc<br>Description=%{x}<br>Amount=%{y}<extra></extra>\", \"legendgroup\": \"Sants-Montju\\u00efc\", \"marker\": {\"color\": \"#19d3f3\", \"symbol\": \"circle\"}, \"mode\": \"markers\", \"name\": \"Sants-Montju\\u00efc\", \"orientation\": \"v\", \"showlegend\": true, \"type\": \"scatter\", \"x\": [\"121- 150 m2\", \"151- 210 m2\", \"211- 250 m2\", \"31- 60 m2\", \"61- 90 m2\", \"91- 120 m2\", \"Fins a 30 m2\", \"M\\u00e9s de 250 m2\", \"121- 150 m2\", \"151- 210 m2\", \"211- 250 m2\", \"31- 60 m2\", \"61- 90 m2\", \"91- 120 m2\", \"Fins a 30 m2\", \"M\\u00e9s de 250 m2\", \"121- 150 m2\", \"151- 210 m2\", \"31- 60 m2\", \"61- 90 m2\", \"91- 120 m2\", \"Fins a 30 m2\", \"M\\u00e9s de 250 m2\", \"121- 150 m2\", \"151- 210 m2\", \"31- 60 m2\", \"61- 90 m2\", \"91- 120 m2\", \"Fins a 30 m2\", \"121- 150 m2\", \"151- 210 m2\", \"31- 60 m2\", \"61- 90 m2\", \"91- 120 m2\", \"Fins a 30 m2\", \"M\\u00e9s de 250 m2\", \"121- 150 m2\", \"151- 210 m2\", \"211- 250 m2\", \"31- 60 m2\", \"61- 90 m2\", \"91- 120 m2\", \"Fins a 30 m2\", \"M\\u00e9s de 250 m2\", \"121- 150 m2\", \"151- 210 m2\", \"211- 250 m2\", \"31- 60 m2\", \"61- 90 m2\", \"91- 120 m2\", \"Fins a 30 m2\", \"M\\u00e9s de 250 m2\", \"121- 150 m2\", \"151- 210 m2\", \"211- 250 m2\", \"31- 60 m2\", \"61- 90 m2\", \"91- 120 m2\", \"Fins a 30 m2\", \"M\\u00e9s de 250 m2\"], \"xaxis\": \"x\", \"y\": [129, 23, 7, 8069, 8104, 1442, 738, 8, 6, 9, 2, 168, 297, 214, 75, 5, 22, 8, 2513, 8734, 1854, 202, 1, 121, 20, 1062, 2804, 802, 100, 97, 31, 2636, 3814, 1142, 278, 7, 92, 9, 1, 1805, 5742, 1085, 103, 1, 91, 13, 2, 3735, 6260, 1418, 201, 2, 542, 128, 6, 6483, 10343, 2843, 639, 5], \"yaxis\": \"y\"}, {\"hovertemplate\": \"Name_Dist=Les Corts<br>Description=%{x}<br>Amount=%{y}<extra></extra>\", \"legendgroup\": \"Les Corts\", \"marker\": {\"color\": \"#FF6692\", \"symbol\": \"circle\"}, \"mode\": \"markers\", \"name\": \"Les Corts\", \"orientation\": \"v\", \"showlegend\": true, \"type\": \"scatter\", \"x\": [\"121- 150 m2\", \"151- 210 m2\", \"211- 250 m2\", \"31- 60 m2\", \"61- 90 m2\", \"91- 120 m2\", \"Fins a 30 m2\", \"M\\u00e9s de 250 m2\", \"121- 150 m2\", \"151- 210 m2\", \"211- 250 m2\", \"31- 60 m2\", \"61- 90 m2\", \"91- 120 m2\", \"Fins a 30 m2\", \"M\\u00e9s de 250 m2\", \"121- 150 m2\", \"151- 210 m2\", \"211- 250 m2\", \"31- 60 m2\", \"61- 90 m2\", \"91- 120 m2\", \"Fins a 30 m2\", \"M\\u00e9s de 250 m2\"], \"xaxis\": \"x\", \"y\": [1576, 686, 99, 4061, 10225, 5918, 471, 26, 696, 100, 11, 1647, 5788, 3166, 239, 7, 1067, 1526, 315, 593, 777, 1349, 211, 264], \"yaxis\": \"y\"}, {\"hovertemplate\": \"Name_Dist=Sarri\\u00e0-Sant Gervasi<br>Description=%{x}<br>Amount=%{y}<extra></extra>\", \"legendgroup\": \"Sarri\\u00e0-Sant Gervasi\", \"marker\": {\"color\": \"#B6E880\", \"symbol\": \"circle\"}, \"mode\": \"markers\", \"name\": \"Sarri\\u00e0-Sant Gervasi\", \"orientation\": \"v\", \"showlegend\": true, \"type\": \"scatter\", \"x\": [\"121- 150 m2\", \"151- 210 m2\", \"211- 250 m2\", \"31- 60 m2\", \"61- 90 m2\", \"91- 120 m2\", \"Fins a 30 m2\", \"M\\u00e9s de 250 m2\", \"121- 150 m2\", \"151- 210 m2\", \"211- 250 m2\", \"31- 60 m2\", \"61- 90 m2\", \"91- 120 m2\", \"Fins a 30 m2\", \"M\\u00e9s de 250 m2\", \"121- 150 m2\", \"151- 210 m2\", \"211- 250 m2\", \"31- 60 m2\", \"61- 90 m2\", \"91- 120 m2\", \"Fins a 30 m2\", \"M\\u00e9s de 250 m2\", \"121- 150 m2\", \"151- 210 m2\", \"211- 250 m2\", \"31- 60 m2\", \"61- 90 m2\", \"91- 120 m2\", \"Fins a 30 m2\", \"M\\u00e9s de 250 m2\", \"121- 150 m2\", \"151- 210 m2\", \"211- 250 m2\", \"31- 60 m2\", \"61- 90 m2\", \"91- 120 m2\", \"Fins a 30 m2\", \"M\\u00e9s de 250 m2\", \"121- 150 m2\", \"151- 210 m2\", \"211- 250 m2\", \"31- 60 m2\", \"61- 90 m2\", \"91- 120 m2\", \"Fins a 30 m2\", \"M\\u00e9s de 250 m2\"], \"xaxis\": \"x\", \"y\": [274, 164, 26, 796, 798, 621, 337, 18, 1561, 1176, 190, 2325, 4284, 2452, 501, 120, 1264, 1761, 462, 680, 1136, 1282, 99, 343, 2140, 2451, 358, 1777, 2753, 2519, 354, 270, 3543, 4512, 1143, 2876, 5334, 5814, 523, 1245, 1730, 860, 147, 3550, 5403, 3940, 549, 102], \"yaxis\": \"y\"}, {\"hovertemplate\": \"Name_Dist=Gr\\u00e0cia<br>Description=%{x}<br>Amount=%{y}<extra></extra>\", \"legendgroup\": \"Gr\\u00e0cia\", \"marker\": {\"color\": \"#FF97FF\", \"symbol\": \"circle\"}, \"mode\": \"markers\", \"name\": \"Gr\\u00e0cia\", \"orientation\": \"v\", \"showlegend\": true, \"type\": \"scatter\", \"x\": [\"121- 150 m2\", \"151- 210 m2\", \"211- 250 m2\", \"31- 60 m2\", \"61- 90 m2\", \"91- 120 m2\", \"Fins a 30 m2\", \"M\\u00e9s de 250 m2\", \"121- 150 m2\", \"151- 210 m2\", \"211- 250 m2\", \"31- 60 m2\", \"61- 90 m2\", \"91- 120 m2\", \"Fins a 30 m2\", \"M\\u00e9s de 250 m2\", \"121- 150 m2\", \"151- 210 m2\", \"211- 250 m2\", \"31- 60 m2\", \"61- 90 m2\", \"91- 120 m2\", \"Fins a 30 m2\", \"M\\u00e9s de 250 m2\", \"121- 150 m2\", \"151- 210 m2\", \"211- 250 m2\", \"31- 60 m2\", \"61- 90 m2\", \"91- 120 m2\", \"Fins a 30 m2\", \"M\\u00e9s de 250 m2\", \"121- 150 m2\", \"151- 210 m2\", \"211- 250 m2\", \"31- 60 m2\", \"61- 90 m2\", \"91- 120 m2\", \"Fins a 30 m2\", \"M\\u00e9s de 250 m2\"], \"xaxis\": \"x\", \"y\": [399, 277, 30, 2232, 4113, 1539, 368, 15, 66, 23, 3, 1340, 1992, 343, 161, 2, 346, 106, 12, 1543, 2875, 1664, 311, 12, 1124, 729, 136, 10141, 13047, 3892, 1568, 111, 743, 149, 22, 4352, 9711, 2939, 376, 25], \"yaxis\": \"y\"}, {\"hovertemplate\": \"Name_Dist=Horta-Guinard\\u00f3<br>Description=%{x}<br>Amount=%{y}<extra></extra>\", \"legendgroup\": \"Horta-Guinard\\u00f3\", \"marker\": {\"color\": \"#FECB52\", \"symbol\": \"circle\"}, \"mode\": \"markers\", \"name\": \"Horta-Guinard\\u00f3\", \"orientation\": \"v\", \"showlegend\": true, \"type\": \"scatter\", \"x\": [\"121- 150 m2\", \"151- 210 m2\", \"211- 250 m2\", \"31- 60 m2\", \"61- 90 m2\", \"91- 120 m2\", \"Fins a 30 m2\", \"M\\u00e9s de 250 m2\", \"121- 150 m2\", \"151- 210 m2\", \"211- 250 m2\", \"31- 60 m2\", \"61- 90 m2\", \"91- 120 m2\", \"Fins a 30 m2\", \"M\\u00e9s de 250 m2\", \"121- 150 m2\", \"151- 210 m2\", \"211- 250 m2\", \"31- 60 m2\", \"61- 90 m2\", \"91- 120 m2\", \"Fins a 30 m2\", \"M\\u00e9s de 250 m2\", \"121- 150 m2\", \"151- 210 m2\", \"211- 250 m2\", \"31- 60 m2\", \"61- 90 m2\", \"91- 120 m2\", \"Fins a 30 m2\", \"M\\u00e9s de 250 m2\", \"121- 150 m2\", \"151- 210 m2\", \"211- 250 m2\", \"31- 60 m2\", \"61- 90 m2\", \"91- 120 m2\", \"Fins a 30 m2\", \"M\\u00e9s de 250 m2\", \"121- 150 m2\", \"151- 210 m2\", \"211- 250 m2\", \"31- 60 m2\", \"61- 90 m2\", \"91- 120 m2\", \"Fins a 30 m2\", \"121- 150 m2\", \"151- 210 m2\", \"211- 250 m2\", \"31- 60 m2\", \"61- 90 m2\", \"91- 120 m2\", \"Fins a 30 m2\", \"M\\u00e9s de 250 m2\", \"31- 60 m2\", \"61- 90 m2\", \"91- 120 m2\", \"Fins a 30 m2\", \"121- 150 m2\", \"151- 210 m2\", \"211- 250 m2\", \"31- 60 m2\", \"61- 90 m2\", \"91- 120 m2\", \"121- 150 m2\", \"151- 210 m2\", \"31- 60 m2\", \"61- 90 m2\", \"91- 120 m2\", \"Fins a 30 m2\", \"121- 150 m2\", \"151- 210 m2\", \"211- 250 m2\", \"31- 60 m2\", \"61- 90 m2\", \"91- 120 m2\", \"Fins a 30 m2\", \"M\\u00e9s de 250 m2\"], \"xaxis\": \"x\", \"y\": [300, 46, 5, 3371, 6689, 1826, 235, 3, 67, 7, 3, 1662, 2255, 588, 242, 2, 336, 93, 12, 5836, 9494, 2267, 706, 17, 248, 79, 4, 1620, 2218, 752, 398, 10, 66, 13, 1, 7326, 6744, 624, 703, 4, 50, 2, 2, 2607, 2586, 464, 255, 18, 10, 3, 577, 2685, 123, 89, 4, 941, 1438, 71, 112, 194, 12, 1, 777, 1509, 161, 3, 1, 147, 180, 52, 36, 207, 61, 10, 4419, 6732, 1365, 666, 12], \"yaxis\": \"y\"}, {\"hovertemplate\": \"Name_Dist=Nou Barris<br>Description=%{x}<br>Amount=%{y}<extra></extra>\", \"legendgroup\": \"Nou Barris\", \"marker\": {\"color\": \"#636efa\", \"symbol\": \"circle\"}, \"mode\": \"markers\", \"name\": \"Nou Barris\", \"orientation\": \"v\", \"showlegend\": true, \"type\": \"scatter\", \"x\": [\"121- 150 m2\", \"151- 210 m2\", \"211- 250 m2\", \"31- 60 m2\", \"61- 90 m2\", \"91- 120 m2\", \"Fins a 30 m2\", \"M\\u00e9s de 250 m2\", \"121- 150 m2\", \"151- 210 m2\", \"31- 60 m2\", \"61- 90 m2\", \"91- 120 m2\", \"Fins a 30 m2\", \"M\\u00e9s de 250 m2\", \"121- 150 m2\", \"151- 210 m2\", \"211- 250 m2\", \"31- 60 m2\", \"61- 90 m2\", \"91- 120 m2\", \"Fins a 30 m2\", \"121- 150 m2\", \"151- 210 m2\", \"31- 60 m2\", \"61- 90 m2\", \"91- 120 m2\", \"Fins a 30 m2\", \"151- 210 m2\", \"211- 250 m2\", \"31- 60 m2\", \"61- 90 m2\", \"91- 120 m2\", \"Fins a 30 m2\", \"31- 60 m2\", \"61- 90 m2\", \"91- 120 m2\", \"Fins a 30 m2\", \"121- 150 m2\", \"151- 210 m2\", \"31- 60 m2\", \"61- 90 m2\", \"91- 120 m2\", \"Fins a 30 m2\", \"121- 150 m2\", \"151- 210 m2\", \"31- 60 m2\", \"61- 90 m2\", \"91- 120 m2\", \"Fins a 30 m2\", \"M\\u00e9s de 250 m2\", \"121- 150 m2\", \"151- 210 m2\", \"211- 250 m2\", \"31- 60 m2\", \"61- 90 m2\", \"91- 120 m2\", \"Fins a 30 m2\", \"M\\u00e9s de 250 m2\", \"121- 150 m2\", \"151- 210 m2\", \"211- 250 m2\", \"31- 60 m2\", \"61- 90 m2\", \"91- 120 m2\", \"Fins a 30 m2\", \"121- 150 m2\", \"151- 210 m2\", \"31- 60 m2\", \"61- 90 m2\", \"91- 120 m2\", \"Fins a 30 m2\", \"121- 150 m2\", \"31- 60 m2\", \"61- 90 m2\", \"91- 120 m2\", \"Fins a 30 m2\", \"121- 150 m2\", \"151- 210 m2\", \"31- 60 m2\", \"61- 90 m2\", \"91- 120 m2\", \"Fins a 30 m2\"], \"xaxis\": \"x\", \"y\": [89, 11, 2, 3320, 7241, 1247, 330, 1, 66, 11, 4371, 6021, 860, 157, 2, 4, 3, 1, 2942, 3663, 233, 110, 2, 1, 776, 228, 1, 39, 1, 1, 1242, 4767, 782, 8, 38, 2315, 559, 7, 25, 9, 3735, 2643, 349, 323, 18, 3, 3326, 2188, 229, 148, 1, 30, 10, 1, 6093, 5190, 558, 287, 2, 1, 2, 2, 1778, 1690, 152, 24, 25, 13, 598, 663, 175, 227, 1, 2786, 1164, 5, 1, 7, 3, 209, 381, 89, 156], \"yaxis\": \"y\"}, {\"hovertemplate\": \"Name_Dist=Sant Andreu<br>Description=%{x}<br>Amount=%{y}<extra></extra>\", \"legendgroup\": \"Sant Andreu\", \"marker\": {\"color\": \"#EF553B\", \"symbol\": \"circle\"}, \"mode\": \"markers\", \"name\": \"Sant Andreu\", \"orientation\": \"v\", \"showlegend\": true, \"type\": \"scatter\", \"x\": [\"121- 150 m2\", \"151- 210 m2\", \"211- 250 m2\", \"31- 60 m2\", \"61- 90 m2\", \"91- 120 m2\", \"Fins a 30 m2\", \"121- 150 m2\", \"31- 60 m2\", \"61- 90 m2\", \"91- 120 m2\", \"Fins a 30 m2\", \"121- 150 m2\", \"151- 210 m2\", \"31- 60 m2\", \"61- 90 m2\", \"91- 120 m2\", \"Fins a 30 m2\", \"M\\u00e9s de 250 m2\", \"121- 150 m2\", \"151- 210 m2\", \"211- 250 m2\", \"31- 60 m2\", \"61- 90 m2\", \"91- 120 m2\", \"Fins a 30 m2\", \"M\\u00e9s de 250 m2\", \"121- 150 m2\", \"151- 210 m2\", \"211- 250 m2\", \"31- 60 m2\", \"61- 90 m2\", \"91- 120 m2\", \"Fins a 30 m2\", \"M\\u00e9s de 250 m2\", \"121- 150 m2\", \"151- 210 m2\", \"211- 250 m2\", \"31- 60 m2\", \"61- 90 m2\", \"91- 120 m2\", \"Fins a 30 m2\", \"M\\u00e9s de 250 m2\", \"121- 150 m2\", \"151- 210 m2\", \"31- 60 m2\", \"61- 90 m2\", \"91- 120 m2\", \"Fins a 30 m2\", \"M\\u00e9s de 250 m2\"], \"xaxis\": \"x\", \"y\": [11, 4, 1, 2091, 1566, 326, 195, 1, 170, 813, 83, 45, 22, 4, 1887, 2670, 569, 180, 1, 457, 72, 8, 8336, 15074, 3976, 1194, 3, 100, 19, 4, 3436, 8001, 1796, 129, 3, 65, 22, 1, 1814, 4265, 704, 158, 2, 71, 11, 1922, 6648, 1528, 94, 1], \"yaxis\": \"y\"}, {\"hovertemplate\": \"Name_Dist=Sant Mart\\u00ed<br>Description=%{x}<br>Amount=%{y}<extra></extra>\", \"legendgroup\": \"Sant Mart\\u00ed\", \"marker\": {\"color\": \"#00cc96\", \"symbol\": \"circle\"}, \"mode\": \"markers\", \"name\": \"Sant Mart\\u00ed\", \"orientation\": \"v\", \"showlegend\": true, \"type\": \"scatter\", \"x\": [\"121- 150 m2\", \"151- 210 m2\", \"211- 250 m2\", \"31- 60 m2\", \"61- 90 m2\", \"91- 120 m2\", \"Fins a 30 m2\", \"M\\u00e9s de 250 m2\", \"121- 150 m2\", \"151- 210 m2\", \"211- 250 m2\", \"31- 60 m2\", \"61- 90 m2\", \"91- 120 m2\", \"Fins a 30 m2\", \"M\\u00e9s de 250 m2\", \"121- 150 m2\", \"151- 210 m2\", \"211- 250 m2\", \"31- 60 m2\", \"61- 90 m2\", \"91- 120 m2\", \"Fins a 30 m2\", \"M\\u00e9s de 250 m2\", \"121- 150 m2\", \"151- 210 m2\", \"211- 250 m2\", \"31- 60 m2\", \"61- 90 m2\", \"91- 120 m2\", \"Fins a 30 m2\", \"M\\u00e9s de 250 m2\", \"121- 150 m2\", \"151- 210 m2\", \"211- 250 m2\", \"31- 60 m2\", \"61- 90 m2\", \"91- 120 m2\", \"Fins a 30 m2\", \"M\\u00e9s de 250 m2\", \"121- 150 m2\", \"151- 210 m2\", \"211- 250 m2\", \"31- 60 m2\", \"61- 90 m2\", \"91- 120 m2\", \"Fins a 30 m2\", \"M\\u00e9s de 250 m2\", \"121- 150 m2\", \"151- 210 m2\", \"31- 60 m2\", \"61- 90 m2\", \"91- 120 m2\", \"Fins a 30 m2\", \"M\\u00e9s de 250 m2\", \"121- 150 m2\", \"151- 210 m2\", \"31- 60 m2\", \"61- 90 m2\", \"91- 120 m2\", \"Fins a 30 m2\", \"M\\u00e9s de 250 m2\", \"121- 150 m2\", \"151- 210 m2\", \"211- 250 m2\", \"31- 60 m2\", \"61- 90 m2\", \"91- 120 m2\", \"Fins a 30 m2\", \"M\\u00e9s de 250 m2\", \"121- 150 m2\", \"151- 210 m2\", \"211- 250 m2\", \"31- 60 m2\", \"61- 90 m2\", \"91- 120 m2\", \"Fins a 30 m2\", \"M\\u00e9s de 250 m2\"], \"xaxis\": \"x\", \"y\": [221, 96, 11, 6070, 10500, 2505, 444, 23, 373, 37, 4, 2765, 7032, 1815, 372, 16, 85, 27, 5, 1347, 4332, 1184, 85, 18, 957, 166, 2, 992, 1240, 1142, 142, 12, 446, 110, 9, 5039, 7258, 3127, 425, 22, 344, 76, 9, 814, 3676, 1307, 41, 31, 8, 4, 3583, 5487, 289, 273, 1, 32, 19, 1335, 6327, 1372, 102, 7, 97, 16, 1, 1777, 7814, 1911, 74, 2, 28, 15, 3, 3146, 8713, 1086, 65, 7], \"yaxis\": \"y\"}],                        {\"legend\": {\"title\": {\"text\": \"Name_Dist\"}, \"tracegroupgap\": 0}, \"template\": {\"data\": {\"bar\": [{\"error_x\": {\"color\": \"#2a3f5f\"}, \"error_y\": {\"color\": \"#2a3f5f\"}, \"marker\": {\"line\": {\"color\": \"white\", \"width\": 0.5}}, \"type\": \"bar\"}], \"barpolar\": [{\"marker\": {\"line\": {\"color\": \"white\", \"width\": 0.5}}, \"type\": \"barpolar\"}], \"carpet\": [{\"aaxis\": {\"endlinecolor\": \"#2a3f5f\", \"gridcolor\": \"#C8D4E3\", \"linecolor\": \"#C8D4E3\", \"minorgridcolor\": \"#C8D4E3\", \"startlinecolor\": \"#2a3f5f\"}, \"baxis\": {\"endlinecolor\": \"#2a3f5f\", \"gridcolor\": \"#C8D4E3\", \"linecolor\": \"#C8D4E3\", \"minorgridcolor\": \"#C8D4E3\", \"startlinecolor\": \"#2a3f5f\"}, \"type\": \"carpet\"}], \"choropleth\": [{\"colorbar\": {\"outlinewidth\": 0, \"ticks\": \"\"}, \"type\": \"choropleth\"}], \"contour\": [{\"colorbar\": {\"outlinewidth\": 0, \"ticks\": \"\"}, \"colorscale\": [[0.0, \"#0d0887\"], [0.1111111111111111, \"#46039f\"], [0.2222222222222222, \"#7201a8\"], [0.3333333333333333, \"#9c179e\"], [0.4444444444444444, \"#bd3786\"], [0.5555555555555556, \"#d8576b\"], [0.6666666666666666, \"#ed7953\"], [0.7777777777777778, \"#fb9f3a\"], [0.8888888888888888, \"#fdca26\"], [1.0, \"#f0f921\"]], \"type\": \"contour\"}], \"contourcarpet\": [{\"colorbar\": {\"outlinewidth\": 0, \"ticks\": \"\"}, \"type\": \"contourcarpet\"}], \"heatmap\": [{\"colorbar\": {\"outlinewidth\": 0, \"ticks\": \"\"}, \"colorscale\": [[0.0, \"#0d0887\"], [0.1111111111111111, \"#46039f\"], [0.2222222222222222, \"#7201a8\"], [0.3333333333333333, \"#9c179e\"], [0.4444444444444444, \"#bd3786\"], [0.5555555555555556, \"#d8576b\"], [0.6666666666666666, \"#ed7953\"], [0.7777777777777778, \"#fb9f3a\"], [0.8888888888888888, \"#fdca26\"], [1.0, \"#f0f921\"]], \"type\": \"heatmap\"}], \"heatmapgl\": [{\"colorbar\": {\"outlinewidth\": 0, \"ticks\": \"\"}, \"colorscale\": [[0.0, \"#0d0887\"], [0.1111111111111111, \"#46039f\"], [0.2222222222222222, \"#7201a8\"], [0.3333333333333333, \"#9c179e\"], [0.4444444444444444, \"#bd3786\"], [0.5555555555555556, \"#d8576b\"], [0.6666666666666666, \"#ed7953\"], [0.7777777777777778, \"#fb9f3a\"], [0.8888888888888888, \"#fdca26\"], [1.0, \"#f0f921\"]], \"type\": \"heatmapgl\"}], \"histogram\": [{\"marker\": {\"colorbar\": {\"outlinewidth\": 0, \"ticks\": \"\"}}, \"type\": \"histogram\"}], \"histogram2d\": [{\"colorbar\": {\"outlinewidth\": 0, \"ticks\": \"\"}, \"colorscale\": [[0.0, \"#0d0887\"], [0.1111111111111111, \"#46039f\"], [0.2222222222222222, \"#7201a8\"], [0.3333333333333333, \"#9c179e\"], [0.4444444444444444, \"#bd3786\"], [0.5555555555555556, \"#d8576b\"], [0.6666666666666666, \"#ed7953\"], [0.7777777777777778, \"#fb9f3a\"], [0.8888888888888888, \"#fdca26\"], [1.0, \"#f0f921\"]], \"type\": \"histogram2d\"}], \"histogram2dcontour\": [{\"colorbar\": {\"outlinewidth\": 0, \"ticks\": \"\"}, \"colorscale\": [[0.0, \"#0d0887\"], [0.1111111111111111, \"#46039f\"], [0.2222222222222222, \"#7201a8\"], [0.3333333333333333, \"#9c179e\"], [0.4444444444444444, \"#bd3786\"], [0.5555555555555556, \"#d8576b\"], [0.6666666666666666, \"#ed7953\"], [0.7777777777777778, \"#fb9f3a\"], [0.8888888888888888, \"#fdca26\"], [1.0, \"#f0f921\"]], \"type\": \"histogram2dcontour\"}], \"mesh3d\": [{\"colorbar\": {\"outlinewidth\": 0, \"ticks\": \"\"}, \"type\": \"mesh3d\"}], \"parcoords\": [{\"line\": {\"colorbar\": {\"outlinewidth\": 0, \"ticks\": \"\"}}, \"type\": \"parcoords\"}], \"pie\": [{\"automargin\": true, \"type\": \"pie\"}], \"scatter\": [{\"marker\": {\"colorbar\": {\"outlinewidth\": 0, \"ticks\": \"\"}}, \"type\": \"scatter\"}], \"scatter3d\": [{\"line\": {\"colorbar\": {\"outlinewidth\": 0, \"ticks\": \"\"}}, \"marker\": {\"colorbar\": {\"outlinewidth\": 0, \"ticks\": \"\"}}, \"type\": \"scatter3d\"}], \"scattercarpet\": [{\"marker\": {\"colorbar\": {\"outlinewidth\": 0, \"ticks\": \"\"}}, \"type\": \"scattercarpet\"}], \"scattergeo\": [{\"marker\": {\"colorbar\": {\"outlinewidth\": 0, \"ticks\": \"\"}}, \"type\": \"scattergeo\"}], \"scattergl\": [{\"marker\": {\"colorbar\": {\"outlinewidth\": 0, \"ticks\": \"\"}}, \"type\": \"scattergl\"}], \"scattermapbox\": [{\"marker\": {\"colorbar\": {\"outlinewidth\": 0, \"ticks\": \"\"}}, \"type\": \"scattermapbox\"}], \"scatterpolar\": [{\"marker\": {\"colorbar\": {\"outlinewidth\": 0, \"ticks\": \"\"}}, \"type\": \"scatterpolar\"}], \"scatterpolargl\": [{\"marker\": {\"colorbar\": {\"outlinewidth\": 0, \"ticks\": \"\"}}, \"type\": \"scatterpolargl\"}], \"scatterternary\": [{\"marker\": {\"colorbar\": {\"outlinewidth\": 0, \"ticks\": \"\"}}, \"type\": \"scatterternary\"}], \"surface\": [{\"colorbar\": {\"outlinewidth\": 0, \"ticks\": \"\"}, \"colorscale\": [[0.0, \"#0d0887\"], [0.1111111111111111, \"#46039f\"], [0.2222222222222222, \"#7201a8\"], [0.3333333333333333, \"#9c179e\"], [0.4444444444444444, \"#bd3786\"], [0.5555555555555556, \"#d8576b\"], [0.6666666666666666, \"#ed7953\"], [0.7777777777777778, \"#fb9f3a\"], [0.8888888888888888, \"#fdca26\"], [1.0, \"#f0f921\"]], \"type\": \"surface\"}], \"table\": [{\"cells\": {\"fill\": {\"color\": \"#EBF0F8\"}, \"line\": {\"color\": \"white\"}}, \"header\": {\"fill\": {\"color\": \"#C8D4E3\"}, \"line\": {\"color\": \"white\"}}, \"type\": \"table\"}]}, \"layout\": {\"annotationdefaults\": {\"arrowcolor\": \"#2a3f5f\", \"arrowhead\": 0, \"arrowwidth\": 1}, \"coloraxis\": {\"colorbar\": {\"outlinewidth\": 0, \"ticks\": \"\"}}, \"colorscale\": {\"diverging\": [[0, \"#8e0152\"], [0.1, \"#c51b7d\"], [0.2, \"#de77ae\"], [0.3, \"#f1b6da\"], [0.4, \"#fde0ef\"], [0.5, \"#f7f7f7\"], [0.6, \"#e6f5d0\"], [0.7, \"#b8e186\"], [0.8, \"#7fbc41\"], [0.9, \"#4d9221\"], [1, \"#276419\"]], \"sequential\": [[0.0, \"#0d0887\"], [0.1111111111111111, \"#46039f\"], [0.2222222222222222, \"#7201a8\"], [0.3333333333333333, \"#9c179e\"], [0.4444444444444444, \"#bd3786\"], [0.5555555555555556, \"#d8576b\"], [0.6666666666666666, \"#ed7953\"], [0.7777777777777778, \"#fb9f3a\"], [0.8888888888888888, \"#fdca26\"], [1.0, \"#f0f921\"]], \"sequentialminus\": [[0.0, \"#0d0887\"], [0.1111111111111111, \"#46039f\"], [0.2222222222222222, \"#7201a8\"], [0.3333333333333333, \"#9c179e\"], [0.4444444444444444, \"#bd3786\"], [0.5555555555555556, \"#d8576b\"], [0.6666666666666666, \"#ed7953\"], [0.7777777777777778, \"#fb9f3a\"], [0.8888888888888888, \"#fdca26\"], [1.0, \"#f0f921\"]]}, \"colorway\": [\"#636efa\", \"#EF553B\", \"#00cc96\", \"#ab63fa\", \"#FFA15A\", \"#19d3f3\", \"#FF6692\", \"#B6E880\", \"#FF97FF\", \"#FECB52\"], \"font\": {\"color\": \"#2a3f5f\"}, \"geo\": {\"bgcolor\": \"white\", \"lakecolor\": \"white\", \"landcolor\": \"white\", \"showlakes\": true, \"showland\": true, \"subunitcolor\": \"#C8D4E3\"}, \"hoverlabel\": {\"align\": \"left\"}, \"hovermode\": \"closest\", \"mapbox\": {\"style\": \"light\"}, \"paper_bgcolor\": \"white\", \"plot_bgcolor\": \"white\", \"polar\": {\"angularaxis\": {\"gridcolor\": \"#EBF0F8\", \"linecolor\": \"#EBF0F8\", \"ticks\": \"\"}, \"bgcolor\": \"white\", \"radialaxis\": {\"gridcolor\": \"#EBF0F8\", \"linecolor\": \"#EBF0F8\", \"ticks\": \"\"}}, \"scene\": {\"xaxis\": {\"backgroundcolor\": \"white\", \"gridcolor\": \"#DFE8F3\", \"gridwidth\": 2, \"linecolor\": \"#EBF0F8\", \"showbackground\": true, \"ticks\": \"\", \"zerolinecolor\": \"#EBF0F8\"}, \"yaxis\": {\"backgroundcolor\": \"white\", \"gridcolor\": \"#DFE8F3\", \"gridwidth\": 2, \"linecolor\": \"#EBF0F8\", \"showbackground\": true, \"ticks\": \"\", \"zerolinecolor\": \"#EBF0F8\"}, \"zaxis\": {\"backgroundcolor\": \"white\", \"gridcolor\": \"#DFE8F3\", \"gridwidth\": 2, \"linecolor\": \"#EBF0F8\", \"showbackground\": true, \"ticks\": \"\", \"zerolinecolor\": \"#EBF0F8\"}}, \"shapedefaults\": {\"line\": {\"color\": \"#2a3f5f\"}}, \"ternary\": {\"aaxis\": {\"gridcolor\": \"#DFE8F3\", \"linecolor\": \"#A2B1C6\", \"ticks\": \"\"}, \"baxis\": {\"gridcolor\": \"#DFE8F3\", \"linecolor\": \"#A2B1C6\", \"ticks\": \"\"}, \"bgcolor\": \"white\", \"caxis\": {\"gridcolor\": \"#DFE8F3\", \"linecolor\": \"#A2B1C6\", \"ticks\": \"\"}}, \"title\": {\"x\": 0.05}, \"xaxis\": {\"automargin\": true, \"gridcolor\": \"#EBF0F8\", \"linecolor\": \"#EBF0F8\", \"ticks\": \"\", \"title\": {\"standoff\": 15}, \"zerolinecolor\": \"#EBF0F8\", \"zerolinewidth\": 2}, \"yaxis\": {\"automargin\": true, \"gridcolor\": \"#EBF0F8\", \"linecolor\": \"#EBF0F8\", \"ticks\": \"\", \"title\": {\"standoff\": 15}, \"zerolinecolor\": \"#EBF0F8\", \"zerolinewidth\": 2}}}, \"title\": {\"text\": \"District\"}, \"xaxis\": {\"anchor\": \"y\", \"domain\": [0.0, 1.0], \"title\": {\"text\": \"Description\"}}, \"yaxis\": {\"anchor\": \"x\", \"domain\": [0.0, 1.0], \"title\": {\"text\": \"Amount\"}}},                        {\"responsive\": true}                    ).then(function(){\n",
       "                            \n",
       "var gd = document.getElementById('aeaa9440-fb90-4240-9a73-44c833e2185c');\n",
       "var x = new MutationObserver(function (mutations, observer) {{\n",
       "        var display = window.getComputedStyle(gd).display;\n",
       "        if (!display || display === 'none') {{\n",
       "            console.log([gd, 'removed!']);\n",
       "            Plotly.purge(gd);\n",
       "            observer.disconnect();\n",
       "        }}\n",
       "}});\n",
       "\n",
       "// Listen for the removal of the full notebook cells\n",
       "var notebookContainer = gd.closest('#notebook-container');\n",
       "if (notebookContainer) {{\n",
       "    x.observe(notebookContainer, {childList: true});\n",
       "}}\n",
       "\n",
       "// Listen for the clearing of the current output cell\n",
       "var outputEl = gd.closest('.output');\n",
       "if (outputEl) {{\n",
       "    x.observe(outputEl, {childList: true});\n",
       "}}\n",
       "\n",
       "                        })                };                });            </script>        </div>"
      ]
     },
     "metadata": {},
     "output_type": "display_data"
    }
   ],
   "source": [
    "fig = px.scatter(house_area_2019, x='Description', y='Amount', title=\"District\",\n",
    "                     color_discrete_map=color_dict, color=\"Name_Dist\",  template=\"plotly_white\",\n",
    "                     labels={'Name_NBHD':'Neighborhood Name'})\n",
    "fig.show()"
   ]
  },
  {
   "cell_type": "markdown",
   "metadata": {},
   "source": [
    "# Houses AVG"
   ]
  },
  {
   "cell_type": "markdown",
   "metadata": {},
   "source": [
    "RESOURCE STRUCTURE FROM 2018\n",
    "\n",
    "*01.Year* - Year of the data\n",
    "\n",
    "*02.Code_Dist* - District code\n",
    "\n",
    "*03.Name_Dist* - Name of the district\n",
    "\n",
    "*04.Code_NBHD* - Neighborhood code\n",
    "\n",
    "*05.Name_NBHD* - Name of the neighborhood\n",
    "\n",
    "*06.Censal_Section* - Census section\n",
    "\n",
    "*07.AVG_Age* - Average age of housing premises\n",
    "\n",
    "*08.AVG_Area* - Average area (m2) of residential premises"
   ]
  },
  {
   "cell_type": "code",
   "execution_count": 40,
   "metadata": {},
   "outputs": [
    {
     "data": {
      "text/html": [
       "<div>\n",
       "<style scoped>\n",
       "    .dataframe tbody tr th:only-of-type {\n",
       "        vertical-align: middle;\n",
       "    }\n",
       "\n",
       "    .dataframe tbody tr th {\n",
       "        vertical-align: top;\n",
       "    }\n",
       "\n",
       "    .dataframe thead th {\n",
       "        text-align: right;\n",
       "    }\n",
       "</style>\n",
       "<table border=\"1\" class=\"dataframe\">\n",
       "  <thead>\n",
       "    <tr style=\"text-align: right;\">\n",
       "      <th></th>\n",
       "      <th>Year</th>\n",
       "      <th>Code_Dist</th>\n",
       "      <th>Name_Dist</th>\n",
       "      <th>Code_NBHD</th>\n",
       "      <th>Name_NBHD</th>\n",
       "      <th>Censal_Section</th>\n",
       "      <th>AVG_Age</th>\n",
       "      <th>AVG_Area</th>\n",
       "    </tr>\n",
       "  </thead>\n",
       "  <tbody>\n",
       "    <tr>\n",
       "      <th>0</th>\n",
       "      <td>2018</td>\n",
       "      <td>1</td>\n",
       "      <td>Ciutat Vella</td>\n",
       "      <td>1</td>\n",
       "      <td>el Raval</td>\n",
       "      <td>1</td>\n",
       "      <td>68.00</td>\n",
       "      <td>76.80</td>\n",
       "    </tr>\n",
       "    <tr>\n",
       "      <th>1</th>\n",
       "      <td>2018</td>\n",
       "      <td>1</td>\n",
       "      <td>Ciutat Vella</td>\n",
       "      <td>1</td>\n",
       "      <td>el Raval</td>\n",
       "      <td>2</td>\n",
       "      <td>106.30</td>\n",
       "      <td>71.60</td>\n",
       "    </tr>\n",
       "    <tr>\n",
       "      <th>2</th>\n",
       "      <td>2018</td>\n",
       "      <td>1</td>\n",
       "      <td>Ciutat Vella</td>\n",
       "      <td>1</td>\n",
       "      <td>el Raval</td>\n",
       "      <td>3</td>\n",
       "      <td>90.40</td>\n",
       "      <td>59.00</td>\n",
       "    </tr>\n",
       "    <tr>\n",
       "      <th>3</th>\n",
       "      <td>2018</td>\n",
       "      <td>1</td>\n",
       "      <td>Ciutat Vella</td>\n",
       "      <td>1</td>\n",
       "      <td>el Raval</td>\n",
       "      <td>4</td>\n",
       "      <td>87.00</td>\n",
       "      <td>65.30</td>\n",
       "    </tr>\n",
       "    <tr>\n",
       "      <th>4</th>\n",
       "      <td>2018</td>\n",
       "      <td>1</td>\n",
       "      <td>Ciutat Vella</td>\n",
       "      <td>1</td>\n",
       "      <td>el Raval</td>\n",
       "      <td>5</td>\n",
       "      <td>100.00</td>\n",
       "      <td>77.90</td>\n",
       "    </tr>\n",
       "    <tr>\n",
       "      <th>...</th>\n",
       "      <td>...</td>\n",
       "      <td>...</td>\n",
       "      <td>...</td>\n",
       "      <td>...</td>\n",
       "      <td>...</td>\n",
       "      <td>...</td>\n",
       "      <td>...</td>\n",
       "      <td>...</td>\n",
       "    </tr>\n",
       "    <tr>\n",
       "      <th>2131</th>\n",
       "      <td>2019</td>\n",
       "      <td>10</td>\n",
       "      <td>Sant Martí</td>\n",
       "      <td>73</td>\n",
       "      <td>la Verneda i la Pau</td>\n",
       "      <td>139</td>\n",
       "      <td>53.40</td>\n",
       "      <td>59.90</td>\n",
       "    </tr>\n",
       "    <tr>\n",
       "      <th>2132</th>\n",
       "      <td>2019</td>\n",
       "      <td>10</td>\n",
       "      <td>Sant Martí</td>\n",
       "      <td>73</td>\n",
       "      <td>la Verneda i la Pau</td>\n",
       "      <td>140</td>\n",
       "      <td>55.60</td>\n",
       "      <td>75.50</td>\n",
       "    </tr>\n",
       "    <tr>\n",
       "      <th>2133</th>\n",
       "      <td>2019</td>\n",
       "      <td>10</td>\n",
       "      <td>Sant Martí</td>\n",
       "      <td>73</td>\n",
       "      <td>la Verneda i la Pau</td>\n",
       "      <td>141</td>\n",
       "      <td>46.70</td>\n",
       "      <td>75.50</td>\n",
       "    </tr>\n",
       "    <tr>\n",
       "      <th>2134</th>\n",
       "      <td>2019</td>\n",
       "      <td>10</td>\n",
       "      <td>Sant Martí</td>\n",
       "      <td>73</td>\n",
       "      <td>la Verneda i la Pau</td>\n",
       "      <td>142</td>\n",
       "      <td>53.00</td>\n",
       "      <td>71.00</td>\n",
       "    </tr>\n",
       "    <tr>\n",
       "      <th>2135</th>\n",
       "      <td>2019</td>\n",
       "      <td>10</td>\n",
       "      <td>Sant Martí</td>\n",
       "      <td>73</td>\n",
       "      <td>la Verneda i la Pau</td>\n",
       "      <td>143</td>\n",
       "      <td>56.00</td>\n",
       "      <td>66.30</td>\n",
       "    </tr>\n",
       "  </tbody>\n",
       "</table>\n",
       "<p>2136 rows × 8 columns</p>\n",
       "</div>"
      ],
      "text/plain": [
       "      Year  \\\n",
       "0     2018   \n",
       "1     2018   \n",
       "2     2018   \n",
       "3     2018   \n",
       "4     2018   \n",
       "...    ...   \n",
       "2131  2019   \n",
       "2132  2019   \n",
       "2133  2019   \n",
       "2134  2019   \n",
       "2135  2019   \n",
       "\n",
       "      Code_Dist  \\\n",
       "0             1   \n",
       "1             1   \n",
       "2             1   \n",
       "3             1   \n",
       "4             1   \n",
       "...         ...   \n",
       "2131         10   \n",
       "2132         10   \n",
       "2133         10   \n",
       "2134         10   \n",
       "2135         10   \n",
       "\n",
       "         Name_Dist  \\\n",
       "0     Ciutat Vella   \n",
       "1     Ciutat Vella   \n",
       "2     Ciutat Vella   \n",
       "3     Ciutat Vella   \n",
       "4     Ciutat Vella   \n",
       "...            ...   \n",
       "2131    Sant Martí   \n",
       "2132    Sant Martí   \n",
       "2133    Sant Martí   \n",
       "2134    Sant Martí   \n",
       "2135    Sant Martí   \n",
       "\n",
       "      Code_NBHD  \\\n",
       "0             1   \n",
       "1             1   \n",
       "2             1   \n",
       "3             1   \n",
       "4             1   \n",
       "...         ...   \n",
       "2131         73   \n",
       "2132         73   \n",
       "2133         73   \n",
       "2134         73   \n",
       "2135         73   \n",
       "\n",
       "                Name_NBHD  \\\n",
       "0                el Raval   \n",
       "1                el Raval   \n",
       "2                el Raval   \n",
       "3                el Raval   \n",
       "4                el Raval   \n",
       "...                   ...   \n",
       "2131  la Verneda i la Pau   \n",
       "2132  la Verneda i la Pau   \n",
       "2133  la Verneda i la Pau   \n",
       "2134  la Verneda i la Pau   \n",
       "2135  la Verneda i la Pau   \n",
       "\n",
       "      Censal_Section  \\\n",
       "0                  1   \n",
       "1                  2   \n",
       "2                  3   \n",
       "3                  4   \n",
       "4                  5   \n",
       "...              ...   \n",
       "2131             139   \n",
       "2132             140   \n",
       "2133             141   \n",
       "2134             142   \n",
       "2135             143   \n",
       "\n",
       "      AVG_Age  \\\n",
       "0       68.00   \n",
       "1      106.30   \n",
       "2       90.40   \n",
       "3       87.00   \n",
       "4      100.00   \n",
       "...       ...   \n",
       "2131    53.40   \n",
       "2132    55.60   \n",
       "2133    46.70   \n",
       "2134    53.00   \n",
       "2135    56.00   \n",
       "\n",
       "      AVG_Area  \n",
       "0        76.80  \n",
       "1        71.60  \n",
       "2        59.00  \n",
       "3        65.30  \n",
       "4        77.90  \n",
       "...        ...  \n",
       "2131     59.90  \n",
       "2132     75.50  \n",
       "2133     75.50  \n",
       "2134     71.00  \n",
       "2135     66.30  \n",
       "\n",
       "[2136 rows x 8 columns]"
      ]
     },
     "execution_count": 40,
     "metadata": {},
     "output_type": "execute_result"
    }
   ],
   "source": [
    "house_avg = pd.read_csv(\"../datasets/HousesAVG_Age_Area.csv\")\n",
    "house_avg"
   ]
  },
  {
   "cell_type": "code",
   "execution_count": 57,
   "metadata": {},
   "outputs": [],
   "source": [
    "house_avg_2019 = house_avg.loc[house_avg.Year==2019, :].groupby(by=[\"Year\", \"Code_Dist\",\"Name_Dist\",\"Code_NBHD\" ,\"Name_NBHD\"], as_index=False).mean()"
   ]
  },
  {
   "cell_type": "code",
   "execution_count": 44,
   "metadata": {},
   "outputs": [
    {
     "data": {
      "text/html": [
       "<div>\n",
       "<style scoped>\n",
       "    .dataframe tbody tr th:only-of-type {\n",
       "        vertical-align: middle;\n",
       "    }\n",
       "\n",
       "    .dataframe tbody tr th {\n",
       "        vertical-align: top;\n",
       "    }\n",
       "\n",
       "    .dataframe thead th {\n",
       "        text-align: right;\n",
       "    }\n",
       "</style>\n",
       "<table border=\"1\" class=\"dataframe\">\n",
       "  <thead>\n",
       "    <tr style=\"text-align: right;\">\n",
       "      <th></th>\n",
       "      <th>Year</th>\n",
       "      <th>Code_Dist</th>\n",
       "      <th>Name_Dist</th>\n",
       "      <th>Code_NBHD</th>\n",
       "      <th>Censal_Section</th>\n",
       "      <th>AVG_Age</th>\n",
       "      <th>AVG_Area</th>\n",
       "    </tr>\n",
       "  </thead>\n",
       "  <tbody>\n",
       "    <tr>\n",
       "      <th>0</th>\n",
       "      <td>2019</td>\n",
       "      <td>1</td>\n",
       "      <td>Ciutat Vella</td>\n",
       "      <td>2.30</td>\n",
       "      <td>28.07</td>\n",
       "      <td>105.69</td>\n",
       "      <td>67.73</td>\n",
       "    </tr>\n",
       "    <tr>\n",
       "      <th>1</th>\n",
       "      <td>2019</td>\n",
       "      <td>2</td>\n",
       "      <td>Eixample</td>\n",
       "      <td>7.60</td>\n",
       "      <td>87.00</td>\n",
       "      <td>69.28</td>\n",
       "      <td>88.00</td>\n",
       "    </tr>\n",
       "    <tr>\n",
       "      <th>2</th>\n",
       "      <td>2019</td>\n",
       "      <td>3</td>\n",
       "      <td>Sants-Montjuïc</td>\n",
       "      <td>14.93</td>\n",
       "      <td>61.46</td>\n",
       "      <td>59.86</td>\n",
       "      <td>69.72</td>\n",
       "    </tr>\n",
       "    <tr>\n",
       "      <th>3</th>\n",
       "      <td>2019</td>\n",
       "      <td>4</td>\n",
       "      <td>Les Corts</td>\n",
       "      <td>19.51</td>\n",
       "      <td>29.47</td>\n",
       "      <td>48.08</td>\n",
       "      <td>90.77</td>\n",
       "    </tr>\n",
       "    <tr>\n",
       "      <th>4</th>\n",
       "      <td>2019</td>\n",
       "      <td>5</td>\n",
       "      <td>Sarrià-Sant Gervasi</td>\n",
       "      <td>25.17</td>\n",
       "      <td>49.50</td>\n",
       "      <td>54.86</td>\n",
       "      <td>112.94</td>\n",
       "    </tr>\n",
       "    <tr>\n",
       "      <th>5</th>\n",
       "      <td>2019</td>\n",
       "      <td>6</td>\n",
       "      <td>Gràcia</td>\n",
       "      <td>30.68</td>\n",
       "      <td>44.95</td>\n",
       "      <td>64.01</td>\n",
       "      <td>74.64</td>\n",
       "    </tr>\n",
       "    <tr>\n",
       "      <th>6</th>\n",
       "      <td>2019</td>\n",
       "      <td>7</td>\n",
       "      <td>Horta-Guinardó</td>\n",
       "      <td>37.19</td>\n",
       "      <td>62.00</td>\n",
       "      <td>51.25</td>\n",
       "      <td>67.39</td>\n",
       "    </tr>\n",
       "    <tr>\n",
       "      <th>7</th>\n",
       "      <td>2019</td>\n",
       "      <td>8</td>\n",
       "      <td>Nou Barris</td>\n",
       "      <td>48.55</td>\n",
       "      <td>59.84</td>\n",
       "      <td>49.75</td>\n",
       "      <td>65.46</td>\n",
       "    </tr>\n",
       "    <tr>\n",
       "      <th>8</th>\n",
       "      <td>2019</td>\n",
       "      <td>9</td>\n",
       "      <td>Sant Andreu</td>\n",
       "      <td>60.54</td>\n",
       "      <td>49.52</td>\n",
       "      <td>48.06</td>\n",
       "      <td>71.00</td>\n",
       "    </tr>\n",
       "    <tr>\n",
       "      <th>9</th>\n",
       "      <td>2019</td>\n",
       "      <td>10</td>\n",
       "      <td>Sant Martí</td>\n",
       "      <td>68.49</td>\n",
       "      <td>76.45</td>\n",
       "      <td>50.95</td>\n",
       "      <td>74.29</td>\n",
       "    </tr>\n",
       "  </tbody>\n",
       "</table>\n",
       "</div>"
      ],
      "text/plain": [
       "   Year  \\\n",
       "0  2019   \n",
       "1  2019   \n",
       "2  2019   \n",
       "3  2019   \n",
       "4  2019   \n",
       "5  2019   \n",
       "6  2019   \n",
       "7  2019   \n",
       "8  2019   \n",
       "9  2019   \n",
       "\n",
       "   Code_Dist  \\\n",
       "0          1   \n",
       "1          2   \n",
       "2          3   \n",
       "3          4   \n",
       "4          5   \n",
       "5          6   \n",
       "6          7   \n",
       "7          8   \n",
       "8          9   \n",
       "9         10   \n",
       "\n",
       "             Name_Dist  \\\n",
       "0         Ciutat Vella   \n",
       "1             Eixample   \n",
       "2       Sants-Montjuïc   \n",
       "3            Les Corts   \n",
       "4  Sarrià-Sant Gervasi   \n",
       "5               Gràcia   \n",
       "6       Horta-Guinardó   \n",
       "7           Nou Barris   \n",
       "8          Sant Andreu   \n",
       "9           Sant Martí   \n",
       "\n",
       "   Code_NBHD  \\\n",
       "0       2.30   \n",
       "1       7.60   \n",
       "2      14.93   \n",
       "3      19.51   \n",
       "4      25.17   \n",
       "5      30.68   \n",
       "6      37.19   \n",
       "7      48.55   \n",
       "8      60.54   \n",
       "9      68.49   \n",
       "\n",
       "   Censal_Section  \\\n",
       "0           28.07   \n",
       "1           87.00   \n",
       "2           61.46   \n",
       "3           29.47   \n",
       "4           49.50   \n",
       "5           44.95   \n",
       "6           62.00   \n",
       "7           59.84   \n",
       "8           49.52   \n",
       "9           76.45   \n",
       "\n",
       "   AVG_Age  \\\n",
       "0   105.69   \n",
       "1    69.28   \n",
       "2    59.86   \n",
       "3    48.08   \n",
       "4    54.86   \n",
       "5    64.01   \n",
       "6    51.25   \n",
       "7    49.75   \n",
       "8    48.06   \n",
       "9    50.95   \n",
       "\n",
       "   AVG_Area  \n",
       "0     67.73  \n",
       "1     88.00  \n",
       "2     69.72  \n",
       "3     90.77  \n",
       "4    112.94  \n",
       "5     74.64  \n",
       "6     67.39  \n",
       "7     65.46  \n",
       "8     71.00  \n",
       "9     74.29  "
      ]
     },
     "execution_count": 44,
     "metadata": {},
     "output_type": "execute_result"
    }
   ],
   "source": [
    "house_avg.loc[house_avg.Year==2019, :].groupby(by=[\"Year\", \"Code_Dist\",\"Name_Dist\"], as_index=False).mean()"
   ]
  },
  {
   "cell_type": "markdown",
   "metadata": {},
   "source": [
    "profile = ProfileReport(house_avg, title=\"house avg Report\")\n",
    "profile.to_notebook_iframe()\n",
    "profile.to_file(\"house_avg_report.html\")"
   ]
  },
  {
   "cell_type": "markdown",
   "metadata": {},
   "source": [
    "# Rent House Price"
   ]
  },
  {
   "cell_type": "markdown",
   "metadata": {},
   "source": [
    "*01.Year* - Year of the data\n",
    "\n",
    "*02.Trimester* - Data quarter\n",
    "\n",
    "*03.Code_Dist* - District code\n",
    "\n",
    "*04.Name_Dist* - Name of the district\n",
    "\n",
    "*05.Code_NBHD* - Neighborhood code\n",
    "\n",
    "*06.Name_NBHD* - Name of the neighborhood\n",
    "\n",
    "*07.Description* - Average house price (thousands of euros)\n",
    "\n",
    "*08.Price* - Value of the price of the house"
   ]
  },
  {
   "cell_type": "code",
   "execution_count": 46,
   "metadata": {},
   "outputs": [
    {
     "data": {
      "text/html": [
       "<div>\n",
       "<style scoped>\n",
       "    .dataframe tbody tr th:only-of-type {\n",
       "        vertical-align: middle;\n",
       "    }\n",
       "\n",
       "    .dataframe tbody tr th {\n",
       "        vertical-align: top;\n",
       "    }\n",
       "\n",
       "    .dataframe thead th {\n",
       "        text-align: right;\n",
       "    }\n",
       "</style>\n",
       "<table border=\"1\" class=\"dataframe\">\n",
       "  <thead>\n",
       "    <tr style=\"text-align: right;\">\n",
       "      <th></th>\n",
       "      <th>Year</th>\n",
       "      <th>Trimester</th>\n",
       "      <th>Code_Dist</th>\n",
       "      <th>Name_Dist</th>\n",
       "      <th>Code_NBHD</th>\n",
       "      <th>Name_NBHD</th>\n",
       "      <th>Description</th>\n",
       "      <th>Price</th>\n",
       "    </tr>\n",
       "  </thead>\n",
       "  <tbody>\n",
       "    <tr>\n",
       "      <th>0</th>\n",
       "      <td>2019</td>\n",
       "      <td>1</td>\n",
       "      <td>1</td>\n",
       "      <td>Ciutat Vella</td>\n",
       "      <td>1</td>\n",
       "      <td>el Raval</td>\n",
       "      <td>Average Euros/month</td>\n",
       "      <td>822.60</td>\n",
       "    </tr>\n",
       "    <tr>\n",
       "      <th>1</th>\n",
       "      <td>2019</td>\n",
       "      <td>1</td>\n",
       "      <td>1</td>\n",
       "      <td>Ciutat Vella</td>\n",
       "      <td>2</td>\n",
       "      <td>el Barri Gòtic</td>\n",
       "      <td>Average Euros/month</td>\n",
       "      <td>1060.90</td>\n",
       "    </tr>\n",
       "    <tr>\n",
       "      <th>2</th>\n",
       "      <td>2019</td>\n",
       "      <td>1</td>\n",
       "      <td>1</td>\n",
       "      <td>Ciutat Vella</td>\n",
       "      <td>3</td>\n",
       "      <td>la Barceloneta</td>\n",
       "      <td>Average Euros/month</td>\n",
       "      <td>891.30</td>\n",
       "    </tr>\n",
       "    <tr>\n",
       "      <th>3</th>\n",
       "      <td>2019</td>\n",
       "      <td>1</td>\n",
       "      <td>1</td>\n",
       "      <td>Ciutat Vella</td>\n",
       "      <td>4</td>\n",
       "      <td>Sant Pere, Santa Caterina i la Ribera</td>\n",
       "      <td>Average Euros/month</td>\n",
       "      <td>990.20</td>\n",
       "    </tr>\n",
       "    <tr>\n",
       "      <th>4</th>\n",
       "      <td>2019</td>\n",
       "      <td>1</td>\n",
       "      <td>2</td>\n",
       "      <td>Eixample</td>\n",
       "      <td>5</td>\n",
       "      <td>el Fort Pienc</td>\n",
       "      <td>Average Euros/month</td>\n",
       "      <td>957.20</td>\n",
       "    </tr>\n",
       "    <tr>\n",
       "      <th>...</th>\n",
       "      <td>...</td>\n",
       "      <td>...</td>\n",
       "      <td>...</td>\n",
       "      <td>...</td>\n",
       "      <td>...</td>\n",
       "      <td>...</td>\n",
       "      <td>...</td>\n",
       "      <td>...</td>\n",
       "    </tr>\n",
       "    <tr>\n",
       "      <th>3499</th>\n",
       "      <td>2014</td>\n",
       "      <td>4</td>\n",
       "      <td>10</td>\n",
       "      <td>Sant Martí</td>\n",
       "      <td>69</td>\n",
       "      <td>Diagonal Mar i el Front Marítim del Poblenou</td>\n",
       "      <td>Average Euros/m2 month</td>\n",
       "      <td>11.49</td>\n",
       "    </tr>\n",
       "    <tr>\n",
       "      <th>3500</th>\n",
       "      <td>2014</td>\n",
       "      <td>4</td>\n",
       "      <td>10</td>\n",
       "      <td>Sant Martí</td>\n",
       "      <td>70</td>\n",
       "      <td>el Besòs i el Maresme</td>\n",
       "      <td>Average Euros/m2 month</td>\n",
       "      <td>8.09</td>\n",
       "    </tr>\n",
       "    <tr>\n",
       "      <th>3501</th>\n",
       "      <td>2014</td>\n",
       "      <td>4</td>\n",
       "      <td>10</td>\n",
       "      <td>Sant Martí</td>\n",
       "      <td>71</td>\n",
       "      <td>Provençals del Poblenou</td>\n",
       "      <td>Average Euros/m2 month</td>\n",
       "      <td>10.03</td>\n",
       "    </tr>\n",
       "    <tr>\n",
       "      <th>3502</th>\n",
       "      <td>2014</td>\n",
       "      <td>4</td>\n",
       "      <td>10</td>\n",
       "      <td>Sant Martí</td>\n",
       "      <td>72</td>\n",
       "      <td>Sant Martí de Provençals</td>\n",
       "      <td>Average Euros/m2 month</td>\n",
       "      <td>8.86</td>\n",
       "    </tr>\n",
       "    <tr>\n",
       "      <th>3503</th>\n",
       "      <td>2014</td>\n",
       "      <td>4</td>\n",
       "      <td>10</td>\n",
       "      <td>Sant Martí</td>\n",
       "      <td>73</td>\n",
       "      <td>la Verneda i la Pau</td>\n",
       "      <td>Average Euros/m2 month</td>\n",
       "      <td>8.14</td>\n",
       "    </tr>\n",
       "  </tbody>\n",
       "</table>\n",
       "<p>3504 rows × 8 columns</p>\n",
       "</div>"
      ],
      "text/plain": [
       "      Year  \\\n",
       "0     2019   \n",
       "1     2019   \n",
       "2     2019   \n",
       "3     2019   \n",
       "4     2019   \n",
       "...    ...   \n",
       "3499  2014   \n",
       "3500  2014   \n",
       "3501  2014   \n",
       "3502  2014   \n",
       "3503  2014   \n",
       "\n",
       "      Trimester  \\\n",
       "0             1   \n",
       "1             1   \n",
       "2             1   \n",
       "3             1   \n",
       "4             1   \n",
       "...         ...   \n",
       "3499          4   \n",
       "3500          4   \n",
       "3501          4   \n",
       "3502          4   \n",
       "3503          4   \n",
       "\n",
       "      Code_Dist  \\\n",
       "0             1   \n",
       "1             1   \n",
       "2             1   \n",
       "3             1   \n",
       "4             2   \n",
       "...         ...   \n",
       "3499         10   \n",
       "3500         10   \n",
       "3501         10   \n",
       "3502         10   \n",
       "3503         10   \n",
       "\n",
       "         Name_Dist  \\\n",
       "0     Ciutat Vella   \n",
       "1     Ciutat Vella   \n",
       "2     Ciutat Vella   \n",
       "3     Ciutat Vella   \n",
       "4         Eixample   \n",
       "...            ...   \n",
       "3499    Sant Martí   \n",
       "3500    Sant Martí   \n",
       "3501    Sant Martí   \n",
       "3502    Sant Martí   \n",
       "3503    Sant Martí   \n",
       "\n",
       "      Code_NBHD  \\\n",
       "0             1   \n",
       "1             2   \n",
       "2             3   \n",
       "3             4   \n",
       "4             5   \n",
       "...         ...   \n",
       "3499         69   \n",
       "3500         70   \n",
       "3501         71   \n",
       "3502         72   \n",
       "3503         73   \n",
       "\n",
       "                                         Name_NBHD  \\\n",
       "0                                         el Raval   \n",
       "1                                   el Barri Gòtic   \n",
       "2                                   la Barceloneta   \n",
       "3            Sant Pere, Santa Caterina i la Ribera   \n",
       "4                                    el Fort Pienc   \n",
       "...                                            ...   \n",
       "3499  Diagonal Mar i el Front Marítim del Poblenou   \n",
       "3500                         el Besòs i el Maresme   \n",
       "3501                       Provençals del Poblenou   \n",
       "3502                      Sant Martí de Provençals   \n",
       "3503                           la Verneda i la Pau   \n",
       "\n",
       "                 Description  \\\n",
       "0        Average Euros/month   \n",
       "1        Average Euros/month   \n",
       "2        Average Euros/month   \n",
       "3        Average Euros/month   \n",
       "4        Average Euros/month   \n",
       "...                      ...   \n",
       "3499  Average Euros/m2 month   \n",
       "3500  Average Euros/m2 month   \n",
       "3501  Average Euros/m2 month   \n",
       "3502  Average Euros/m2 month   \n",
       "3503  Average Euros/m2 month   \n",
       "\n",
       "       Price  \n",
       "0     822.60  \n",
       "1    1060.90  \n",
       "2     891.30  \n",
       "3     990.20  \n",
       "4     957.20  \n",
       "...      ...  \n",
       "3499   11.49  \n",
       "3500    8.09  \n",
       "3501   10.03  \n",
       "3502    8.86  \n",
       "3503    8.14  \n",
       "\n",
       "[3504 rows x 8 columns]"
      ]
     },
     "execution_count": 46,
     "metadata": {},
     "output_type": "execute_result"
    }
   ],
   "source": [
    "rent_house = pd.read_csv(\"../datasets/Rent_Houses_Hist.csv\")\n",
    "rent_house"
   ]
  },
  {
   "cell_type": "code",
   "execution_count": 50,
   "metadata": {},
   "outputs": [
    {
     "data": {
      "text/html": [
       "<div>\n",
       "<style scoped>\n",
       "    .dataframe tbody tr th:only-of-type {\n",
       "        vertical-align: middle;\n",
       "    }\n",
       "\n",
       "    .dataframe tbody tr th {\n",
       "        vertical-align: top;\n",
       "    }\n",
       "\n",
       "    .dataframe thead th {\n",
       "        text-align: right;\n",
       "    }\n",
       "</style>\n",
       "<table border=\"1\" class=\"dataframe\">\n",
       "  <thead>\n",
       "    <tr style=\"text-align: right;\">\n",
       "      <th></th>\n",
       "      <th>Year</th>\n",
       "      <th>Code_Dist</th>\n",
       "      <th>Name_Dist</th>\n",
       "      <th>Description</th>\n",
       "      <th>Trimester</th>\n",
       "      <th>Code_NBHD</th>\n",
       "      <th>Price</th>\n",
       "    </tr>\n",
       "  </thead>\n",
       "  <tbody>\n",
       "    <tr>\n",
       "      <th>0</th>\n",
       "      <td>2019</td>\n",
       "      <td>1</td>\n",
       "      <td>Ciutat Vella</td>\n",
       "      <td>Average Euros/m2 month</td>\n",
       "      <td>2.50</td>\n",
       "      <td>2.50</td>\n",
       "      <td>15.29</td>\n",
       "    </tr>\n",
       "    <tr>\n",
       "      <th>1</th>\n",
       "      <td>2019</td>\n",
       "      <td>1</td>\n",
       "      <td>Ciutat Vella</td>\n",
       "      <td>Average Euros/month</td>\n",
       "      <td>2.50</td>\n",
       "      <td>2.50</td>\n",
       "      <td>960.34</td>\n",
       "    </tr>\n",
       "    <tr>\n",
       "      <th>2</th>\n",
       "      <td>2019</td>\n",
       "      <td>2</td>\n",
       "      <td>Eixample</td>\n",
       "      <td>Average Euros/m2 month</td>\n",
       "      <td>2.50</td>\n",
       "      <td>7.50</td>\n",
       "      <td>14.29</td>\n",
       "    </tr>\n",
       "    <tr>\n",
       "      <th>3</th>\n",
       "      <td>2019</td>\n",
       "      <td>2</td>\n",
       "      <td>Eixample</td>\n",
       "      <td>Average Euros/month</td>\n",
       "      <td>2.50</td>\n",
       "      <td>7.50</td>\n",
       "      <td>1080.73</td>\n",
       "    </tr>\n",
       "    <tr>\n",
       "      <th>4</th>\n",
       "      <td>2019</td>\n",
       "      <td>3</td>\n",
       "      <td>Sants-Montjuïc</td>\n",
       "      <td>Average Euros/m2 month</td>\n",
       "      <td>2.50</td>\n",
       "      <td>14.50</td>\n",
       "      <td>12.97</td>\n",
       "    </tr>\n",
       "    <tr>\n",
       "      <th>5</th>\n",
       "      <td>2019</td>\n",
       "      <td>3</td>\n",
       "      <td>Sants-Montjuïc</td>\n",
       "      <td>Average Euros/month</td>\n",
       "      <td>2.50</td>\n",
       "      <td>14.50</td>\n",
       "      <td>823.66</td>\n",
       "    </tr>\n",
       "    <tr>\n",
       "      <th>6</th>\n",
       "      <td>2019</td>\n",
       "      <td>4</td>\n",
       "      <td>Les Corts</td>\n",
       "      <td>Average Euros/m2 month</td>\n",
       "      <td>2.50</td>\n",
       "      <td>20.00</td>\n",
       "      <td>15.03</td>\n",
       "    </tr>\n",
       "    <tr>\n",
       "      <th>7</th>\n",
       "      <td>2019</td>\n",
       "      <td>4</td>\n",
       "      <td>Les Corts</td>\n",
       "      <td>Average Euros/month</td>\n",
       "      <td>2.50</td>\n",
       "      <td>20.00</td>\n",
       "      <td>1322.32</td>\n",
       "    </tr>\n",
       "    <tr>\n",
       "      <th>8</th>\n",
       "      <td>2019</td>\n",
       "      <td>5</td>\n",
       "      <td>Sarrià-Sant Gervasi</td>\n",
       "      <td>Average Euros/m2 month</td>\n",
       "      <td>2.50</td>\n",
       "      <td>24.50</td>\n",
       "      <td>15.65</td>\n",
       "    </tr>\n",
       "    <tr>\n",
       "      <th>9</th>\n",
       "      <td>2019</td>\n",
       "      <td>5</td>\n",
       "      <td>Sarrià-Sant Gervasi</td>\n",
       "      <td>Average Euros/month</td>\n",
       "      <td>2.50</td>\n",
       "      <td>24.50</td>\n",
       "      <td>1334.70</td>\n",
       "    </tr>\n",
       "    <tr>\n",
       "      <th>10</th>\n",
       "      <td>2019</td>\n",
       "      <td>6</td>\n",
       "      <td>Gràcia</td>\n",
       "      <td>Average Euros/m2 month</td>\n",
       "      <td>2.50</td>\n",
       "      <td>30.00</td>\n",
       "      <td>13.93</td>\n",
       "    </tr>\n",
       "    <tr>\n",
       "      <th>11</th>\n",
       "      <td>2019</td>\n",
       "      <td>6</td>\n",
       "      <td>Gràcia</td>\n",
       "      <td>Average Euros/month</td>\n",
       "      <td>2.50</td>\n",
       "      <td>30.00</td>\n",
       "      <td>926.17</td>\n",
       "    </tr>\n",
       "    <tr>\n",
       "      <th>12</th>\n",
       "      <td>2019</td>\n",
       "      <td>7</td>\n",
       "      <td>Horta-Guinardó</td>\n",
       "      <td>Average Euros/m2 month</td>\n",
       "      <td>2.50</td>\n",
       "      <td>38.00</td>\n",
       "      <td>12.56</td>\n",
       "    </tr>\n",
       "    <tr>\n",
       "      <th>13</th>\n",
       "      <td>2019</td>\n",
       "      <td>7</td>\n",
       "      <td>Horta-Guinardó</td>\n",
       "      <td>Average Euros/month</td>\n",
       "      <td>2.50</td>\n",
       "      <td>38.00</td>\n",
       "      <td>796.39</td>\n",
       "    </tr>\n",
       "    <tr>\n",
       "      <th>14</th>\n",
       "      <td>2019</td>\n",
       "      <td>8</td>\n",
       "      <td>Nou Barris</td>\n",
       "      <td>Average Euros/m2 month</td>\n",
       "      <td>2.50</td>\n",
       "      <td>50.00</td>\n",
       "      <td>11.34</td>\n",
       "    </tr>\n",
       "    <tr>\n",
       "      <th>15</th>\n",
       "      <td>2019</td>\n",
       "      <td>8</td>\n",
       "      <td>Nou Barris</td>\n",
       "      <td>Average Euros/month</td>\n",
       "      <td>2.50</td>\n",
       "      <td>50.00</td>\n",
       "      <td>685.75</td>\n",
       "    </tr>\n",
       "    <tr>\n",
       "      <th>16</th>\n",
       "      <td>2019</td>\n",
       "      <td>9</td>\n",
       "      <td>Sant Andreu</td>\n",
       "      <td>Average Euros/m2 month</td>\n",
       "      <td>2.50</td>\n",
       "      <td>60.00</td>\n",
       "      <td>11.71</td>\n",
       "    </tr>\n",
       "    <tr>\n",
       "      <th>17</th>\n",
       "      <td>2019</td>\n",
       "      <td>9</td>\n",
       "      <td>Sant Andreu</td>\n",
       "      <td>Average Euros/month</td>\n",
       "      <td>2.50</td>\n",
       "      <td>60.00</td>\n",
       "      <td>759.32</td>\n",
       "    </tr>\n",
       "    <tr>\n",
       "      <th>18</th>\n",
       "      <td>2019</td>\n",
       "      <td>10</td>\n",
       "      <td>Sant Martí</td>\n",
       "      <td>Average Euros/m2 month</td>\n",
       "      <td>2.50</td>\n",
       "      <td>68.50</td>\n",
       "      <td>14.05</td>\n",
       "    </tr>\n",
       "    <tr>\n",
       "      <th>19</th>\n",
       "      <td>2019</td>\n",
       "      <td>10</td>\n",
       "      <td>Sant Martí</td>\n",
       "      <td>Average Euros/month</td>\n",
       "      <td>2.50</td>\n",
       "      <td>68.50</td>\n",
       "      <td>981.27</td>\n",
       "    </tr>\n",
       "  </tbody>\n",
       "</table>\n",
       "</div>"
      ],
      "text/plain": [
       "    Year  \\\n",
       "0   2019   \n",
       "1   2019   \n",
       "2   2019   \n",
       "3   2019   \n",
       "4   2019   \n",
       "5   2019   \n",
       "6   2019   \n",
       "7   2019   \n",
       "8   2019   \n",
       "9   2019   \n",
       "10  2019   \n",
       "11  2019   \n",
       "12  2019   \n",
       "13  2019   \n",
       "14  2019   \n",
       "15  2019   \n",
       "16  2019   \n",
       "17  2019   \n",
       "18  2019   \n",
       "19  2019   \n",
       "\n",
       "    Code_Dist  \\\n",
       "0           1   \n",
       "1           1   \n",
       "2           2   \n",
       "3           2   \n",
       "4           3   \n",
       "5           3   \n",
       "6           4   \n",
       "7           4   \n",
       "8           5   \n",
       "9           5   \n",
       "10          6   \n",
       "11          6   \n",
       "12          7   \n",
       "13          7   \n",
       "14          8   \n",
       "15          8   \n",
       "16          9   \n",
       "17          9   \n",
       "18         10   \n",
       "19         10   \n",
       "\n",
       "              Name_Dist  \\\n",
       "0          Ciutat Vella   \n",
       "1          Ciutat Vella   \n",
       "2              Eixample   \n",
       "3              Eixample   \n",
       "4        Sants-Montjuïc   \n",
       "5        Sants-Montjuïc   \n",
       "6             Les Corts   \n",
       "7             Les Corts   \n",
       "8   Sarrià-Sant Gervasi   \n",
       "9   Sarrià-Sant Gervasi   \n",
       "10               Gràcia   \n",
       "11               Gràcia   \n",
       "12       Horta-Guinardó   \n",
       "13       Horta-Guinardó   \n",
       "14           Nou Barris   \n",
       "15           Nou Barris   \n",
       "16          Sant Andreu   \n",
       "17          Sant Andreu   \n",
       "18           Sant Martí   \n",
       "19           Sant Martí   \n",
       "\n",
       "               Description  \\\n",
       "0   Average Euros/m2 month   \n",
       "1      Average Euros/month   \n",
       "2   Average Euros/m2 month   \n",
       "3      Average Euros/month   \n",
       "4   Average Euros/m2 month   \n",
       "5      Average Euros/month   \n",
       "6   Average Euros/m2 month   \n",
       "7      Average Euros/month   \n",
       "8   Average Euros/m2 month   \n",
       "9      Average Euros/month   \n",
       "10  Average Euros/m2 month   \n",
       "11     Average Euros/month   \n",
       "12  Average Euros/m2 month   \n",
       "13     Average Euros/month   \n",
       "14  Average Euros/m2 month   \n",
       "15     Average Euros/month   \n",
       "16  Average Euros/m2 month   \n",
       "17     Average Euros/month   \n",
       "18  Average Euros/m2 month   \n",
       "19     Average Euros/month   \n",
       "\n",
       "    Trimester  \\\n",
       "0        2.50   \n",
       "1        2.50   \n",
       "2        2.50   \n",
       "3        2.50   \n",
       "4        2.50   \n",
       "5        2.50   \n",
       "6        2.50   \n",
       "7        2.50   \n",
       "8        2.50   \n",
       "9        2.50   \n",
       "10       2.50   \n",
       "11       2.50   \n",
       "12       2.50   \n",
       "13       2.50   \n",
       "14       2.50   \n",
       "15       2.50   \n",
       "16       2.50   \n",
       "17       2.50   \n",
       "18       2.50   \n",
       "19       2.50   \n",
       "\n",
       "    Code_NBHD  \\\n",
       "0        2.50   \n",
       "1        2.50   \n",
       "2        7.50   \n",
       "3        7.50   \n",
       "4       14.50   \n",
       "5       14.50   \n",
       "6       20.00   \n",
       "7       20.00   \n",
       "8       24.50   \n",
       "9       24.50   \n",
       "10      30.00   \n",
       "11      30.00   \n",
       "12      38.00   \n",
       "13      38.00   \n",
       "14      50.00   \n",
       "15      50.00   \n",
       "16      60.00   \n",
       "17      60.00   \n",
       "18      68.50   \n",
       "19      68.50   \n",
       "\n",
       "     Price  \n",
       "0    15.29  \n",
       "1   960.34  \n",
       "2    14.29  \n",
       "3  1080.73  \n",
       "4    12.97  \n",
       "5   823.66  \n",
       "6    15.03  \n",
       "7  1322.32  \n",
       "8    15.65  \n",
       "9  1334.70  \n",
       "10   13.93  \n",
       "11  926.17  \n",
       "12   12.56  \n",
       "13  796.39  \n",
       "14   11.34  \n",
       "15  685.75  \n",
       "16   11.71  \n",
       "17  759.32  \n",
       "18   14.05  \n",
       "19  981.27  "
      ]
     },
     "execution_count": 50,
     "metadata": {},
     "output_type": "execute_result"
    }
   ],
   "source": [
    "rent_house.loc[rent_house.Year==2019, :].groupby(by=[\"Year\", \"Code_Dist\", \"Name_Dist\", \"Description\"], as_index=False).mean()"
   ]
  },
  {
   "cell_type": "code",
   "execution_count": 58,
   "metadata": {},
   "outputs": [],
   "source": [
    "rent_house_2019 = rent_house.loc[rent_house.Year==2019, :].groupby(by=[\"Year\", \"Code_Dist\",\"Name_Dist\",\"Code_NBHD\" ,\"Name_NBHD\", \"Description\"], as_index=False).mean()\n"
   ]
  },
  {
   "cell_type": "markdown",
   "metadata": {},
   "source": [
    "profile = ProfileReport(rent_house, title=\"rent_house Report\")\n",
    "profile.to_notebook_iframe()\n",
    "profile.to_file(\"rent_house_report.html\")"
   ]
  },
  {
   "cell_type": "markdown",
   "metadata": {},
   "source": [
    "# Sale House Price"
   ]
  },
  {
   "cell_type": "markdown",
   "metadata": {},
   "source": [
    "*01.Year* - Year of the data\n",
    "\n",
    "*02.Trimester* - Data quarter\n",
    "\n",
    "*03.Code_Dist* - District code\n",
    "\n",
    "*04.Name_Dist* - Name of the district\n",
    "\n",
    "*05.Code_NBHD* - Neighborhood code\n",
    "\n",
    "*06.Name_NBHD* - Name of the neighborhood\n",
    "\n",
    "*07.Description* - Average house price (thousands of euros)\n",
    "\n",
    "*08.Price* - Value of the price of the house\n",
    "\n",
    "*09.Type* -  The description of the type of the house"
   ]
  },
  {
   "cell_type": "code",
   "execution_count": 53,
   "metadata": {},
   "outputs": [
    {
     "data": {
      "text/html": [
       "<div>\n",
       "<style scoped>\n",
       "    .dataframe tbody tr th:only-of-type {\n",
       "        vertical-align: middle;\n",
       "    }\n",
       "\n",
       "    .dataframe tbody tr th {\n",
       "        vertical-align: top;\n",
       "    }\n",
       "\n",
       "    .dataframe thead th {\n",
       "        text-align: right;\n",
       "    }\n",
       "</style>\n",
       "<table border=\"1\" class=\"dataframe\">\n",
       "  <thead>\n",
       "    <tr style=\"text-align: right;\">\n",
       "      <th></th>\n",
       "      <th>Year</th>\n",
       "      <th>Trimester</th>\n",
       "      <th>Code_Dist</th>\n",
       "      <th>Name_Dist</th>\n",
       "      <th>Code_NBHD</th>\n",
       "      <th>Name_NBHD</th>\n",
       "      <th>Description</th>\n",
       "      <th>Price</th>\n",
       "      <th>Type</th>\n",
       "    </tr>\n",
       "  </thead>\n",
       "  <tbody>\n",
       "    <tr>\n",
       "      <th>0</th>\n",
       "      <td>2019</td>\n",
       "      <td>1</td>\n",
       "      <td>1</td>\n",
       "      <td>Ciutat Vella</td>\n",
       "      <td>1</td>\n",
       "      <td>el Raval</td>\n",
       "      <td>Thousands of Euros</td>\n",
       "      <td>236.70</td>\n",
       "      <td>Total</td>\n",
       "    </tr>\n",
       "    <tr>\n",
       "      <th>1</th>\n",
       "      <td>2019</td>\n",
       "      <td>1</td>\n",
       "      <td>1</td>\n",
       "      <td>Ciutat Vella</td>\n",
       "      <td>2</td>\n",
       "      <td>el Barri Gòtic</td>\n",
       "      <td>Thousands of Euros</td>\n",
       "      <td>411.70</td>\n",
       "      <td>Total</td>\n",
       "    </tr>\n",
       "    <tr>\n",
       "      <th>2</th>\n",
       "      <td>2019</td>\n",
       "      <td>1</td>\n",
       "      <td>1</td>\n",
       "      <td>Ciutat Vella</td>\n",
       "      <td>3</td>\n",
       "      <td>la Barceloneta</td>\n",
       "      <td>Thousands of Euros</td>\n",
       "      <td>215.60</td>\n",
       "      <td>Total</td>\n",
       "    </tr>\n",
       "    <tr>\n",
       "      <th>3</th>\n",
       "      <td>2019</td>\n",
       "      <td>1</td>\n",
       "      <td>1</td>\n",
       "      <td>Ciutat Vella</td>\n",
       "      <td>4</td>\n",
       "      <td>Sant Pere, Santa Caterina i la Ribera</td>\n",
       "      <td>Thousands of Euros</td>\n",
       "      <td>306.00</td>\n",
       "      <td>Total</td>\n",
       "    </tr>\n",
       "    <tr>\n",
       "      <th>4</th>\n",
       "      <td>2019</td>\n",
       "      <td>1</td>\n",
       "      <td>2</td>\n",
       "      <td>Eixample</td>\n",
       "      <td>5</td>\n",
       "      <td>el Fort Pienc</td>\n",
       "      <td>Thousands of Euros</td>\n",
       "      <td>582.20</td>\n",
       "      <td>Total</td>\n",
       "    </tr>\n",
       "    <tr>\n",
       "      <th>...</th>\n",
       "      <td>...</td>\n",
       "      <td>...</td>\n",
       "      <td>...</td>\n",
       "      <td>...</td>\n",
       "      <td>...</td>\n",
       "      <td>...</td>\n",
       "      <td>...</td>\n",
       "      <td>...</td>\n",
       "      <td>...</td>\n",
       "    </tr>\n",
       "    <tr>\n",
       "      <th>10507</th>\n",
       "      <td>2014</td>\n",
       "      <td>4</td>\n",
       "      <td>10</td>\n",
       "      <td>Sant Martí</td>\n",
       "      <td>69</td>\n",
       "      <td>Diagonal Mar i el Front Marítim del Poblenou</td>\n",
       "      <td>Euros/m2</td>\n",
       "      <td>5509.60</td>\n",
       "      <td>Used</td>\n",
       "    </tr>\n",
       "    <tr>\n",
       "      <th>10508</th>\n",
       "      <td>2014</td>\n",
       "      <td>4</td>\n",
       "      <td>10</td>\n",
       "      <td>Sant Martí</td>\n",
       "      <td>70</td>\n",
       "      <td>el Besòs i el Maresme</td>\n",
       "      <td>Euros/m2</td>\n",
       "      <td>2153.20</td>\n",
       "      <td>Used</td>\n",
       "    </tr>\n",
       "    <tr>\n",
       "      <th>10509</th>\n",
       "      <td>2014</td>\n",
       "      <td>4</td>\n",
       "      <td>10</td>\n",
       "      <td>Sant Martí</td>\n",
       "      <td>71</td>\n",
       "      <td>Provençals del Poblenou</td>\n",
       "      <td>Euros/m2</td>\n",
       "      <td>3602.40</td>\n",
       "      <td>Used</td>\n",
       "    </tr>\n",
       "    <tr>\n",
       "      <th>10510</th>\n",
       "      <td>2014</td>\n",
       "      <td>4</td>\n",
       "      <td>10</td>\n",
       "      <td>Sant Martí</td>\n",
       "      <td>72</td>\n",
       "      <td>Sant Martí de Provençals</td>\n",
       "      <td>Euros/m2</td>\n",
       "      <td>3403.70</td>\n",
       "      <td>Used</td>\n",
       "    </tr>\n",
       "    <tr>\n",
       "      <th>10511</th>\n",
       "      <td>2014</td>\n",
       "      <td>4</td>\n",
       "      <td>10</td>\n",
       "      <td>Sant Martí</td>\n",
       "      <td>73</td>\n",
       "      <td>la Verneda i la Pau</td>\n",
       "      <td>Euros/m2</td>\n",
       "      <td>1990.20</td>\n",
       "      <td>Used</td>\n",
       "    </tr>\n",
       "  </tbody>\n",
       "</table>\n",
       "<p>10512 rows × 9 columns</p>\n",
       "</div>"
      ],
      "text/plain": [
       "       Year  \\\n",
       "0      2019   \n",
       "1      2019   \n",
       "2      2019   \n",
       "3      2019   \n",
       "4      2019   \n",
       "...     ...   \n",
       "10507  2014   \n",
       "10508  2014   \n",
       "10509  2014   \n",
       "10510  2014   \n",
       "10511  2014   \n",
       "\n",
       "       Trimester  \\\n",
       "0              1   \n",
       "1              1   \n",
       "2              1   \n",
       "3              1   \n",
       "4              1   \n",
       "...          ...   \n",
       "10507          4   \n",
       "10508          4   \n",
       "10509          4   \n",
       "10510          4   \n",
       "10511          4   \n",
       "\n",
       "       Code_Dist  \\\n",
       "0              1   \n",
       "1              1   \n",
       "2              1   \n",
       "3              1   \n",
       "4              2   \n",
       "...          ...   \n",
       "10507         10   \n",
       "10508         10   \n",
       "10509         10   \n",
       "10510         10   \n",
       "10511         10   \n",
       "\n",
       "          Name_Dist  \\\n",
       "0      Ciutat Vella   \n",
       "1      Ciutat Vella   \n",
       "2      Ciutat Vella   \n",
       "3      Ciutat Vella   \n",
       "4          Eixample   \n",
       "...             ...   \n",
       "10507    Sant Martí   \n",
       "10508    Sant Martí   \n",
       "10509    Sant Martí   \n",
       "10510    Sant Martí   \n",
       "10511    Sant Martí   \n",
       "\n",
       "       Code_NBHD  \\\n",
       "0              1   \n",
       "1              2   \n",
       "2              3   \n",
       "3              4   \n",
       "4              5   \n",
       "...          ...   \n",
       "10507         69   \n",
       "10508         70   \n",
       "10509         71   \n",
       "10510         72   \n",
       "10511         73   \n",
       "\n",
       "                                          Name_NBHD  \\\n",
       "0                                          el Raval   \n",
       "1                                    el Barri Gòtic   \n",
       "2                                    la Barceloneta   \n",
       "3             Sant Pere, Santa Caterina i la Ribera   \n",
       "4                                     el Fort Pienc   \n",
       "...                                             ...   \n",
       "10507  Diagonal Mar i el Front Marítim del Poblenou   \n",
       "10508                         el Besòs i el Maresme   \n",
       "10509                       Provençals del Poblenou   \n",
       "10510                      Sant Martí de Provençals   \n",
       "10511                           la Verneda i la Pau   \n",
       "\n",
       "              Description  \\\n",
       "0      Thousands of Euros   \n",
       "1      Thousands of Euros   \n",
       "2      Thousands of Euros   \n",
       "3      Thousands of Euros   \n",
       "4      Thousands of Euros   \n",
       "...                   ...   \n",
       "10507            Euros/m2   \n",
       "10508            Euros/m2   \n",
       "10509            Euros/m2   \n",
       "10510            Euros/m2   \n",
       "10511            Euros/m2   \n",
       "\n",
       "        Price  \\\n",
       "0      236.70   \n",
       "1      411.70   \n",
       "2      215.60   \n",
       "3      306.00   \n",
       "4      582.20   \n",
       "...       ...   \n",
       "10507 5509.60   \n",
       "10508 2153.20   \n",
       "10509 3602.40   \n",
       "10510 3403.70   \n",
       "10511 1990.20   \n",
       "\n",
       "        Type  \n",
       "0      Total  \n",
       "1      Total  \n",
       "2      Total  \n",
       "3      Total  \n",
       "4      Total  \n",
       "...      ...  \n",
       "10507   Used  \n",
       "10508   Used  \n",
       "10509   Used  \n",
       "10510   Used  \n",
       "10511   Used  \n",
       "\n",
       "[10512 rows x 9 columns]"
      ]
     },
     "execution_count": 53,
     "metadata": {},
     "output_type": "execute_result"
    }
   ],
   "source": [
    "sale_house = pd.read_csv(\"../datasets/Sale_Houses_Hist.csv\")\n",
    "sale_house"
   ]
  },
  {
   "cell_type": "markdown",
   "metadata": {},
   "source": [
    "profile = ProfileReport(sale_house, title=\"sale_house Report\")\n",
    "profile.to_notebook_iframe()\n",
    "profile.to_file(\"sale_house_report.html\")"
   ]
  },
  {
   "cell_type": "code",
   "execution_count": 55,
   "metadata": {},
   "outputs": [
    {
     "data": {
      "text/html": [
       "<div>\n",
       "<style scoped>\n",
       "    .dataframe tbody tr th:only-of-type {\n",
       "        vertical-align: middle;\n",
       "    }\n",
       "\n",
       "    .dataframe tbody tr th {\n",
       "        vertical-align: top;\n",
       "    }\n",
       "\n",
       "    .dataframe thead th {\n",
       "        text-align: right;\n",
       "    }\n",
       "</style>\n",
       "<table border=\"1\" class=\"dataframe\">\n",
       "  <thead>\n",
       "    <tr style=\"text-align: right;\">\n",
       "      <th></th>\n",
       "      <th>Year</th>\n",
       "      <th>Code_Dist</th>\n",
       "      <th>Name_Dist</th>\n",
       "      <th>Code_NBHD</th>\n",
       "      <th>Name_NBHD</th>\n",
       "      <th>Description</th>\n",
       "      <th>Type</th>\n",
       "      <th>Trimester</th>\n",
       "      <th>Price</th>\n",
       "    </tr>\n",
       "  </thead>\n",
       "  <tbody>\n",
       "    <tr>\n",
       "      <th>0</th>\n",
       "      <td>2019</td>\n",
       "      <td>1</td>\n",
       "      <td>Ciutat Vella</td>\n",
       "      <td>1</td>\n",
       "      <td>el Raval</td>\n",
       "      <td>Euros/m2</td>\n",
       "      <td>New</td>\n",
       "      <td>2.50</td>\n",
       "      <td>6725.50</td>\n",
       "    </tr>\n",
       "    <tr>\n",
       "      <th>1</th>\n",
       "      <td>2019</td>\n",
       "      <td>1</td>\n",
       "      <td>Ciutat Vella</td>\n",
       "      <td>1</td>\n",
       "      <td>el Raval</td>\n",
       "      <td>Euros/m2</td>\n",
       "      <td>Total</td>\n",
       "      <td>2.50</td>\n",
       "      <td>3561.30</td>\n",
       "    </tr>\n",
       "    <tr>\n",
       "      <th>2</th>\n",
       "      <td>2019</td>\n",
       "      <td>1</td>\n",
       "      <td>Ciutat Vella</td>\n",
       "      <td>1</td>\n",
       "      <td>el Raval</td>\n",
       "      <td>Euros/m2</td>\n",
       "      <td>Used</td>\n",
       "      <td>2.50</td>\n",
       "      <td>3466.20</td>\n",
       "    </tr>\n",
       "    <tr>\n",
       "      <th>3</th>\n",
       "      <td>2019</td>\n",
       "      <td>1</td>\n",
       "      <td>Ciutat Vella</td>\n",
       "      <td>1</td>\n",
       "      <td>el Raval</td>\n",
       "      <td>Thousands of Euros</td>\n",
       "      <td>New</td>\n",
       "      <td>2.50</td>\n",
       "      <td>358.85</td>\n",
       "    </tr>\n",
       "    <tr>\n",
       "      <th>4</th>\n",
       "      <td>2019</td>\n",
       "      <td>1</td>\n",
       "      <td>Ciutat Vella</td>\n",
       "      <td>1</td>\n",
       "      <td>el Raval</td>\n",
       "      <td>Thousands of Euros</td>\n",
       "      <td>Total</td>\n",
       "      <td>2.50</td>\n",
       "      <td>206.73</td>\n",
       "    </tr>\n",
       "    <tr>\n",
       "      <th>...</th>\n",
       "      <td>...</td>\n",
       "      <td>...</td>\n",
       "      <td>...</td>\n",
       "      <td>...</td>\n",
       "      <td>...</td>\n",
       "      <td>...</td>\n",
       "      <td>...</td>\n",
       "      <td>...</td>\n",
       "      <td>...</td>\n",
       "    </tr>\n",
       "    <tr>\n",
       "      <th>433</th>\n",
       "      <td>2019</td>\n",
       "      <td>10</td>\n",
       "      <td>Sant Martí</td>\n",
       "      <td>73</td>\n",
       "      <td>la Verneda i la Pau</td>\n",
       "      <td>Euros/m2</td>\n",
       "      <td>Total</td>\n",
       "      <td>2.50</td>\n",
       "      <td>2476.32</td>\n",
       "    </tr>\n",
       "    <tr>\n",
       "      <th>434</th>\n",
       "      <td>2019</td>\n",
       "      <td>10</td>\n",
       "      <td>Sant Martí</td>\n",
       "      <td>73</td>\n",
       "      <td>la Verneda i la Pau</td>\n",
       "      <td>Euros/m2</td>\n",
       "      <td>Used</td>\n",
       "      <td>2.50</td>\n",
       "      <td>2455.03</td>\n",
       "    </tr>\n",
       "    <tr>\n",
       "      <th>435</th>\n",
       "      <td>2019</td>\n",
       "      <td>10</td>\n",
       "      <td>Sant Martí</td>\n",
       "      <td>73</td>\n",
       "      <td>la Verneda i la Pau</td>\n",
       "      <td>Thousands of Euros</td>\n",
       "      <td>New</td>\n",
       "      <td>2.50</td>\n",
       "      <td>166.63</td>\n",
       "    </tr>\n",
       "    <tr>\n",
       "      <th>436</th>\n",
       "      <td>2019</td>\n",
       "      <td>10</td>\n",
       "      <td>Sant Martí</td>\n",
       "      <td>73</td>\n",
       "      <td>la Verneda i la Pau</td>\n",
       "      <td>Thousands of Euros</td>\n",
       "      <td>Total</td>\n",
       "      <td>2.50</td>\n",
       "      <td>172.32</td>\n",
       "    </tr>\n",
       "    <tr>\n",
       "      <th>437</th>\n",
       "      <td>2019</td>\n",
       "      <td>10</td>\n",
       "      <td>Sant Martí</td>\n",
       "      <td>73</td>\n",
       "      <td>la Verneda i la Pau</td>\n",
       "      <td>Thousands of Euros</td>\n",
       "      <td>Used</td>\n",
       "      <td>2.50</td>\n",
       "      <td>173.12</td>\n",
       "    </tr>\n",
       "  </tbody>\n",
       "</table>\n",
       "<p>438 rows × 9 columns</p>\n",
       "</div>"
      ],
      "text/plain": [
       "     Year  \\\n",
       "0    2019   \n",
       "1    2019   \n",
       "2    2019   \n",
       "3    2019   \n",
       "4    2019   \n",
       "..    ...   \n",
       "433  2019   \n",
       "434  2019   \n",
       "435  2019   \n",
       "436  2019   \n",
       "437  2019   \n",
       "\n",
       "     Code_Dist  \\\n",
       "0            1   \n",
       "1            1   \n",
       "2            1   \n",
       "3            1   \n",
       "4            1   \n",
       "..         ...   \n",
       "433         10   \n",
       "434         10   \n",
       "435         10   \n",
       "436         10   \n",
       "437         10   \n",
       "\n",
       "        Name_Dist  \\\n",
       "0    Ciutat Vella   \n",
       "1    Ciutat Vella   \n",
       "2    Ciutat Vella   \n",
       "3    Ciutat Vella   \n",
       "4    Ciutat Vella   \n",
       "..            ...   \n",
       "433    Sant Martí   \n",
       "434    Sant Martí   \n",
       "435    Sant Martí   \n",
       "436    Sant Martí   \n",
       "437    Sant Martí   \n",
       "\n",
       "     Code_NBHD  \\\n",
       "0            1   \n",
       "1            1   \n",
       "2            1   \n",
       "3            1   \n",
       "4            1   \n",
       "..         ...   \n",
       "433         73   \n",
       "434         73   \n",
       "435         73   \n",
       "436         73   \n",
       "437         73   \n",
       "\n",
       "               Name_NBHD  \\\n",
       "0               el Raval   \n",
       "1               el Raval   \n",
       "2               el Raval   \n",
       "3               el Raval   \n",
       "4               el Raval   \n",
       "..                   ...   \n",
       "433  la Verneda i la Pau   \n",
       "434  la Verneda i la Pau   \n",
       "435  la Verneda i la Pau   \n",
       "436  la Verneda i la Pau   \n",
       "437  la Verneda i la Pau   \n",
       "\n",
       "            Description  \\\n",
       "0              Euros/m2   \n",
       "1              Euros/m2   \n",
       "2              Euros/m2   \n",
       "3    Thousands of Euros   \n",
       "4    Thousands of Euros   \n",
       "..                  ...   \n",
       "433            Euros/m2   \n",
       "434            Euros/m2   \n",
       "435  Thousands of Euros   \n",
       "436  Thousands of Euros   \n",
       "437  Thousands of Euros   \n",
       "\n",
       "      Type  \\\n",
       "0      New   \n",
       "1    Total   \n",
       "2     Used   \n",
       "3      New   \n",
       "4    Total   \n",
       "..     ...   \n",
       "433  Total   \n",
       "434   Used   \n",
       "435    New   \n",
       "436  Total   \n",
       "437   Used   \n",
       "\n",
       "     Trimester  \\\n",
       "0         2.50   \n",
       "1         2.50   \n",
       "2         2.50   \n",
       "3         2.50   \n",
       "4         2.50   \n",
       "..         ...   \n",
       "433       2.50   \n",
       "434       2.50   \n",
       "435       2.50   \n",
       "436       2.50   \n",
       "437       2.50   \n",
       "\n",
       "      Price  \n",
       "0   6725.50  \n",
       "1   3561.30  \n",
       "2   3466.20  \n",
       "3    358.85  \n",
       "4    206.73  \n",
       "..      ...  \n",
       "433 2476.32  \n",
       "434 2455.03  \n",
       "435  166.63  \n",
       "436  172.32  \n",
       "437  173.12  \n",
       "\n",
       "[438 rows x 9 columns]"
      ]
     },
     "execution_count": 55,
     "metadata": {},
     "output_type": "execute_result"
    }
   ],
   "source": [
    "sale_house.loc[sale_house.Year==2019, :].groupby(by=[\"Year\", \"Code_Dist\",\"Name_Dist\",\"Code_NBHD\" ,\"Name_NBHD\", \"Description\", \"Type\"], as_index=False).mean()\n"
   ]
  },
  {
   "cell_type": "code",
   "execution_count": 59,
   "metadata": {},
   "outputs": [],
   "source": [
    "sale_house_2019 = sale_house.loc[sale_house.Year==2019, :].groupby(by=[\"Year\", \"Code_Dist\",\"Name_Dist\",\"Description\", \"Type\"], as_index=False).mean()\n"
   ]
  },
  {
   "cell_type": "markdown",
   "metadata": {},
   "source": [
    "# Local by use"
   ]
  },
  {
   "cell_type": "markdown",
   "metadata": {},
   "source": [
    "RESOURCE STRUCTURE FROM 2018\n",
    "\n",
    "*01.Year* - Year of the data\n",
    "\n",
    "*02.Code_Dist* - District code\n",
    "\n",
    "*03.Name_Dist* - Name of the district\n",
    "\n",
    "*04.Code_NBHD* - Neighborhood code\n",
    "\n",
    "*05.Name_NBHD* - Name of the neighborhood\n",
    "\n",
    "*06.Censal_Section* - Census section\n",
    "\n",
    "*07.Use* - Description of the main destination use\n",
    "\n",
    "*08.Description* - Number, Area m2 and Value € of the cadastral premises\n",
    "\n",
    "*09.Amount* - Number of premises, area and value per destination use"
   ]
  },
  {
   "cell_type": "code",
   "execution_count": 16,
   "metadata": {},
   "outputs": [
    {
     "data": {
      "text/html": [
       "<div>\n",
       "<style scoped>\n",
       "    .dataframe tbody tr th:only-of-type {\n",
       "        vertical-align: middle;\n",
       "    }\n",
       "\n",
       "    .dataframe tbody tr th {\n",
       "        vertical-align: top;\n",
       "    }\n",
       "\n",
       "    .dataframe thead th {\n",
       "        text-align: right;\n",
       "    }\n",
       "</style>\n",
       "<table border=\"1\" class=\"dataframe\">\n",
       "  <thead>\n",
       "    <tr style=\"text-align: right;\">\n",
       "      <th></th>\n",
       "      <th>Year</th>\n",
       "      <th>Code_Dist</th>\n",
       "      <th>Name_Dist</th>\n",
       "      <th>Code_NBHD</th>\n",
       "      <th>Name_NBHD</th>\n",
       "      <th>Censal_Section</th>\n",
       "      <th>Use</th>\n",
       "      <th>Description</th>\n",
       "      <th>Amount</th>\n",
       "    </tr>\n",
       "  </thead>\n",
       "  <tbody>\n",
       "    <tr>\n",
       "      <th>0</th>\n",
       "      <td>2019</td>\n",
       "      <td>1</td>\n",
       "      <td>Ciutat Vella</td>\n",
       "      <td>1</td>\n",
       "      <td>el Raval</td>\n",
       "      <td>1</td>\n",
       "      <td>Habitatge</td>\n",
       "      <td>Nombre</td>\n",
       "      <td>819.00</td>\n",
       "    </tr>\n",
       "    <tr>\n",
       "      <th>1</th>\n",
       "      <td>2019</td>\n",
       "      <td>1</td>\n",
       "      <td>Ciutat Vella</td>\n",
       "      <td>1</td>\n",
       "      <td>el Raval</td>\n",
       "      <td>1</td>\n",
       "      <td>Aparcaments</td>\n",
       "      <td>Nombre</td>\n",
       "      <td>98.00</td>\n",
       "    </tr>\n",
       "    <tr>\n",
       "      <th>2</th>\n",
       "      <td>2019</td>\n",
       "      <td>1</td>\n",
       "      <td>Ciutat Vella</td>\n",
       "      <td>1</td>\n",
       "      <td>el Raval</td>\n",
       "      <td>1</td>\n",
       "      <td>Comerç</td>\n",
       "      <td>Nombre</td>\n",
       "      <td>50.00</td>\n",
       "    </tr>\n",
       "    <tr>\n",
       "      <th>3</th>\n",
       "      <td>2019</td>\n",
       "      <td>1</td>\n",
       "      <td>Ciutat Vella</td>\n",
       "      <td>1</td>\n",
       "      <td>el Raval</td>\n",
       "      <td>1</td>\n",
       "      <td>Magatzem</td>\n",
       "      <td>Nombre</td>\n",
       "      <td>30.00</td>\n",
       "    </tr>\n",
       "    <tr>\n",
       "      <th>4</th>\n",
       "      <td>2019</td>\n",
       "      <td>1</td>\n",
       "      <td>Ciutat Vella</td>\n",
       "      <td>1</td>\n",
       "      <td>el Raval</td>\n",
       "      <td>1</td>\n",
       "      <td>Oficina</td>\n",
       "      <td>Nombre</td>\n",
       "      <td>157.00</td>\n",
       "    </tr>\n",
       "    <tr>\n",
       "      <th>...</th>\n",
       "      <td>...</td>\n",
       "      <td>...</td>\n",
       "      <td>...</td>\n",
       "      <td>...</td>\n",
       "      <td>...</td>\n",
       "      <td>...</td>\n",
       "      <td>...</td>\n",
       "      <td>...</td>\n",
       "      <td>...</td>\n",
       "    </tr>\n",
       "    <tr>\n",
       "      <th>52714</th>\n",
       "      <td>2018</td>\n",
       "      <td>10</td>\n",
       "      <td>Sant Martí</td>\n",
       "      <td>73</td>\n",
       "      <td>la Verneda i la Pau</td>\n",
       "      <td>142</td>\n",
       "      <td>Religiós</td>\n",
       "      <td>Valor_€</td>\n",
       "      <td>822218.98</td>\n",
       "    </tr>\n",
       "    <tr>\n",
       "      <th>52715</th>\n",
       "      <td>2018</td>\n",
       "      <td>10</td>\n",
       "      <td>Sant Martí</td>\n",
       "      <td>73</td>\n",
       "      <td>la Verneda i la Pau</td>\n",
       "      <td>143</td>\n",
       "      <td>Habitatge</td>\n",
       "      <td>Valor_€</td>\n",
       "      <td>37618731925.00</td>\n",
       "    </tr>\n",
       "    <tr>\n",
       "      <th>52716</th>\n",
       "      <td>2018</td>\n",
       "      <td>10</td>\n",
       "      <td>Sant Martí</td>\n",
       "      <td>73</td>\n",
       "      <td>la Verneda i la Pau</td>\n",
       "      <td>143</td>\n",
       "      <td>Comerç</td>\n",
       "      <td>Valor_€</td>\n",
       "      <td>601580565.00</td>\n",
       "    </tr>\n",
       "    <tr>\n",
       "      <th>52717</th>\n",
       "      <td>2018</td>\n",
       "      <td>10</td>\n",
       "      <td>Sant Martí</td>\n",
       "      <td>73</td>\n",
       "      <td>la Verneda i la Pau</td>\n",
       "      <td>143</td>\n",
       "      <td>Hotel</td>\n",
       "      <td>Valor_€</td>\n",
       "      <td>55101.37</td>\n",
       "    </tr>\n",
       "    <tr>\n",
       "      <th>52718</th>\n",
       "      <td>2018</td>\n",
       "      <td>10</td>\n",
       "      <td>Sant Martí</td>\n",
       "      <td>73</td>\n",
       "      <td>la Verneda i la Pau</td>\n",
       "      <td>143</td>\n",
       "      <td>Ensenyament</td>\n",
       "      <td>Valor_€</td>\n",
       "      <td>2120855.00</td>\n",
       "    </tr>\n",
       "  </tbody>\n",
       "</table>\n",
       "<p>52719 rows × 9 columns</p>\n",
       "</div>"
      ],
      "text/plain": [
       "       Year  \\\n",
       "0      2019   \n",
       "1      2019   \n",
       "2      2019   \n",
       "3      2019   \n",
       "4      2019   \n",
       "...     ...   \n",
       "52714  2018   \n",
       "52715  2018   \n",
       "52716  2018   \n",
       "52717  2018   \n",
       "52718  2018   \n",
       "\n",
       "      Code_Dist  \\\n",
       "0             1   \n",
       "1             1   \n",
       "2             1   \n",
       "3             1   \n",
       "4             1   \n",
       "...         ...   \n",
       "52714        10   \n",
       "52715        10   \n",
       "52716        10   \n",
       "52717        10   \n",
       "52718        10   \n",
       "\n",
       "          Name_Dist  \\\n",
       "0      Ciutat Vella   \n",
       "1      Ciutat Vella   \n",
       "2      Ciutat Vella   \n",
       "3      Ciutat Vella   \n",
       "4      Ciutat Vella   \n",
       "...             ...   \n",
       "52714    Sant Martí   \n",
       "52715    Sant Martí   \n",
       "52716    Sant Martí   \n",
       "52717    Sant Martí   \n",
       "52718    Sant Martí   \n",
       "\n",
       "      Code_NBHD  \\\n",
       "0             1   \n",
       "1             1   \n",
       "2             1   \n",
       "3             1   \n",
       "4             1   \n",
       "...         ...   \n",
       "52714        73   \n",
       "52715        73   \n",
       "52716        73   \n",
       "52717        73   \n",
       "52718        73   \n",
       "\n",
       "                 Name_NBHD  \\\n",
       "0                 el Raval   \n",
       "1                 el Raval   \n",
       "2                 el Raval   \n",
       "3                 el Raval   \n",
       "4                 el Raval   \n",
       "...                    ...   \n",
       "52714  la Verneda i la Pau   \n",
       "52715  la Verneda i la Pau   \n",
       "52716  la Verneda i la Pau   \n",
       "52717  la Verneda i la Pau   \n",
       "52718  la Verneda i la Pau   \n",
       "\n",
       "      Censal_Section  \\\n",
       "0                  1   \n",
       "1                  1   \n",
       "2                  1   \n",
       "3                  1   \n",
       "4                  1   \n",
       "...              ...   \n",
       "52714            142   \n",
       "52715            143   \n",
       "52716            143   \n",
       "52717            143   \n",
       "52718            143   \n",
       "\n",
       "               Use  \\\n",
       "0        Habitatge   \n",
       "1      Aparcaments   \n",
       "2           Comerç   \n",
       "3         Magatzem   \n",
       "4          Oficina   \n",
       "...            ...   \n",
       "52714     Religiós   \n",
       "52715    Habitatge   \n",
       "52716       Comerç   \n",
       "52717        Hotel   \n",
       "52718  Ensenyament   \n",
       "\n",
       "      Description  \\\n",
       "0          Nombre   \n",
       "1          Nombre   \n",
       "2          Nombre   \n",
       "3          Nombre   \n",
       "4          Nombre   \n",
       "...           ...   \n",
       "52714     Valor_€   \n",
       "52715     Valor_€   \n",
       "52716     Valor_€   \n",
       "52717     Valor_€   \n",
       "52718     Valor_€   \n",
       "\n",
       "              Amount  \n",
       "0             819.00  \n",
       "1              98.00  \n",
       "2              50.00  \n",
       "3              30.00  \n",
       "4             157.00  \n",
       "...              ...  \n",
       "52714      822218.98  \n",
       "52715 37618731925.00  \n",
       "52716   601580565.00  \n",
       "52717       55101.37  \n",
       "52718     2120855.00  \n",
       "\n",
       "[52719 rows x 9 columns]"
      ]
     },
     "execution_count": 16,
     "metadata": {},
     "output_type": "execute_result"
    }
   ],
   "source": [
    "local = pd.read_csv(\"../datasets/Type_Locals.csv\")\n",
    "local"
   ]
  },
  {
   "cell_type": "code",
   "execution_count": null,
   "metadata": {},
   "outputs": [],
   "source": []
  },
  {
   "cell_type": "markdown",
   "metadata": {},
   "source": [
    "profile = ProfileReport(local, title=\"local Report\")\n",
    "profile.to_notebook_iframe()\n",
    "profile.to_file(\"local_report.html\")"
   ]
  },
  {
   "cell_type": "markdown",
   "metadata": {},
   "source": [
    "# Density"
   ]
  },
  {
   "cell_type": "markdown",
   "metadata": {},
   "source": [
    "*01.Year* - Year of the data\n",
    "\n",
    "*02.Code_Dist* - District code\n",
    "\n",
    "*03.Name_Dist* - Name of the district\n",
    "\n",
    "*04.Code_NBHD* - Neighborhood code\n",
    "\n",
    "*05.Name_NBHD* - Name of the neighborhood\n",
    "\n",
    "*06.Population* - Population\n",
    "\n",
    "*07.Total_Area(ha)* - Area (ha)\n",
    "\n",
    "*08.Residential_Area(ha)* - Surface for residential use\n",
    "\n",
    "*09.Density(hab / ha)* - Density is the number of inhabitants per unit area\n",
    "\n",
    "*10.Real_Density (room / ha)* - Net density is the number of inhabitants per unit of residential area"
   ]
  },
  {
   "cell_type": "code",
   "execution_count": 18,
   "metadata": {},
   "outputs": [
    {
     "data": {
      "text/html": [
       "<div>\n",
       "<style scoped>\n",
       "    .dataframe tbody tr th:only-of-type {\n",
       "        vertical-align: middle;\n",
       "    }\n",
       "\n",
       "    .dataframe tbody tr th {\n",
       "        vertical-align: top;\n",
       "    }\n",
       "\n",
       "    .dataframe thead th {\n",
       "        text-align: right;\n",
       "    }\n",
       "</style>\n",
       "<table border=\"1\" class=\"dataframe\">\n",
       "  <thead>\n",
       "    <tr style=\"text-align: right;\">\n",
       "      <th></th>\n",
       "      <th>Year</th>\n",
       "      <th>Code_Dist</th>\n",
       "      <th>Name_Dist</th>\n",
       "      <th>Code_NBHD</th>\n",
       "      <th>Name_NBHD</th>\n",
       "      <th>Population</th>\n",
       "      <th>Total_Area(ha)</th>\n",
       "      <th>Residential_Area(ha)</th>\n",
       "      <th>Density(hab/ha)</th>\n",
       "      <th>Real_Density(hab/ha)</th>\n",
       "    </tr>\n",
       "  </thead>\n",
       "  <tbody>\n",
       "    <tr>\n",
       "      <th>0</th>\n",
       "      <td>2019</td>\n",
       "      <td>1</td>\n",
       "      <td>Ciutat Vella</td>\n",
       "      <td>1</td>\n",
       "      <td>el Raval</td>\n",
       "      <td>47353</td>\n",
       "      <td>110.00</td>\n",
       "      <td>49.60</td>\n",
       "      <td>430</td>\n",
       "      <td>955</td>\n",
       "    </tr>\n",
       "    <tr>\n",
       "      <th>1</th>\n",
       "      <td>2019</td>\n",
       "      <td>1</td>\n",
       "      <td>Ciutat Vella</td>\n",
       "      <td>2</td>\n",
       "      <td>el Barri Gòtic</td>\n",
       "      <td>18629</td>\n",
       "      <td>81.60</td>\n",
       "      <td>34.10</td>\n",
       "      <td>228</td>\n",
       "      <td>546</td>\n",
       "    </tr>\n",
       "    <tr>\n",
       "      <th>2</th>\n",
       "      <td>2019</td>\n",
       "      <td>1</td>\n",
       "      <td>Ciutat Vella</td>\n",
       "      <td>3</td>\n",
       "      <td>la Barceloneta</td>\n",
       "      <td>14857</td>\n",
       "      <td>109.50</td>\n",
       "      <td>13.50</td>\n",
       "      <td>136</td>\n",
       "      <td>1097</td>\n",
       "    </tr>\n",
       "    <tr>\n",
       "      <th>3</th>\n",
       "      <td>2019</td>\n",
       "      <td>1</td>\n",
       "      <td>Ciutat Vella</td>\n",
       "      <td>4</td>\n",
       "      <td>Sant Pere, Santa Caterina i la Ribera</td>\n",
       "      <td>22590</td>\n",
       "      <td>111.00</td>\n",
       "      <td>32.40</td>\n",
       "      <td>204</td>\n",
       "      <td>697</td>\n",
       "    </tr>\n",
       "    <tr>\n",
       "      <th>4</th>\n",
       "      <td>2019</td>\n",
       "      <td>2</td>\n",
       "      <td>Eixample</td>\n",
       "      <td>5</td>\n",
       "      <td>el Fort Pienc</td>\n",
       "      <td>32349</td>\n",
       "      <td>92.90</td>\n",
       "      <td>33.60</td>\n",
       "      <td>348</td>\n",
       "      <td>962</td>\n",
       "    </tr>\n",
       "    <tr>\n",
       "      <th>...</th>\n",
       "      <td>...</td>\n",
       "      <td>...</td>\n",
       "      <td>...</td>\n",
       "      <td>...</td>\n",
       "      <td>...</td>\n",
       "      <td>...</td>\n",
       "      <td>...</td>\n",
       "      <td>...</td>\n",
       "      <td>...</td>\n",
       "      <td>...</td>\n",
       "    </tr>\n",
       "    <tr>\n",
       "      <th>433</th>\n",
       "      <td>2014</td>\n",
       "      <td>10</td>\n",
       "      <td>Sant Martí</td>\n",
       "      <td>69</td>\n",
       "      <td>Diagonal Mar i el Front Marítim del Poblenou</td>\n",
       "      <td>13156</td>\n",
       "      <td>123.70</td>\n",
       "      <td>nan</td>\n",
       "      <td>106</td>\n",
       "      <td>571</td>\n",
       "    </tr>\n",
       "    <tr>\n",
       "      <th>434</th>\n",
       "      <td>2014</td>\n",
       "      <td>10</td>\n",
       "      <td>Sant Martí</td>\n",
       "      <td>70</td>\n",
       "      <td>el Besòs i el Maresme</td>\n",
       "      <td>22829</td>\n",
       "      <td>127.40</td>\n",
       "      <td>nan</td>\n",
       "      <td>179</td>\n",
       "      <td>891</td>\n",
       "    </tr>\n",
       "    <tr>\n",
       "      <th>435</th>\n",
       "      <td>2014</td>\n",
       "      <td>10</td>\n",
       "      <td>Sant Martí</td>\n",
       "      <td>71</td>\n",
       "      <td>Provençals del Poblenou</td>\n",
       "      <td>20096</td>\n",
       "      <td>110.50</td>\n",
       "      <td>nan</td>\n",
       "      <td>182</td>\n",
       "      <td>1491</td>\n",
       "    </tr>\n",
       "    <tr>\n",
       "      <th>436</th>\n",
       "      <td>2014</td>\n",
       "      <td>10</td>\n",
       "      <td>Sant Martí</td>\n",
       "      <td>72</td>\n",
       "      <td>Sant Martí de Provençals</td>\n",
       "      <td>25917</td>\n",
       "      <td>74.50</td>\n",
       "      <td>nan</td>\n",
       "      <td>348</td>\n",
       "      <td>1140</td>\n",
       "    </tr>\n",
       "    <tr>\n",
       "      <th>437</th>\n",
       "      <td>2014</td>\n",
       "      <td>10</td>\n",
       "      <td>Sant Martí</td>\n",
       "      <td>73</td>\n",
       "      <td>la Verneda i la Pau</td>\n",
       "      <td>28813</td>\n",
       "      <td>112.30</td>\n",
       "      <td>nan</td>\n",
       "      <td>257</td>\n",
       "      <td>889</td>\n",
       "    </tr>\n",
       "  </tbody>\n",
       "</table>\n",
       "<p>438 rows × 10 columns</p>\n",
       "</div>"
      ],
      "text/plain": [
       "     Year  \\\n",
       "0    2019   \n",
       "1    2019   \n",
       "2    2019   \n",
       "3    2019   \n",
       "4    2019   \n",
       "..    ...   \n",
       "433  2014   \n",
       "434  2014   \n",
       "435  2014   \n",
       "436  2014   \n",
       "437  2014   \n",
       "\n",
       "     Code_Dist  \\\n",
       "0            1   \n",
       "1            1   \n",
       "2            1   \n",
       "3            1   \n",
       "4            2   \n",
       "..         ...   \n",
       "433         10   \n",
       "434         10   \n",
       "435         10   \n",
       "436         10   \n",
       "437         10   \n",
       "\n",
       "        Name_Dist  \\\n",
       "0    Ciutat Vella   \n",
       "1    Ciutat Vella   \n",
       "2    Ciutat Vella   \n",
       "3    Ciutat Vella   \n",
       "4        Eixample   \n",
       "..            ...   \n",
       "433    Sant Martí   \n",
       "434    Sant Martí   \n",
       "435    Sant Martí   \n",
       "436    Sant Martí   \n",
       "437    Sant Martí   \n",
       "\n",
       "     Code_NBHD  \\\n",
       "0            1   \n",
       "1            2   \n",
       "2            3   \n",
       "3            4   \n",
       "4            5   \n",
       "..         ...   \n",
       "433         69   \n",
       "434         70   \n",
       "435         71   \n",
       "436         72   \n",
       "437         73   \n",
       "\n",
       "                                        Name_NBHD  \\\n",
       "0                                        el Raval   \n",
       "1                                  el Barri Gòtic   \n",
       "2                                  la Barceloneta   \n",
       "3           Sant Pere, Santa Caterina i la Ribera   \n",
       "4                                   el Fort Pienc   \n",
       "..                                            ...   \n",
       "433  Diagonal Mar i el Front Marítim del Poblenou   \n",
       "434                         el Besòs i el Maresme   \n",
       "435                       Provençals del Poblenou   \n",
       "436                      Sant Martí de Provençals   \n",
       "437                           la Verneda i la Pau   \n",
       "\n",
       "     Population  \\\n",
       "0         47353   \n",
       "1         18629   \n",
       "2         14857   \n",
       "3         22590   \n",
       "4         32349   \n",
       "..          ...   \n",
       "433       13156   \n",
       "434       22829   \n",
       "435       20096   \n",
       "436       25917   \n",
       "437       28813   \n",
       "\n",
       "     Total_Area(ha)  \\\n",
       "0            110.00   \n",
       "1             81.60   \n",
       "2            109.50   \n",
       "3            111.00   \n",
       "4             92.90   \n",
       "..              ...   \n",
       "433          123.70   \n",
       "434          127.40   \n",
       "435          110.50   \n",
       "436           74.50   \n",
       "437          112.30   \n",
       "\n",
       "     Residential_Area(ha)  \\\n",
       "0                   49.60   \n",
       "1                   34.10   \n",
       "2                   13.50   \n",
       "3                   32.40   \n",
       "4                   33.60   \n",
       "..                    ...   \n",
       "433                   nan   \n",
       "434                   nan   \n",
       "435                   nan   \n",
       "436                   nan   \n",
       "437                   nan   \n",
       "\n",
       "     Density(hab/ha)  \\\n",
       "0                430   \n",
       "1                228   \n",
       "2                136   \n",
       "3                204   \n",
       "4                348   \n",
       "..               ...   \n",
       "433              106   \n",
       "434              179   \n",
       "435              182   \n",
       "436              348   \n",
       "437              257   \n",
       "\n",
       "     Real_Density(hab/ha)  \n",
       "0                     955  \n",
       "1                     546  \n",
       "2                    1097  \n",
       "3                     697  \n",
       "4                     962  \n",
       "..                    ...  \n",
       "433                   571  \n",
       "434                   891  \n",
       "435                  1491  \n",
       "436                  1140  \n",
       "437                   889  \n",
       "\n",
       "[438 rows x 10 columns]"
      ]
     },
     "execution_count": 18,
     "metadata": {},
     "output_type": "execute_result"
    }
   ],
   "source": [
    "density = pd.read_csv(\"../datasets/Density_Hist.csv\")\n",
    "density"
   ]
  },
  {
   "cell_type": "markdown",
   "metadata": {},
   "source": [
    "profile = ProfileReport(density, title=\"density Report\")\n",
    "profile.to_notebook_iframe()\n",
    "profile.to_file(\"density_report.html\")"
   ]
  },
  {
   "cell_type": "code",
   "execution_count": null,
   "metadata": {},
   "outputs": [],
   "source": []
  }
 ],
 "metadata": {
  "kernelspec": {
   "display_name": "Python 3",
   "language": "python",
   "name": "python3"
  },
  "language_info": {
   "codemirror_mode": {
    "name": "ipython",
    "version": 3
   },
   "file_extension": ".py",
   "mimetype": "text/x-python",
   "name": "python",
   "nbconvert_exporter": "python",
   "pygments_lexer": "ipython3",
   "version": "3.7.9"
  },
  "toc": {
   "base_numbering": 1,
   "nav_menu": {},
   "number_sections": true,
   "sideBar": true,
   "skip_h1_title": false,
   "title_cell": "Table of Contents",
   "title_sidebar": "Contents",
   "toc_cell": false,
   "toc_position": {},
   "toc_section_display": true,
   "toc_window_display": false
  }
 },
 "nbformat": 4,
 "nbformat_minor": 4
}
