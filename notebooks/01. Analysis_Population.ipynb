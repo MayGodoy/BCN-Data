{
 "cells": [
  {
   "cell_type": "code",
   "execution_count": 1,
   "metadata": {},
   "outputs": [],
   "source": [
    "import pandas as pd\n",
    "import numpy as np"
   ]
  },
  {
   "cell_type": "code",
   "execution_count": 45,
   "metadata": {},
   "outputs": [],
   "source": [
    "import requests\n",
    "import re\n",
    "import seaborn as sns\n",
    "import plotly.express as px\n",
    "import plotly.graph_objs as go\n",
    "\n"
   ]
  },
  {
   "cell_type": "code",
   "execution_count": 3,
   "metadata": {},
   "outputs": [],
   "source": [
    "pd.set_option('display.max_columns', 20)\n",
    "pd.set_option('display.width', 20)\n",
    "pd.set_option('display.float_format', '{:.2f}'.format)"
   ]
  },
  {
   "cell_type": "code",
   "execution_count": 4,
   "metadata": {},
   "outputs": [],
   "source": [
    "color_dict = {'Spaniards': '#f6bd60','Mixed': '#84a59d', 'Foreigners': '#3c096c'}\n",
    "yn_dict = { 'Yes': '#e07a5f','No': '#3d405b'}"
   ]
  },
  {
   "cell_type": "markdown",
   "metadata": {},
   "source": [
    "# Composition of the Houses"
   ]
  },
  {
   "cell_type": "markdown",
   "metadata": {},
   "source": [
    "*01.Year* - Year of the data\n",
    "\n",
    "*02.Code_Dist* - District code\n",
    "\n",
    "*03.Name_Dist* - Name of the district\n",
    "\n",
    "*04.Code_NBHD* - Neighborhood code\n",
    "\n",
    "*05.Name_NBHD* - Name of the neighborhood\n",
    "\n",
    "*06.Nationality* - Nationality of people\n",
    "\n",
    "*07.Amount* -Number of people\n",
    "\n",
    "*08.AVG_Age* - Average age of the population\n"
   ]
  },
  {
   "cell_type": "code",
   "execution_count": 5,
   "metadata": {
    "scrolled": false
   },
   "outputs": [
    {
     "data": {
      "text/html": [
       "<div>\n",
       "<style scoped>\n",
       "    .dataframe tbody tr th:only-of-type {\n",
       "        vertical-align: middle;\n",
       "    }\n",
       "\n",
       "    .dataframe tbody tr th {\n",
       "        vertical-align: top;\n",
       "    }\n",
       "\n",
       "    .dataframe thead th {\n",
       "        text-align: right;\n",
       "    }\n",
       "</style>\n",
       "<table border=\"1\" class=\"dataframe\">\n",
       "  <thead>\n",
       "    <tr style=\"text-align: right;\">\n",
       "      <th></th>\n",
       "      <th>Year</th>\n",
       "      <th>Code_Dist</th>\n",
       "      <th>Name_Dist</th>\n",
       "      <th>Code_NBHD</th>\n",
       "      <th>Name_NBHD</th>\n",
       "      <th>Nationality</th>\n",
       "      <th>Amount</th>\n",
       "      <th>AVG_Age</th>\n",
       "    </tr>\n",
       "  </thead>\n",
       "  <tbody>\n",
       "    <tr>\n",
       "      <th>0</th>\n",
       "      <td>2019</td>\n",
       "      <td>1</td>\n",
       "      <td>Ciutat Vella</td>\n",
       "      <td>1</td>\n",
       "      <td>el Raval</td>\n",
       "      <td>Spaniards</td>\n",
       "      <td>8025</td>\n",
       "      <td>50.25</td>\n",
       "    </tr>\n",
       "    <tr>\n",
       "      <th>1</th>\n",
       "      <td>2019</td>\n",
       "      <td>1</td>\n",
       "      <td>Ciutat Vella</td>\n",
       "      <td>2</td>\n",
       "      <td>el Barri Gòtic</td>\n",
       "      <td>Spaniards</td>\n",
       "      <td>3105</td>\n",
       "      <td>51.08</td>\n",
       "    </tr>\n",
       "    <tr>\n",
       "      <th>2</th>\n",
       "      <td>2019</td>\n",
       "      <td>1</td>\n",
       "      <td>Ciutat Vella</td>\n",
       "      <td>3</td>\n",
       "      <td>la Barceloneta</td>\n",
       "      <td>Spaniards</td>\n",
       "      <td>3896</td>\n",
       "      <td>50.57</td>\n",
       "    </tr>\n",
       "    <tr>\n",
       "      <th>3</th>\n",
       "      <td>2019</td>\n",
       "      <td>1</td>\n",
       "      <td>Ciutat Vella</td>\n",
       "      <td>4</td>\n",
       "      <td>Sant Pere, Santa Caterina i la Ribera</td>\n",
       "      <td>Spaniards</td>\n",
       "      <td>5305</td>\n",
       "      <td>49.73</td>\n",
       "    </tr>\n",
       "    <tr>\n",
       "      <th>4</th>\n",
       "      <td>2019</td>\n",
       "      <td>2</td>\n",
       "      <td>Eixample</td>\n",
       "      <td>5</td>\n",
       "      <td>el Fort Pienc</td>\n",
       "      <td>Spaniards</td>\n",
       "      <td>9533</td>\n",
       "      <td>49.02</td>\n",
       "    </tr>\n",
       "    <tr>\n",
       "      <th>...</th>\n",
       "      <td>...</td>\n",
       "      <td>...</td>\n",
       "      <td>...</td>\n",
       "      <td>...</td>\n",
       "      <td>...</td>\n",
       "      <td>...</td>\n",
       "      <td>...</td>\n",
       "      <td>...</td>\n",
       "    </tr>\n",
       "    <tr>\n",
       "      <th>1309</th>\n",
       "      <td>2014</td>\n",
       "      <td>10</td>\n",
       "      <td>Sant Martí</td>\n",
       "      <td>69</td>\n",
       "      <td>Diagonal Mar i el Front Marítim del Poblenou</td>\n",
       "      <td>Mixed</td>\n",
       "      <td>566</td>\n",
       "      <td>33.50</td>\n",
       "    </tr>\n",
       "    <tr>\n",
       "      <th>1310</th>\n",
       "      <td>2014</td>\n",
       "      <td>10</td>\n",
       "      <td>Sant Martí</td>\n",
       "      <td>70</td>\n",
       "      <td>el Besòs i el Maresme</td>\n",
       "      <td>Mixed</td>\n",
       "      <td>891</td>\n",
       "      <td>33.30</td>\n",
       "    </tr>\n",
       "    <tr>\n",
       "      <th>1311</th>\n",
       "      <td>2014</td>\n",
       "      <td>10</td>\n",
       "      <td>Sant Martí</td>\n",
       "      <td>71</td>\n",
       "      <td>Provençals del Poblenou</td>\n",
       "      <td>Mixed</td>\n",
       "      <td>659</td>\n",
       "      <td>32.20</td>\n",
       "    </tr>\n",
       "    <tr>\n",
       "      <th>1312</th>\n",
       "      <td>2014</td>\n",
       "      <td>10</td>\n",
       "      <td>Sant Martí</td>\n",
       "      <td>72</td>\n",
       "      <td>Sant Martí de Provençals</td>\n",
       "      <td>Mixed</td>\n",
       "      <td>741</td>\n",
       "      <td>33.50</td>\n",
       "    </tr>\n",
       "    <tr>\n",
       "      <th>1313</th>\n",
       "      <td>2014</td>\n",
       "      <td>10</td>\n",
       "      <td>Sant Martí</td>\n",
       "      <td>73</td>\n",
       "      <td>la Verneda i la Pau</td>\n",
       "      <td>Mixed</td>\n",
       "      <td>782</td>\n",
       "      <td>35.50</td>\n",
       "    </tr>\n",
       "  </tbody>\n",
       "</table>\n",
       "<p>1314 rows × 8 columns</p>\n",
       "</div>"
      ],
      "text/plain": [
       "      Year  \\\n",
       "0     2019   \n",
       "1     2019   \n",
       "2     2019   \n",
       "3     2019   \n",
       "4     2019   \n",
       "...    ...   \n",
       "1309  2014   \n",
       "1310  2014   \n",
       "1311  2014   \n",
       "1312  2014   \n",
       "1313  2014   \n",
       "\n",
       "      Code_Dist  \\\n",
       "0             1   \n",
       "1             1   \n",
       "2             1   \n",
       "3             1   \n",
       "4             2   \n",
       "...         ...   \n",
       "1309         10   \n",
       "1310         10   \n",
       "1311         10   \n",
       "1312         10   \n",
       "1313         10   \n",
       "\n",
       "         Name_Dist  \\\n",
       "0     Ciutat Vella   \n",
       "1     Ciutat Vella   \n",
       "2     Ciutat Vella   \n",
       "3     Ciutat Vella   \n",
       "4         Eixample   \n",
       "...            ...   \n",
       "1309    Sant Martí   \n",
       "1310    Sant Martí   \n",
       "1311    Sant Martí   \n",
       "1312    Sant Martí   \n",
       "1313    Sant Martí   \n",
       "\n",
       "      Code_NBHD  \\\n",
       "0             1   \n",
       "1             2   \n",
       "2             3   \n",
       "3             4   \n",
       "4             5   \n",
       "...         ...   \n",
       "1309         69   \n",
       "1310         70   \n",
       "1311         71   \n",
       "1312         72   \n",
       "1313         73   \n",
       "\n",
       "                                         Name_NBHD  \\\n",
       "0                                         el Raval   \n",
       "1                                   el Barri Gòtic   \n",
       "2                                   la Barceloneta   \n",
       "3            Sant Pere, Santa Caterina i la Ribera   \n",
       "4                                    el Fort Pienc   \n",
       "...                                            ...   \n",
       "1309  Diagonal Mar i el Front Marítim del Poblenou   \n",
       "1310                         el Besòs i el Maresme   \n",
       "1311                       Provençals del Poblenou   \n",
       "1312                      Sant Martí de Provençals   \n",
       "1313                           la Verneda i la Pau   \n",
       "\n",
       "     Nationality  \\\n",
       "0      Spaniards   \n",
       "1      Spaniards   \n",
       "2      Spaniards   \n",
       "3      Spaniards   \n",
       "4      Spaniards   \n",
       "...          ...   \n",
       "1309       Mixed   \n",
       "1310       Mixed   \n",
       "1311       Mixed   \n",
       "1312       Mixed   \n",
       "1313       Mixed   \n",
       "\n",
       "      Amount  \\\n",
       "0       8025   \n",
       "1       3105   \n",
       "2       3896   \n",
       "3       5305   \n",
       "4       9533   \n",
       "...      ...   \n",
       "1309     566   \n",
       "1310     891   \n",
       "1311     659   \n",
       "1312     741   \n",
       "1313     782   \n",
       "\n",
       "      AVG_Age  \n",
       "0       50.25  \n",
       "1       51.08  \n",
       "2       50.57  \n",
       "3       49.73  \n",
       "4       49.02  \n",
       "...       ...  \n",
       "1309    33.50  \n",
       "1310    33.30  \n",
       "1311    32.20  \n",
       "1312    33.50  \n",
       "1313    35.50  \n",
       "\n",
       "[1314 rows x 8 columns]"
      ]
     },
     "execution_count": 5,
     "metadata": {},
     "output_type": "execute_result"
    }
   ],
   "source": [
    "composition = pd.read_csv(\"../datasets/Compo_House_Hist.csv\")\n",
    "composition"
   ]
  },
  {
   "cell_type": "code",
   "execution_count": 6,
   "metadata": {},
   "outputs": [
    {
     "data": {
      "text/html": [
       "<div>\n",
       "<style scoped>\n",
       "    .dataframe tbody tr th:only-of-type {\n",
       "        vertical-align: middle;\n",
       "    }\n",
       "\n",
       "    .dataframe tbody tr th {\n",
       "        vertical-align: top;\n",
       "    }\n",
       "\n",
       "    .dataframe thead th {\n",
       "        text-align: right;\n",
       "    }\n",
       "</style>\n",
       "<table border=\"1\" class=\"dataframe\">\n",
       "  <thead>\n",
       "    <tr style=\"text-align: right;\">\n",
       "      <th></th>\n",
       "      <th>count</th>\n",
       "      <th>mean</th>\n",
       "      <th>std</th>\n",
       "      <th>min</th>\n",
       "      <th>25%</th>\n",
       "      <th>50%</th>\n",
       "      <th>75%</th>\n",
       "      <th>max</th>\n",
       "    </tr>\n",
       "  </thead>\n",
       "  <tbody>\n",
       "    <tr>\n",
       "      <th>Year</th>\n",
       "      <td>1314.00</td>\n",
       "      <td>2016.50</td>\n",
       "      <td>1.71</td>\n",
       "      <td>2014.00</td>\n",
       "      <td>2015.00</td>\n",
       "      <td>2016.50</td>\n",
       "      <td>2018.00</td>\n",
       "      <td>2019.00</td>\n",
       "    </tr>\n",
       "    <tr>\n",
       "      <th>Code_Dist</th>\n",
       "      <td>1314.00</td>\n",
       "      <td>6.25</td>\n",
       "      <td>2.79</td>\n",
       "      <td>1.00</td>\n",
       "      <td>4.00</td>\n",
       "      <td>7.00</td>\n",
       "      <td>8.00</td>\n",
       "      <td>10.00</td>\n",
       "    </tr>\n",
       "    <tr>\n",
       "      <th>Code_NBHD</th>\n",
       "      <td>1314.00</td>\n",
       "      <td>37.00</td>\n",
       "      <td>21.08</td>\n",
       "      <td>1.00</td>\n",
       "      <td>19.00</td>\n",
       "      <td>37.00</td>\n",
       "      <td>55.00</td>\n",
       "      <td>73.00</td>\n",
       "    </tr>\n",
       "    <tr>\n",
       "      <th>Amount</th>\n",
       "      <td>1314.00</td>\n",
       "      <td>3005.86</td>\n",
       "      <td>4165.81</td>\n",
       "      <td>10.00</td>\n",
       "      <td>487.50</td>\n",
       "      <td>1037.00</td>\n",
       "      <td>3430.25</td>\n",
       "      <td>21414.00</td>\n",
       "    </tr>\n",
       "    <tr>\n",
       "      <th>AVG_Age</th>\n",
       "      <td>1314.00</td>\n",
       "      <td>38.07</td>\n",
       "      <td>6.87</td>\n",
       "      <td>27.10</td>\n",
       "      <td>32.39</td>\n",
       "      <td>35.19</td>\n",
       "      <td>45.69</td>\n",
       "      <td>52.20</td>\n",
       "    </tr>\n",
       "  </tbody>\n",
       "</table>\n",
       "</div>"
      ],
      "text/plain": [
       "            count  \\\n",
       "Year      1314.00   \n",
       "Code_Dist 1314.00   \n",
       "Code_NBHD 1314.00   \n",
       "Amount    1314.00   \n",
       "AVG_Age   1314.00   \n",
       "\n",
       "             mean  \\\n",
       "Year      2016.50   \n",
       "Code_Dist    6.25   \n",
       "Code_NBHD   37.00   \n",
       "Amount    3005.86   \n",
       "AVG_Age     38.07   \n",
       "\n",
       "              std  \\\n",
       "Year         1.71   \n",
       "Code_Dist    2.79   \n",
       "Code_NBHD   21.08   \n",
       "Amount    4165.81   \n",
       "AVG_Age      6.87   \n",
       "\n",
       "              min  \\\n",
       "Year      2014.00   \n",
       "Code_Dist    1.00   \n",
       "Code_NBHD    1.00   \n",
       "Amount      10.00   \n",
       "AVG_Age     27.10   \n",
       "\n",
       "              25%  \\\n",
       "Year      2015.00   \n",
       "Code_Dist    4.00   \n",
       "Code_NBHD   19.00   \n",
       "Amount     487.50   \n",
       "AVG_Age     32.39   \n",
       "\n",
       "              50%  \\\n",
       "Year      2016.50   \n",
       "Code_Dist    7.00   \n",
       "Code_NBHD   37.00   \n",
       "Amount    1037.00   \n",
       "AVG_Age     35.19   \n",
       "\n",
       "              75%  \\\n",
       "Year      2018.00   \n",
       "Code_Dist    8.00   \n",
       "Code_NBHD   55.00   \n",
       "Amount    3430.25   \n",
       "AVG_Age     45.69   \n",
       "\n",
       "               max  \n",
       "Year       2019.00  \n",
       "Code_Dist    10.00  \n",
       "Code_NBHD    73.00  \n",
       "Amount    21414.00  \n",
       "AVG_Age      52.20  "
      ]
     },
     "execution_count": 6,
     "metadata": {},
     "output_type": "execute_result"
    }
   ],
   "source": [
    "composition.describe().T"
   ]
  },
  {
   "cell_type": "code",
   "execution_count": 59,
   "metadata": {},
   "outputs": [
    {
     "data": {
      "text/html": [
       "<div>\n",
       "<style scoped>\n",
       "    .dataframe tbody tr th:only-of-type {\n",
       "        vertical-align: middle;\n",
       "    }\n",
       "\n",
       "    .dataframe tbody tr th {\n",
       "        vertical-align: top;\n",
       "    }\n",
       "\n",
       "    .dataframe thead th {\n",
       "        text-align: right;\n",
       "    }\n",
       "</style>\n",
       "<table border=\"1\" class=\"dataframe\">\n",
       "  <thead>\n",
       "    <tr style=\"text-align: right;\">\n",
       "      <th></th>\n",
       "      <th>AVG_Age</th>\n",
       "      <th>Nationality</th>\n",
       "      <th>Year</th>\n",
       "      <th>Code_Dist</th>\n",
       "      <th>Name_Dist</th>\n",
       "      <th>Code_NBHD</th>\n",
       "      <th>Name_NBHD</th>\n",
       "      <th>Amount</th>\n",
       "    </tr>\n",
       "  </thead>\n",
       "  <tbody>\n",
       "    <tr>\n",
       "      <th>0</th>\n",
       "      <td>27</td>\n",
       "      <td>Foreigners</td>\n",
       "      <td>2014</td>\n",
       "      <td>1</td>\n",
       "      <td>1</td>\n",
       "      <td>1</td>\n",
       "      <td>1</td>\n",
       "      <td>1</td>\n",
       "    </tr>\n",
       "    <tr>\n",
       "      <th>1</th>\n",
       "      <td>27</td>\n",
       "      <td>Mixed</td>\n",
       "      <td>2015</td>\n",
       "      <td>1</td>\n",
       "      <td>1</td>\n",
       "      <td>1</td>\n",
       "      <td>1</td>\n",
       "      <td>1</td>\n",
       "    </tr>\n",
       "    <tr>\n",
       "      <th>2</th>\n",
       "      <td>27</td>\n",
       "      <td>Mixed</td>\n",
       "      <td>2016</td>\n",
       "      <td>1</td>\n",
       "      <td>1</td>\n",
       "      <td>1</td>\n",
       "      <td>1</td>\n",
       "      <td>1</td>\n",
       "    </tr>\n",
       "    <tr>\n",
       "      <th>3</th>\n",
       "      <td>28</td>\n",
       "      <td>Foreigners</td>\n",
       "      <td>2015</td>\n",
       "      <td>1</td>\n",
       "      <td>1</td>\n",
       "      <td>1</td>\n",
       "      <td>1</td>\n",
       "      <td>1</td>\n",
       "    </tr>\n",
       "    <tr>\n",
       "      <th>4</th>\n",
       "      <td>28</td>\n",
       "      <td>Foreigners</td>\n",
       "      <td>2018</td>\n",
       "      <td>1</td>\n",
       "      <td>1</td>\n",
       "      <td>1</td>\n",
       "      <td>1</td>\n",
       "      <td>1</td>\n",
       "    </tr>\n",
       "    <tr>\n",
       "      <th>...</th>\n",
       "      <td>...</td>\n",
       "      <td>...</td>\n",
       "      <td>...</td>\n",
       "      <td>...</td>\n",
       "      <td>...</td>\n",
       "      <td>...</td>\n",
       "      <td>...</td>\n",
       "      <td>...</td>\n",
       "    </tr>\n",
       "    <tr>\n",
       "      <th>180</th>\n",
       "      <td>51</td>\n",
       "      <td>Spaniards</td>\n",
       "      <td>2017</td>\n",
       "      <td>2</td>\n",
       "      <td>2</td>\n",
       "      <td>2</td>\n",
       "      <td>2</td>\n",
       "      <td>2</td>\n",
       "    </tr>\n",
       "    <tr>\n",
       "      <th>181</th>\n",
       "      <td>51</td>\n",
       "      <td>Spaniards</td>\n",
       "      <td>2018</td>\n",
       "      <td>1</td>\n",
       "      <td>1</td>\n",
       "      <td>1</td>\n",
       "      <td>1</td>\n",
       "      <td>1</td>\n",
       "    </tr>\n",
       "    <tr>\n",
       "      <th>182</th>\n",
       "      <td>51</td>\n",
       "      <td>Spaniards</td>\n",
       "      <td>2019</td>\n",
       "      <td>1</td>\n",
       "      <td>1</td>\n",
       "      <td>1</td>\n",
       "      <td>1</td>\n",
       "      <td>1</td>\n",
       "    </tr>\n",
       "    <tr>\n",
       "      <th>183</th>\n",
       "      <td>52</td>\n",
       "      <td>Spaniards</td>\n",
       "      <td>2014</td>\n",
       "      <td>1</td>\n",
       "      <td>1</td>\n",
       "      <td>1</td>\n",
       "      <td>1</td>\n",
       "      <td>1</td>\n",
       "    </tr>\n",
       "    <tr>\n",
       "      <th>184</th>\n",
       "      <td>52</td>\n",
       "      <td>Spaniards</td>\n",
       "      <td>2015</td>\n",
       "      <td>1</td>\n",
       "      <td>1</td>\n",
       "      <td>1</td>\n",
       "      <td>1</td>\n",
       "      <td>1</td>\n",
       "    </tr>\n",
       "  </tbody>\n",
       "</table>\n",
       "<p>185 rows × 8 columns</p>\n",
       "</div>"
      ],
      "text/plain": [
       "     AVG_Age  \\\n",
       "0         27   \n",
       "1         27   \n",
       "2         27   \n",
       "3         28   \n",
       "4         28   \n",
       "..       ...   \n",
       "180       51   \n",
       "181       51   \n",
       "182       51   \n",
       "183       52   \n",
       "184       52   \n",
       "\n",
       "    Nationality  \\\n",
       "0    Foreigners   \n",
       "1         Mixed   \n",
       "2         Mixed   \n",
       "3    Foreigners   \n",
       "4    Foreigners   \n",
       "..          ...   \n",
       "180   Spaniards   \n",
       "181   Spaniards   \n",
       "182   Spaniards   \n",
       "183   Spaniards   \n",
       "184   Spaniards   \n",
       "\n",
       "     Year  \\\n",
       "0    2014   \n",
       "1    2015   \n",
       "2    2016   \n",
       "3    2015   \n",
       "4    2018   \n",
       "..    ...   \n",
       "180  2017   \n",
       "181  2018   \n",
       "182  2019   \n",
       "183  2014   \n",
       "184  2015   \n",
       "\n",
       "     Code_Dist  \\\n",
       "0            1   \n",
       "1            1   \n",
       "2            1   \n",
       "3            1   \n",
       "4            1   \n",
       "..         ...   \n",
       "180          2   \n",
       "181          1   \n",
       "182          1   \n",
       "183          1   \n",
       "184          1   \n",
       "\n",
       "     Name_Dist  \\\n",
       "0            1   \n",
       "1            1   \n",
       "2            1   \n",
       "3            1   \n",
       "4            1   \n",
       "..         ...   \n",
       "180          2   \n",
       "181          1   \n",
       "182          1   \n",
       "183          1   \n",
       "184          1   \n",
       "\n",
       "     Code_NBHD  \\\n",
       "0            1   \n",
       "1            1   \n",
       "2            1   \n",
       "3            1   \n",
       "4            1   \n",
       "..         ...   \n",
       "180          2   \n",
       "181          1   \n",
       "182          1   \n",
       "183          1   \n",
       "184          1   \n",
       "\n",
       "     Name_NBHD  \\\n",
       "0            1   \n",
       "1            1   \n",
       "2            1   \n",
       "3            1   \n",
       "4            1   \n",
       "..         ...   \n",
       "180          2   \n",
       "181          1   \n",
       "182          1   \n",
       "183          1   \n",
       "184          1   \n",
       "\n",
       "     Amount  \n",
       "0         1  \n",
       "1         1  \n",
       "2         1  \n",
       "3         1  \n",
       "4         1  \n",
       "..      ...  \n",
       "180       2  \n",
       "181       1  \n",
       "182       1  \n",
       "183       1  \n",
       "184       1  \n",
       "\n",
       "[185 rows x 8 columns]"
      ]
     },
     "execution_count": 59,
     "metadata": {},
     "output_type": "execute_result"
    }
   ],
   "source": [
    "a = composition\n",
    "a.AVG_Age = a.AVG_Age.apply(lambda x : int(x))\n",
    "a = a.groupby([\"AVG_Age\", \"Nationality\", \"Year\"]).count().reset_index()\n",
    "a"
   ]
  },
  {
   "cell_type": "code",
   "execution_count": 72,
   "metadata": {},
   "outputs": [
    {
     "ename": "ValueError",
     "evalue": "\n    Invalid value of type 'builtins.str' received for the 'y' property of scatter\n        Received value: 'Amount'\n\n    The 'y' property is an array that may be specified as a tuple,\n    list, numpy array, or pandas Series",
     "output_type": "error",
     "traceback": [
      "\u001b[1;31m---------------------------------------------------------------------------\u001b[0m",
      "\u001b[1;31mValueError\u001b[0m                                Traceback (most recent call last)",
      "\u001b[1;32m<ipython-input-72-ce9396b8f8b2>\u001b[0m in \u001b[0;36m<module>\u001b[1;34m\u001b[0m\n\u001b[0;32m      2\u001b[0m              \u001b[0mcolor_discrete_map\u001b[0m\u001b[1;33m=\u001b[0m\u001b[0mcolor_dict\u001b[0m\u001b[1;33m,\u001b[0m \u001b[0mcolor\u001b[0m\u001b[1;33m=\u001b[0m\u001b[1;34m\"Nationality\"\u001b[0m\u001b[1;33m,\u001b[0m  \u001b[0mtemplate\u001b[0m\u001b[1;33m=\u001b[0m\u001b[1;34m\"plotly_white\"\u001b[0m\u001b[1;33m,\u001b[0m \u001b[0manimation_frame\u001b[0m\u001b[1;33m=\u001b[0m\u001b[1;34m\"Year\"\u001b[0m\u001b[1;33m,\u001b[0m\u001b[1;33m\u001b[0m\u001b[1;33m\u001b[0m\u001b[0m\n\u001b[0;32m      3\u001b[0m              hover_data=['Name_NBHD','Name_Dist'], labels={'Name_NBHD':'Neighborhood Name'})\n\u001b[1;32m----> 4\u001b[1;33m \u001b[0mfig\u001b[0m\u001b[1;33m.\u001b[0m\u001b[0madd_scatter\u001b[0m\u001b[1;33m(\u001b[0m\u001b[0my\u001b[0m\u001b[1;33m=\u001b[0m\u001b[1;34m\"Amount\"\u001b[0m\u001b[1;33m,\u001b[0m \u001b[0mmode\u001b[0m\u001b[1;33m=\u001b[0m\u001b[1;34m\"markers\"\u001b[0m\u001b[1;33m,\u001b[0m \u001b[0mname\u001b[0m\u001b[1;33m=\u001b[0m\u001b[1;34m\"steepest\"\u001b[0m\u001b[1;33m,\u001b[0m \u001b[0mline\u001b[0m\u001b[1;33m=\u001b[0m\u001b[0mdict\u001b[0m\u001b[1;33m(\u001b[0m\u001b[0mcolor\u001b[0m\u001b[1;33m=\u001b[0m\u001b[1;34m\"black\"\u001b[0m\u001b[1;33m)\u001b[0m\u001b[1;33m)\u001b[0m\u001b[1;33m\u001b[0m\u001b[1;33m\u001b[0m\u001b[0m\n\u001b[0m\u001b[0;32m      5\u001b[0m \u001b[0mfig\u001b[0m\u001b[1;33m.\u001b[0m\u001b[0mshow\u001b[0m\u001b[1;33m(\u001b[0m\u001b[1;33m)\u001b[0m\u001b[1;33m\u001b[0m\u001b[1;33m\u001b[0m\u001b[0m\n",
      "\u001b[1;32md:\\anaconda\\envs\\dataanalytic\\lib\\site-packages\\plotly\\graph_objs\\_figure.py\u001b[0m in \u001b[0;36madd_scatter\u001b[1;34m(self, cliponaxis, connectgaps, customdata, customdatasrc, dx, dy, error_x, error_y, fill, fillcolor, groupnorm, hoverinfo, hoverinfosrc, hoverlabel, hoveron, hovertemplate, hovertemplatesrc, hovertext, hovertextsrc, ids, idssrc, legendgroup, line, marker, meta, metasrc, mode, name, opacity, orientation, r, rsrc, selected, selectedpoints, showlegend, stackgaps, stackgroup, stream, t, text, textfont, textposition, textpositionsrc, textsrc, texttemplate, texttemplatesrc, tsrc, uid, uirevision, unselected, visible, x, x0, xaxis, xcalendar, xperiod, xperiod0, xperiodalignment, xsrc, y, y0, yaxis, ycalendar, yperiod, yperiod0, yperiodalignment, ysrc, row, col, secondary_y, **kwargs)\u001b[0m\n\u001b[0;32m  11231\u001b[0m             \u001b[0myperiodalignment\u001b[0m\u001b[1;33m=\u001b[0m\u001b[0myperiodalignment\u001b[0m\u001b[1;33m,\u001b[0m\u001b[1;33m\u001b[0m\u001b[1;33m\u001b[0m\u001b[0m\n\u001b[0;32m  11232\u001b[0m             \u001b[0mysrc\u001b[0m\u001b[1;33m=\u001b[0m\u001b[0mysrc\u001b[0m\u001b[1;33m,\u001b[0m\u001b[1;33m\u001b[0m\u001b[1;33m\u001b[0m\u001b[0m\n\u001b[1;32m> 11233\u001b[1;33m             \u001b[1;33m**\u001b[0m\u001b[0mkwargs\u001b[0m\u001b[1;33m\u001b[0m\u001b[1;33m\u001b[0m\u001b[0m\n\u001b[0m\u001b[0;32m  11234\u001b[0m         )\n\u001b[0;32m  11235\u001b[0m         \u001b[1;32mreturn\u001b[0m \u001b[0mself\u001b[0m\u001b[1;33m.\u001b[0m\u001b[0madd_trace\u001b[0m\u001b[1;33m(\u001b[0m\u001b[0mnew_trace\u001b[0m\u001b[1;33m,\u001b[0m \u001b[0mrow\u001b[0m\u001b[1;33m=\u001b[0m\u001b[0mrow\u001b[0m\u001b[1;33m,\u001b[0m \u001b[0mcol\u001b[0m\u001b[1;33m=\u001b[0m\u001b[0mcol\u001b[0m\u001b[1;33m,\u001b[0m \u001b[0msecondary_y\u001b[0m\u001b[1;33m=\u001b[0m\u001b[0msecondary_y\u001b[0m\u001b[1;33m)\u001b[0m\u001b[1;33m\u001b[0m\u001b[1;33m\u001b[0m\u001b[0m\n",
      "\u001b[1;32md:\\anaconda\\envs\\dataanalytic\\lib\\site-packages\\plotly\\graph_objs\\_scatter.py\u001b[0m in \u001b[0;36m__init__\u001b[1;34m(self, arg, cliponaxis, connectgaps, customdata, customdatasrc, dx, dy, error_x, error_y, fill, fillcolor, groupnorm, hoverinfo, hoverinfosrc, hoverlabel, hoveron, hovertemplate, hovertemplatesrc, hovertext, hovertextsrc, ids, idssrc, legendgroup, line, marker, meta, metasrc, mode, name, opacity, orientation, r, rsrc, selected, selectedpoints, showlegend, stackgaps, stackgroup, stream, t, text, textfont, textposition, textpositionsrc, textsrc, texttemplate, texttemplatesrc, tsrc, uid, uirevision, unselected, visible, x, x0, xaxis, xcalendar, xperiod, xperiod0, xperiodalignment, xsrc, y, y0, yaxis, ycalendar, yperiod, yperiod0, yperiodalignment, ysrc, **kwargs)\u001b[0m\n\u001b[0;32m   3152\u001b[0m         \u001b[0m_v\u001b[0m \u001b[1;33m=\u001b[0m \u001b[0my\u001b[0m \u001b[1;32mif\u001b[0m \u001b[0my\u001b[0m \u001b[1;32mis\u001b[0m \u001b[1;32mnot\u001b[0m \u001b[1;32mNone\u001b[0m \u001b[1;32melse\u001b[0m \u001b[0m_v\u001b[0m\u001b[1;33m\u001b[0m\u001b[1;33m\u001b[0m\u001b[0m\n\u001b[0;32m   3153\u001b[0m         \u001b[1;32mif\u001b[0m \u001b[0m_v\u001b[0m \u001b[1;32mis\u001b[0m \u001b[1;32mnot\u001b[0m \u001b[1;32mNone\u001b[0m\u001b[1;33m:\u001b[0m\u001b[1;33m\u001b[0m\u001b[1;33m\u001b[0m\u001b[0m\n\u001b[1;32m-> 3154\u001b[1;33m             \u001b[0mself\u001b[0m\u001b[1;33m[\u001b[0m\u001b[1;34m\"y\"\u001b[0m\u001b[1;33m]\u001b[0m \u001b[1;33m=\u001b[0m \u001b[0m_v\u001b[0m\u001b[1;33m\u001b[0m\u001b[1;33m\u001b[0m\u001b[0m\n\u001b[0m\u001b[0;32m   3155\u001b[0m         \u001b[0m_v\u001b[0m \u001b[1;33m=\u001b[0m \u001b[0marg\u001b[0m\u001b[1;33m.\u001b[0m\u001b[0mpop\u001b[0m\u001b[1;33m(\u001b[0m\u001b[1;34m\"y0\"\u001b[0m\u001b[1;33m,\u001b[0m \u001b[1;32mNone\u001b[0m\u001b[1;33m)\u001b[0m\u001b[1;33m\u001b[0m\u001b[1;33m\u001b[0m\u001b[0m\n\u001b[0;32m   3156\u001b[0m         \u001b[0m_v\u001b[0m \u001b[1;33m=\u001b[0m \u001b[0my0\u001b[0m \u001b[1;32mif\u001b[0m \u001b[0my0\u001b[0m \u001b[1;32mis\u001b[0m \u001b[1;32mnot\u001b[0m \u001b[1;32mNone\u001b[0m \u001b[1;32melse\u001b[0m \u001b[0m_v\u001b[0m\u001b[1;33m\u001b[0m\u001b[1;33m\u001b[0m\u001b[0m\n",
      "\u001b[1;32md:\\anaconda\\envs\\dataanalytic\\lib\\site-packages\\plotly\\basedatatypes.py\u001b[0m in \u001b[0;36m__setitem__\u001b[1;34m(self, prop, value)\u001b[0m\n\u001b[0;32m   4802\u001b[0m                 \u001b[1;31m# ### Handle simple property ###\u001b[0m\u001b[1;33m\u001b[0m\u001b[1;33m\u001b[0m\u001b[1;33m\u001b[0m\u001b[0m\n\u001b[0;32m   4803\u001b[0m                 \u001b[1;32melse\u001b[0m\u001b[1;33m:\u001b[0m\u001b[1;33m\u001b[0m\u001b[1;33m\u001b[0m\u001b[0m\n\u001b[1;32m-> 4804\u001b[1;33m                     \u001b[0mself\u001b[0m\u001b[1;33m.\u001b[0m\u001b[0m_set_prop\u001b[0m\u001b[1;33m(\u001b[0m\u001b[0mprop\u001b[0m\u001b[1;33m,\u001b[0m \u001b[0mvalue\u001b[0m\u001b[1;33m)\u001b[0m\u001b[1;33m\u001b[0m\u001b[1;33m\u001b[0m\u001b[0m\n\u001b[0m\u001b[0;32m   4805\u001b[0m             \u001b[1;32melse\u001b[0m\u001b[1;33m:\u001b[0m\u001b[1;33m\u001b[0m\u001b[1;33m\u001b[0m\u001b[0m\n\u001b[0;32m   4806\u001b[0m                 \u001b[1;31m# Make sure properties dict is initialized\u001b[0m\u001b[1;33m\u001b[0m\u001b[1;33m\u001b[0m\u001b[1;33m\u001b[0m\u001b[0m\n",
      "\u001b[1;32md:\\anaconda\\envs\\dataanalytic\\lib\\site-packages\\plotly\\basedatatypes.py\u001b[0m in \u001b[0;36m_set_prop\u001b[1;34m(self, prop, val)\u001b[0m\n\u001b[0;32m   5146\u001b[0m                 \u001b[1;32mreturn\u001b[0m\u001b[1;33m\u001b[0m\u001b[1;33m\u001b[0m\u001b[0m\n\u001b[0;32m   5147\u001b[0m             \u001b[1;32melse\u001b[0m\u001b[1;33m:\u001b[0m\u001b[1;33m\u001b[0m\u001b[1;33m\u001b[0m\u001b[0m\n\u001b[1;32m-> 5148\u001b[1;33m                 \u001b[1;32mraise\u001b[0m \u001b[0merr\u001b[0m\u001b[1;33m\u001b[0m\u001b[1;33m\u001b[0m\u001b[0m\n\u001b[0m\u001b[0;32m   5149\u001b[0m \u001b[1;33m\u001b[0m\u001b[0m\n\u001b[0;32m   5150\u001b[0m         \u001b[1;31m# val is None\u001b[0m\u001b[1;33m\u001b[0m\u001b[1;33m\u001b[0m\u001b[1;33m\u001b[0m\u001b[0m\n",
      "\u001b[1;32md:\\anaconda\\envs\\dataanalytic\\lib\\site-packages\\plotly\\basedatatypes.py\u001b[0m in \u001b[0;36m_set_prop\u001b[1;34m(self, prop, val)\u001b[0m\n\u001b[0;32m   5141\u001b[0m \u001b[1;33m\u001b[0m\u001b[0m\n\u001b[0;32m   5142\u001b[0m         \u001b[1;32mtry\u001b[0m\u001b[1;33m:\u001b[0m\u001b[1;33m\u001b[0m\u001b[1;33m\u001b[0m\u001b[0m\n\u001b[1;32m-> 5143\u001b[1;33m             \u001b[0mval\u001b[0m \u001b[1;33m=\u001b[0m \u001b[0mvalidator\u001b[0m\u001b[1;33m.\u001b[0m\u001b[0mvalidate_coerce\u001b[0m\u001b[1;33m(\u001b[0m\u001b[0mval\u001b[0m\u001b[1;33m)\u001b[0m\u001b[1;33m\u001b[0m\u001b[1;33m\u001b[0m\u001b[0m\n\u001b[0m\u001b[0;32m   5144\u001b[0m         \u001b[1;32mexcept\u001b[0m \u001b[0mValueError\u001b[0m \u001b[1;32mas\u001b[0m \u001b[0merr\u001b[0m\u001b[1;33m:\u001b[0m\u001b[1;33m\u001b[0m\u001b[1;33m\u001b[0m\u001b[0m\n\u001b[0;32m   5145\u001b[0m             \u001b[1;32mif\u001b[0m \u001b[0mself\u001b[0m\u001b[1;33m.\u001b[0m\u001b[0m_skip_invalid\u001b[0m\u001b[1;33m:\u001b[0m\u001b[1;33m\u001b[0m\u001b[1;33m\u001b[0m\u001b[0m\n",
      "\u001b[1;32md:\\anaconda\\envs\\dataanalytic\\lib\\site-packages\\_plotly_utils\\basevalidators.py\u001b[0m in \u001b[0;36mvalidate_coerce\u001b[1;34m(self, v)\u001b[0m\n\u001b[0;32m    389\u001b[0m             \u001b[0mv\u001b[0m \u001b[1;33m=\u001b[0m \u001b[0mto_scalar_or_list\u001b[0m\u001b[1;33m(\u001b[0m\u001b[0mv\u001b[0m\u001b[1;33m)\u001b[0m\u001b[1;33m\u001b[0m\u001b[1;33m\u001b[0m\u001b[0m\n\u001b[0;32m    390\u001b[0m         \u001b[1;32melse\u001b[0m\u001b[1;33m:\u001b[0m\u001b[1;33m\u001b[0m\u001b[1;33m\u001b[0m\u001b[0m\n\u001b[1;32m--> 391\u001b[1;33m             \u001b[0mself\u001b[0m\u001b[1;33m.\u001b[0m\u001b[0mraise_invalid_val\u001b[0m\u001b[1;33m(\u001b[0m\u001b[0mv\u001b[0m\u001b[1;33m)\u001b[0m\u001b[1;33m\u001b[0m\u001b[1;33m\u001b[0m\u001b[0m\n\u001b[0m\u001b[0;32m    392\u001b[0m         \u001b[1;32mreturn\u001b[0m \u001b[0mv\u001b[0m\u001b[1;33m\u001b[0m\u001b[1;33m\u001b[0m\u001b[0m\n\u001b[0;32m    393\u001b[0m \u001b[1;33m\u001b[0m\u001b[0m\n",
      "\u001b[1;32md:\\anaconda\\envs\\dataanalytic\\lib\\site-packages\\_plotly_utils\\basevalidators.py\u001b[0m in \u001b[0;36mraise_invalid_val\u001b[1;34m(self, v, inds)\u001b[0m\n\u001b[0;32m    283\u001b[0m                 \u001b[0mtyp\u001b[0m\u001b[1;33m=\u001b[0m\u001b[0mtype_str\u001b[0m\u001b[1;33m(\u001b[0m\u001b[0mv\u001b[0m\u001b[1;33m)\u001b[0m\u001b[1;33m,\u001b[0m\u001b[1;33m\u001b[0m\u001b[1;33m\u001b[0m\u001b[0m\n\u001b[0;32m    284\u001b[0m                 \u001b[0mv\u001b[0m\u001b[1;33m=\u001b[0m\u001b[0mrepr\u001b[0m\u001b[1;33m(\u001b[0m\u001b[0mv\u001b[0m\u001b[1;33m)\u001b[0m\u001b[1;33m,\u001b[0m\u001b[1;33m\u001b[0m\u001b[1;33m\u001b[0m\u001b[0m\n\u001b[1;32m--> 285\u001b[1;33m                 \u001b[0mvalid_clr_desc\u001b[0m\u001b[1;33m=\u001b[0m\u001b[0mself\u001b[0m\u001b[1;33m.\u001b[0m\u001b[0mdescription\u001b[0m\u001b[1;33m(\u001b[0m\u001b[1;33m)\u001b[0m\u001b[1;33m,\u001b[0m\u001b[1;33m\u001b[0m\u001b[1;33m\u001b[0m\u001b[0m\n\u001b[0m\u001b[0;32m    286\u001b[0m             )\n\u001b[0;32m    287\u001b[0m         )\n",
      "\u001b[1;31mValueError\u001b[0m: \n    Invalid value of type 'builtins.str' received for the 'y' property of scatter\n        Received value: 'Amount'\n\n    The 'y' property is an array that may be specified as a tuple,\n    list, numpy array, or pandas Series"
     ]
    }
   ],
   "source": [
    "fig = px.bar(a, x=\"AVG_Age\", y = \"Amount\", title=\"Average Age of the Composition of the Houses Histogram\", barmode= 'overlay',\n",
    "             color_discrete_map=color_dict, color=\"Nationality\",  template=\"plotly_white\", animation_frame=\"Year\",\n",
    "             hover_data=['Name_NBHD','Name_Dist'], labels={'Name_NBHD':'Neighborhood Name'})\n",
    "fig.add_scatter(y=\"Amount\", mode=\"markers\", name=\"steepest\", line=dict(color=\"black\"))\n",
    "fig.show()"
   ]
  },
  {
   "cell_type": "code",
   "execution_count": 65,
   "metadata": {},
   "outputs": [
    {
     "data": {
      "application/vnd.plotly.v1+json": {
       "config": {
        "plotlyServerURL": "https://plotly.com"
       },
       "data": [
        {
         "customdata": [
          [
           1,
           1
          ],
          [
           3,
           3
          ],
          [
           12,
           12
          ],
          [
           24,
           24
          ],
          [
           23,
           23
          ],
          [
           7,
           7
          ],
          [
           2,
           2
          ],
          [
           1,
           1
          ]
         ],
         "hovertemplate": "Nationality=Foreigners<br>Year=2014<br>AVG_Age=%{x}<br>Amount=%{y}<br>Neighborhood Name=%{customdata[0]}<br>Name_Dist=%{customdata[1]}<extra></extra>",
         "legendgroup": "Foreigners",
         "marker": {
          "color": "#3c096c",
          "symbol": "circle"
         },
         "mode": "markers",
         "name": "Foreigners",
         "orientation": "v",
         "showlegend": true,
         "type": "scatter",
         "x": [
          27,
          29,
          30,
          31,
          32,
          33,
          34,
          35
         ],
         "xaxis": "x",
         "y": [
          1,
          3,
          12,
          24,
          23,
          7,
          2,
          1
         ],
         "yaxis": "y"
        },
        {
         "customdata": [
          [
           1,
           1
          ],
          [
           1,
           1
          ],
          [
           10,
           10
          ],
          [
           3,
           3
          ],
          [
           11,
           11
          ],
          [
           14,
           14
          ],
          [
           16,
           16
          ],
          [
           9,
           9
          ],
          [
           5,
           5
          ],
          [
           1,
           1
          ],
          [
           1,
           1
          ],
          [
           1,
           1
          ]
         ],
         "hovertemplate": "Nationality=Mixed<br>Year=2014<br>AVG_Age=%{x}<br>Amount=%{y}<br>Neighborhood Name=%{customdata[0]}<br>Name_Dist=%{customdata[1]}<extra></extra>",
         "legendgroup": "Mixed",
         "marker": {
          "color": "#84a59d",
          "symbol": "circle"
         },
         "mode": "markers",
         "name": "Mixed",
         "orientation": "v",
         "showlegend": true,
         "type": "scatter",
         "x": [
          29,
          30,
          31,
          32,
          33,
          34,
          35,
          36,
          37,
          38,
          39,
          42
         ],
         "xaxis": "x",
         "y": [
          1,
          1,
          10,
          3,
          11,
          14,
          16,
          9,
          5,
          1,
          1,
          1
         ],
         "yaxis": "y"
        },
        {
         "customdata": [
          [
           1,
           1
          ],
          [
           3,
           3
          ],
          [
           4,
           4
          ],
          [
           2,
           2
          ],
          [
           5,
           5
          ],
          [
           8,
           8
          ],
          [
           6,
           6
          ],
          [
           16,
           16
          ],
          [
           18,
           18
          ],
          [
           5,
           5
          ],
          [
           3,
           3
          ],
          [
           1,
           1
          ],
          [
           1,
           1
          ]
         ],
         "hovertemplate": "Nationality=Spaniards<br>Year=2014<br>AVG_Age=%{x}<br>Amount=%{y}<br>Neighborhood Name=%{customdata[0]}<br>Name_Dist=%{customdata[1]}<extra></extra>",
         "legendgroup": "Spaniards",
         "marker": {
          "color": "#f6bd60",
          "symbol": "circle"
         },
         "mode": "markers",
         "name": "Spaniards",
         "orientation": "v",
         "showlegend": true,
         "type": "scatter",
         "x": [
          40,
          41,
          42,
          43,
          44,
          45,
          46,
          47,
          48,
          49,
          50,
          51,
          52
         ],
         "xaxis": "x",
         "y": [
          1,
          3,
          4,
          2,
          5,
          8,
          6,
          16,
          18,
          5,
          3,
          1,
          1
         ],
         "yaxis": "y"
        }
       ],
       "frames": [
        {
         "data": [
          {
           "customdata": [
            [
             1,
             1
            ],
            [
             3,
             3
            ],
            [
             12,
             12
            ],
            [
             24,
             24
            ],
            [
             23,
             23
            ],
            [
             7,
             7
            ],
            [
             2,
             2
            ],
            [
             1,
             1
            ]
           ],
           "hovertemplate": "Nationality=Foreigners<br>Year=2014<br>AVG_Age=%{x}<br>Amount=%{y}<br>Neighborhood Name=%{customdata[0]}<br>Name_Dist=%{customdata[1]}<extra></extra>",
           "legendgroup": "Foreigners",
           "marker": {
            "color": "#3c096c",
            "symbol": "circle"
           },
           "mode": "markers",
           "name": "Foreigners",
           "orientation": "v",
           "showlegend": true,
           "type": "scatter",
           "x": [
            27,
            29,
            30,
            31,
            32,
            33,
            34,
            35
           ],
           "xaxis": "x",
           "y": [
            1,
            3,
            12,
            24,
            23,
            7,
            2,
            1
           ],
           "yaxis": "y"
          },
          {
           "customdata": [
            [
             1,
             1
            ],
            [
             1,
             1
            ],
            [
             10,
             10
            ],
            [
             3,
             3
            ],
            [
             11,
             11
            ],
            [
             14,
             14
            ],
            [
             16,
             16
            ],
            [
             9,
             9
            ],
            [
             5,
             5
            ],
            [
             1,
             1
            ],
            [
             1,
             1
            ],
            [
             1,
             1
            ]
           ],
           "hovertemplate": "Nationality=Mixed<br>Year=2014<br>AVG_Age=%{x}<br>Amount=%{y}<br>Neighborhood Name=%{customdata[0]}<br>Name_Dist=%{customdata[1]}<extra></extra>",
           "legendgroup": "Mixed",
           "marker": {
            "color": "#84a59d",
            "symbol": "circle"
           },
           "mode": "markers",
           "name": "Mixed",
           "orientation": "v",
           "showlegend": true,
           "type": "scatter",
           "x": [
            29,
            30,
            31,
            32,
            33,
            34,
            35,
            36,
            37,
            38,
            39,
            42
           ],
           "xaxis": "x",
           "y": [
            1,
            1,
            10,
            3,
            11,
            14,
            16,
            9,
            5,
            1,
            1,
            1
           ],
           "yaxis": "y"
          },
          {
           "customdata": [
            [
             1,
             1
            ],
            [
             3,
             3
            ],
            [
             4,
             4
            ],
            [
             2,
             2
            ],
            [
             5,
             5
            ],
            [
             8,
             8
            ],
            [
             6,
             6
            ],
            [
             16,
             16
            ],
            [
             18,
             18
            ],
            [
             5,
             5
            ],
            [
             3,
             3
            ],
            [
             1,
             1
            ],
            [
             1,
             1
            ]
           ],
           "hovertemplate": "Nationality=Spaniards<br>Year=2014<br>AVG_Age=%{x}<br>Amount=%{y}<br>Neighborhood Name=%{customdata[0]}<br>Name_Dist=%{customdata[1]}<extra></extra>",
           "legendgroup": "Spaniards",
           "marker": {
            "color": "#f6bd60",
            "symbol": "circle"
           },
           "mode": "markers",
           "name": "Spaniards",
           "orientation": "v",
           "showlegend": true,
           "type": "scatter",
           "x": [
            40,
            41,
            42,
            43,
            44,
            45,
            46,
            47,
            48,
            49,
            50,
            51,
            52
           ],
           "xaxis": "x",
           "y": [
            1,
            3,
            4,
            2,
            5,
            8,
            6,
            16,
            18,
            5,
            3,
            1,
            1
           ],
           "yaxis": "y"
          }
         ],
         "name": "2014"
        },
        {
         "data": [
          {
           "customdata": [
            [
             1,
             1
            ],
            [
             3,
             3
            ],
            [
             5,
             5
            ],
            [
             23,
             23
            ],
            [
             22,
             22
            ],
            [
             13,
             13
            ],
            [
             2,
             2
            ],
            [
             1,
             1
            ],
            [
             2,
             2
            ],
            [
             1,
             1
            ]
           ],
           "hovertemplate": "Nationality=Foreigners<br>Year=2015<br>AVG_Age=%{x}<br>Amount=%{y}<br>Neighborhood Name=%{customdata[0]}<br>Name_Dist=%{customdata[1]}<extra></extra>",
           "legendgroup": "Foreigners",
           "marker": {
            "color": "#3c096c",
            "symbol": "circle"
           },
           "mode": "markers",
           "name": "Foreigners",
           "orientation": "v",
           "showlegend": true,
           "type": "scatter",
           "x": [
            28,
            29,
            30,
            31,
            32,
            33,
            34,
            35,
            36,
            37
           ],
           "xaxis": "x",
           "y": [
            1,
            3,
            5,
            23,
            22,
            13,
            2,
            1,
            2,
            1
           ],
           "yaxis": "y"
          },
          {
           "customdata": [
            [
             1,
             1
            ],
            [
             1,
             1
            ],
            [
             4,
             4
            ],
            [
             1,
             1
            ],
            [
             7,
             7
            ],
            [
             8,
             8
            ],
            [
             13,
             13
            ],
            [
             17,
             17
            ],
            [
             11,
             11
            ],
            [
             7,
             7
            ],
            [
             2,
             2
            ],
            [
             1,
             1
            ]
           ],
           "hovertemplate": "Nationality=Mixed<br>Year=2015<br>AVG_Age=%{x}<br>Amount=%{y}<br>Neighborhood Name=%{customdata[0]}<br>Name_Dist=%{customdata[1]}<extra></extra>",
           "legendgroup": "Mixed",
           "marker": {
            "color": "#84a59d",
            "symbol": "circle"
           },
           "mode": "markers",
           "name": "Mixed",
           "orientation": "v",
           "showlegend": true,
           "type": "scatter",
           "x": [
            27,
            29,
            30,
            31,
            32,
            33,
            34,
            35,
            36,
            37,
            39,
            42
           ],
           "xaxis": "x",
           "y": [
            1,
            1,
            4,
            1,
            7,
            8,
            13,
            17,
            11,
            7,
            2,
            1
           ],
           "yaxis": "y"
          },
          {
           "customdata": [
            [
             1,
             1
            ],
            [
             3,
             3
            ],
            [
             4,
             4
            ],
            [
             3,
             3
            ],
            [
             2,
             2
            ],
            [
             8,
             8
            ],
            [
             7,
             7
            ],
            [
             15,
             15
            ],
            [
             17,
             17
            ],
            [
             9,
             9
            ],
            [
             2,
             2
            ],
            [
             1,
             1
            ],
            [
             1,
             1
            ]
           ],
           "hovertemplate": "Nationality=Spaniards<br>Year=2015<br>AVG_Age=%{x}<br>Amount=%{y}<br>Neighborhood Name=%{customdata[0]}<br>Name_Dist=%{customdata[1]}<extra></extra>",
           "legendgroup": "Spaniards",
           "marker": {
            "color": "#f6bd60",
            "symbol": "circle"
           },
           "mode": "markers",
           "name": "Spaniards",
           "orientation": "v",
           "showlegend": true,
           "type": "scatter",
           "x": [
            40,
            41,
            42,
            43,
            44,
            45,
            46,
            47,
            48,
            49,
            50,
            51,
            52
           ],
           "xaxis": "x",
           "y": [
            1,
            3,
            4,
            3,
            2,
            8,
            7,
            15,
            17,
            9,
            2,
            1,
            1
           ],
           "yaxis": "y"
          }
         ],
         "name": "2015"
        },
        {
         "data": [
          {
           "customdata": [
            [
             4,
             4
            ],
            [
             4,
             4
            ],
            [
             26,
             26
            ],
            [
             23,
             23
            ],
            [
             10,
             10
            ],
            [
             4,
             4
            ],
            [
             2,
             2
            ]
           ],
           "hovertemplate": "Nationality=Foreigners<br>Year=2016<br>AVG_Age=%{x}<br>Amount=%{y}<br>Neighborhood Name=%{customdata[0]}<br>Name_Dist=%{customdata[1]}<extra></extra>",
           "legendgroup": "Foreigners",
           "marker": {
            "color": "#3c096c",
            "symbol": "circle"
           },
           "mode": "markers",
           "name": "Foreigners",
           "orientation": "v",
           "showlegend": true,
           "type": "scatter",
           "x": [
            29,
            30,
            31,
            32,
            33,
            34,
            35
           ],
           "xaxis": "x",
           "y": [
            4,
            4,
            26,
            23,
            10,
            4,
            2
           ],
           "yaxis": "y"
          },
          {
           "customdata": [
            [
             1,
             1
            ],
            [
             3,
             3
            ],
            [
             5,
             5
            ],
            [
             4,
             4
            ],
            [
             8,
             8
            ],
            [
             15,
             15
            ],
            [
             12,
             12
            ],
            [
             14,
             14
            ],
            [
             7,
             7
            ],
            [
             2,
             2
            ],
            [
             1,
             1
            ],
            [
             1,
             1
            ]
           ],
           "hovertemplate": "Nationality=Mixed<br>Year=2016<br>AVG_Age=%{x}<br>Amount=%{y}<br>Neighborhood Name=%{customdata[0]}<br>Name_Dist=%{customdata[1]}<extra></extra>",
           "legendgroup": "Mixed",
           "marker": {
            "color": "#84a59d",
            "symbol": "circle"
           },
           "mode": "markers",
           "name": "Mixed",
           "orientation": "v",
           "showlegend": true,
           "type": "scatter",
           "x": [
            27,
            30,
            31,
            32,
            33,
            34,
            35,
            36,
            37,
            38,
            40,
            43
           ],
           "xaxis": "x",
           "y": [
            1,
            3,
            5,
            4,
            8,
            15,
            12,
            14,
            7,
            2,
            1,
            1
           ],
           "yaxis": "y"
          },
          {
           "customdata": [
            [
             1,
             1
            ],
            [
             4,
             4
            ],
            [
             3,
             3
            ],
            [
             2,
             2
            ],
            [
             4,
             4
            ],
            [
             7,
             7
            ],
            [
             7,
             7
            ],
            [
             13,
             13
            ],
            [
             17,
             17
            ],
            [
             10,
             10
            ],
            [
             3,
             3
            ],
            [
             2,
             2
            ]
           ],
           "hovertemplate": "Nationality=Spaniards<br>Year=2016<br>AVG_Age=%{x}<br>Amount=%{y}<br>Neighborhood Name=%{customdata[0]}<br>Name_Dist=%{customdata[1]}<extra></extra>",
           "legendgroup": "Spaniards",
           "marker": {
            "color": "#f6bd60",
            "symbol": "circle"
           },
           "mode": "markers",
           "name": "Spaniards",
           "orientation": "v",
           "showlegend": true,
           "type": "scatter",
           "x": [
            40,
            41,
            42,
            43,
            44,
            45,
            46,
            47,
            48,
            49,
            50,
            51
           ],
           "xaxis": "x",
           "y": [
            1,
            4,
            3,
            2,
            4,
            7,
            7,
            13,
            17,
            10,
            3,
            2
           ],
           "yaxis": "y"
          }
         ],
         "name": "2016"
        },
        {
         "data": [
          {
           "customdata": [
            [
             1,
             1
            ],
            [
             1,
             1
            ],
            [
             7,
             7
            ],
            [
             23,
             23
            ],
            [
             31,
             31
            ],
            [
             8,
             8
            ],
            [
             2,
             2
            ]
           ],
           "hovertemplate": "Nationality=Foreigners<br>Year=2018<br>AVG_Age=%{x}<br>Amount=%{y}<br>Neighborhood Name=%{customdata[0]}<br>Name_Dist=%{customdata[1]}<extra></extra>",
           "legendgroup": "Foreigners",
           "marker": {
            "color": "#3c096c",
            "symbol": "circle"
           },
           "mode": "markers",
           "name": "Foreigners",
           "orientation": "v",
           "showlegend": true,
           "type": "scatter",
           "x": [
            28,
            29,
            30,
            31,
            32,
            33,
            34
           ],
           "xaxis": "x",
           "y": [
            1,
            1,
            7,
            23,
            31,
            8,
            2
           ],
           "yaxis": "y"
          },
          {
           "customdata": [
            [
             2,
             2
            ],
            [
             2,
             2
            ],
            [
             8,
             8
            ],
            [
             7,
             7
            ],
            [
             12,
             12
            ],
            [
             17,
             17
            ],
            [
             14,
             14
            ],
            [
             4,
             4
            ],
            [
             6,
             6
            ],
            [
             1,
             1
            ]
           ],
           "hovertemplate": "Nationality=Mixed<br>Year=2018<br>AVG_Age=%{x}<br>Amount=%{y}<br>Neighborhood Name=%{customdata[0]}<br>Name_Dist=%{customdata[1]}<extra></extra>",
           "legendgroup": "Mixed",
           "marker": {
            "color": "#84a59d",
            "symbol": "circle"
           },
           "mode": "markers",
           "name": "Mixed",
           "orientation": "v",
           "showlegend": true,
           "type": "scatter",
           "x": [
            30,
            31,
            32,
            33,
            34,
            35,
            36,
            37,
            38,
            41
           ],
           "xaxis": "x",
           "y": [
            2,
            2,
            8,
            7,
            12,
            17,
            14,
            4,
            6,
            1
           ],
           "yaxis": "y"
          },
          {
           "customdata": [
            [
             1,
             1
            ],
            [
             2,
             2
            ],
            [
             2,
             2
            ],
            [
             4,
             4
            ],
            [
             4,
             4
            ],
            [
             5,
             5
            ],
            [
             6,
             6
            ],
            [
             9,
             9
            ],
            [
             16,
             16
            ],
            [
             18,
             18
            ],
            [
             5,
             5
            ],
            [
             1,
             1
            ]
           ],
           "hovertemplate": "Nationality=Spaniards<br>Year=2018<br>AVG_Age=%{x}<br>Amount=%{y}<br>Neighborhood Name=%{customdata[0]}<br>Name_Dist=%{customdata[1]}<extra></extra>",
           "legendgroup": "Spaniards",
           "marker": {
            "color": "#f6bd60",
            "symbol": "circle"
           },
           "mode": "markers",
           "name": "Spaniards",
           "orientation": "v",
           "showlegend": true,
           "type": "scatter",
           "x": [
            40,
            41,
            42,
            43,
            44,
            45,
            46,
            47,
            48,
            49,
            50,
            51
           ],
           "xaxis": "x",
           "y": [
            1,
            2,
            2,
            4,
            4,
            5,
            6,
            9,
            16,
            18,
            5,
            1
           ],
           "yaxis": "y"
          }
         ],
         "name": "2018"
        },
        {
         "data": [
          {
           "customdata": [
            [
             4,
             4
            ],
            [
             6,
             6
            ],
            [
             23,
             23
            ],
            [
             29,
             29
            ],
            [
             8,
             8
            ],
            [
             3,
             3
            ]
           ],
           "hovertemplate": "Nationality=Foreigners<br>Year=2017<br>AVG_Age=%{x}<br>Amount=%{y}<br>Neighborhood Name=%{customdata[0]}<br>Name_Dist=%{customdata[1]}<extra></extra>",
           "legendgroup": "Foreigners",
           "marker": {
            "color": "#3c096c",
            "symbol": "circle"
           },
           "mode": "markers",
           "name": "Foreigners",
           "orientation": "v",
           "showlegend": true,
           "type": "scatter",
           "x": [
            29,
            30,
            31,
            32,
            33,
            34
           ],
           "xaxis": "x",
           "y": [
            4,
            6,
            23,
            29,
            8,
            3
           ],
           "yaxis": "y"
          },
          {
           "customdata": [
            [
             4,
             4
            ],
            [
             4,
             4
            ],
            [
             4,
             4
            ],
            [
             6,
             6
            ],
            [
             15,
             15
            ],
            [
             14,
             14
            ],
            [
             14,
             14
            ],
            [
             5,
             5
            ],
            [
             5,
             5
            ],
            [
             2,
             2
            ]
           ],
           "hovertemplate": "Nationality=Mixed<br>Year=2017<br>AVG_Age=%{x}<br>Amount=%{y}<br>Neighborhood Name=%{customdata[0]}<br>Name_Dist=%{customdata[1]}<extra></extra>",
           "legendgroup": "Mixed",
           "marker": {
            "color": "#84a59d",
            "symbol": "circle"
           },
           "mode": "markers",
           "name": "Mixed",
           "orientation": "v",
           "showlegend": true,
           "type": "scatter",
           "x": [
            30,
            31,
            32,
            33,
            34,
            35,
            36,
            37,
            38,
            41
           ],
           "xaxis": "x",
           "y": [
            4,
            4,
            4,
            6,
            15,
            14,
            14,
            5,
            5,
            2
           ],
           "yaxis": "y"
          },
          {
           "customdata": [
            [
             1,
             1
            ],
            [
             3,
             3
            ],
            [
             2,
             2
            ],
            [
             4,
             4
            ],
            [
             4,
             4
            ],
            [
             5,
             5
            ],
            [
             7,
             7
            ],
            [
             11,
             11
            ],
            [
             16,
             16
            ],
            [
             14,
             14
            ],
            [
             4,
             4
            ],
            [
             2,
             2
            ]
           ],
           "hovertemplate": "Nationality=Spaniards<br>Year=2017<br>AVG_Age=%{x}<br>Amount=%{y}<br>Neighborhood Name=%{customdata[0]}<br>Name_Dist=%{customdata[1]}<extra></extra>",
           "legendgroup": "Spaniards",
           "marker": {
            "color": "#f6bd60",
            "symbol": "circle"
           },
           "mode": "markers",
           "name": "Spaniards",
           "orientation": "v",
           "showlegend": true,
           "type": "scatter",
           "x": [
            40,
            41,
            42,
            43,
            44,
            45,
            46,
            47,
            48,
            49,
            50,
            51
           ],
           "xaxis": "x",
           "y": [
            1,
            3,
            2,
            4,
            4,
            5,
            7,
            11,
            16,
            14,
            4,
            2
           ],
           "yaxis": "y"
          }
         ],
         "name": "2017"
        },
        {
         "data": [
          {
           "customdata": [
            [
             2,
             2
            ],
            [
             8,
             8
            ],
            [
             15,
             15
            ],
            [
             32,
             32
            ],
            [
             15,
             15
            ],
            [
             1,
             1
            ]
           ],
           "hovertemplate": "Nationality=Foreigners<br>Year=2019<br>AVG_Age=%{x}<br>Amount=%{y}<br>Neighborhood Name=%{customdata[0]}<br>Name_Dist=%{customdata[1]}<extra></extra>",
           "legendgroup": "Foreigners",
           "marker": {
            "color": "#3c096c",
            "symbol": "circle"
           },
           "mode": "markers",
           "name": "Foreigners",
           "orientation": "v",
           "showlegend": true,
           "type": "scatter",
           "x": [
            29,
            30,
            31,
            32,
            33,
            34
           ],
           "xaxis": "x",
           "y": [
            2,
            8,
            15,
            32,
            15,
            1
           ],
           "yaxis": "y"
          },
          {
           "customdata": [
            [
             1,
             1
            ],
            [
             3,
             3
            ],
            [
             5,
             5
            ],
            [
             7,
             7
            ],
            [
             13,
             13
            ],
            [
             24,
             24
            ],
            [
             8,
             8
            ],
            [
             7,
             7
            ],
            [
             3,
             3
            ],
            [
             1,
             1
            ],
            [
             1,
             1
            ]
           ],
           "hovertemplate": "Nationality=Mixed<br>Year=2019<br>AVG_Age=%{x}<br>Amount=%{y}<br>Neighborhood Name=%{customdata[0]}<br>Name_Dist=%{customdata[1]}<extra></extra>",
           "legendgroup": "Mixed",
           "marker": {
            "color": "#84a59d",
            "symbol": "circle"
           },
           "mode": "markers",
           "name": "Mixed",
           "orientation": "v",
           "showlegend": true,
           "type": "scatter",
           "x": [
            30,
            31,
            32,
            33,
            34,
            35,
            36,
            37,
            38,
            43,
            45
           ],
           "xaxis": "x",
           "y": [
            1,
            3,
            5,
            7,
            13,
            24,
            8,
            7,
            3,
            1,
            1
           ],
           "yaxis": "y"
          },
          {
           "customdata": [
            [
             1,
             1
            ],
            [
             2,
             2
            ],
            [
             1,
             1
            ],
            [
             3,
             3
            ],
            [
             5,
             5
            ],
            [
             5,
             5
            ],
            [
             6,
             6
            ],
            [
             6,
             6
            ],
            [
             19,
             19
            ],
            [
             18,
             18
            ],
            [
             6,
             6
            ],
            [
             1,
             1
            ]
           ],
           "hovertemplate": "Nationality=Spaniards<br>Year=2019<br>AVG_Age=%{x}<br>Amount=%{y}<br>Neighborhood Name=%{customdata[0]}<br>Name_Dist=%{customdata[1]}<extra></extra>",
           "legendgroup": "Spaniards",
           "marker": {
            "color": "#f6bd60",
            "symbol": "circle"
           },
           "mode": "markers",
           "name": "Spaniards",
           "orientation": "v",
           "showlegend": true,
           "type": "scatter",
           "x": [
            40,
            41,
            42,
            43,
            44,
            45,
            46,
            47,
            48,
            49,
            50,
            51
           ],
           "xaxis": "x",
           "y": [
            1,
            2,
            1,
            3,
            5,
            5,
            6,
            6,
            19,
            18,
            6,
            1
           ],
           "yaxis": "y"
          }
         ],
         "name": "2019"
        }
       ],
       "layout": {
        "legend": {
         "title": {
          "text": "Nationality"
         },
         "tracegroupgap": 0
        },
        "sliders": [
         {
          "active": 0,
          "currentvalue": {
           "prefix": "Year="
          },
          "len": 0.9,
          "pad": {
           "b": 10,
           "t": 60
          },
          "steps": [
           {
            "args": [
             [
              "2014"
             ],
             {
              "frame": {
               "duration": 0,
               "redraw": false
              },
              "fromcurrent": true,
              "mode": "immediate",
              "transition": {
               "duration": 0,
               "easing": "linear"
              }
             }
            ],
            "label": "2014",
            "method": "animate"
           },
           {
            "args": [
             [
              "2015"
             ],
             {
              "frame": {
               "duration": 0,
               "redraw": false
              },
              "fromcurrent": true,
              "mode": "immediate",
              "transition": {
               "duration": 0,
               "easing": "linear"
              }
             }
            ],
            "label": "2015",
            "method": "animate"
           },
           {
            "args": [
             [
              "2016"
             ],
             {
              "frame": {
               "duration": 0,
               "redraw": false
              },
              "fromcurrent": true,
              "mode": "immediate",
              "transition": {
               "duration": 0,
               "easing": "linear"
              }
             }
            ],
            "label": "2016",
            "method": "animate"
           },
           {
            "args": [
             [
              "2018"
             ],
             {
              "frame": {
               "duration": 0,
               "redraw": false
              },
              "fromcurrent": true,
              "mode": "immediate",
              "transition": {
               "duration": 0,
               "easing": "linear"
              }
             }
            ],
            "label": "2018",
            "method": "animate"
           },
           {
            "args": [
             [
              "2017"
             ],
             {
              "frame": {
               "duration": 0,
               "redraw": false
              },
              "fromcurrent": true,
              "mode": "immediate",
              "transition": {
               "duration": 0,
               "easing": "linear"
              }
             }
            ],
            "label": "2017",
            "method": "animate"
           },
           {
            "args": [
             [
              "2019"
             ],
             {
              "frame": {
               "duration": 0,
               "redraw": false
              },
              "fromcurrent": true,
              "mode": "immediate",
              "transition": {
               "duration": 0,
               "easing": "linear"
              }
             }
            ],
            "label": "2019",
            "method": "animate"
           }
          ],
          "x": 0.1,
          "xanchor": "left",
          "y": 0,
          "yanchor": "top"
         }
        ],
        "template": {
         "data": {
          "bar": [
           {
            "error_x": {
             "color": "#2a3f5f"
            },
            "error_y": {
             "color": "#2a3f5f"
            },
            "marker": {
             "line": {
              "color": "white",
              "width": 0.5
             }
            },
            "type": "bar"
           }
          ],
          "barpolar": [
           {
            "marker": {
             "line": {
              "color": "white",
              "width": 0.5
             }
            },
            "type": "barpolar"
           }
          ],
          "carpet": [
           {
            "aaxis": {
             "endlinecolor": "#2a3f5f",
             "gridcolor": "#C8D4E3",
             "linecolor": "#C8D4E3",
             "minorgridcolor": "#C8D4E3",
             "startlinecolor": "#2a3f5f"
            },
            "baxis": {
             "endlinecolor": "#2a3f5f",
             "gridcolor": "#C8D4E3",
             "linecolor": "#C8D4E3",
             "minorgridcolor": "#C8D4E3",
             "startlinecolor": "#2a3f5f"
            },
            "type": "carpet"
           }
          ],
          "choropleth": [
           {
            "colorbar": {
             "outlinewidth": 0,
             "ticks": ""
            },
            "type": "choropleth"
           }
          ],
          "contour": [
           {
            "colorbar": {
             "outlinewidth": 0,
             "ticks": ""
            },
            "colorscale": [
             [
              0,
              "#0d0887"
             ],
             [
              0.1111111111111111,
              "#46039f"
             ],
             [
              0.2222222222222222,
              "#7201a8"
             ],
             [
              0.3333333333333333,
              "#9c179e"
             ],
             [
              0.4444444444444444,
              "#bd3786"
             ],
             [
              0.5555555555555556,
              "#d8576b"
             ],
             [
              0.6666666666666666,
              "#ed7953"
             ],
             [
              0.7777777777777778,
              "#fb9f3a"
             ],
             [
              0.8888888888888888,
              "#fdca26"
             ],
             [
              1,
              "#f0f921"
             ]
            ],
            "type": "contour"
           }
          ],
          "contourcarpet": [
           {
            "colorbar": {
             "outlinewidth": 0,
             "ticks": ""
            },
            "type": "contourcarpet"
           }
          ],
          "heatmap": [
           {
            "colorbar": {
             "outlinewidth": 0,
             "ticks": ""
            },
            "colorscale": [
             [
              0,
              "#0d0887"
             ],
             [
              0.1111111111111111,
              "#46039f"
             ],
             [
              0.2222222222222222,
              "#7201a8"
             ],
             [
              0.3333333333333333,
              "#9c179e"
             ],
             [
              0.4444444444444444,
              "#bd3786"
             ],
             [
              0.5555555555555556,
              "#d8576b"
             ],
             [
              0.6666666666666666,
              "#ed7953"
             ],
             [
              0.7777777777777778,
              "#fb9f3a"
             ],
             [
              0.8888888888888888,
              "#fdca26"
             ],
             [
              1,
              "#f0f921"
             ]
            ],
            "type": "heatmap"
           }
          ],
          "heatmapgl": [
           {
            "colorbar": {
             "outlinewidth": 0,
             "ticks": ""
            },
            "colorscale": [
             [
              0,
              "#0d0887"
             ],
             [
              0.1111111111111111,
              "#46039f"
             ],
             [
              0.2222222222222222,
              "#7201a8"
             ],
             [
              0.3333333333333333,
              "#9c179e"
             ],
             [
              0.4444444444444444,
              "#bd3786"
             ],
             [
              0.5555555555555556,
              "#d8576b"
             ],
             [
              0.6666666666666666,
              "#ed7953"
             ],
             [
              0.7777777777777778,
              "#fb9f3a"
             ],
             [
              0.8888888888888888,
              "#fdca26"
             ],
             [
              1,
              "#f0f921"
             ]
            ],
            "type": "heatmapgl"
           }
          ],
          "histogram": [
           {
            "marker": {
             "colorbar": {
              "outlinewidth": 0,
              "ticks": ""
             }
            },
            "type": "histogram"
           }
          ],
          "histogram2d": [
           {
            "colorbar": {
             "outlinewidth": 0,
             "ticks": ""
            },
            "colorscale": [
             [
              0,
              "#0d0887"
             ],
             [
              0.1111111111111111,
              "#46039f"
             ],
             [
              0.2222222222222222,
              "#7201a8"
             ],
             [
              0.3333333333333333,
              "#9c179e"
             ],
             [
              0.4444444444444444,
              "#bd3786"
             ],
             [
              0.5555555555555556,
              "#d8576b"
             ],
             [
              0.6666666666666666,
              "#ed7953"
             ],
             [
              0.7777777777777778,
              "#fb9f3a"
             ],
             [
              0.8888888888888888,
              "#fdca26"
             ],
             [
              1,
              "#f0f921"
             ]
            ],
            "type": "histogram2d"
           }
          ],
          "histogram2dcontour": [
           {
            "colorbar": {
             "outlinewidth": 0,
             "ticks": ""
            },
            "colorscale": [
             [
              0,
              "#0d0887"
             ],
             [
              0.1111111111111111,
              "#46039f"
             ],
             [
              0.2222222222222222,
              "#7201a8"
             ],
             [
              0.3333333333333333,
              "#9c179e"
             ],
             [
              0.4444444444444444,
              "#bd3786"
             ],
             [
              0.5555555555555556,
              "#d8576b"
             ],
             [
              0.6666666666666666,
              "#ed7953"
             ],
             [
              0.7777777777777778,
              "#fb9f3a"
             ],
             [
              0.8888888888888888,
              "#fdca26"
             ],
             [
              1,
              "#f0f921"
             ]
            ],
            "type": "histogram2dcontour"
           }
          ],
          "mesh3d": [
           {
            "colorbar": {
             "outlinewidth": 0,
             "ticks": ""
            },
            "type": "mesh3d"
           }
          ],
          "parcoords": [
           {
            "line": {
             "colorbar": {
              "outlinewidth": 0,
              "ticks": ""
             }
            },
            "type": "parcoords"
           }
          ],
          "pie": [
           {
            "automargin": true,
            "type": "pie"
           }
          ],
          "scatter": [
           {
            "marker": {
             "colorbar": {
              "outlinewidth": 0,
              "ticks": ""
             }
            },
            "type": "scatter"
           }
          ],
          "scatter3d": [
           {
            "line": {
             "colorbar": {
              "outlinewidth": 0,
              "ticks": ""
             }
            },
            "marker": {
             "colorbar": {
              "outlinewidth": 0,
              "ticks": ""
             }
            },
            "type": "scatter3d"
           }
          ],
          "scattercarpet": [
           {
            "marker": {
             "colorbar": {
              "outlinewidth": 0,
              "ticks": ""
             }
            },
            "type": "scattercarpet"
           }
          ],
          "scattergeo": [
           {
            "marker": {
             "colorbar": {
              "outlinewidth": 0,
              "ticks": ""
             }
            },
            "type": "scattergeo"
           }
          ],
          "scattergl": [
           {
            "marker": {
             "colorbar": {
              "outlinewidth": 0,
              "ticks": ""
             }
            },
            "type": "scattergl"
           }
          ],
          "scattermapbox": [
           {
            "marker": {
             "colorbar": {
              "outlinewidth": 0,
              "ticks": ""
             }
            },
            "type": "scattermapbox"
           }
          ],
          "scatterpolar": [
           {
            "marker": {
             "colorbar": {
              "outlinewidth": 0,
              "ticks": ""
             }
            },
            "type": "scatterpolar"
           }
          ],
          "scatterpolargl": [
           {
            "marker": {
             "colorbar": {
              "outlinewidth": 0,
              "ticks": ""
             }
            },
            "type": "scatterpolargl"
           }
          ],
          "scatterternary": [
           {
            "marker": {
             "colorbar": {
              "outlinewidth": 0,
              "ticks": ""
             }
            },
            "type": "scatterternary"
           }
          ],
          "surface": [
           {
            "colorbar": {
             "outlinewidth": 0,
             "ticks": ""
            },
            "colorscale": [
             [
              0,
              "#0d0887"
             ],
             [
              0.1111111111111111,
              "#46039f"
             ],
             [
              0.2222222222222222,
              "#7201a8"
             ],
             [
              0.3333333333333333,
              "#9c179e"
             ],
             [
              0.4444444444444444,
              "#bd3786"
             ],
             [
              0.5555555555555556,
              "#d8576b"
             ],
             [
              0.6666666666666666,
              "#ed7953"
             ],
             [
              0.7777777777777778,
              "#fb9f3a"
             ],
             [
              0.8888888888888888,
              "#fdca26"
             ],
             [
              1,
              "#f0f921"
             ]
            ],
            "type": "surface"
           }
          ],
          "table": [
           {
            "cells": {
             "fill": {
              "color": "#EBF0F8"
             },
             "line": {
              "color": "white"
             }
            },
            "header": {
             "fill": {
              "color": "#C8D4E3"
             },
             "line": {
              "color": "white"
             }
            },
            "type": "table"
           }
          ]
         },
         "layout": {
          "annotationdefaults": {
           "arrowcolor": "#2a3f5f",
           "arrowhead": 0,
           "arrowwidth": 1
          },
          "coloraxis": {
           "colorbar": {
            "outlinewidth": 0,
            "ticks": ""
           }
          },
          "colorscale": {
           "diverging": [
            [
             0,
             "#8e0152"
            ],
            [
             0.1,
             "#c51b7d"
            ],
            [
             0.2,
             "#de77ae"
            ],
            [
             0.3,
             "#f1b6da"
            ],
            [
             0.4,
             "#fde0ef"
            ],
            [
             0.5,
             "#f7f7f7"
            ],
            [
             0.6,
             "#e6f5d0"
            ],
            [
             0.7,
             "#b8e186"
            ],
            [
             0.8,
             "#7fbc41"
            ],
            [
             0.9,
             "#4d9221"
            ],
            [
             1,
             "#276419"
            ]
           ],
           "sequential": [
            [
             0,
             "#0d0887"
            ],
            [
             0.1111111111111111,
             "#46039f"
            ],
            [
             0.2222222222222222,
             "#7201a8"
            ],
            [
             0.3333333333333333,
             "#9c179e"
            ],
            [
             0.4444444444444444,
             "#bd3786"
            ],
            [
             0.5555555555555556,
             "#d8576b"
            ],
            [
             0.6666666666666666,
             "#ed7953"
            ],
            [
             0.7777777777777778,
             "#fb9f3a"
            ],
            [
             0.8888888888888888,
             "#fdca26"
            ],
            [
             1,
             "#f0f921"
            ]
           ],
           "sequentialminus": [
            [
             0,
             "#0d0887"
            ],
            [
             0.1111111111111111,
             "#46039f"
            ],
            [
             0.2222222222222222,
             "#7201a8"
            ],
            [
             0.3333333333333333,
             "#9c179e"
            ],
            [
             0.4444444444444444,
             "#bd3786"
            ],
            [
             0.5555555555555556,
             "#d8576b"
            ],
            [
             0.6666666666666666,
             "#ed7953"
            ],
            [
             0.7777777777777778,
             "#fb9f3a"
            ],
            [
             0.8888888888888888,
             "#fdca26"
            ],
            [
             1,
             "#f0f921"
            ]
           ]
          },
          "colorway": [
           "#636efa",
           "#EF553B",
           "#00cc96",
           "#ab63fa",
           "#FFA15A",
           "#19d3f3",
           "#FF6692",
           "#B6E880",
           "#FF97FF",
           "#FECB52"
          ],
          "font": {
           "color": "#2a3f5f"
          },
          "geo": {
           "bgcolor": "white",
           "lakecolor": "white",
           "landcolor": "white",
           "showlakes": true,
           "showland": true,
           "subunitcolor": "#C8D4E3"
          },
          "hoverlabel": {
           "align": "left"
          },
          "hovermode": "closest",
          "mapbox": {
           "style": "light"
          },
          "paper_bgcolor": "white",
          "plot_bgcolor": "white",
          "polar": {
           "angularaxis": {
            "gridcolor": "#EBF0F8",
            "linecolor": "#EBF0F8",
            "ticks": ""
           },
           "bgcolor": "white",
           "radialaxis": {
            "gridcolor": "#EBF0F8",
            "linecolor": "#EBF0F8",
            "ticks": ""
           }
          },
          "scene": {
           "xaxis": {
            "backgroundcolor": "white",
            "gridcolor": "#DFE8F3",
            "gridwidth": 2,
            "linecolor": "#EBF0F8",
            "showbackground": true,
            "ticks": "",
            "zerolinecolor": "#EBF0F8"
           },
           "yaxis": {
            "backgroundcolor": "white",
            "gridcolor": "#DFE8F3",
            "gridwidth": 2,
            "linecolor": "#EBF0F8",
            "showbackground": true,
            "ticks": "",
            "zerolinecolor": "#EBF0F8"
           },
           "zaxis": {
            "backgroundcolor": "white",
            "gridcolor": "#DFE8F3",
            "gridwidth": 2,
            "linecolor": "#EBF0F8",
            "showbackground": true,
            "ticks": "",
            "zerolinecolor": "#EBF0F8"
           }
          },
          "shapedefaults": {
           "line": {
            "color": "#2a3f5f"
           }
          },
          "ternary": {
           "aaxis": {
            "gridcolor": "#DFE8F3",
            "linecolor": "#A2B1C6",
            "ticks": ""
           },
           "baxis": {
            "gridcolor": "#DFE8F3",
            "linecolor": "#A2B1C6",
            "ticks": ""
           },
           "bgcolor": "white",
           "caxis": {
            "gridcolor": "#DFE8F3",
            "linecolor": "#A2B1C6",
            "ticks": ""
           }
          },
          "title": {
           "x": 0.05
          },
          "xaxis": {
           "automargin": true,
           "gridcolor": "#EBF0F8",
           "linecolor": "#EBF0F8",
           "ticks": "",
           "title": {
            "standoff": 15
           },
           "zerolinecolor": "#EBF0F8",
           "zerolinewidth": 2
          },
          "yaxis": {
           "automargin": true,
           "gridcolor": "#EBF0F8",
           "linecolor": "#EBF0F8",
           "ticks": "",
           "title": {
            "standoff": 15
           },
           "zerolinecolor": "#EBF0F8",
           "zerolinewidth": 2
          }
         }
        },
        "title": {
         "text": "Average Age of the Composition of the Houses Histogram"
        },
        "updatemenus": [
         {
          "buttons": [
           {
            "args": [
             null,
             {
              "frame": {
               "duration": 500,
               "redraw": false
              },
              "fromcurrent": true,
              "mode": "immediate",
              "transition": {
               "duration": 500,
               "easing": "linear"
              }
             }
            ],
            "label": "&#9654;",
            "method": "animate"
           },
           {
            "args": [
             [
              null
             ],
             {
              "frame": {
               "duration": 0,
               "redraw": false
              },
              "fromcurrent": true,
              "mode": "immediate",
              "transition": {
               "duration": 0,
               "easing": "linear"
              }
             }
            ],
            "label": "&#9724;",
            "method": "animate"
           }
          ],
          "direction": "left",
          "pad": {
           "r": 10,
           "t": 70
          },
          "showactive": false,
          "type": "buttons",
          "x": 0.1,
          "xanchor": "right",
          "y": 0,
          "yanchor": "top"
         }
        ],
        "xaxis": {
         "anchor": "y",
         "domain": [
          0,
          1
         ],
         "title": {
          "text": "AVG_Age"
         }
        },
        "yaxis": {
         "anchor": "x",
         "domain": [
          0,
          1
         ],
         "title": {
          "text": "Amount"
         }
        }
       }
      },
      "text/html": [
       "<div>                            <div id=\"b9d48988-65e9-40cb-931e-f8d86092ee4c\" class=\"plotly-graph-div\" style=\"height:525px; width:100%;\"></div>            <script type=\"text/javascript\">                require([\"plotly\"], function(Plotly) {                    window.PLOTLYENV=window.PLOTLYENV || {};                                    if (document.getElementById(\"b9d48988-65e9-40cb-931e-f8d86092ee4c\")) {                    Plotly.newPlot(                        \"b9d48988-65e9-40cb-931e-f8d86092ee4c\",                        [{\"customdata\": [[1, 1], [3, 3], [12, 12], [24, 24], [23, 23], [7, 7], [2, 2], [1, 1]], \"hovertemplate\": \"Nationality=Foreigners<br>Year=2014<br>AVG_Age=%{x}<br>Amount=%{y}<br>Neighborhood Name=%{customdata[0]}<br>Name_Dist=%{customdata[1]}<extra></extra>\", \"legendgroup\": \"Foreigners\", \"marker\": {\"color\": \"#3c096c\", \"symbol\": \"circle\"}, \"mode\": \"markers\", \"name\": \"Foreigners\", \"orientation\": \"v\", \"showlegend\": true, \"type\": \"scatter\", \"x\": [27, 29, 30, 31, 32, 33, 34, 35], \"xaxis\": \"x\", \"y\": [1, 3, 12, 24, 23, 7, 2, 1], \"yaxis\": \"y\"}, {\"customdata\": [[1, 1], [1, 1], [10, 10], [3, 3], [11, 11], [14, 14], [16, 16], [9, 9], [5, 5], [1, 1], [1, 1], [1, 1]], \"hovertemplate\": \"Nationality=Mixed<br>Year=2014<br>AVG_Age=%{x}<br>Amount=%{y}<br>Neighborhood Name=%{customdata[0]}<br>Name_Dist=%{customdata[1]}<extra></extra>\", \"legendgroup\": \"Mixed\", \"marker\": {\"color\": \"#84a59d\", \"symbol\": \"circle\"}, \"mode\": \"markers\", \"name\": \"Mixed\", \"orientation\": \"v\", \"showlegend\": true, \"type\": \"scatter\", \"x\": [29, 30, 31, 32, 33, 34, 35, 36, 37, 38, 39, 42], \"xaxis\": \"x\", \"y\": [1, 1, 10, 3, 11, 14, 16, 9, 5, 1, 1, 1], \"yaxis\": \"y\"}, {\"customdata\": [[1, 1], [3, 3], [4, 4], [2, 2], [5, 5], [8, 8], [6, 6], [16, 16], [18, 18], [5, 5], [3, 3], [1, 1], [1, 1]], \"hovertemplate\": \"Nationality=Spaniards<br>Year=2014<br>AVG_Age=%{x}<br>Amount=%{y}<br>Neighborhood Name=%{customdata[0]}<br>Name_Dist=%{customdata[1]}<extra></extra>\", \"legendgroup\": \"Spaniards\", \"marker\": {\"color\": \"#f6bd60\", \"symbol\": \"circle\"}, \"mode\": \"markers\", \"name\": \"Spaniards\", \"orientation\": \"v\", \"showlegend\": true, \"type\": \"scatter\", \"x\": [40, 41, 42, 43, 44, 45, 46, 47, 48, 49, 50, 51, 52], \"xaxis\": \"x\", \"y\": [1, 3, 4, 2, 5, 8, 6, 16, 18, 5, 3, 1, 1], \"yaxis\": \"y\"}],                        {\"legend\": {\"title\": {\"text\": \"Nationality\"}, \"tracegroupgap\": 0}, \"sliders\": [{\"active\": 0, \"currentvalue\": {\"prefix\": \"Year=\"}, \"len\": 0.9, \"pad\": {\"b\": 10, \"t\": 60}, \"steps\": [{\"args\": [[\"2014\"], {\"frame\": {\"duration\": 0, \"redraw\": false}, \"fromcurrent\": true, \"mode\": \"immediate\", \"transition\": {\"duration\": 0, \"easing\": \"linear\"}}], \"label\": \"2014\", \"method\": \"animate\"}, {\"args\": [[\"2015\"], {\"frame\": {\"duration\": 0, \"redraw\": false}, \"fromcurrent\": true, \"mode\": \"immediate\", \"transition\": {\"duration\": 0, \"easing\": \"linear\"}}], \"label\": \"2015\", \"method\": \"animate\"}, {\"args\": [[\"2016\"], {\"frame\": {\"duration\": 0, \"redraw\": false}, \"fromcurrent\": true, \"mode\": \"immediate\", \"transition\": {\"duration\": 0, \"easing\": \"linear\"}}], \"label\": \"2016\", \"method\": \"animate\"}, {\"args\": [[\"2018\"], {\"frame\": {\"duration\": 0, \"redraw\": false}, \"fromcurrent\": true, \"mode\": \"immediate\", \"transition\": {\"duration\": 0, \"easing\": \"linear\"}}], \"label\": \"2018\", \"method\": \"animate\"}, {\"args\": [[\"2017\"], {\"frame\": {\"duration\": 0, \"redraw\": false}, \"fromcurrent\": true, \"mode\": \"immediate\", \"transition\": {\"duration\": 0, \"easing\": \"linear\"}}], \"label\": \"2017\", \"method\": \"animate\"}, {\"args\": [[\"2019\"], {\"frame\": {\"duration\": 0, \"redraw\": false}, \"fromcurrent\": true, \"mode\": \"immediate\", \"transition\": {\"duration\": 0, \"easing\": \"linear\"}}], \"label\": \"2019\", \"method\": \"animate\"}], \"x\": 0.1, \"xanchor\": \"left\", \"y\": 0, \"yanchor\": \"top\"}], \"template\": {\"data\": {\"bar\": [{\"error_x\": {\"color\": \"#2a3f5f\"}, \"error_y\": {\"color\": \"#2a3f5f\"}, \"marker\": {\"line\": {\"color\": \"white\", \"width\": 0.5}}, \"type\": \"bar\"}], \"barpolar\": [{\"marker\": {\"line\": {\"color\": \"white\", \"width\": 0.5}}, \"type\": \"barpolar\"}], \"carpet\": [{\"aaxis\": {\"endlinecolor\": \"#2a3f5f\", \"gridcolor\": \"#C8D4E3\", \"linecolor\": \"#C8D4E3\", \"minorgridcolor\": \"#C8D4E3\", \"startlinecolor\": \"#2a3f5f\"}, \"baxis\": {\"endlinecolor\": \"#2a3f5f\", \"gridcolor\": \"#C8D4E3\", \"linecolor\": \"#C8D4E3\", \"minorgridcolor\": \"#C8D4E3\", \"startlinecolor\": \"#2a3f5f\"}, \"type\": \"carpet\"}], \"choropleth\": [{\"colorbar\": {\"outlinewidth\": 0, \"ticks\": \"\"}, \"type\": \"choropleth\"}], \"contour\": [{\"colorbar\": {\"outlinewidth\": 0, \"ticks\": \"\"}, \"colorscale\": [[0.0, \"#0d0887\"], [0.1111111111111111, \"#46039f\"], [0.2222222222222222, \"#7201a8\"], [0.3333333333333333, \"#9c179e\"], [0.4444444444444444, \"#bd3786\"], [0.5555555555555556, \"#d8576b\"], [0.6666666666666666, \"#ed7953\"], [0.7777777777777778, \"#fb9f3a\"], [0.8888888888888888, \"#fdca26\"], [1.0, \"#f0f921\"]], \"type\": \"contour\"}], \"contourcarpet\": [{\"colorbar\": {\"outlinewidth\": 0, \"ticks\": \"\"}, \"type\": \"contourcarpet\"}], \"heatmap\": [{\"colorbar\": {\"outlinewidth\": 0, \"ticks\": \"\"}, \"colorscale\": [[0.0, \"#0d0887\"], [0.1111111111111111, \"#46039f\"], [0.2222222222222222, \"#7201a8\"], [0.3333333333333333, \"#9c179e\"], [0.4444444444444444, \"#bd3786\"], [0.5555555555555556, \"#d8576b\"], [0.6666666666666666, \"#ed7953\"], [0.7777777777777778, \"#fb9f3a\"], [0.8888888888888888, \"#fdca26\"], [1.0, \"#f0f921\"]], \"type\": \"heatmap\"}], \"heatmapgl\": [{\"colorbar\": {\"outlinewidth\": 0, \"ticks\": \"\"}, \"colorscale\": [[0.0, \"#0d0887\"], [0.1111111111111111, \"#46039f\"], [0.2222222222222222, \"#7201a8\"], [0.3333333333333333, \"#9c179e\"], [0.4444444444444444, \"#bd3786\"], [0.5555555555555556, \"#d8576b\"], [0.6666666666666666, \"#ed7953\"], [0.7777777777777778, \"#fb9f3a\"], [0.8888888888888888, \"#fdca26\"], [1.0, \"#f0f921\"]], \"type\": \"heatmapgl\"}], \"histogram\": [{\"marker\": {\"colorbar\": {\"outlinewidth\": 0, \"ticks\": \"\"}}, \"type\": \"histogram\"}], \"histogram2d\": [{\"colorbar\": {\"outlinewidth\": 0, \"ticks\": \"\"}, \"colorscale\": [[0.0, \"#0d0887\"], [0.1111111111111111, \"#46039f\"], [0.2222222222222222, \"#7201a8\"], [0.3333333333333333, \"#9c179e\"], [0.4444444444444444, \"#bd3786\"], [0.5555555555555556, \"#d8576b\"], [0.6666666666666666, \"#ed7953\"], [0.7777777777777778, \"#fb9f3a\"], [0.8888888888888888, \"#fdca26\"], [1.0, \"#f0f921\"]], \"type\": \"histogram2d\"}], \"histogram2dcontour\": [{\"colorbar\": {\"outlinewidth\": 0, \"ticks\": \"\"}, \"colorscale\": [[0.0, \"#0d0887\"], [0.1111111111111111, \"#46039f\"], [0.2222222222222222, \"#7201a8\"], [0.3333333333333333, \"#9c179e\"], [0.4444444444444444, \"#bd3786\"], [0.5555555555555556, \"#d8576b\"], [0.6666666666666666, \"#ed7953\"], [0.7777777777777778, \"#fb9f3a\"], [0.8888888888888888, \"#fdca26\"], [1.0, \"#f0f921\"]], \"type\": \"histogram2dcontour\"}], \"mesh3d\": [{\"colorbar\": {\"outlinewidth\": 0, \"ticks\": \"\"}, \"type\": \"mesh3d\"}], \"parcoords\": [{\"line\": {\"colorbar\": {\"outlinewidth\": 0, \"ticks\": \"\"}}, \"type\": \"parcoords\"}], \"pie\": [{\"automargin\": true, \"type\": \"pie\"}], \"scatter\": [{\"marker\": {\"colorbar\": {\"outlinewidth\": 0, \"ticks\": \"\"}}, \"type\": \"scatter\"}], \"scatter3d\": [{\"line\": {\"colorbar\": {\"outlinewidth\": 0, \"ticks\": \"\"}}, \"marker\": {\"colorbar\": {\"outlinewidth\": 0, \"ticks\": \"\"}}, \"type\": \"scatter3d\"}], \"scattercarpet\": [{\"marker\": {\"colorbar\": {\"outlinewidth\": 0, \"ticks\": \"\"}}, \"type\": \"scattercarpet\"}], \"scattergeo\": [{\"marker\": {\"colorbar\": {\"outlinewidth\": 0, \"ticks\": \"\"}}, \"type\": \"scattergeo\"}], \"scattergl\": [{\"marker\": {\"colorbar\": {\"outlinewidth\": 0, \"ticks\": \"\"}}, \"type\": \"scattergl\"}], \"scattermapbox\": [{\"marker\": {\"colorbar\": {\"outlinewidth\": 0, \"ticks\": \"\"}}, \"type\": \"scattermapbox\"}], \"scatterpolar\": [{\"marker\": {\"colorbar\": {\"outlinewidth\": 0, \"ticks\": \"\"}}, \"type\": \"scatterpolar\"}], \"scatterpolargl\": [{\"marker\": {\"colorbar\": {\"outlinewidth\": 0, \"ticks\": \"\"}}, \"type\": \"scatterpolargl\"}], \"scatterternary\": [{\"marker\": {\"colorbar\": {\"outlinewidth\": 0, \"ticks\": \"\"}}, \"type\": \"scatterternary\"}], \"surface\": [{\"colorbar\": {\"outlinewidth\": 0, \"ticks\": \"\"}, \"colorscale\": [[0.0, \"#0d0887\"], [0.1111111111111111, \"#46039f\"], [0.2222222222222222, \"#7201a8\"], [0.3333333333333333, \"#9c179e\"], [0.4444444444444444, \"#bd3786\"], [0.5555555555555556, \"#d8576b\"], [0.6666666666666666, \"#ed7953\"], [0.7777777777777778, \"#fb9f3a\"], [0.8888888888888888, \"#fdca26\"], [1.0, \"#f0f921\"]], \"type\": \"surface\"}], \"table\": [{\"cells\": {\"fill\": {\"color\": \"#EBF0F8\"}, \"line\": {\"color\": \"white\"}}, \"header\": {\"fill\": {\"color\": \"#C8D4E3\"}, \"line\": {\"color\": \"white\"}}, \"type\": \"table\"}]}, \"layout\": {\"annotationdefaults\": {\"arrowcolor\": \"#2a3f5f\", \"arrowhead\": 0, \"arrowwidth\": 1}, \"coloraxis\": {\"colorbar\": {\"outlinewidth\": 0, \"ticks\": \"\"}}, \"colorscale\": {\"diverging\": [[0, \"#8e0152\"], [0.1, \"#c51b7d\"], [0.2, \"#de77ae\"], [0.3, \"#f1b6da\"], [0.4, \"#fde0ef\"], [0.5, \"#f7f7f7\"], [0.6, \"#e6f5d0\"], [0.7, \"#b8e186\"], [0.8, \"#7fbc41\"], [0.9, \"#4d9221\"], [1, \"#276419\"]], \"sequential\": [[0.0, \"#0d0887\"], [0.1111111111111111, \"#46039f\"], [0.2222222222222222, \"#7201a8\"], [0.3333333333333333, \"#9c179e\"], [0.4444444444444444, \"#bd3786\"], [0.5555555555555556, \"#d8576b\"], [0.6666666666666666, \"#ed7953\"], [0.7777777777777778, \"#fb9f3a\"], [0.8888888888888888, \"#fdca26\"], [1.0, \"#f0f921\"]], \"sequentialminus\": [[0.0, \"#0d0887\"], [0.1111111111111111, \"#46039f\"], [0.2222222222222222, \"#7201a8\"], [0.3333333333333333, \"#9c179e\"], [0.4444444444444444, \"#bd3786\"], [0.5555555555555556, \"#d8576b\"], [0.6666666666666666, \"#ed7953\"], [0.7777777777777778, \"#fb9f3a\"], [0.8888888888888888, \"#fdca26\"], [1.0, \"#f0f921\"]]}, \"colorway\": [\"#636efa\", \"#EF553B\", \"#00cc96\", \"#ab63fa\", \"#FFA15A\", \"#19d3f3\", \"#FF6692\", \"#B6E880\", \"#FF97FF\", \"#FECB52\"], \"font\": {\"color\": \"#2a3f5f\"}, \"geo\": {\"bgcolor\": \"white\", \"lakecolor\": \"white\", \"landcolor\": \"white\", \"showlakes\": true, \"showland\": true, \"subunitcolor\": \"#C8D4E3\"}, \"hoverlabel\": {\"align\": \"left\"}, \"hovermode\": \"closest\", \"mapbox\": {\"style\": \"light\"}, \"paper_bgcolor\": \"white\", \"plot_bgcolor\": \"white\", \"polar\": {\"angularaxis\": {\"gridcolor\": \"#EBF0F8\", \"linecolor\": \"#EBF0F8\", \"ticks\": \"\"}, \"bgcolor\": \"white\", \"radialaxis\": {\"gridcolor\": \"#EBF0F8\", \"linecolor\": \"#EBF0F8\", \"ticks\": \"\"}}, \"scene\": {\"xaxis\": {\"backgroundcolor\": \"white\", \"gridcolor\": \"#DFE8F3\", \"gridwidth\": 2, \"linecolor\": \"#EBF0F8\", \"showbackground\": true, \"ticks\": \"\", \"zerolinecolor\": \"#EBF0F8\"}, \"yaxis\": {\"backgroundcolor\": \"white\", \"gridcolor\": \"#DFE8F3\", \"gridwidth\": 2, \"linecolor\": \"#EBF0F8\", \"showbackground\": true, \"ticks\": \"\", \"zerolinecolor\": \"#EBF0F8\"}, \"zaxis\": {\"backgroundcolor\": \"white\", \"gridcolor\": \"#DFE8F3\", \"gridwidth\": 2, \"linecolor\": \"#EBF0F8\", \"showbackground\": true, \"ticks\": \"\", \"zerolinecolor\": \"#EBF0F8\"}}, \"shapedefaults\": {\"line\": {\"color\": \"#2a3f5f\"}}, \"ternary\": {\"aaxis\": {\"gridcolor\": \"#DFE8F3\", \"linecolor\": \"#A2B1C6\", \"ticks\": \"\"}, \"baxis\": {\"gridcolor\": \"#DFE8F3\", \"linecolor\": \"#A2B1C6\", \"ticks\": \"\"}, \"bgcolor\": \"white\", \"caxis\": {\"gridcolor\": \"#DFE8F3\", \"linecolor\": \"#A2B1C6\", \"ticks\": \"\"}}, \"title\": {\"x\": 0.05}, \"xaxis\": {\"automargin\": true, \"gridcolor\": \"#EBF0F8\", \"linecolor\": \"#EBF0F8\", \"ticks\": \"\", \"title\": {\"standoff\": 15}, \"zerolinecolor\": \"#EBF0F8\", \"zerolinewidth\": 2}, \"yaxis\": {\"automargin\": true, \"gridcolor\": \"#EBF0F8\", \"linecolor\": \"#EBF0F8\", \"ticks\": \"\", \"title\": {\"standoff\": 15}, \"zerolinecolor\": \"#EBF0F8\", \"zerolinewidth\": 2}}}, \"title\": {\"text\": \"Average Age of the Composition of the Houses Histogram\"}, \"updatemenus\": [{\"buttons\": [{\"args\": [null, {\"frame\": {\"duration\": 500, \"redraw\": false}, \"fromcurrent\": true, \"mode\": \"immediate\", \"transition\": {\"duration\": 500, \"easing\": \"linear\"}}], \"label\": \"&#9654;\", \"method\": \"animate\"}, {\"args\": [[null], {\"frame\": {\"duration\": 0, \"redraw\": false}, \"fromcurrent\": true, \"mode\": \"immediate\", \"transition\": {\"duration\": 0, \"easing\": \"linear\"}}], \"label\": \"&#9724;\", \"method\": \"animate\"}], \"direction\": \"left\", \"pad\": {\"r\": 10, \"t\": 70}, \"showactive\": false, \"type\": \"buttons\", \"x\": 0.1, \"xanchor\": \"right\", \"y\": 0, \"yanchor\": \"top\"}], \"xaxis\": {\"anchor\": \"y\", \"domain\": [0.0, 1.0], \"title\": {\"text\": \"AVG_Age\"}}, \"yaxis\": {\"anchor\": \"x\", \"domain\": [0.0, 1.0], \"title\": {\"text\": \"Amount\"}}},                        {\"responsive\": true}                    ).then(function(){\n",
       "                            Plotly.addFrames('b9d48988-65e9-40cb-931e-f8d86092ee4c', [{\"data\": [{\"customdata\": [[1, 1], [3, 3], [12, 12], [24, 24], [23, 23], [7, 7], [2, 2], [1, 1]], \"hovertemplate\": \"Nationality=Foreigners<br>Year=2014<br>AVG_Age=%{x}<br>Amount=%{y}<br>Neighborhood Name=%{customdata[0]}<br>Name_Dist=%{customdata[1]}<extra></extra>\", \"legendgroup\": \"Foreigners\", \"marker\": {\"color\": \"#3c096c\", \"symbol\": \"circle\"}, \"mode\": \"markers\", \"name\": \"Foreigners\", \"orientation\": \"v\", \"showlegend\": true, \"x\": [27, 29, 30, 31, 32, 33, 34, 35], \"xaxis\": \"x\", \"y\": [1, 3, 12, 24, 23, 7, 2, 1], \"yaxis\": \"y\", \"type\": \"scatter\"}, {\"customdata\": [[1, 1], [1, 1], [10, 10], [3, 3], [11, 11], [14, 14], [16, 16], [9, 9], [5, 5], [1, 1], [1, 1], [1, 1]], \"hovertemplate\": \"Nationality=Mixed<br>Year=2014<br>AVG_Age=%{x}<br>Amount=%{y}<br>Neighborhood Name=%{customdata[0]}<br>Name_Dist=%{customdata[1]}<extra></extra>\", \"legendgroup\": \"Mixed\", \"marker\": {\"color\": \"#84a59d\", \"symbol\": \"circle\"}, \"mode\": \"markers\", \"name\": \"Mixed\", \"orientation\": \"v\", \"showlegend\": true, \"x\": [29, 30, 31, 32, 33, 34, 35, 36, 37, 38, 39, 42], \"xaxis\": \"x\", \"y\": [1, 1, 10, 3, 11, 14, 16, 9, 5, 1, 1, 1], \"yaxis\": \"y\", \"type\": \"scatter\"}, {\"customdata\": [[1, 1], [3, 3], [4, 4], [2, 2], [5, 5], [8, 8], [6, 6], [16, 16], [18, 18], [5, 5], [3, 3], [1, 1], [1, 1]], \"hovertemplate\": \"Nationality=Spaniards<br>Year=2014<br>AVG_Age=%{x}<br>Amount=%{y}<br>Neighborhood Name=%{customdata[0]}<br>Name_Dist=%{customdata[1]}<extra></extra>\", \"legendgroup\": \"Spaniards\", \"marker\": {\"color\": \"#f6bd60\", \"symbol\": \"circle\"}, \"mode\": \"markers\", \"name\": \"Spaniards\", \"orientation\": \"v\", \"showlegend\": true, \"x\": [40, 41, 42, 43, 44, 45, 46, 47, 48, 49, 50, 51, 52], \"xaxis\": \"x\", \"y\": [1, 3, 4, 2, 5, 8, 6, 16, 18, 5, 3, 1, 1], \"yaxis\": \"y\", \"type\": \"scatter\"}], \"name\": \"2014\"}, {\"data\": [{\"customdata\": [[1, 1], [3, 3], [5, 5], [23, 23], [22, 22], [13, 13], [2, 2], [1, 1], [2, 2], [1, 1]], \"hovertemplate\": \"Nationality=Foreigners<br>Year=2015<br>AVG_Age=%{x}<br>Amount=%{y}<br>Neighborhood Name=%{customdata[0]}<br>Name_Dist=%{customdata[1]}<extra></extra>\", \"legendgroup\": \"Foreigners\", \"marker\": {\"color\": \"#3c096c\", \"symbol\": \"circle\"}, \"mode\": \"markers\", \"name\": \"Foreigners\", \"orientation\": \"v\", \"showlegend\": true, \"x\": [28, 29, 30, 31, 32, 33, 34, 35, 36, 37], \"xaxis\": \"x\", \"y\": [1, 3, 5, 23, 22, 13, 2, 1, 2, 1], \"yaxis\": \"y\", \"type\": \"scatter\"}, {\"customdata\": [[1, 1], [1, 1], [4, 4], [1, 1], [7, 7], [8, 8], [13, 13], [17, 17], [11, 11], [7, 7], [2, 2], [1, 1]], \"hovertemplate\": \"Nationality=Mixed<br>Year=2015<br>AVG_Age=%{x}<br>Amount=%{y}<br>Neighborhood Name=%{customdata[0]}<br>Name_Dist=%{customdata[1]}<extra></extra>\", \"legendgroup\": \"Mixed\", \"marker\": {\"color\": \"#84a59d\", \"symbol\": \"circle\"}, \"mode\": \"markers\", \"name\": \"Mixed\", \"orientation\": \"v\", \"showlegend\": true, \"x\": [27, 29, 30, 31, 32, 33, 34, 35, 36, 37, 39, 42], \"xaxis\": \"x\", \"y\": [1, 1, 4, 1, 7, 8, 13, 17, 11, 7, 2, 1], \"yaxis\": \"y\", \"type\": \"scatter\"}, {\"customdata\": [[1, 1], [3, 3], [4, 4], [3, 3], [2, 2], [8, 8], [7, 7], [15, 15], [17, 17], [9, 9], [2, 2], [1, 1], [1, 1]], \"hovertemplate\": \"Nationality=Spaniards<br>Year=2015<br>AVG_Age=%{x}<br>Amount=%{y}<br>Neighborhood Name=%{customdata[0]}<br>Name_Dist=%{customdata[1]}<extra></extra>\", \"legendgroup\": \"Spaniards\", \"marker\": {\"color\": \"#f6bd60\", \"symbol\": \"circle\"}, \"mode\": \"markers\", \"name\": \"Spaniards\", \"orientation\": \"v\", \"showlegend\": true, \"x\": [40, 41, 42, 43, 44, 45, 46, 47, 48, 49, 50, 51, 52], \"xaxis\": \"x\", \"y\": [1, 3, 4, 3, 2, 8, 7, 15, 17, 9, 2, 1, 1], \"yaxis\": \"y\", \"type\": \"scatter\"}], \"name\": \"2015\"}, {\"data\": [{\"customdata\": [[4, 4], [4, 4], [26, 26], [23, 23], [10, 10], [4, 4], [2, 2]], \"hovertemplate\": \"Nationality=Foreigners<br>Year=2016<br>AVG_Age=%{x}<br>Amount=%{y}<br>Neighborhood Name=%{customdata[0]}<br>Name_Dist=%{customdata[1]}<extra></extra>\", \"legendgroup\": \"Foreigners\", \"marker\": {\"color\": \"#3c096c\", \"symbol\": \"circle\"}, \"mode\": \"markers\", \"name\": \"Foreigners\", \"orientation\": \"v\", \"showlegend\": true, \"x\": [29, 30, 31, 32, 33, 34, 35], \"xaxis\": \"x\", \"y\": [4, 4, 26, 23, 10, 4, 2], \"yaxis\": \"y\", \"type\": \"scatter\"}, {\"customdata\": [[1, 1], [3, 3], [5, 5], [4, 4], [8, 8], [15, 15], [12, 12], [14, 14], [7, 7], [2, 2], [1, 1], [1, 1]], \"hovertemplate\": \"Nationality=Mixed<br>Year=2016<br>AVG_Age=%{x}<br>Amount=%{y}<br>Neighborhood Name=%{customdata[0]}<br>Name_Dist=%{customdata[1]}<extra></extra>\", \"legendgroup\": \"Mixed\", \"marker\": {\"color\": \"#84a59d\", \"symbol\": \"circle\"}, \"mode\": \"markers\", \"name\": \"Mixed\", \"orientation\": \"v\", \"showlegend\": true, \"x\": [27, 30, 31, 32, 33, 34, 35, 36, 37, 38, 40, 43], \"xaxis\": \"x\", \"y\": [1, 3, 5, 4, 8, 15, 12, 14, 7, 2, 1, 1], \"yaxis\": \"y\", \"type\": \"scatter\"}, {\"customdata\": [[1, 1], [4, 4], [3, 3], [2, 2], [4, 4], [7, 7], [7, 7], [13, 13], [17, 17], [10, 10], [3, 3], [2, 2]], \"hovertemplate\": \"Nationality=Spaniards<br>Year=2016<br>AVG_Age=%{x}<br>Amount=%{y}<br>Neighborhood Name=%{customdata[0]}<br>Name_Dist=%{customdata[1]}<extra></extra>\", \"legendgroup\": \"Spaniards\", \"marker\": {\"color\": \"#f6bd60\", \"symbol\": \"circle\"}, \"mode\": \"markers\", \"name\": \"Spaniards\", \"orientation\": \"v\", \"showlegend\": true, \"x\": [40, 41, 42, 43, 44, 45, 46, 47, 48, 49, 50, 51], \"xaxis\": \"x\", \"y\": [1, 4, 3, 2, 4, 7, 7, 13, 17, 10, 3, 2], \"yaxis\": \"y\", \"type\": \"scatter\"}], \"name\": \"2016\"}, {\"data\": [{\"customdata\": [[1, 1], [1, 1], [7, 7], [23, 23], [31, 31], [8, 8], [2, 2]], \"hovertemplate\": \"Nationality=Foreigners<br>Year=2018<br>AVG_Age=%{x}<br>Amount=%{y}<br>Neighborhood Name=%{customdata[0]}<br>Name_Dist=%{customdata[1]}<extra></extra>\", \"legendgroup\": \"Foreigners\", \"marker\": {\"color\": \"#3c096c\", \"symbol\": \"circle\"}, \"mode\": \"markers\", \"name\": \"Foreigners\", \"orientation\": \"v\", \"showlegend\": true, \"x\": [28, 29, 30, 31, 32, 33, 34], \"xaxis\": \"x\", \"y\": [1, 1, 7, 23, 31, 8, 2], \"yaxis\": \"y\", \"type\": \"scatter\"}, {\"customdata\": [[2, 2], [2, 2], [8, 8], [7, 7], [12, 12], [17, 17], [14, 14], [4, 4], [6, 6], [1, 1]], \"hovertemplate\": \"Nationality=Mixed<br>Year=2018<br>AVG_Age=%{x}<br>Amount=%{y}<br>Neighborhood Name=%{customdata[0]}<br>Name_Dist=%{customdata[1]}<extra></extra>\", \"legendgroup\": \"Mixed\", \"marker\": {\"color\": \"#84a59d\", \"symbol\": \"circle\"}, \"mode\": \"markers\", \"name\": \"Mixed\", \"orientation\": \"v\", \"showlegend\": true, \"x\": [30, 31, 32, 33, 34, 35, 36, 37, 38, 41], \"xaxis\": \"x\", \"y\": [2, 2, 8, 7, 12, 17, 14, 4, 6, 1], \"yaxis\": \"y\", \"type\": \"scatter\"}, {\"customdata\": [[1, 1], [2, 2], [2, 2], [4, 4], [4, 4], [5, 5], [6, 6], [9, 9], [16, 16], [18, 18], [5, 5], [1, 1]], \"hovertemplate\": \"Nationality=Spaniards<br>Year=2018<br>AVG_Age=%{x}<br>Amount=%{y}<br>Neighborhood Name=%{customdata[0]}<br>Name_Dist=%{customdata[1]}<extra></extra>\", \"legendgroup\": \"Spaniards\", \"marker\": {\"color\": \"#f6bd60\", \"symbol\": \"circle\"}, \"mode\": \"markers\", \"name\": \"Spaniards\", \"orientation\": \"v\", \"showlegend\": true, \"x\": [40, 41, 42, 43, 44, 45, 46, 47, 48, 49, 50, 51], \"xaxis\": \"x\", \"y\": [1, 2, 2, 4, 4, 5, 6, 9, 16, 18, 5, 1], \"yaxis\": \"y\", \"type\": \"scatter\"}], \"name\": \"2018\"}, {\"data\": [{\"customdata\": [[4, 4], [6, 6], [23, 23], [29, 29], [8, 8], [3, 3]], \"hovertemplate\": \"Nationality=Foreigners<br>Year=2017<br>AVG_Age=%{x}<br>Amount=%{y}<br>Neighborhood Name=%{customdata[0]}<br>Name_Dist=%{customdata[1]}<extra></extra>\", \"legendgroup\": \"Foreigners\", \"marker\": {\"color\": \"#3c096c\", \"symbol\": \"circle\"}, \"mode\": \"markers\", \"name\": \"Foreigners\", \"orientation\": \"v\", \"showlegend\": true, \"x\": [29, 30, 31, 32, 33, 34], \"xaxis\": \"x\", \"y\": [4, 6, 23, 29, 8, 3], \"yaxis\": \"y\", \"type\": \"scatter\"}, {\"customdata\": [[4, 4], [4, 4], [4, 4], [6, 6], [15, 15], [14, 14], [14, 14], [5, 5], [5, 5], [2, 2]], \"hovertemplate\": \"Nationality=Mixed<br>Year=2017<br>AVG_Age=%{x}<br>Amount=%{y}<br>Neighborhood Name=%{customdata[0]}<br>Name_Dist=%{customdata[1]}<extra></extra>\", \"legendgroup\": \"Mixed\", \"marker\": {\"color\": \"#84a59d\", \"symbol\": \"circle\"}, \"mode\": \"markers\", \"name\": \"Mixed\", \"orientation\": \"v\", \"showlegend\": true, \"x\": [30, 31, 32, 33, 34, 35, 36, 37, 38, 41], \"xaxis\": \"x\", \"y\": [4, 4, 4, 6, 15, 14, 14, 5, 5, 2], \"yaxis\": \"y\", \"type\": \"scatter\"}, {\"customdata\": [[1, 1], [3, 3], [2, 2], [4, 4], [4, 4], [5, 5], [7, 7], [11, 11], [16, 16], [14, 14], [4, 4], [2, 2]], \"hovertemplate\": \"Nationality=Spaniards<br>Year=2017<br>AVG_Age=%{x}<br>Amount=%{y}<br>Neighborhood Name=%{customdata[0]}<br>Name_Dist=%{customdata[1]}<extra></extra>\", \"legendgroup\": \"Spaniards\", \"marker\": {\"color\": \"#f6bd60\", \"symbol\": \"circle\"}, \"mode\": \"markers\", \"name\": \"Spaniards\", \"orientation\": \"v\", \"showlegend\": true, \"x\": [40, 41, 42, 43, 44, 45, 46, 47, 48, 49, 50, 51], \"xaxis\": \"x\", \"y\": [1, 3, 2, 4, 4, 5, 7, 11, 16, 14, 4, 2], \"yaxis\": \"y\", \"type\": \"scatter\"}], \"name\": \"2017\"}, {\"data\": [{\"customdata\": [[2, 2], [8, 8], [15, 15], [32, 32], [15, 15], [1, 1]], \"hovertemplate\": \"Nationality=Foreigners<br>Year=2019<br>AVG_Age=%{x}<br>Amount=%{y}<br>Neighborhood Name=%{customdata[0]}<br>Name_Dist=%{customdata[1]}<extra></extra>\", \"legendgroup\": \"Foreigners\", \"marker\": {\"color\": \"#3c096c\", \"symbol\": \"circle\"}, \"mode\": \"markers\", \"name\": \"Foreigners\", \"orientation\": \"v\", \"showlegend\": true, \"x\": [29, 30, 31, 32, 33, 34], \"xaxis\": \"x\", \"y\": [2, 8, 15, 32, 15, 1], \"yaxis\": \"y\", \"type\": \"scatter\"}, {\"customdata\": [[1, 1], [3, 3], [5, 5], [7, 7], [13, 13], [24, 24], [8, 8], [7, 7], [3, 3], [1, 1], [1, 1]], \"hovertemplate\": \"Nationality=Mixed<br>Year=2019<br>AVG_Age=%{x}<br>Amount=%{y}<br>Neighborhood Name=%{customdata[0]}<br>Name_Dist=%{customdata[1]}<extra></extra>\", \"legendgroup\": \"Mixed\", \"marker\": {\"color\": \"#84a59d\", \"symbol\": \"circle\"}, \"mode\": \"markers\", \"name\": \"Mixed\", \"orientation\": \"v\", \"showlegend\": true, \"x\": [30, 31, 32, 33, 34, 35, 36, 37, 38, 43, 45], \"xaxis\": \"x\", \"y\": [1, 3, 5, 7, 13, 24, 8, 7, 3, 1, 1], \"yaxis\": \"y\", \"type\": \"scatter\"}, {\"customdata\": [[1, 1], [2, 2], [1, 1], [3, 3], [5, 5], [5, 5], [6, 6], [6, 6], [19, 19], [18, 18], [6, 6], [1, 1]], \"hovertemplate\": \"Nationality=Spaniards<br>Year=2019<br>AVG_Age=%{x}<br>Amount=%{y}<br>Neighborhood Name=%{customdata[0]}<br>Name_Dist=%{customdata[1]}<extra></extra>\", \"legendgroup\": \"Spaniards\", \"marker\": {\"color\": \"#f6bd60\", \"symbol\": \"circle\"}, \"mode\": \"markers\", \"name\": \"Spaniards\", \"orientation\": \"v\", \"showlegend\": true, \"x\": [40, 41, 42, 43, 44, 45, 46, 47, 48, 49, 50, 51], \"xaxis\": \"x\", \"y\": [1, 2, 1, 3, 5, 5, 6, 6, 19, 18, 6, 1], \"yaxis\": \"y\", \"type\": \"scatter\"}], \"name\": \"2019\"}]);\n",
       "                        }).then(function(){\n",
       "                            \n",
       "var gd = document.getElementById('b9d48988-65e9-40cb-931e-f8d86092ee4c');\n",
       "var x = new MutationObserver(function (mutations, observer) {{\n",
       "        var display = window.getComputedStyle(gd).display;\n",
       "        if (!display || display === 'none') {{\n",
       "            console.log([gd, 'removed!']);\n",
       "            Plotly.purge(gd);\n",
       "            observer.disconnect();\n",
       "        }}\n",
       "}});\n",
       "\n",
       "// Listen for the removal of the full notebook cells\n",
       "var notebookContainer = gd.closest('#notebook-container');\n",
       "if (notebookContainer) {{\n",
       "    x.observe(notebookContainer, {childList: true});\n",
       "}}\n",
       "\n",
       "// Listen for the clearing of the current output cell\n",
       "var outputEl = gd.closest('.output');\n",
       "if (outputEl) {{\n",
       "    x.observe(outputEl, {childList: true});\n",
       "}}\n",
       "\n",
       "                        })                };                });            </script>        </div>"
      ]
     },
     "metadata": {},
     "output_type": "display_data"
    }
   ],
   "source": [
    "fig = px.scatter(a, x=\"AVG_Age\", y = \"Amount\", title=\"Average Age of the Composition of the Houses Histogram\"  ,\n",
    "             color_discrete_map=color_dict, color=\"Nationality\",  template=\"plotly_white\", animation_frame=\"Year\",\n",
    "             hover_data=['Name_NBHD','Name_Dist'], labels={'Name_NBHD':'Neighborhood Name'})\n",
    "\n",
    "fig.show()"
   ]
  },
  {
   "cell_type": "code",
   "execution_count": 9,
   "metadata": {},
   "outputs": [
    {
     "data": {
      "application/vnd.plotly.v1+json": {
       "config": {
        "plotlyServerURL": "https://plotly.com"
       },
       "data": [
        {
         "alignmentgroup": "True",
         "bingroup": "x",
         "hovertemplate": "Nationality=Spaniards<br>Amount=%{x}<br>count=%{y}<extra></extra>",
         "legendgroup": "Spaniards",
         "marker": {
          "color": "#f6bd60",
          "opacity": 0.5
         },
         "name": "Spaniards",
         "offsetgroup": "Spaniards",
         "orientation": "v",
         "showlegend": true,
         "type": "histogram",
         "x": [
          8025,
          3105,
          3896,
          5305,
          9533,
          16592,
          13111,
          13222,
          19127,
          12086,
          10332,
          408,
          9848,
          3298,
          4877,
          6543,
          7978,
          13643,
          16240,
          8226,
          3293,
          1233,
          7236,
          4742,
          7848,
          15201,
          9869,
          5305,
          2508,
          4461,
          16748,
          12163,
          8897,
          3125,
          12612,
          3379,
          10582,
          3988,
          2440,
          1829,
          2118,
          240,
          9364,
          8917,
          8564,
          4797,
          822,
          5606,
          2634,
          4596,
          4056,
          9060,
          2299,
          748,
          2542,
          385,
          2413,
          818,
          3793,
          21361,
          10013,
          4954,
          7507,
          12919,
          8792,
          4791,
          2640,
          10344,
          4136,
          6181,
          6769,
          9145,
          9898,
          8391,
          3268,
          4058,
          5526,
          9738,
          16973,
          13379,
          13572,
          19425,
          12387,
          10637,
          413,
          9963,
          3361,
          4981,
          6515,
          8026,
          13872,
          16351,
          8330,
          3342,
          1248,
          7378,
          4789,
          7890,
          15422,
          10013,
          5335,
          2550,
          4494,
          17061,
          12369,
          9021,
          3159,
          12777,
          3364,
          10771,
          4030,
          2458,
          1857,
          2119,
          235,
          9451,
          9016,
          8675,
          4851,
          821,
          5662,
          2648,
          4644,
          4139,
          9168,
          2327,
          747,
          2585,
          396,
          2471,
          824,
          3849,
          21414,
          10117,
          5033,
          7583,
          13154,
          8904,
          4798,
          2682,
          10617,
          4205,
          6333,
          6819,
          9232,
          10013,
          8529,
          3353,
          4184,
          5560,
          9820,
          17167,
          13526,
          13689,
          19562,
          12525,
          10853,
          398,
          10021,
          3383,
          5026,
          6433,
          8109,
          13985,
          16413,
          8386,
          3355,
          1241,
          7368,
          4792,
          7876,
          15415,
          10006,
          5342,
          2538,
          4503,
          17162,
          12415,
          9078,
          3163,
          12843,
          3366,
          10827,
          4034,
          2423,
          1878,
          2122,
          235,
          9465,
          9023,
          8734,
          4911,
          825,
          5669,
          2645,
          4686,
          4194,
          9211,
          2352,
          739,
          2591,
          396,
          2503,
          830,
          3862,
          21326,
          10127,
          5079,
          7591,
          13267,
          8978,
          4753,
          2679,
          10679,
          4266,
          6422,
          6855,
          9256,
          10105,
          8678,
          3473,
          4348,
          5661,
          9984,
          17397,
          13732,
          13838,
          19740,
          12706,
          11033,
          397,
          10048,
          3393,
          5077,
          6467,
          8187,
          14071,
          16471,
          8410,
          3379,
          1247,
          7380,
          4816,
          7945,
          15503,
          9984,
          5350,
          2547,
          4533,
          17465,
          12480,
          9112,
          3186,
          12856,
          3404,
          10912,
          4008,
          2433,
          1883,
          2091,
          225,
          9518,
          9080,
          8767,
          4956,
          823,
          5666,
          2652,
          4689,
          4210,
          9275,
          2388,
          732,
          2587,
          396,
          2506,
          833,
          3893,
          21340,
          10131,
          5128,
          7654,
          13411,
          9079,
          4745,
          2694,
          10751,
          4299,
          6492,
          6918,
          9338,
          10180,
          8815,
          3545,
          4412,
          5720,
          10068,
          17533,
          13831,
          13915,
          19885,
          12824,
          11068,
          398,
          10058,
          3414,
          5076,
          6478,
          8236,
          14112,
          16544,
          8426,
          3434,
          1254,
          7407,
          4793,
          7945,
          15499,
          9994,
          5432,
          2538,
          4537,
          17652,
          12540,
          9161,
          3188,
          12889,
          3411,
          10951,
          4039,
          2436,
          1868,
          2066,
          217,
          9566,
          9104,
          8745,
          4943,
          839,
          5682,
          2651,
          4697,
          4214,
          9339,
          2400,
          739,
          2596,
          407,
          2507,
          836,
          3983,
          21375,
          10168,
          5131,
          7656,
          13444,
          9112,
          4778,
          2718,
          10824,
          4310,
          6607,
          6911,
          9377,
          10203,
          8892,
          3665,
          4498,
          5747,
          10116,
          17651,
          13919,
          13978,
          19799,
          12837,
          11218,
          398,
          10085,
          3434,
          5091,
          6419,
          8285,
          14117,
          16491,
          8332,
          3419,
          1251,
          7368,
          4764,
          7879,
          15430,
          9973,
          5404,
          2510,
          4574,
          17636,
          12483,
          9193,
          3180,
          12821,
          3406,
          11018,
          4063,
          2479,
          1861,
          1961,
          193,
          9626,
          9088,
          8791,
          4965,
          845,
          5698,
          2653,
          4726,
          4265,
          9351,
          2446,
          716,
          2610,
          395,
          2512,
          847,
          4012,
          21337,
          10116,
          5120,
          7671,
          13508,
          9148,
          4813,
          2698,
          10800,
          4294,
          6646,
          6863,
          9429,
          10256
         ],
         "xaxis": "x",
         "yaxis": "y"
        },
        {
         "alignmentgroup": "True",
         "bingroup": "x",
         "hovertemplate": "Nationality=Foreigners<br>Amount=%{x}<br>count=%{y}<extra></extra>",
         "legendgroup": "Foreigners",
         "marker": {
          "color": "#3c096c",
          "opacity": 0.5
         },
         "name": "Foreigners",
         "offsetgroup": "Foreigners",
         "orientation": "v",
         "showlegend": true,
         "type": "histogram",
         "x": [
          5604,
          2336,
          2130,
          3291,
          1696,
          2684,
          3131,
          2662,
          2768,
          2017,
          2903,
          21,
          926,
          465,
          916,
          518,
          896,
          1552,
          1365,
          634,
          471,
          160,
          769,
          346,
          726,
          1625,
          1194,
          583,
          261,
          447,
          3391,
          1309,
          837,
          332,
          1124,
          123,
          961,
          367,
          191,
          130,
          96,
          17,
          494,
          611,
          650,
          548,
          35,
          188,
          52,
          621,
          448,
          676,
          261,
          84,
          520,
          42,
          518,
          51,
          253,
          843,
          665,
          372,
          624,
          1592,
          898,
          795,
          455,
          1751,
          764,
          1141,
          712,
          636,
          643,
          5297,
          2192,
          1983,
          3113,
          1581,
          2475,
          2864,
          2444,
          2529,
          1925,
          2715,
          20,
          815,
          423,
          863,
          468,
          830,
          1432,
          1262,
          606,
          474,
          145,
          724,
          327,
          632,
          1516,
          1122,
          554,
          257,
          415,
          3135,
          1202,
          768,
          290,
          1036,
          106,
          903,
          333,
          185,
          118,
          89,
          16,
          431,
          583,
          591,
          524,
          30,
          184,
          46,
          584,
          405,
          651,
          251,
          82,
          498,
          38,
          479,
          45,
          241,
          792,
          621,
          320,
          586,
          1451,
          854,
          710,
          434,
          1604,
          739,
          1060,
          637,
          594,
          618,
          4939,
          2026,
          1823,
          2882,
          1492,
          2267,
          2663,
          2272,
          2328,
          1783,
          2545,
          18,
          724,
          403,
          762,
          436,
          766,
          1380,
          1179,
          570,
          452,
          132,
          705,
          320,
          587,
          1443,
          1060,
          500,
          236,
          376,
          2926,
          1142,
          713,
          272,
          968,
          98,
          770,
          287,
          172,
          112,
          87,
          11,
          409,
          540,
          507,
          458,
          27,
          160,
          46,
          554,
          347,
          605,
          212,
          68,
          432,
          30,
          458,
          39,
          232,
          733,
          571,
          296,
          516,
          1319,
          791,
          688,
          418,
          1490,
          679,
          985,
          595,
          533,
          542,
          4552,
          1837,
          1603,
          2630,
          1329,
          2029,
          2394,
          2088,
          2159,
          1639,
          2352,
          18,
          654,
          378,
          700,
          409,
          709,
          1292,
          1068,
          522,
          414,
          120,
          667,
          276,
          544,
          1324,
          1009,
          446,
          227,
          362,
          2694,
          1021,
          676,
          247,
          887,
          85,
          710,
          265,
          143,
          96,
          89,
          10,
          391,
          538,
          476,
          417,
          22,
          148,
          46,
          500,
          323,
          567,
          206,
          66,
          417,
          26,
          441,
          37,
          215,
          608,
          549,
          293,
          478,
          1183,
          724,
          609,
          409,
          1344,
          586,
          887,
          543,
          472,
          460,
          4339,
          1767,
          1514,
          2485,
          1284,
          1898,
          2270,
          2025,
          2122,
          1573,
          2293,
          19,
          633,
          384,
          672,
          384,
          671,
          1272,
          1058,
          504,
          418,
          118,
          649,
          278,
          555,
          1259,
          948,
          447,
          224,
          355,
          2571,
          971,
          649,
          246,
          867,
          83,
          695,
          251,
          138,
          96,
          79,
          11,
          392,
          510,
          472,
          394,
          19,
          141,
          44,
          494,
          317,
          537,
          197,
          65,
          398,
          24,
          430,
          34,
          251,
          608,
          535,
          280,
          468,
          1146,
          686,
          590,
          392,
          1300,
          556,
          885,
          536,
          453,
          444,
          4423,
          1800,
          1470,
          2581,
          1368,
          1912,
          2350,
          2112,
          2163,
          1603,
          2309,
          18,
          650,
          410,
          692,
          419,
          714,
          1306,
          1092,
          503,
          408,
          121,
          676,
          299,
          576,
          1287,
          996,
          446,
          222,
          360,
          2669,
          1003,
          687,
          261,
          870,
          90,
          711,
          265,
          144,
          95,
          86,
          15,
          406,
          471,
          509,
          426,
          20,
          135,
          48,
          509,
          321,
          548,
          204,
          63,
          430,
          29,
          470,
          37,
          270,
          637,
          513,
          290,
          487,
          1152,
          699,
          630,
          419,
          1292,
          578,
          866,
          532,
          453,
          438
         ],
         "xaxis": "x",
         "yaxis": "y"
        },
        {
         "alignmentgroup": "True",
         "bingroup": "x",
         "hovertemplate": "Nationality=Mixed<br>Amount=%{x}<br>count=%{y}<extra></extra>",
         "legendgroup": "Mixed",
         "marker": {
          "color": "#84a59d",
          "opacity": 0.5
         },
         "name": "Mixed",
         "offsetgroup": "Mixed",
         "orientation": "v",
         "showlegend": true,
         "type": "histogram",
         "x": [
          3658,
          1175,
          936,
          1673,
          1596,
          2704,
          2337,
          2373,
          2906,
          2194,
          2750,
          33,
          1223,
          516,
          886,
          789,
          1157,
          1948,
          1604,
          858,
          442,
          226,
          871,
          514,
          886,
          1923,
          1252,
          667,
          361,
          545,
          2706,
          1481,
          1112,
          429,
          1730,
          244,
          1336,
          496,
          317,
          188,
          155,
          23,
          800,
          992,
          1044,
          897,
          78,
          416,
          124,
          774,
          590,
          1034,
          364,
          144,
          650,
          59,
          613,
          123,
          444,
          1623,
          1214,
          621,
          932,
          1908,
          1117,
          797,
          430,
          1605,
          520,
          1025,
          831,
          890,
          914,
          3524,
          1105,
          876,
          1599,
          1512,
          2533,
          2276,
          2252,
          2765,
          2082,
          2590,
          29,
          1141,
          493,
          822,
          681,
          1089,
          1821,
          1475,
          802,
          418,
          212,
          826,
          485,
          859,
          1819,
          1160,
          632,
          322,
          515,
          2571,
          1380,
          1060,
          383,
          1615,
          240,
          1193,
          455,
          287,
          164,
          143,
          21,
          728,
          926,
          949,
          838,
          74,
          374,
          114,
          697,
          563,
          932,
          335,
          135,
          586,
          55,
          555,
          108,
          397,
          1528,
          1113,
          554,
          878,
          1746,
          1036,
          754,
          400,
          1509,
          512,
          911,
          750,
          801,
          838,
          3622,
          1158,
          904,
          1712,
          1526,
          2486,
          2331,
          2262,
          2753,
          2106,
          2619,
          31,
          1118,
          500,
          836,
          667,
          1054,
          1820,
          1445,
          777,
          427,
          208,
          831,
          481,
          887,
          1825,
          1167,
          621,
          319,
          512,
          2655,
          1374,
          1038,
          369,
          1529,
          230,
          1143,
          452,
          268,
          150,
          143,
          18,
          715,
          919,
          922,
          814,
          69,
          364,
          108,
          664,
          537,
          884,
          299,
          134,
          585,
          51,
          530,
          101,
          375,
          1491,
          1078,
          541,
          895,
          1732,
          1005,
          721,
          423,
          1478,
          542,
          884,
          696,
          809,
          805,
          3621,
          1140,
          899,
          1663,
          1492,
          2418,
          2265,
          2178,
          2616,
          2038,
          2598,
          27,
          1078,
          495,
          834,
          654,
          1023,
          1788,
          1369,
          740,
          398,
          196,
          820,
          494,
          862,
          1762,
          1164,
          619,
          305,
          497,
          2594,
          1338,
          986,
          346,
          1518,
          200,
          1084,
          400,
          250,
          133,
          132,
          18,
          664,
          875,
          868,
          791,
          68,
          346,
          103,
          642,
          489,
          850,
          282,
          133,
          540,
          48,
          526,
          93,
          352,
          1415,
          1016,
          496,
          832,
          1676,
          964,
          683,
          417,
          1467,
          542,
          888,
          678,
          774,
          773,
          3622,
          1149,
          894,
          1664,
          1528,
          2419,
          2207,
          2141,
          2547,
          2005,
          2608,
          25,
          1081,
          482,
          806,
          656,
          1026,
          1819,
          1402,
          729,
          373,
          193,
          787,
          509,
          852,
          1758,
          1167,
          582,
          307,
          505,
          2604,
          1269,
          965,
          342,
          1473,
          203,
          1059,
          397,
          221,
          142,
          132,
          21,
          703,
          877,
          926,
          816,
          68,
          341,
          108,
          645,
          506,
          850,
          282,
          131,
          549,
          47,
          534,
          83,
          384,
          1380,
          1027,
          505,
          836,
          1644,
          980,
          665,
          391,
          1443,
          546,
          926,
          646,
          759,
          762,
          3685,
          1173,
          913,
          1693,
          1494,
          2456,
          2249,
          2192,
          2599,
          2019,
          2565,
          31,
          1049,
          491,
          796,
          667,
          1013,
          1884,
          1456,
          774,
          397,
          196,
          835,
          507,
          881,
          1781,
          1179,
          602,
          313,
          501,
          2634,
          1309,
          974,
          316,
          1418,
          196,
          1064,
          401,
          236,
          153,
          140,
          18,
          690,
          883,
          875,
          798,
          68,
          345,
          109,
          634,
          470,
          821,
          275,
          115,
          548,
          49,
          524,
          79,
          374,
          1385,
          1061,
          509,
          799,
          1629,
          956,
          644,
          431,
          1459,
          566,
          891,
          659,
          741,
          782
         ],
         "xaxis": "x",
         "yaxis": "y"
        }
       ],
       "layout": {
        "barmode": "overlay",
        "legend": {
         "title": {
          "text": "Nationality"
         },
         "tracegroupgap": 0
        },
        "template": {
         "data": {
          "bar": [
           {
            "error_x": {
             "color": "#2a3f5f"
            },
            "error_y": {
             "color": "#2a3f5f"
            },
            "marker": {
             "line": {
              "color": "white",
              "width": 0.5
             }
            },
            "type": "bar"
           }
          ],
          "barpolar": [
           {
            "marker": {
             "line": {
              "color": "white",
              "width": 0.5
             }
            },
            "type": "barpolar"
           }
          ],
          "carpet": [
           {
            "aaxis": {
             "endlinecolor": "#2a3f5f",
             "gridcolor": "#C8D4E3",
             "linecolor": "#C8D4E3",
             "minorgridcolor": "#C8D4E3",
             "startlinecolor": "#2a3f5f"
            },
            "baxis": {
             "endlinecolor": "#2a3f5f",
             "gridcolor": "#C8D4E3",
             "linecolor": "#C8D4E3",
             "minorgridcolor": "#C8D4E3",
             "startlinecolor": "#2a3f5f"
            },
            "type": "carpet"
           }
          ],
          "choropleth": [
           {
            "colorbar": {
             "outlinewidth": 0,
             "ticks": ""
            },
            "type": "choropleth"
           }
          ],
          "contour": [
           {
            "colorbar": {
             "outlinewidth": 0,
             "ticks": ""
            },
            "colorscale": [
             [
              0,
              "#0d0887"
             ],
             [
              0.1111111111111111,
              "#46039f"
             ],
             [
              0.2222222222222222,
              "#7201a8"
             ],
             [
              0.3333333333333333,
              "#9c179e"
             ],
             [
              0.4444444444444444,
              "#bd3786"
             ],
             [
              0.5555555555555556,
              "#d8576b"
             ],
             [
              0.6666666666666666,
              "#ed7953"
             ],
             [
              0.7777777777777778,
              "#fb9f3a"
             ],
             [
              0.8888888888888888,
              "#fdca26"
             ],
             [
              1,
              "#f0f921"
             ]
            ],
            "type": "contour"
           }
          ],
          "contourcarpet": [
           {
            "colorbar": {
             "outlinewidth": 0,
             "ticks": ""
            },
            "type": "contourcarpet"
           }
          ],
          "heatmap": [
           {
            "colorbar": {
             "outlinewidth": 0,
             "ticks": ""
            },
            "colorscale": [
             [
              0,
              "#0d0887"
             ],
             [
              0.1111111111111111,
              "#46039f"
             ],
             [
              0.2222222222222222,
              "#7201a8"
             ],
             [
              0.3333333333333333,
              "#9c179e"
             ],
             [
              0.4444444444444444,
              "#bd3786"
             ],
             [
              0.5555555555555556,
              "#d8576b"
             ],
             [
              0.6666666666666666,
              "#ed7953"
             ],
             [
              0.7777777777777778,
              "#fb9f3a"
             ],
             [
              0.8888888888888888,
              "#fdca26"
             ],
             [
              1,
              "#f0f921"
             ]
            ],
            "type": "heatmap"
           }
          ],
          "heatmapgl": [
           {
            "colorbar": {
             "outlinewidth": 0,
             "ticks": ""
            },
            "colorscale": [
             [
              0,
              "#0d0887"
             ],
             [
              0.1111111111111111,
              "#46039f"
             ],
             [
              0.2222222222222222,
              "#7201a8"
             ],
             [
              0.3333333333333333,
              "#9c179e"
             ],
             [
              0.4444444444444444,
              "#bd3786"
             ],
             [
              0.5555555555555556,
              "#d8576b"
             ],
             [
              0.6666666666666666,
              "#ed7953"
             ],
             [
              0.7777777777777778,
              "#fb9f3a"
             ],
             [
              0.8888888888888888,
              "#fdca26"
             ],
             [
              1,
              "#f0f921"
             ]
            ],
            "type": "heatmapgl"
           }
          ],
          "histogram": [
           {
            "marker": {
             "colorbar": {
              "outlinewidth": 0,
              "ticks": ""
             }
            },
            "type": "histogram"
           }
          ],
          "histogram2d": [
           {
            "colorbar": {
             "outlinewidth": 0,
             "ticks": ""
            },
            "colorscale": [
             [
              0,
              "#0d0887"
             ],
             [
              0.1111111111111111,
              "#46039f"
             ],
             [
              0.2222222222222222,
              "#7201a8"
             ],
             [
              0.3333333333333333,
              "#9c179e"
             ],
             [
              0.4444444444444444,
              "#bd3786"
             ],
             [
              0.5555555555555556,
              "#d8576b"
             ],
             [
              0.6666666666666666,
              "#ed7953"
             ],
             [
              0.7777777777777778,
              "#fb9f3a"
             ],
             [
              0.8888888888888888,
              "#fdca26"
             ],
             [
              1,
              "#f0f921"
             ]
            ],
            "type": "histogram2d"
           }
          ],
          "histogram2dcontour": [
           {
            "colorbar": {
             "outlinewidth": 0,
             "ticks": ""
            },
            "colorscale": [
             [
              0,
              "#0d0887"
             ],
             [
              0.1111111111111111,
              "#46039f"
             ],
             [
              0.2222222222222222,
              "#7201a8"
             ],
             [
              0.3333333333333333,
              "#9c179e"
             ],
             [
              0.4444444444444444,
              "#bd3786"
             ],
             [
              0.5555555555555556,
              "#d8576b"
             ],
             [
              0.6666666666666666,
              "#ed7953"
             ],
             [
              0.7777777777777778,
              "#fb9f3a"
             ],
             [
              0.8888888888888888,
              "#fdca26"
             ],
             [
              1,
              "#f0f921"
             ]
            ],
            "type": "histogram2dcontour"
           }
          ],
          "mesh3d": [
           {
            "colorbar": {
             "outlinewidth": 0,
             "ticks": ""
            },
            "type": "mesh3d"
           }
          ],
          "parcoords": [
           {
            "line": {
             "colorbar": {
              "outlinewidth": 0,
              "ticks": ""
             }
            },
            "type": "parcoords"
           }
          ],
          "pie": [
           {
            "automargin": true,
            "type": "pie"
           }
          ],
          "scatter": [
           {
            "marker": {
             "colorbar": {
              "outlinewidth": 0,
              "ticks": ""
             }
            },
            "type": "scatter"
           }
          ],
          "scatter3d": [
           {
            "line": {
             "colorbar": {
              "outlinewidth": 0,
              "ticks": ""
             }
            },
            "marker": {
             "colorbar": {
              "outlinewidth": 0,
              "ticks": ""
             }
            },
            "type": "scatter3d"
           }
          ],
          "scattercarpet": [
           {
            "marker": {
             "colorbar": {
              "outlinewidth": 0,
              "ticks": ""
             }
            },
            "type": "scattercarpet"
           }
          ],
          "scattergeo": [
           {
            "marker": {
             "colorbar": {
              "outlinewidth": 0,
              "ticks": ""
             }
            },
            "type": "scattergeo"
           }
          ],
          "scattergl": [
           {
            "marker": {
             "colorbar": {
              "outlinewidth": 0,
              "ticks": ""
             }
            },
            "type": "scattergl"
           }
          ],
          "scattermapbox": [
           {
            "marker": {
             "colorbar": {
              "outlinewidth": 0,
              "ticks": ""
             }
            },
            "type": "scattermapbox"
           }
          ],
          "scatterpolar": [
           {
            "marker": {
             "colorbar": {
              "outlinewidth": 0,
              "ticks": ""
             }
            },
            "type": "scatterpolar"
           }
          ],
          "scatterpolargl": [
           {
            "marker": {
             "colorbar": {
              "outlinewidth": 0,
              "ticks": ""
             }
            },
            "type": "scatterpolargl"
           }
          ],
          "scatterternary": [
           {
            "marker": {
             "colorbar": {
              "outlinewidth": 0,
              "ticks": ""
             }
            },
            "type": "scatterternary"
           }
          ],
          "surface": [
           {
            "colorbar": {
             "outlinewidth": 0,
             "ticks": ""
            },
            "colorscale": [
             [
              0,
              "#0d0887"
             ],
             [
              0.1111111111111111,
              "#46039f"
             ],
             [
              0.2222222222222222,
              "#7201a8"
             ],
             [
              0.3333333333333333,
              "#9c179e"
             ],
             [
              0.4444444444444444,
              "#bd3786"
             ],
             [
              0.5555555555555556,
              "#d8576b"
             ],
             [
              0.6666666666666666,
              "#ed7953"
             ],
             [
              0.7777777777777778,
              "#fb9f3a"
             ],
             [
              0.8888888888888888,
              "#fdca26"
             ],
             [
              1,
              "#f0f921"
             ]
            ],
            "type": "surface"
           }
          ],
          "table": [
           {
            "cells": {
             "fill": {
              "color": "#EBF0F8"
             },
             "line": {
              "color": "white"
             }
            },
            "header": {
             "fill": {
              "color": "#C8D4E3"
             },
             "line": {
              "color": "white"
             }
            },
            "type": "table"
           }
          ]
         },
         "layout": {
          "annotationdefaults": {
           "arrowcolor": "#2a3f5f",
           "arrowhead": 0,
           "arrowwidth": 1
          },
          "coloraxis": {
           "colorbar": {
            "outlinewidth": 0,
            "ticks": ""
           }
          },
          "colorscale": {
           "diverging": [
            [
             0,
             "#8e0152"
            ],
            [
             0.1,
             "#c51b7d"
            ],
            [
             0.2,
             "#de77ae"
            ],
            [
             0.3,
             "#f1b6da"
            ],
            [
             0.4,
             "#fde0ef"
            ],
            [
             0.5,
             "#f7f7f7"
            ],
            [
             0.6,
             "#e6f5d0"
            ],
            [
             0.7,
             "#b8e186"
            ],
            [
             0.8,
             "#7fbc41"
            ],
            [
             0.9,
             "#4d9221"
            ],
            [
             1,
             "#276419"
            ]
           ],
           "sequential": [
            [
             0,
             "#0d0887"
            ],
            [
             0.1111111111111111,
             "#46039f"
            ],
            [
             0.2222222222222222,
             "#7201a8"
            ],
            [
             0.3333333333333333,
             "#9c179e"
            ],
            [
             0.4444444444444444,
             "#bd3786"
            ],
            [
             0.5555555555555556,
             "#d8576b"
            ],
            [
             0.6666666666666666,
             "#ed7953"
            ],
            [
             0.7777777777777778,
             "#fb9f3a"
            ],
            [
             0.8888888888888888,
             "#fdca26"
            ],
            [
             1,
             "#f0f921"
            ]
           ],
           "sequentialminus": [
            [
             0,
             "#0d0887"
            ],
            [
             0.1111111111111111,
             "#46039f"
            ],
            [
             0.2222222222222222,
             "#7201a8"
            ],
            [
             0.3333333333333333,
             "#9c179e"
            ],
            [
             0.4444444444444444,
             "#bd3786"
            ],
            [
             0.5555555555555556,
             "#d8576b"
            ],
            [
             0.6666666666666666,
             "#ed7953"
            ],
            [
             0.7777777777777778,
             "#fb9f3a"
            ],
            [
             0.8888888888888888,
             "#fdca26"
            ],
            [
             1,
             "#f0f921"
            ]
           ]
          },
          "colorway": [
           "#636efa",
           "#EF553B",
           "#00cc96",
           "#ab63fa",
           "#FFA15A",
           "#19d3f3",
           "#FF6692",
           "#B6E880",
           "#FF97FF",
           "#FECB52"
          ],
          "font": {
           "color": "#2a3f5f"
          },
          "geo": {
           "bgcolor": "white",
           "lakecolor": "white",
           "landcolor": "white",
           "showlakes": true,
           "showland": true,
           "subunitcolor": "#C8D4E3"
          },
          "hoverlabel": {
           "align": "left"
          },
          "hovermode": "closest",
          "mapbox": {
           "style": "light"
          },
          "paper_bgcolor": "white",
          "plot_bgcolor": "white",
          "polar": {
           "angularaxis": {
            "gridcolor": "#EBF0F8",
            "linecolor": "#EBF0F8",
            "ticks": ""
           },
           "bgcolor": "white",
           "radialaxis": {
            "gridcolor": "#EBF0F8",
            "linecolor": "#EBF0F8",
            "ticks": ""
           }
          },
          "scene": {
           "xaxis": {
            "backgroundcolor": "white",
            "gridcolor": "#DFE8F3",
            "gridwidth": 2,
            "linecolor": "#EBF0F8",
            "showbackground": true,
            "ticks": "",
            "zerolinecolor": "#EBF0F8"
           },
           "yaxis": {
            "backgroundcolor": "white",
            "gridcolor": "#DFE8F3",
            "gridwidth": 2,
            "linecolor": "#EBF0F8",
            "showbackground": true,
            "ticks": "",
            "zerolinecolor": "#EBF0F8"
           },
           "zaxis": {
            "backgroundcolor": "white",
            "gridcolor": "#DFE8F3",
            "gridwidth": 2,
            "linecolor": "#EBF0F8",
            "showbackground": true,
            "ticks": "",
            "zerolinecolor": "#EBF0F8"
           }
          },
          "shapedefaults": {
           "line": {
            "color": "#2a3f5f"
           }
          },
          "ternary": {
           "aaxis": {
            "gridcolor": "#DFE8F3",
            "linecolor": "#A2B1C6",
            "ticks": ""
           },
           "baxis": {
            "gridcolor": "#DFE8F3",
            "linecolor": "#A2B1C6",
            "ticks": ""
           },
           "bgcolor": "white",
           "caxis": {
            "gridcolor": "#DFE8F3",
            "linecolor": "#A2B1C6",
            "ticks": ""
           }
          },
          "title": {
           "x": 0.05
          },
          "xaxis": {
           "automargin": true,
           "gridcolor": "#EBF0F8",
           "linecolor": "#EBF0F8",
           "ticks": "",
           "title": {
            "standoff": 15
           },
           "zerolinecolor": "#EBF0F8",
           "zerolinewidth": 2
          },
          "yaxis": {
           "automargin": true,
           "gridcolor": "#EBF0F8",
           "linecolor": "#EBF0F8",
           "ticks": "",
           "title": {
            "standoff": 15
           },
           "zerolinecolor": "#EBF0F8",
           "zerolinewidth": 2
          }
         }
        },
        "title": {
         "text": "Amount of People"
        },
        "xaxis": {
         "anchor": "y",
         "domain": [
          0,
          1
         ],
         "title": {
          "text": "Amount"
         }
        },
        "yaxis": {
         "anchor": "x",
         "domain": [
          0,
          1
         ],
         "title": {
          "text": "count"
         }
        }
       }
      },
      "text/html": [
       "<div>                            <div id=\"a486c54f-02c7-450a-a3c2-ead095c33fd6\" class=\"plotly-graph-div\" style=\"height:525px; width:100%;\"></div>            <script type=\"text/javascript\">                require([\"plotly\"], function(Plotly) {                    window.PLOTLYENV=window.PLOTLYENV || {};                                    if (document.getElementById(\"a486c54f-02c7-450a-a3c2-ead095c33fd6\")) {                    Plotly.newPlot(                        \"a486c54f-02c7-450a-a3c2-ead095c33fd6\",                        [{\"alignmentgroup\": \"True\", \"bingroup\": \"x\", \"hovertemplate\": \"Nationality=Spaniards<br>Amount=%{x}<br>count=%{y}<extra></extra>\", \"legendgroup\": \"Spaniards\", \"marker\": {\"color\": \"#f6bd60\", \"opacity\": 0.5}, \"name\": \"Spaniards\", \"offsetgroup\": \"Spaniards\", \"orientation\": \"v\", \"showlegend\": true, \"type\": \"histogram\", \"x\": [8025, 3105, 3896, 5305, 9533, 16592, 13111, 13222, 19127, 12086, 10332, 408, 9848, 3298, 4877, 6543, 7978, 13643, 16240, 8226, 3293, 1233, 7236, 4742, 7848, 15201, 9869, 5305, 2508, 4461, 16748, 12163, 8897, 3125, 12612, 3379, 10582, 3988, 2440, 1829, 2118, 240, 9364, 8917, 8564, 4797, 822, 5606, 2634, 4596, 4056, 9060, 2299, 748, 2542, 385, 2413, 818, 3793, 21361, 10013, 4954, 7507, 12919, 8792, 4791, 2640, 10344, 4136, 6181, 6769, 9145, 9898, 8391, 3268, 4058, 5526, 9738, 16973, 13379, 13572, 19425, 12387, 10637, 413, 9963, 3361, 4981, 6515, 8026, 13872, 16351, 8330, 3342, 1248, 7378, 4789, 7890, 15422, 10013, 5335, 2550, 4494, 17061, 12369, 9021, 3159, 12777, 3364, 10771, 4030, 2458, 1857, 2119, 235, 9451, 9016, 8675, 4851, 821, 5662, 2648, 4644, 4139, 9168, 2327, 747, 2585, 396, 2471, 824, 3849, 21414, 10117, 5033, 7583, 13154, 8904, 4798, 2682, 10617, 4205, 6333, 6819, 9232, 10013, 8529, 3353, 4184, 5560, 9820, 17167, 13526, 13689, 19562, 12525, 10853, 398, 10021, 3383, 5026, 6433, 8109, 13985, 16413, 8386, 3355, 1241, 7368, 4792, 7876, 15415, 10006, 5342, 2538, 4503, 17162, 12415, 9078, 3163, 12843, 3366, 10827, 4034, 2423, 1878, 2122, 235, 9465, 9023, 8734, 4911, 825, 5669, 2645, 4686, 4194, 9211, 2352, 739, 2591, 396, 2503, 830, 3862, 21326, 10127, 5079, 7591, 13267, 8978, 4753, 2679, 10679, 4266, 6422, 6855, 9256, 10105, 8678, 3473, 4348, 5661, 9984, 17397, 13732, 13838, 19740, 12706, 11033, 397, 10048, 3393, 5077, 6467, 8187, 14071, 16471, 8410, 3379, 1247, 7380, 4816, 7945, 15503, 9984, 5350, 2547, 4533, 17465, 12480, 9112, 3186, 12856, 3404, 10912, 4008, 2433, 1883, 2091, 225, 9518, 9080, 8767, 4956, 823, 5666, 2652, 4689, 4210, 9275, 2388, 732, 2587, 396, 2506, 833, 3893, 21340, 10131, 5128, 7654, 13411, 9079, 4745, 2694, 10751, 4299, 6492, 6918, 9338, 10180, 8815, 3545, 4412, 5720, 10068, 17533, 13831, 13915, 19885, 12824, 11068, 398, 10058, 3414, 5076, 6478, 8236, 14112, 16544, 8426, 3434, 1254, 7407, 4793, 7945, 15499, 9994, 5432, 2538, 4537, 17652, 12540, 9161, 3188, 12889, 3411, 10951, 4039, 2436, 1868, 2066, 217, 9566, 9104, 8745, 4943, 839, 5682, 2651, 4697, 4214, 9339, 2400, 739, 2596, 407, 2507, 836, 3983, 21375, 10168, 5131, 7656, 13444, 9112, 4778, 2718, 10824, 4310, 6607, 6911, 9377, 10203, 8892, 3665, 4498, 5747, 10116, 17651, 13919, 13978, 19799, 12837, 11218, 398, 10085, 3434, 5091, 6419, 8285, 14117, 16491, 8332, 3419, 1251, 7368, 4764, 7879, 15430, 9973, 5404, 2510, 4574, 17636, 12483, 9193, 3180, 12821, 3406, 11018, 4063, 2479, 1861, 1961, 193, 9626, 9088, 8791, 4965, 845, 5698, 2653, 4726, 4265, 9351, 2446, 716, 2610, 395, 2512, 847, 4012, 21337, 10116, 5120, 7671, 13508, 9148, 4813, 2698, 10800, 4294, 6646, 6863, 9429, 10256], \"xaxis\": \"x\", \"yaxis\": \"y\"}, {\"alignmentgroup\": \"True\", \"bingroup\": \"x\", \"hovertemplate\": \"Nationality=Foreigners<br>Amount=%{x}<br>count=%{y}<extra></extra>\", \"legendgroup\": \"Foreigners\", \"marker\": {\"color\": \"#3c096c\", \"opacity\": 0.5}, \"name\": \"Foreigners\", \"offsetgroup\": \"Foreigners\", \"orientation\": \"v\", \"showlegend\": true, \"type\": \"histogram\", \"x\": [5604, 2336, 2130, 3291, 1696, 2684, 3131, 2662, 2768, 2017, 2903, 21, 926, 465, 916, 518, 896, 1552, 1365, 634, 471, 160, 769, 346, 726, 1625, 1194, 583, 261, 447, 3391, 1309, 837, 332, 1124, 123, 961, 367, 191, 130, 96, 17, 494, 611, 650, 548, 35, 188, 52, 621, 448, 676, 261, 84, 520, 42, 518, 51, 253, 843, 665, 372, 624, 1592, 898, 795, 455, 1751, 764, 1141, 712, 636, 643, 5297, 2192, 1983, 3113, 1581, 2475, 2864, 2444, 2529, 1925, 2715, 20, 815, 423, 863, 468, 830, 1432, 1262, 606, 474, 145, 724, 327, 632, 1516, 1122, 554, 257, 415, 3135, 1202, 768, 290, 1036, 106, 903, 333, 185, 118, 89, 16, 431, 583, 591, 524, 30, 184, 46, 584, 405, 651, 251, 82, 498, 38, 479, 45, 241, 792, 621, 320, 586, 1451, 854, 710, 434, 1604, 739, 1060, 637, 594, 618, 4939, 2026, 1823, 2882, 1492, 2267, 2663, 2272, 2328, 1783, 2545, 18, 724, 403, 762, 436, 766, 1380, 1179, 570, 452, 132, 705, 320, 587, 1443, 1060, 500, 236, 376, 2926, 1142, 713, 272, 968, 98, 770, 287, 172, 112, 87, 11, 409, 540, 507, 458, 27, 160, 46, 554, 347, 605, 212, 68, 432, 30, 458, 39, 232, 733, 571, 296, 516, 1319, 791, 688, 418, 1490, 679, 985, 595, 533, 542, 4552, 1837, 1603, 2630, 1329, 2029, 2394, 2088, 2159, 1639, 2352, 18, 654, 378, 700, 409, 709, 1292, 1068, 522, 414, 120, 667, 276, 544, 1324, 1009, 446, 227, 362, 2694, 1021, 676, 247, 887, 85, 710, 265, 143, 96, 89, 10, 391, 538, 476, 417, 22, 148, 46, 500, 323, 567, 206, 66, 417, 26, 441, 37, 215, 608, 549, 293, 478, 1183, 724, 609, 409, 1344, 586, 887, 543, 472, 460, 4339, 1767, 1514, 2485, 1284, 1898, 2270, 2025, 2122, 1573, 2293, 19, 633, 384, 672, 384, 671, 1272, 1058, 504, 418, 118, 649, 278, 555, 1259, 948, 447, 224, 355, 2571, 971, 649, 246, 867, 83, 695, 251, 138, 96, 79, 11, 392, 510, 472, 394, 19, 141, 44, 494, 317, 537, 197, 65, 398, 24, 430, 34, 251, 608, 535, 280, 468, 1146, 686, 590, 392, 1300, 556, 885, 536, 453, 444, 4423, 1800, 1470, 2581, 1368, 1912, 2350, 2112, 2163, 1603, 2309, 18, 650, 410, 692, 419, 714, 1306, 1092, 503, 408, 121, 676, 299, 576, 1287, 996, 446, 222, 360, 2669, 1003, 687, 261, 870, 90, 711, 265, 144, 95, 86, 15, 406, 471, 509, 426, 20, 135, 48, 509, 321, 548, 204, 63, 430, 29, 470, 37, 270, 637, 513, 290, 487, 1152, 699, 630, 419, 1292, 578, 866, 532, 453, 438], \"xaxis\": \"x\", \"yaxis\": \"y\"}, {\"alignmentgroup\": \"True\", \"bingroup\": \"x\", \"hovertemplate\": \"Nationality=Mixed<br>Amount=%{x}<br>count=%{y}<extra></extra>\", \"legendgroup\": \"Mixed\", \"marker\": {\"color\": \"#84a59d\", \"opacity\": 0.5}, \"name\": \"Mixed\", \"offsetgroup\": \"Mixed\", \"orientation\": \"v\", \"showlegend\": true, \"type\": \"histogram\", \"x\": [3658, 1175, 936, 1673, 1596, 2704, 2337, 2373, 2906, 2194, 2750, 33, 1223, 516, 886, 789, 1157, 1948, 1604, 858, 442, 226, 871, 514, 886, 1923, 1252, 667, 361, 545, 2706, 1481, 1112, 429, 1730, 244, 1336, 496, 317, 188, 155, 23, 800, 992, 1044, 897, 78, 416, 124, 774, 590, 1034, 364, 144, 650, 59, 613, 123, 444, 1623, 1214, 621, 932, 1908, 1117, 797, 430, 1605, 520, 1025, 831, 890, 914, 3524, 1105, 876, 1599, 1512, 2533, 2276, 2252, 2765, 2082, 2590, 29, 1141, 493, 822, 681, 1089, 1821, 1475, 802, 418, 212, 826, 485, 859, 1819, 1160, 632, 322, 515, 2571, 1380, 1060, 383, 1615, 240, 1193, 455, 287, 164, 143, 21, 728, 926, 949, 838, 74, 374, 114, 697, 563, 932, 335, 135, 586, 55, 555, 108, 397, 1528, 1113, 554, 878, 1746, 1036, 754, 400, 1509, 512, 911, 750, 801, 838, 3622, 1158, 904, 1712, 1526, 2486, 2331, 2262, 2753, 2106, 2619, 31, 1118, 500, 836, 667, 1054, 1820, 1445, 777, 427, 208, 831, 481, 887, 1825, 1167, 621, 319, 512, 2655, 1374, 1038, 369, 1529, 230, 1143, 452, 268, 150, 143, 18, 715, 919, 922, 814, 69, 364, 108, 664, 537, 884, 299, 134, 585, 51, 530, 101, 375, 1491, 1078, 541, 895, 1732, 1005, 721, 423, 1478, 542, 884, 696, 809, 805, 3621, 1140, 899, 1663, 1492, 2418, 2265, 2178, 2616, 2038, 2598, 27, 1078, 495, 834, 654, 1023, 1788, 1369, 740, 398, 196, 820, 494, 862, 1762, 1164, 619, 305, 497, 2594, 1338, 986, 346, 1518, 200, 1084, 400, 250, 133, 132, 18, 664, 875, 868, 791, 68, 346, 103, 642, 489, 850, 282, 133, 540, 48, 526, 93, 352, 1415, 1016, 496, 832, 1676, 964, 683, 417, 1467, 542, 888, 678, 774, 773, 3622, 1149, 894, 1664, 1528, 2419, 2207, 2141, 2547, 2005, 2608, 25, 1081, 482, 806, 656, 1026, 1819, 1402, 729, 373, 193, 787, 509, 852, 1758, 1167, 582, 307, 505, 2604, 1269, 965, 342, 1473, 203, 1059, 397, 221, 142, 132, 21, 703, 877, 926, 816, 68, 341, 108, 645, 506, 850, 282, 131, 549, 47, 534, 83, 384, 1380, 1027, 505, 836, 1644, 980, 665, 391, 1443, 546, 926, 646, 759, 762, 3685, 1173, 913, 1693, 1494, 2456, 2249, 2192, 2599, 2019, 2565, 31, 1049, 491, 796, 667, 1013, 1884, 1456, 774, 397, 196, 835, 507, 881, 1781, 1179, 602, 313, 501, 2634, 1309, 974, 316, 1418, 196, 1064, 401, 236, 153, 140, 18, 690, 883, 875, 798, 68, 345, 109, 634, 470, 821, 275, 115, 548, 49, 524, 79, 374, 1385, 1061, 509, 799, 1629, 956, 644, 431, 1459, 566, 891, 659, 741, 782], \"xaxis\": \"x\", \"yaxis\": \"y\"}],                        {\"barmode\": \"overlay\", \"legend\": {\"title\": {\"text\": \"Nationality\"}, \"tracegroupgap\": 0}, \"template\": {\"data\": {\"bar\": [{\"error_x\": {\"color\": \"#2a3f5f\"}, \"error_y\": {\"color\": \"#2a3f5f\"}, \"marker\": {\"line\": {\"color\": \"white\", \"width\": 0.5}}, \"type\": \"bar\"}], \"barpolar\": [{\"marker\": {\"line\": {\"color\": \"white\", \"width\": 0.5}}, \"type\": \"barpolar\"}], \"carpet\": [{\"aaxis\": {\"endlinecolor\": \"#2a3f5f\", \"gridcolor\": \"#C8D4E3\", \"linecolor\": \"#C8D4E3\", \"minorgridcolor\": \"#C8D4E3\", \"startlinecolor\": \"#2a3f5f\"}, \"baxis\": {\"endlinecolor\": \"#2a3f5f\", \"gridcolor\": \"#C8D4E3\", \"linecolor\": \"#C8D4E3\", \"minorgridcolor\": \"#C8D4E3\", \"startlinecolor\": \"#2a3f5f\"}, \"type\": \"carpet\"}], \"choropleth\": [{\"colorbar\": {\"outlinewidth\": 0, \"ticks\": \"\"}, \"type\": \"choropleth\"}], \"contour\": [{\"colorbar\": {\"outlinewidth\": 0, \"ticks\": \"\"}, \"colorscale\": [[0.0, \"#0d0887\"], [0.1111111111111111, \"#46039f\"], [0.2222222222222222, \"#7201a8\"], [0.3333333333333333, \"#9c179e\"], [0.4444444444444444, \"#bd3786\"], [0.5555555555555556, \"#d8576b\"], [0.6666666666666666, \"#ed7953\"], [0.7777777777777778, \"#fb9f3a\"], [0.8888888888888888, \"#fdca26\"], [1.0, \"#f0f921\"]], \"type\": \"contour\"}], \"contourcarpet\": [{\"colorbar\": {\"outlinewidth\": 0, \"ticks\": \"\"}, \"type\": \"contourcarpet\"}], \"heatmap\": [{\"colorbar\": {\"outlinewidth\": 0, \"ticks\": \"\"}, \"colorscale\": [[0.0, \"#0d0887\"], [0.1111111111111111, \"#46039f\"], [0.2222222222222222, \"#7201a8\"], [0.3333333333333333, \"#9c179e\"], [0.4444444444444444, \"#bd3786\"], [0.5555555555555556, \"#d8576b\"], [0.6666666666666666, \"#ed7953\"], [0.7777777777777778, \"#fb9f3a\"], [0.8888888888888888, \"#fdca26\"], [1.0, \"#f0f921\"]], \"type\": \"heatmap\"}], \"heatmapgl\": [{\"colorbar\": {\"outlinewidth\": 0, \"ticks\": \"\"}, \"colorscale\": [[0.0, \"#0d0887\"], [0.1111111111111111, \"#46039f\"], [0.2222222222222222, \"#7201a8\"], [0.3333333333333333, \"#9c179e\"], [0.4444444444444444, \"#bd3786\"], [0.5555555555555556, \"#d8576b\"], [0.6666666666666666, \"#ed7953\"], [0.7777777777777778, \"#fb9f3a\"], [0.8888888888888888, \"#fdca26\"], [1.0, \"#f0f921\"]], \"type\": \"heatmapgl\"}], \"histogram\": [{\"marker\": {\"colorbar\": {\"outlinewidth\": 0, \"ticks\": \"\"}}, \"type\": \"histogram\"}], \"histogram2d\": [{\"colorbar\": {\"outlinewidth\": 0, \"ticks\": \"\"}, \"colorscale\": [[0.0, \"#0d0887\"], [0.1111111111111111, \"#46039f\"], [0.2222222222222222, \"#7201a8\"], [0.3333333333333333, \"#9c179e\"], [0.4444444444444444, \"#bd3786\"], [0.5555555555555556, \"#d8576b\"], [0.6666666666666666, \"#ed7953\"], [0.7777777777777778, \"#fb9f3a\"], [0.8888888888888888, \"#fdca26\"], [1.0, \"#f0f921\"]], \"type\": \"histogram2d\"}], \"histogram2dcontour\": [{\"colorbar\": {\"outlinewidth\": 0, \"ticks\": \"\"}, \"colorscale\": [[0.0, \"#0d0887\"], [0.1111111111111111, \"#46039f\"], [0.2222222222222222, \"#7201a8\"], [0.3333333333333333, \"#9c179e\"], [0.4444444444444444, \"#bd3786\"], [0.5555555555555556, \"#d8576b\"], [0.6666666666666666, \"#ed7953\"], [0.7777777777777778, \"#fb9f3a\"], [0.8888888888888888, \"#fdca26\"], [1.0, \"#f0f921\"]], \"type\": \"histogram2dcontour\"}], \"mesh3d\": [{\"colorbar\": {\"outlinewidth\": 0, \"ticks\": \"\"}, \"type\": \"mesh3d\"}], \"parcoords\": [{\"line\": {\"colorbar\": {\"outlinewidth\": 0, \"ticks\": \"\"}}, \"type\": \"parcoords\"}], \"pie\": [{\"automargin\": true, \"type\": \"pie\"}], \"scatter\": [{\"marker\": {\"colorbar\": {\"outlinewidth\": 0, \"ticks\": \"\"}}, \"type\": \"scatter\"}], \"scatter3d\": [{\"line\": {\"colorbar\": {\"outlinewidth\": 0, \"ticks\": \"\"}}, \"marker\": {\"colorbar\": {\"outlinewidth\": 0, \"ticks\": \"\"}}, \"type\": \"scatter3d\"}], \"scattercarpet\": [{\"marker\": {\"colorbar\": {\"outlinewidth\": 0, \"ticks\": \"\"}}, \"type\": \"scattercarpet\"}], \"scattergeo\": [{\"marker\": {\"colorbar\": {\"outlinewidth\": 0, \"ticks\": \"\"}}, \"type\": \"scattergeo\"}], \"scattergl\": [{\"marker\": {\"colorbar\": {\"outlinewidth\": 0, \"ticks\": \"\"}}, \"type\": \"scattergl\"}], \"scattermapbox\": [{\"marker\": {\"colorbar\": {\"outlinewidth\": 0, \"ticks\": \"\"}}, \"type\": \"scattermapbox\"}], \"scatterpolar\": [{\"marker\": {\"colorbar\": {\"outlinewidth\": 0, \"ticks\": \"\"}}, \"type\": \"scatterpolar\"}], \"scatterpolargl\": [{\"marker\": {\"colorbar\": {\"outlinewidth\": 0, \"ticks\": \"\"}}, \"type\": \"scatterpolargl\"}], \"scatterternary\": [{\"marker\": {\"colorbar\": {\"outlinewidth\": 0, \"ticks\": \"\"}}, \"type\": \"scatterternary\"}], \"surface\": [{\"colorbar\": {\"outlinewidth\": 0, \"ticks\": \"\"}, \"colorscale\": [[0.0, \"#0d0887\"], [0.1111111111111111, \"#46039f\"], [0.2222222222222222, \"#7201a8\"], [0.3333333333333333, \"#9c179e\"], [0.4444444444444444, \"#bd3786\"], [0.5555555555555556, \"#d8576b\"], [0.6666666666666666, \"#ed7953\"], [0.7777777777777778, \"#fb9f3a\"], [0.8888888888888888, \"#fdca26\"], [1.0, \"#f0f921\"]], \"type\": \"surface\"}], \"table\": [{\"cells\": {\"fill\": {\"color\": \"#EBF0F8\"}, \"line\": {\"color\": \"white\"}}, \"header\": {\"fill\": {\"color\": \"#C8D4E3\"}, \"line\": {\"color\": \"white\"}}, \"type\": \"table\"}]}, \"layout\": {\"annotationdefaults\": {\"arrowcolor\": \"#2a3f5f\", \"arrowhead\": 0, \"arrowwidth\": 1}, \"coloraxis\": {\"colorbar\": {\"outlinewidth\": 0, \"ticks\": \"\"}}, \"colorscale\": {\"diverging\": [[0, \"#8e0152\"], [0.1, \"#c51b7d\"], [0.2, \"#de77ae\"], [0.3, \"#f1b6da\"], [0.4, \"#fde0ef\"], [0.5, \"#f7f7f7\"], [0.6, \"#e6f5d0\"], [0.7, \"#b8e186\"], [0.8, \"#7fbc41\"], [0.9, \"#4d9221\"], [1, \"#276419\"]], \"sequential\": [[0.0, \"#0d0887\"], [0.1111111111111111, \"#46039f\"], [0.2222222222222222, \"#7201a8\"], [0.3333333333333333, \"#9c179e\"], [0.4444444444444444, \"#bd3786\"], [0.5555555555555556, \"#d8576b\"], [0.6666666666666666, \"#ed7953\"], [0.7777777777777778, \"#fb9f3a\"], [0.8888888888888888, \"#fdca26\"], [1.0, \"#f0f921\"]], \"sequentialminus\": [[0.0, \"#0d0887\"], [0.1111111111111111, \"#46039f\"], [0.2222222222222222, \"#7201a8\"], [0.3333333333333333, \"#9c179e\"], [0.4444444444444444, \"#bd3786\"], [0.5555555555555556, \"#d8576b\"], [0.6666666666666666, \"#ed7953\"], [0.7777777777777778, \"#fb9f3a\"], [0.8888888888888888, \"#fdca26\"], [1.0, \"#f0f921\"]]}, \"colorway\": [\"#636efa\", \"#EF553B\", \"#00cc96\", \"#ab63fa\", \"#FFA15A\", \"#19d3f3\", \"#FF6692\", \"#B6E880\", \"#FF97FF\", \"#FECB52\"], \"font\": {\"color\": \"#2a3f5f\"}, \"geo\": {\"bgcolor\": \"white\", \"lakecolor\": \"white\", \"landcolor\": \"white\", \"showlakes\": true, \"showland\": true, \"subunitcolor\": \"#C8D4E3\"}, \"hoverlabel\": {\"align\": \"left\"}, \"hovermode\": \"closest\", \"mapbox\": {\"style\": \"light\"}, \"paper_bgcolor\": \"white\", \"plot_bgcolor\": \"white\", \"polar\": {\"angularaxis\": {\"gridcolor\": \"#EBF0F8\", \"linecolor\": \"#EBF0F8\", \"ticks\": \"\"}, \"bgcolor\": \"white\", \"radialaxis\": {\"gridcolor\": \"#EBF0F8\", \"linecolor\": \"#EBF0F8\", \"ticks\": \"\"}}, \"scene\": {\"xaxis\": {\"backgroundcolor\": \"white\", \"gridcolor\": \"#DFE8F3\", \"gridwidth\": 2, \"linecolor\": \"#EBF0F8\", \"showbackground\": true, \"ticks\": \"\", \"zerolinecolor\": \"#EBF0F8\"}, \"yaxis\": {\"backgroundcolor\": \"white\", \"gridcolor\": \"#DFE8F3\", \"gridwidth\": 2, \"linecolor\": \"#EBF0F8\", \"showbackground\": true, \"ticks\": \"\", \"zerolinecolor\": \"#EBF0F8\"}, \"zaxis\": {\"backgroundcolor\": \"white\", \"gridcolor\": \"#DFE8F3\", \"gridwidth\": 2, \"linecolor\": \"#EBF0F8\", \"showbackground\": true, \"ticks\": \"\", \"zerolinecolor\": \"#EBF0F8\"}}, \"shapedefaults\": {\"line\": {\"color\": \"#2a3f5f\"}}, \"ternary\": {\"aaxis\": {\"gridcolor\": \"#DFE8F3\", \"linecolor\": \"#A2B1C6\", \"ticks\": \"\"}, \"baxis\": {\"gridcolor\": \"#DFE8F3\", \"linecolor\": \"#A2B1C6\", \"ticks\": \"\"}, \"bgcolor\": \"white\", \"caxis\": {\"gridcolor\": \"#DFE8F3\", \"linecolor\": \"#A2B1C6\", \"ticks\": \"\"}}, \"title\": {\"x\": 0.05}, \"xaxis\": {\"automargin\": true, \"gridcolor\": \"#EBF0F8\", \"linecolor\": \"#EBF0F8\", \"ticks\": \"\", \"title\": {\"standoff\": 15}, \"zerolinecolor\": \"#EBF0F8\", \"zerolinewidth\": 2}, \"yaxis\": {\"automargin\": true, \"gridcolor\": \"#EBF0F8\", \"linecolor\": \"#EBF0F8\", \"ticks\": \"\", \"title\": {\"standoff\": 15}, \"zerolinecolor\": \"#EBF0F8\", \"zerolinewidth\": 2}}}, \"title\": {\"text\": \"Amount of People\"}, \"xaxis\": {\"anchor\": \"y\", \"domain\": [0.0, 1.0], \"title\": {\"text\": \"Amount\"}}, \"yaxis\": {\"anchor\": \"x\", \"domain\": [0.0, 1.0], \"title\": {\"text\": \"count\"}}},                        {\"responsive\": true}                    ).then(function(){\n",
       "                            \n",
       "var gd = document.getElementById('a486c54f-02c7-450a-a3c2-ead095c33fd6');\n",
       "var x = new MutationObserver(function (mutations, observer) {{\n",
       "        var display = window.getComputedStyle(gd).display;\n",
       "        if (!display || display === 'none') {{\n",
       "            console.log([gd, 'removed!']);\n",
       "            Plotly.purge(gd);\n",
       "            observer.disconnect();\n",
       "        }}\n",
       "}});\n",
       "\n",
       "// Listen for the removal of the full notebook cells\n",
       "var notebookContainer = gd.closest('#notebook-container');\n",
       "if (notebookContainer) {{\n",
       "    x.observe(notebookContainer, {childList: true});\n",
       "}}\n",
       "\n",
       "// Listen for the clearing of the current output cell\n",
       "var outputEl = gd.closest('.output');\n",
       "if (outputEl) {{\n",
       "    x.observe(outputEl, {childList: true});\n",
       "}}\n",
       "\n",
       "                        })                };                });            </script>        </div>"
      ]
     },
     "metadata": {},
     "output_type": "display_data"
    }
   ],
   "source": [
    "fig = px.histogram(composition, x=\"Amount\", barmode='overlay',title=\"Amount of People\",#animation_frame=\"Year\",\n",
    "                   color_discrete_map=color_dict, color=\"Nationality\",  template=\"plotly_white\",\n",
    "                   hover_data=['Name_NBHD','Name_Dist'], labels={'Name_NBHD':'Neighborhood Name'})\n",
    "                   \n",
    "fig.show()"
   ]
  },
  {
   "cell_type": "code",
   "execution_count": null,
   "metadata": {},
   "outputs": [],
   "source": [
    "composition.groupby([\"Nationality\",\"Year\"]).mean()"
   ]
  },
  {
   "cell_type": "code",
   "execution_count": null,
   "metadata": {},
   "outputs": [],
   "source": [
    "fig = px.line(composition, x='Code_NBHD', y='AVG_Age', animation_frame=\"Year\", title=\"District\",\n",
    "                 color_discrete_map=color_dict, color=\"Nationality\",  template=\"plotly_white\",\n",
    "                 hover_name='Name_NBHD', labels={'Name_NBHD':'Neighborhood Name'})\n",
    "fig.show()"
   ]
  },
  {
   "cell_type": "code",
   "execution_count": null,
   "metadata": {},
   "outputs": [],
   "source": [
    "fig = px.box(composition,  y=\"Amount\" , x=\"Year\", \n",
    "            color_discrete_map=color_dict, color=\"Nationality\",  template=\"plotly_white\",\n",
    "                 hover_data=['Name_NBHD','Name_Dist'], labels={'Name_NBHD':'Neighborhood Name'})\n",
    "fig.show()"
   ]
  },
  {
   "cell_type": "code",
   "execution_count": null,
   "metadata": {},
   "outputs": [],
   "source": [
    "fig = px.scatter(composition.sort_values(by=\"Year\").reset_index(drop=True), x='AVG_Age', y='Amount', animation_frame=\"Year\", title=\"District\",\n",
    "                 color_discrete_map=color_dict, color=\"Nationality\",  template=\"plotly_white\",\n",
    "                 hover_name='Name_NBHD', labels={'Name_NBHD':'Neighborhood Name'})\n",
    "fig.show()"
   ]
  },
  {
   "cell_type": "code",
   "execution_count": null,
   "metadata": {},
   "outputs": [],
   "source": []
  },
  {
   "cell_type": "code",
   "execution_count": null,
   "metadata": {},
   "outputs": [],
   "source": []
  },
  {
   "cell_type": "code",
   "execution_count": null,
   "metadata": {},
   "outputs": [],
   "source": []
  },
  {
   "cell_type": "markdown",
   "metadata": {},
   "source": [
    "# Nationality"
   ]
  },
  {
   "cell_type": "markdown",
   "metadata": {},
   "source": [
    "*01.Year* - Year of the data\n",
    "\n",
    "*02.Code_Dist* - District code\n",
    "\n",
    "*03.Name_Dist* - Name of the district\n",
    "\n",
    "*04.Code_NBHD* - Neighborhood code\n",
    "\n",
    "*05.Name_NBHD* - Name of the neighborhood\n",
    "\n",
    "*06.Gender* - Gender of the persons (Binary Category)\n",
    "\n",
    "*07.Nationality* - Nationality of people\n",
    "\n",
    "*08.Amount* - Number of people\n"
   ]
  },
  {
   "cell_type": "code",
   "execution_count": null,
   "metadata": {},
   "outputs": [],
   "source": [
    "nationality = pd.read_csv(\"../datasets/Nationality_Hist.csv\")\n",
    "nationality"
   ]
  },
  {
   "cell_type": "code",
   "execution_count": null,
   "metadata": {},
   "outputs": [],
   "source": [
    "nationality.info()"
   ]
  },
  {
   "cell_type": "code",
   "execution_count": null,
   "metadata": {},
   "outputs": [],
   "source": [
    "nationality.describe().T"
   ]
  },
  {
   "cell_type": "code",
   "execution_count": null,
   "metadata": {},
   "outputs": [],
   "source": [
    "nationality.Nationality.value_counts()"
   ]
  },
  {
   "cell_type": "code",
   "execution_count": null,
   "metadata": {},
   "outputs": [],
   "source": [
    "nat_cat = nationality.Nationality.unique()\n",
    "nat_eng = ['Spain', 'Italy', 'France', 'United Kingdom', 'Russia', 'Germany',\n",
    "       'Romania', 'Portugal', 'Ukraine', 'Georgia', 'Netherlands',\n",
    "       'Poland', 'Bulgaria', 'Sweden', 'Belgium', 'Greece', 'Ireland',\n",
    "       'Switzerland', 'Hungary', 'Austria', 'Denmark', 'Finland',\n",
    "       'Moldova', 'Lithuania', 'Belarus', 'Czech Republic', 'Serbia', 'Albania',\n",
    "       'Croatia', 'Norway', 'Slovakia', 'Andorra', 'Latvia',\n",
    "       'Estonia', 'Slovenia', 'Macedonia', 'Iceland',\n",
    "       'Bosnia and Herzegovina', 'Luxembourg', 'Malta', 'Montenegro',\n",
    "       'Liechtenstein', 'Monaco', 'San Marino', 'Other European countries or territories',\n",
    "       'Morocco', 'Algeria', 'Senegal', 'Nigeria', 'Egypt', 'Ghana',\n",
    "       'Guinea', 'Equatorial Guinea', 'Tunisia', 'Cameroon', 'Gambia',\n",
    "       'South Africa', 'Mali', 'Libya', 'Guinea-Bissau', 'Ivory Coast',\n",
    "       'Kenya', 'Mauritania', 'Angola', 'Congo', 'Ethiopia',\n",
    "       'Burkina Faso', 'Tanzania', 'Sierra Leone', 'Mozambique',\n",
    "       'Sudan', 'Benin', 'Madagascar', 'Somalia', 'Togo', 'Uganda',\n",
    "       'Cape Verde', 'Niger', 'Mauritius', 'Namibia', 'Zimbabwe', 'Rwanda',\n",
    "       'Liberia', 'São Tomé and Príncipe', 'Eritrea', 'Malawi',\n",
    "       'Central African Republic', 'Botswana', 'Burundi', 'Gabon',\n",
    "       'Zambia', 'Chad', 'Seychelles', 'Comoros, the', 'Djibouti',\n",
    "       'Swaziland', 'Democratic Republic of the Congo',\n",
    "       'Other African countries', 'Colombia', 'Honduras', 'Peru',\n",
    "       'Venezuela', 'Bolivia', 'Ecuador', 'Argentina', 'Brazil',\n",
    "       'Dominican Republic', 'United States,', 'Mexico', 'Paraguay',\n",
    "       'Chile', 'Cuba', 'El Salvador', 'Uruguay', 'Nicaragua', 'Canada',\n",
    "       'Costa Rica', 'Panama', 'Guatemala', 'Dominica', 'Haiti',\n",
    "       'Trinidad and Tobago', 'Jamaica', 'Barbados', 'Bahamas, the',\n",
    "       'Saint Vincent and the Grenadines', 'Guyana', 'Suriname',\n",
    "       'Antigua and Barbuda', 'Belize', 'Grenada', 'Saint Kitts and Nevis',\n",
    "       'China', 'Pakistan', 'Philippines', 'India', 'Bangladesh', 'Armenia',\n",
    "       'Japan', 'Nepal', 'Turkey', 'Iran', 'South Korea', 'Syria',\n",
    "       'Israel', 'Lebanon', 'Kazakhstan', 'Vietnam', 'Thailand',\n",
    "       'Jordan', 'Indonesia', 'Azerbaijan', 'Cyprus', 'Iraqe',\n",
    "       'Uzbekistan', 'Afghanistan', 'Saudi Arabia', 'Palestine',\n",
    "       'Malaysia', 'Mongolia', 'Singapore', 'Kyrgyzstan', 'Kuwait',\n",
    "       'Sri Lanka', 'Yemen', 'Qatar', 'Turkmenistan',\n",
    "       'United Arab Emirates','Myanmar','Cambodia ','Tajikistan',\n",
    "       'Bahrain', 'Maldives', 'Lao', 'Oman', 'Other Asian Countries',\n",
    "       'Australia', 'New Zealand', 'Solomon Islands', 'Stateless Persons',\n",
    "       \"Other European countries or territories\",\n",
    "       'Guinea-Bissau', 'Other Africa countries or territories',\n",
    "       'Trinidad and Tobago',\n",
    "       \"Other South America countries or territories\", 'Korea',\n",
    "       'Palestinian Territories', 'Timor-Leste',\n",
    "       \"Other Asia countries or territories\",\n",
    "       \"Other European countries or territories\", 'Lesotho',\n",
    "       \"Other America countries or territories\",\n",
    "       \"Other Asia countries or territories\", 'Central African Republic',\n",
    "       'Saint Lucia', 'Other Oceania countries or territories',\n",
    "       'Other European countries or territories', 'Other countries Africa', 'Kyrgyzstan',\n",
    "       'Other Asia countries or territories', 'Morocco', 'Bahamas', 'United Arab Emirates',\n",
    "       'Yemen', 'Iraq', 'Laos']\n",
    "europa = ['Spain', 'Italy', 'France', 'United Kingdom', 'Russia', 'Germany', 'Romania', 'Portugal', 'Ukraine', 'Georgia', \n",
    "          'Netherlands', 'Poland', 'Bulgaria', 'Sweden', 'Belgium', 'Greece', 'Ireland', 'Switzerland', 'Hungary', 'Austria',\n",
    "          'Denmark', 'Finland', 'Moldova', 'Lithuania', 'Belarus', 'Czech Republic', 'Serbia', 'Albania', 'Croatia', 'Norway', \n",
    "          'Slovakia', 'Andorra', 'Latvia', 'Estonia', 'Slovenia', 'Macedonia', 'Iceland', 'Bosnia and Herzegovina', \n",
    "          'Luxembourg', 'Malta', 'Montenegro', 'Liechtenstein', 'Monaco', 'San Marino', 'Other European countries or territories']\n",
    "africa = ['Morocco', 'Algeria', 'Senegal', 'Nigeria', 'Egypt', 'Ghana', 'Guinea', 'Equatorial Guinea', 'Tunisia', 'Cameroon', \n",
    "          'Gambia', 'South Africa', 'Mali', 'Libya', 'Guinea-Bissau', 'Ivory Coast', 'Kenya', 'Mauritania', 'Angola', 'Congo',\n",
    "          'Ethiopia', 'Burkina Faso', 'Tanzania', 'Sierra Leone', 'Mozambique', 'Sudan', 'Benin', 'Madagascar', 'Somalia',\n",
    "          'Togo', 'Uganda', 'Cape Verde', 'Niger', 'Mauritius', 'Namibia', 'Zimbabwe', 'Rwanda', 'Liberia', 'Guinea-Bissau',\n",
    "          'São Tomé and Príncipe', 'Eritrea', 'Malawi', 'Central African Republic', 'Botswana', 'Burundi', 'Gabon', 'Zambia', \n",
    "          'Chad', 'Seychelles', 'Comoros', 'Djibouti','Swaziland', 'Democratic Republic of the Congo', 'Lesotho', \n",
    "          'Central African Republic', 'Other Africa countries or territories', 'Morocco']\n",
    "latinamerica = ['Colombia', 'Honduras', 'Peru', 'Venezuela', 'Bolivia', 'Ecuador', 'Argentina', 'Brazil', 'Dominican Republic', \n",
    "                'Paraguay', 'Chile', 'Cuba', 'El Salvador', 'Uruguay','Nicaragua', 'Costa Rica', 'Panama', 'Guatemala', \n",
    "                'Dominica', 'Haiti', 'Trinidad and Tobago', 'Jamaica', 'Barbados', 'Bahamas', 'Saint Vincent and the Grenadines',\n",
    "                'Guyana', 'Suriname', 'Antigua and Barbuda', 'Belize', 'Grenada', 'Saint Kitts and Nevis','Bahamas',\n",
    "                \"Other South America countries or territories\",]\n",
    "northamerica = ['United States,', 'Mexico', 'Canada', ]\n",
    "asia = ['China', 'Pakistan', 'Philippines', 'India', 'Bangladesh', 'Armenia', 'Japan', 'Nepal', 'Turkey', 'Iran', 'South Korea',\n",
    "        'Syria', 'Israel', 'Lebanon', 'Kazakhstan', 'Vietnam', 'Thailand','Jordan', 'Indonesia', 'Azerbaijan', 'Cyprus', 'Iraq',\n",
    "        'Uzbekistan', 'Afghanistan', 'Saudi Arabia', 'Palestine', 'Malaysia', 'Mongolia', 'Singapore', 'Kyrgyzstan', 'Kuwait',\n",
    "        'Sri Lanka', 'Yemen', 'Qatar', 'Turkmenistan', 'United Arab Emirates','Myanmar','Cambodia ','Tajikistan', 'Bahrain', \n",
    "        'Maldives', 'Lao', 'Oman', 'Other Asia countries or territories', 'Korea', 'Kyrgyzstan', 'United Arab Emirates', 'Yemen', 'Iraq', 'Laos']\n",
    "oceania = ['Australia', 'New Zealand', 'Solomon Islands', 'Stateless Persons', 'Other Oceania countries or territories',]"
   ]
  },
  {
   "cell_type": "code",
   "execution_count": null,
   "metadata": {},
   "outputs": [],
   "source": [
    "zip_nat = zip(nat_cat, nat_eng)\n",
    "dict_nat = dict(zip_nat)\n",
    "nationality.Nationality.replace(dict_nat, inplace=True)\n"
   ]
  },
  {
   "cell_type": "code",
   "execution_count": null,
   "metadata": {},
   "outputs": [],
   "source": [
    "fig = px.box(nationality.loc[((nationality.Amount > 4) & (nationality.Nationality  != \"Spain\")), :], x=\"Amount\", title=\"Average Age Histogram\", color=\"Gender\",animation_frame=\"Year\")\n",
    "fig.show()"
   ]
  },
  {
   "cell_type": "code",
   "execution_count": null,
   "metadata": {},
   "outputs": [],
   "source": [
    "fig = px.histogram(nationality.loc[((nationality.Amount > 4) & (nationality.Nationality  != \"Espanya\")), :], x=\"Amount\", title=\"Average Age Histogram\", color=\"Gender\",animation_frame=\"Year\")\n",
    "fig.show()"
   ]
  },
  {
   "cell_type": "code",
   "execution_count": null,
   "metadata": {},
   "outputs": [],
   "source": [
    "fig = px.histogram(nationality.loc[((nationality.Amount > 4) & (nationality.Nationality  != \"Espanya\")), :], x=\"Amount\", title=\"Average Age Histogram\", color=\"Gender\",animation_frame=\"Year\")\n"
   ]
  },
  {
   "cell_type": "markdown",
   "metadata": {},
   "source": [
    "# Age"
   ]
  },
  {
   "cell_type": "markdown",
   "metadata": {},
   "source": [
    "*01.Year* - Year of the data\n",
    "\n",
    "*02.Code_Dist* - District code\n",
    "\n",
    "*03.Name_Dist* - Name of the district\n",
    "\n",
    "*04.Code_NBHD* - Neighborhood code\n",
    "\n",
    "*05.Name_NBHD* - Name of the neighborhood\n",
    "\n",
    "*06.Gender* - Gender of people (Binary category)\n",
    "\n",
    "*07.Nationality* - Nationality of people\n",
    "\n",
    "*08.Age* - Age of people (every 5 years)\n",
    "\n",
    "*09.Amount* - Number of people"
   ]
  },
  {
   "cell_type": "code",
   "execution_count": null,
   "metadata": {},
   "outputs": [],
   "source": [
    "age = pd.read_csv(\"../datasets/People_Age.csv\")\n",
    "age"
   ]
  },
  {
   "cell_type": "code",
   "execution_count": null,
   "metadata": {},
   "outputs": [],
   "source": [
    "age.info()"
   ]
  },
  {
   "cell_type": "code",
   "execution_count": null,
   "metadata": {},
   "outputs": [],
   "source": [
    "age.describe().T"
   ]
  },
  {
   "cell_type": "code",
   "execution_count": null,
   "metadata": {},
   "outputs": [],
   "source": []
  }
 ],
 "metadata": {
  "kernelspec": {
   "display_name": "Python 3",
   "language": "python",
   "name": "python3"
  },
  "language_info": {
   "codemirror_mode": {
    "name": "ipython",
    "version": 3
   },
   "file_extension": ".py",
   "mimetype": "text/x-python",
   "name": "python",
   "nbconvert_exporter": "python",
   "pygments_lexer": "ipython3",
   "version": "3.7.9"
  },
  "toc": {
   "base_numbering": 1,
   "nav_menu": {},
   "number_sections": true,
   "sideBar": true,
   "skip_h1_title": false,
   "title_cell": "Table of Contents",
   "title_sidebar": "Contents",
   "toc_cell": false,
   "toc_position": {},
   "toc_section_display": true,
   "toc_window_display": false
  }
 },
 "nbformat": 4,
 "nbformat_minor": 4
}
